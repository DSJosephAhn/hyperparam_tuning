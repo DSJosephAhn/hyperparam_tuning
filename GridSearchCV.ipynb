{
 "cells": [
  {
   "cell_type": "code",
   "execution_count": 1,
   "id": "038c16f0",
   "metadata": {
    "collapsed": true
   },
   "outputs": [
    {
     "name": "stdout",
     "output_type": "stream",
     "text": [
      "Requirement already satisfied: numpy in c:\\users\\vaiv\\documents\\git\\convae_lstm\\.convae_lstm\\lib\\site-packages (1.23.3)\n",
      "Requirement already satisfied: scikit-learn in c:\\users\\vaiv\\documents\\git\\convae_lstm\\.convae_lstm\\lib\\site-packages (1.1.2)\n",
      "Requirement already satisfied: joblib>=1.0.0 in c:\\users\\vaiv\\documents\\git\\convae_lstm\\.convae_lstm\\lib\\site-packages (from scikit-learn) (1.2.0)\n",
      "Requirement already satisfied: scipy>=1.3.2 in c:\\users\\vaiv\\documents\\git\\convae_lstm\\.convae_lstm\\lib\\site-packages (from scikit-learn) (1.9.1)\n",
      "Requirement already satisfied: threadpoolctl>=2.0.0 in c:\\users\\vaiv\\documents\\git\\convae_lstm\\.convae_lstm\\lib\\site-packages (from scikit-learn) (3.1.0)\n"
     ]
    }
   ],
   "source": [
    "## Install Dependencies\n",
    "!pip install numpy scikit-learn"
   ]
  },
  {
   "cell_type": "code",
   "execution_count": 11,
   "id": "e58afe36",
   "metadata": {},
   "outputs": [],
   "source": [
    "## Import Dependencies\n",
    "import numpy as np\n",
    "from sklearn.datasets import load_iris\n",
    "from sklearn.model_selection import GridSearchCV, train_test_split\n",
    "from sklearn.metrics import accuracy_score\n",
    "\n",
    "from sklearn.ensemble import GradientBoostingClassifier\n",
    "from sklearn.ensemble import RandomForestClassifier"
   ]
  },
  {
   "cell_type": "markdown",
   "id": "72ce5b53",
   "metadata": {},
   "source": [
    "## Dataset preparation"
   ]
  },
  {
   "cell_type": "code",
   "execution_count": 3,
   "id": "14c7c9fc",
   "metadata": {},
   "outputs": [],
   "source": [
    "## load iris data\n",
    "iris_data = load_iris()\n",
    "\n",
    "## label, data for training \n",
    "label = iris_data.target\n",
    "data = iris_data.data\n",
    "\n",
    "X_train, X_val, y_train, y_val = train_test_split(data, label, test_size=0.2)"
   ]
  },
  {
   "cell_type": "markdown",
   "id": "973dacec",
   "metadata": {},
   "source": [
    "## Setting parameter for GridSearchCV"
   ]
  },
  {
   "cell_type": "code",
   "execution_count": 5,
   "id": "e2f47596",
   "metadata": {},
   "outputs": [],
   "source": [
    "# setting param_grid for GridSearchCV\n",
    "param_grid = {'max_depth': np.arange(5,8,1),\n",
    "             'n_estimators':np.arange(130,170,10)}"
   ]
  },
  {
   "cell_type": "code",
   "execution_count": 6,
   "id": "c66103b9",
   "metadata": {},
   "outputs": [],
   "source": [
    "## load model instance\n",
    "## for practicing, use Gradient Boosting classifier model\n",
    "gbc = GradientBoostingClassifier()"
   ]
  },
  {
   "cell_type": "markdown",
   "id": "8a07e1c5",
   "metadata": {},
   "source": [
    "## GridSearchCV"
   ]
  },
  {
   "cell_type": "code",
   "execution_count": 7,
   "id": "145ed675",
   "metadata": {},
   "outputs": [
    {
     "name": "stdout",
     "output_type": "stream",
     "text": [
      "best parameters :  {'max_depth': 5, 'n_estimators': 130}\n",
      "best score :  0.9416666666666668\n"
     ]
    }
   ],
   "source": [
    "## Executing grid search cv\n",
    "grid_tree = GridSearchCV(gbc, param_grid=param_grid, cv=3, refit=True)\n",
    "grid_tree.fit(X_train, y_train)\n",
    "\n",
    "## check out best parameters and scores\n",
    "print('best parameters : ', grid_tree.best_params_)\n",
    "print('best score : ', grid_tree.best_score_)"
   ]
  },
  {
   "cell_type": "markdown",
   "id": "a855840f",
   "metadata": {},
   "source": [
    "## Inference"
   ]
  },
  {
   "cell_type": "code",
   "execution_count": 9,
   "id": "3136a3ab",
   "metadata": {},
   "outputs": [
    {
     "name": "stdout",
     "output_type": "stream",
     "text": [
      "accuracy performance of best estimator :  0.9\n"
     ]
    }
   ],
   "source": [
    "## setting best_estimator_model\n",
    "em = grid_tree.best_estimator_\n",
    "## predict\n",
    "pred = em.predict(X_val)\n",
    "\n",
    "print(\"accuracy performance of best estimator : \", accuracy_score(y_val, pred))"
   ]
  },
  {
   "cell_type": "markdown",
   "id": "f7b96ec6",
   "metadata": {},
   "source": [
    "## Additional modelling"
   ]
  },
  {
   "cell_type": "code",
   "execution_count": 12,
   "id": "4870081f",
   "metadata": {},
   "outputs": [
    {
     "name": "stdout",
     "output_type": "stream",
     "text": [
      "best parameters of random forest classifier :  {'max_depth': 3, 'n_estimators': 90}\n",
      "best score of random forest classifier :  0.9666666666666668\n"
     ]
    }
   ],
   "source": [
    "param_grid = {'n_estimators': np.arange(10,201,20), 'max_depth':np.arange(3,15,2)}\n",
    "rfc = RandomForestClassifier()\n",
    "rfc_grid = GridSearchCV(rfc, param_grid=param_grid, n_jobs=8)\n",
    "rfc_grid.fit(X_train, y_train)\n",
    "\n",
    "## check out best parameters and scores\n",
    "print('best parameters of random forest classifier : ', rfc_grid.best_params_)\n",
    "print('best score of random forest classifier : ', rfc_grid.best_score_)"
   ]
  },
  {
   "cell_type": "code",
   "execution_count": 13,
   "id": "58a2c260",
   "metadata": {},
   "outputs": [
    {
     "name": "stdout",
     "output_type": "stream",
     "text": [
      "accuracy performance of best estimator :  0.9\n"
     ]
    }
   ],
   "source": [
    "## setting best_estimator_model\n",
    "em = rfc_grid.best_estimator_\n",
    "## predict\n",
    "pred = em.predict(X_val)\n",
    "\n",
    "print(\"accuracy performance of best estimator : \", accuracy_score(y_val, pred))"
   ]
  },
  {
   "cell_type": "code",
   "execution_count": null,
   "id": "100c5b18",
   "metadata": {},
   "outputs": [],
   "source": []
  }
 ],
 "metadata": {
  "kernelspec": {
   "display_name": ".convAE_lstm",
   "language": "python",
   "name": ".convae_lstm"
  },
  "language_info": {
   "codemirror_mode": {
    "name": "ipython",
    "version": 3
   },
   "file_extension": ".py",
   "mimetype": "text/x-python",
   "name": "python",
   "nbconvert_exporter": "python",
   "pygments_lexer": "ipython3",
   "version": "3.9.12"
  }
 },
 "nbformat": 4,
 "nbformat_minor": 5
}
