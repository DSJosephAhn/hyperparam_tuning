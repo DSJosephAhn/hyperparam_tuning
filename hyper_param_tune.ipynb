{
 "cells": [
  {
   "cell_type": "code",
   "execution_count": 1,
   "id": "038c16f0",
   "metadata": {
    "collapsed": true
   },
   "outputs": [
    {
     "name": "stdout",
     "output_type": "stream",
     "text": [
      "Requirement already satisfied: numpy in c:\\users\\vaiv\\documents\\git\\convae_lstm\\.convae_lstm\\lib\\site-packages (1.23.3)\n",
      "Requirement already satisfied: scikit-learn in c:\\users\\vaiv\\documents\\git\\convae_lstm\\.convae_lstm\\lib\\site-packages (1.1.2)\n",
      "Requirement already satisfied: hyperopt in c:\\users\\vaiv\\documents\\git\\convae_lstm\\.convae_lstm\\lib\\site-packages (0.2.7)\n",
      "Requirement already satisfied: plotly in c:\\users\\vaiv\\documents\\git\\convae_lstm\\.convae_lstm\\lib\\site-packages (5.10.0)\n",
      "Requirement already satisfied: joblib>=1.0.0 in c:\\users\\vaiv\\documents\\git\\convae_lstm\\.convae_lstm\\lib\\site-packages (from scikit-learn) (1.2.0)\n",
      "Requirement already satisfied: threadpoolctl>=2.0.0 in c:\\users\\vaiv\\documents\\git\\convae_lstm\\.convae_lstm\\lib\\site-packages (from scikit-learn) (3.1.0)\n",
      "Requirement already satisfied: scipy>=1.3.2 in c:\\users\\vaiv\\documents\\git\\convae_lstm\\.convae_lstm\\lib\\site-packages (from scikit-learn) (1.8.1)\n",
      "Requirement already satisfied: future in c:\\users\\vaiv\\documents\\git\\convae_lstm\\.convae_lstm\\lib\\site-packages (from hyperopt) (0.18.2)\n",
      "Requirement already satisfied: tqdm in c:\\users\\vaiv\\documents\\git\\convae_lstm\\.convae_lstm\\lib\\site-packages (from hyperopt) (4.64.1)\n",
      "Requirement already satisfied: six in c:\\users\\vaiv\\documents\\git\\convae_lstm\\.convae_lstm\\lib\\site-packages (from hyperopt) (1.16.0)\n",
      "Requirement already satisfied: py4j in c:\\users\\vaiv\\documents\\git\\convae_lstm\\.convae_lstm\\lib\\site-packages (from hyperopt) (0.10.9.7)\n",
      "Requirement already satisfied: cloudpickle in c:\\users\\vaiv\\documents\\git\\convae_lstm\\.convae_lstm\\lib\\site-packages (from hyperopt) (2.2.0)\n",
      "Requirement already satisfied: networkx>=2.2 in c:\\users\\vaiv\\documents\\git\\convae_lstm\\.convae_lstm\\lib\\site-packages (from hyperopt) (2.8.7)\n",
      "Requirement already satisfied: tenacity>=6.2.0 in c:\\users\\vaiv\\documents\\git\\convae_lstm\\.convae_lstm\\lib\\site-packages (from plotly) (8.1.0)\n",
      "Requirement already satisfied: colorama in c:\\users\\vaiv\\documents\\git\\convae_lstm\\.convae_lstm\\lib\\site-packages (from tqdm->hyperopt) (0.4.5)\n"
     ]
    }
   ],
   "source": [
    "## Install Dependencies\n",
    "!pip install numpy scikit-learn hyperopt plotly"
   ]
  },
  {
   "cell_type": "code",
   "execution_count": 2,
   "id": "765b557e",
   "metadata": {
    "collapsed": true
   },
   "outputs": [
    {
     "name": "stdout",
     "output_type": "stream",
     "text": [
      "Collecting git+https://github.com/optuna/optuna.git\n",
      "  Cloning https://github.com/optuna/optuna.git to c:\\users\\vaiv\\appdata\\local\\temp\\pip-req-build-g7kg4_dg\n",
      "  Resolved https://github.com/optuna/optuna.git to commit 2d9ee573fd232d7a8fd86e1a442dd57e13244cf0\n",
      "  Installing build dependencies: started\n",
      "  Installing build dependencies: finished with status 'done'\n",
      "  Getting requirements to build wheel: started\n",
      "  Getting requirements to build wheel: finished with status 'done'\n",
      "  Preparing metadata (pyproject.toml): started\n",
      "  Preparing metadata (pyproject.toml): finished with status 'done'\n",
      "Requirement already satisfied: packaging>=20.0 in c:\\users\\vaiv\\documents\\git\\convae_lstm\\.convae_lstm\\lib\\site-packages (from optuna==3.1.0.dev0) (21.3)\n",
      "Requirement already satisfied: sqlalchemy>=1.3.0 in c:\\users\\vaiv\\documents\\git\\convae_lstm\\.convae_lstm\\lib\\site-packages (from optuna==3.1.0.dev0) (1.4.42)\n",
      "Requirement already satisfied: PyYAML in c:\\users\\vaiv\\documents\\git\\convae_lstm\\.convae_lstm\\lib\\site-packages (from optuna==3.1.0.dev0) (6.0)\n",
      "Requirement already satisfied: numpy in c:\\users\\vaiv\\documents\\git\\convae_lstm\\.convae_lstm\\lib\\site-packages (from optuna==3.1.0.dev0) (1.23.3)\n",
      "Requirement already satisfied: scipy>=1.7.0 in c:\\users\\vaiv\\documents\\git\\convae_lstm\\.convae_lstm\\lib\\site-packages (from optuna==3.1.0.dev0) (1.8.1)\n",
      "Requirement already satisfied: colorlog in c:\\users\\vaiv\\documents\\git\\convae_lstm\\.convae_lstm\\lib\\site-packages (from optuna==3.1.0.dev0) (6.7.0)\n",
      "Requirement already satisfied: alembic>=1.5.0 in c:\\users\\vaiv\\documents\\git\\convae_lstm\\.convae_lstm\\lib\\site-packages (from optuna==3.1.0.dev0) (1.8.1)\n",
      "Requirement already satisfied: tqdm in c:\\users\\vaiv\\documents\\git\\convae_lstm\\.convae_lstm\\lib\\site-packages (from optuna==3.1.0.dev0) (4.64.1)\n",
      "Requirement already satisfied: importlib-metadata<5.0.0 in c:\\users\\vaiv\\documents\\git\\convae_lstm\\.convae_lstm\\lib\\site-packages (from optuna==3.1.0.dev0) (4.13.0)\n",
      "Requirement already satisfied: cliff in c:\\users\\vaiv\\documents\\git\\convae_lstm\\.convae_lstm\\lib\\site-packages (from optuna==3.1.0.dev0) (4.0.0)\n",
      "Requirement already satisfied: cmaes>=0.8.2 in c:\\users\\vaiv\\documents\\git\\convae_lstm\\.convae_lstm\\lib\\site-packages (from optuna==3.1.0.dev0) (0.8.2)\n",
      "Requirement already satisfied: Mako in c:\\users\\vaiv\\documents\\git\\convae_lstm\\.convae_lstm\\lib\\site-packages (from alembic>=1.5.0->optuna==3.1.0.dev0) (1.2.3)\n",
      "Requirement already satisfied: zipp>=0.5 in c:\\users\\vaiv\\documents\\git\\convae_lstm\\.convae_lstm\\lib\\site-packages (from importlib-metadata<5.0.0->optuna==3.1.0.dev0) (3.8.1)\n",
      "Requirement already satisfied: pyparsing!=3.0.5,>=2.0.2 in c:\\users\\vaiv\\documents\\git\\convae_lstm\\.convae_lstm\\lib\\site-packages (from packaging>=20.0->optuna==3.1.0.dev0) (3.0.9)\n",
      "Requirement already satisfied: greenlet!=0.4.17 in c:\\users\\vaiv\\documents\\git\\convae_lstm\\.convae_lstm\\lib\\site-packages (from sqlalchemy>=1.3.0->optuna==3.1.0.dev0) (1.1.3.post0)\n",
      "Requirement already satisfied: autopage>=0.4.0 in c:\\users\\vaiv\\documents\\git\\convae_lstm\\.convae_lstm\\lib\\site-packages (from cliff->optuna==3.1.0.dev0) (0.5.1)\n",
      "Requirement already satisfied: stevedore>=2.0.1 in c:\\users\\vaiv\\documents\\git\\convae_lstm\\.convae_lstm\\lib\\site-packages (from cliff->optuna==3.1.0.dev0) (4.1.0)\n",
      "Requirement already satisfied: cmd2>=1.0.0 in c:\\users\\vaiv\\documents\\git\\convae_lstm\\.convae_lstm\\lib\\site-packages (from cliff->optuna==3.1.0.dev0) (2.4.2)\n",
      "Requirement already satisfied: PrettyTable>=0.7.2 in c:\\users\\vaiv\\documents\\git\\convae_lstm\\.convae_lstm\\lib\\site-packages (from cliff->optuna==3.1.0.dev0) (3.4.1)\n",
      "Requirement already satisfied: colorama in c:\\users\\vaiv\\documents\\git\\convae_lstm\\.convae_lstm\\lib\\site-packages (from colorlog->optuna==3.1.0.dev0) (0.4.5)\n",
      "Requirement already satisfied: wcwidth>=0.1.7 in c:\\users\\vaiv\\documents\\git\\convae_lstm\\.convae_lstm\\lib\\site-packages (from cmd2>=1.0.0->cliff->optuna==3.1.0.dev0) (0.2.5)\n",
      "Requirement already satisfied: attrs>=16.3.0 in c:\\users\\vaiv\\documents\\git\\convae_lstm\\.convae_lstm\\lib\\site-packages (from cmd2>=1.0.0->cliff->optuna==3.1.0.dev0) (22.1.0)\n",
      "Requirement already satisfied: pyreadline3 in c:\\users\\vaiv\\documents\\git\\convae_lstm\\.convae_lstm\\lib\\site-packages (from cmd2>=1.0.0->cliff->optuna==3.1.0.dev0) (3.4.1)\n",
      "Requirement already satisfied: pyperclip>=1.6 in c:\\users\\vaiv\\documents\\git\\convae_lstm\\.convae_lstm\\lib\\site-packages (from cmd2>=1.0.0->cliff->optuna==3.1.0.dev0) (1.8.2)\n",
      "Requirement already satisfied: pbr!=2.1.0,>=2.0.0 in c:\\users\\vaiv\\documents\\git\\convae_lstm\\.convae_lstm\\lib\\site-packages (from stevedore>=2.0.1->cliff->optuna==3.1.0.dev0) (5.11.0)\n",
      "Requirement already satisfied: MarkupSafe>=0.9.2 in c:\\users\\vaiv\\documents\\git\\convae_lstm\\.convae_lstm\\lib\\site-packages (from Mako->alembic>=1.5.0->optuna==3.1.0.dev0) (2.1.1)\n"
     ]
    },
    {
     "name": "stderr",
     "output_type": "stream",
     "text": [
      "  Running command git clone --filter=blob:none --quiet https://github.com/optuna/optuna.git 'C:\\Users\\vaiv\\AppData\\Local\\Temp\\pip-req-build-g7kg4_dg'\n"
     ]
    }
   ],
   "source": [
    "## install optuna\n",
    "!pip install git+https://github.com/optuna/optuna.git"
   ]
  },
  {
   "cell_type": "code",
   "execution_count": 169,
   "id": "e58afe36",
   "metadata": {},
   "outputs": [],
   "source": [
    "## Import Dependencies\n",
    "import numpy as np\n",
    "from sklearn.datasets import load_iris\n",
    "from sklearn.ensemble import GradientBoostingClassifier, RandomForestClassifier\n",
    "\n",
    "## import GridSearchCV, RandomizedSearchCV\n",
    "from sklearn.model_selection import train_test_split, GridSearchCV,\\\n",
    "    RandomizedSearchCV, cross_val_score\n",
    "from sklearn.metrics import accuracy_score\n",
    "## import hyperopt\n",
    "from hyperopt import hp, fmin, tpe, STATUS_OK, Trials\n",
    "## import optuna\n",
    "import optuna"
   ]
  },
  {
   "cell_type": "markdown",
   "id": "72ce5b53",
   "metadata": {},
   "source": [
    "## Dataset preparation"
   ]
  },
  {
   "cell_type": "code",
   "execution_count": 170,
   "id": "14c7c9fc",
   "metadata": {},
   "outputs": [],
   "source": [
    "## load iris data\n",
    "iris_data = load_iris()\n",
    "\n",
    "## label, data for training \n",
    "label = iris_data.target\n",
    "data = iris_data.data\n",
    "\n",
    "X_train, X_val, y_train, y_val = train_test_split(data, label, test_size=0.2)"
   ]
  },
  {
   "cell_type": "markdown",
   "id": "49226af6",
   "metadata": {},
   "source": [
    "## 1. Manual Search\n",
    "### : Method to find out the optimal hyperparameter manually"
   ]
  },
  {
   "cell_type": "markdown",
   "id": "e0e06078",
   "metadata": {},
   "source": [
    "#### criterion = the function used to evaluate the quality of a split. \n",
    "#### max_depth = maximum number of levels allowed in each tree.\n",
    "#### max_features = maximum number of features considered when splitting a node.\n",
    "#### min_samples_leaf = minimum number of samples which can be stored in a tree leaf.\n",
    "#### min_samples_split = minimum number of samples necessary in a node to cause node splitting.\n",
    "#### n_estimators = number of trees in the ensemble."
   ]
  },
  {
   "cell_type": "code",
   "execution_count": 176,
   "id": "8af9d490",
   "metadata": {},
   "outputs": [
    {
     "name": "stdout",
     "output_type": "stream",
     "text": [
      "manual model 1 performance :  0.9666666666666667\n"
     ]
    }
   ],
   "source": [
    "## manual model 1\n",
    "manual1 = RandomForestClassifier(random_state= 101).fit(X_train,y_train)\n",
    "pred = manual1.predict(X_val)\n",
    "man1_acc = accuracy_score(y_val, pred)\n",
    "print(\"manual model 1 performance : \", man1_acc)"
   ]
  },
  {
   "cell_type": "code",
   "execution_count": 177,
   "id": "ac50353f",
   "metadata": {},
   "outputs": [
    {
     "name": "stdout",
     "output_type": "stream",
     "text": [
      "manual model 2 performance :  1.0\n"
     ]
    }
   ],
   "source": [
    "## manual model 2 (add n_estimators)\n",
    "manual2 = RandomForestClassifier(max_depth= 20, n_estimators= 20, random_state= 101, min_samples_split=10).fit(X_train,y_train)\n",
    "pred = manual2.predict(X_val)\n",
    "man2_acc = accuracy_score(y_val, pred)\n",
    "print(\"manual model 2 performance : \", man2_acc)"
   ]
  },
  {
   "cell_type": "markdown",
   "id": "973dacec",
   "metadata": {},
   "source": [
    "## Setting parameter for GridSearchCV"
   ]
  },
  {
   "cell_type": "code",
   "execution_count": 12,
   "id": "e2f47596",
   "metadata": {},
   "outputs": [],
   "source": [
    "# setting param_grid for GridSearchCV\n",
    "param_grid = {'max_depth': np.arange(5,8,1),\n",
    "             'n_estimators':np.arange(130,170,10)}"
   ]
  },
  {
   "cell_type": "code",
   "execution_count": 13,
   "id": "c66103b9",
   "metadata": {},
   "outputs": [],
   "source": [
    "## load model instance\n",
    "## for practicing, use Gradient Boosting classifier model\n",
    "gbc = GradientBoostingClassifier()"
   ]
  },
  {
   "cell_type": "markdown",
   "id": "8a07e1c5",
   "metadata": {},
   "source": [
    "## 2. GridSearchCV"
   ]
  },
  {
   "cell_type": "code",
   "execution_count": 14,
   "id": "4870081f",
   "metadata": {},
   "outputs": [
    {
     "name": "stdout",
     "output_type": "stream",
     "text": [
      "best parameters of random forest classifier :  {'criterion': 'entropy', 'max_depth': 9, 'max_features': 'sqrt', 'min_samples_leaf': 4, 'n_estimators': 10}\n",
      "best score of random forest classifier :  0.9916666666666668\n"
     ]
    }
   ],
   "source": [
    "param_grid = {\n",
    "    'n_estimators': np.arange(10, 201, 20), \n",
    "    'max_depth':np.arange(3, 15, 2),\n",
    "    'criterion': ['entropy', 'gini'],\n",
    "    'max_features': ['auto', 'sqrt'],\n",
    "    'min_samples_leaf': np.arange(4, 8, 2)\n",
    "    }\n",
    "rfc = RandomForestClassifier()\n",
    "rfc_grid = GridSearchCV(rfc, param_grid=param_grid, n_jobs=8)\n",
    "rfc_grid.fit(X_train, y_train)\n",
    "\n",
    "## check out best parameters and scores\n",
    "print('best parameters of random forest classifier : ', rfc_grid.best_params_)\n",
    "print('best score of random forest classifier : ', rfc_grid.best_score_)"
   ]
  },
  {
   "cell_type": "code",
   "execution_count": 15,
   "id": "52dc37a8",
   "metadata": {},
   "outputs": [
    {
     "name": "stdout",
     "output_type": "stream",
     "text": [
      "accuracy performance of best estimator :  0.8333333333333334\n"
     ]
    }
   ],
   "source": [
    "## setting best_estimator_model\n",
    "em = rfc_grid.best_estimator_\n",
    "## predict\n",
    "pred = em.predict(X_val)\n",
    "\n",
    "print(\"accuracy performance of best estimator : \", accuracy_score(y_val, pred))"
   ]
  },
  {
   "cell_type": "markdown",
   "id": "cf46c928",
   "metadata": {},
   "source": [
    "## 3. RandomSearchCV"
   ]
  },
  {
   "cell_type": "code",
   "execution_count": 16,
   "id": "17ecb3b8",
   "metadata": {
    "scrolled": true
   },
   "outputs": [
    {
     "name": "stdout",
     "output_type": "stream",
     "text": [
      "Fitting 3 folds for each of 10 candidates, totalling 30 fits\n"
     ]
    },
    {
     "data": {
      "text/html": [
       "<style>#sk-container-id-1 {color: black;background-color: white;}#sk-container-id-1 pre{padding: 0;}#sk-container-id-1 div.sk-toggleable {background-color: white;}#sk-container-id-1 label.sk-toggleable__label {cursor: pointer;display: block;width: 100%;margin-bottom: 0;padding: 0.3em;box-sizing: border-box;text-align: center;}#sk-container-id-1 label.sk-toggleable__label-arrow:before {content: \"▸\";float: left;margin-right: 0.25em;color: #696969;}#sk-container-id-1 label.sk-toggleable__label-arrow:hover:before {color: black;}#sk-container-id-1 div.sk-estimator:hover label.sk-toggleable__label-arrow:before {color: black;}#sk-container-id-1 div.sk-toggleable__content {max-height: 0;max-width: 0;overflow: hidden;text-align: left;background-color: #f0f8ff;}#sk-container-id-1 div.sk-toggleable__content pre {margin: 0.2em;color: black;border-radius: 0.25em;background-color: #f0f8ff;}#sk-container-id-1 input.sk-toggleable__control:checked~div.sk-toggleable__content {max-height: 200px;max-width: 100%;overflow: auto;}#sk-container-id-1 input.sk-toggleable__control:checked~label.sk-toggleable__label-arrow:before {content: \"▾\";}#sk-container-id-1 div.sk-estimator input.sk-toggleable__control:checked~label.sk-toggleable__label {background-color: #d4ebff;}#sk-container-id-1 div.sk-label input.sk-toggleable__control:checked~label.sk-toggleable__label {background-color: #d4ebff;}#sk-container-id-1 input.sk-hidden--visually {border: 0;clip: rect(1px 1px 1px 1px);clip: rect(1px, 1px, 1px, 1px);height: 1px;margin: -1px;overflow: hidden;padding: 0;position: absolute;width: 1px;}#sk-container-id-1 div.sk-estimator {font-family: monospace;background-color: #f0f8ff;border: 1px dotted black;border-radius: 0.25em;box-sizing: border-box;margin-bottom: 0.5em;}#sk-container-id-1 div.sk-estimator:hover {background-color: #d4ebff;}#sk-container-id-1 div.sk-parallel-item::after {content: \"\";width: 100%;border-bottom: 1px solid gray;flex-grow: 1;}#sk-container-id-1 div.sk-label:hover label.sk-toggleable__label {background-color: #d4ebff;}#sk-container-id-1 div.sk-serial::before {content: \"\";position: absolute;border-left: 1px solid gray;box-sizing: border-box;top: 0;bottom: 0;left: 50%;z-index: 0;}#sk-container-id-1 div.sk-serial {display: flex;flex-direction: column;align-items: center;background-color: white;padding-right: 0.2em;padding-left: 0.2em;position: relative;}#sk-container-id-1 div.sk-item {position: relative;z-index: 1;}#sk-container-id-1 div.sk-parallel {display: flex;align-items: stretch;justify-content: center;background-color: white;position: relative;}#sk-container-id-1 div.sk-item::before, #sk-container-id-1 div.sk-parallel-item::before {content: \"\";position: absolute;border-left: 1px solid gray;box-sizing: border-box;top: 0;bottom: 0;left: 50%;z-index: -1;}#sk-container-id-1 div.sk-parallel-item {display: flex;flex-direction: column;z-index: 1;position: relative;background-color: white;}#sk-container-id-1 div.sk-parallel-item:first-child::after {align-self: flex-end;width: 50%;}#sk-container-id-1 div.sk-parallel-item:last-child::after {align-self: flex-start;width: 50%;}#sk-container-id-1 div.sk-parallel-item:only-child::after {width: 0;}#sk-container-id-1 div.sk-dashed-wrapped {border: 1px dashed gray;margin: 0 0.4em 0.5em 0.4em;box-sizing: border-box;padding-bottom: 0.4em;background-color: white;}#sk-container-id-1 div.sk-label label {font-family: monospace;font-weight: bold;display: inline-block;line-height: 1.2em;}#sk-container-id-1 div.sk-label-container {text-align: center;}#sk-container-id-1 div.sk-container {/* jupyter's `normalize.less` sets `[hidden] { display: none; }` but bootstrap.min.css set `[hidden] { display: none !important; }` so we also need the `!important` here to be able to override the default hidden behavior on the sphinx rendered scikit-learn.org. See: https://github.com/scikit-learn/scikit-learn/issues/21755 */display: inline-block !important;position: relative;}#sk-container-id-1 div.sk-text-repr-fallback {display: none;}</style><div id=\"sk-container-id-1\" class=\"sk-top-container\"><div class=\"sk-text-repr-fallback\"><pre>RandomizedSearchCV(cv=3, estimator=RandomForestClassifier(), n_jobs=-1,\n",
       "                   param_distributions={&#x27;criterion&#x27;: [&#x27;entropy&#x27;, &#x27;gini&#x27;],\n",
       "                                        &#x27;max_depth&#x27;: array([ 3,  5,  7,  9, 11, 13]),\n",
       "                                        &#x27;max_features&#x27;: [&#x27;auto&#x27;, &#x27;sqrt&#x27;],\n",
       "                                        &#x27;min_samples_leaf&#x27;: array([4, 6]),\n",
       "                                        &#x27;n_estimators&#x27;: array([ 10,  30,  50,  70,  90, 110, 130, 150, 170, 190])},\n",
       "                   random_state=101, verbose=1)</pre><b>In a Jupyter environment, please rerun this cell to show the HTML representation or trust the notebook. <br />On GitHub, the HTML representation is unable to render, please try loading this page with nbviewer.org.</b></div><div class=\"sk-container\" hidden><div class=\"sk-item sk-dashed-wrapped\"><div class=\"sk-label-container\"><div class=\"sk-label sk-toggleable\"><input class=\"sk-toggleable__control sk-hidden--visually\" id=\"sk-estimator-id-1\" type=\"checkbox\" ><label for=\"sk-estimator-id-1\" class=\"sk-toggleable__label sk-toggleable__label-arrow\">RandomizedSearchCV</label><div class=\"sk-toggleable__content\"><pre>RandomizedSearchCV(cv=3, estimator=RandomForestClassifier(), n_jobs=-1,\n",
       "                   param_distributions={&#x27;criterion&#x27;: [&#x27;entropy&#x27;, &#x27;gini&#x27;],\n",
       "                                        &#x27;max_depth&#x27;: array([ 3,  5,  7,  9, 11, 13]),\n",
       "                                        &#x27;max_features&#x27;: [&#x27;auto&#x27;, &#x27;sqrt&#x27;],\n",
       "                                        &#x27;min_samples_leaf&#x27;: array([4, 6]),\n",
       "                                        &#x27;n_estimators&#x27;: array([ 10,  30,  50,  70,  90, 110, 130, 150, 170, 190])},\n",
       "                   random_state=101, verbose=1)</pre></div></div></div><div class=\"sk-parallel\"><div class=\"sk-parallel-item\"><div class=\"sk-item\"><div class=\"sk-label-container\"><div class=\"sk-label sk-toggleable\"><input class=\"sk-toggleable__control sk-hidden--visually\" id=\"sk-estimator-id-2\" type=\"checkbox\" ><label for=\"sk-estimator-id-2\" class=\"sk-toggleable__label sk-toggleable__label-arrow\">estimator: RandomForestClassifier</label><div class=\"sk-toggleable__content\"><pre>RandomForestClassifier()</pre></div></div></div><div class=\"sk-serial\"><div class=\"sk-item\"><div class=\"sk-estimator sk-toggleable\"><input class=\"sk-toggleable__control sk-hidden--visually\" id=\"sk-estimator-id-3\" type=\"checkbox\" ><label for=\"sk-estimator-id-3\" class=\"sk-toggleable__label sk-toggleable__label-arrow\">RandomForestClassifier</label><div class=\"sk-toggleable__content\"><pre>RandomForestClassifier()</pre></div></div></div></div></div></div></div></div></div></div>"
      ],
      "text/plain": [
       "RandomizedSearchCV(cv=3, estimator=RandomForestClassifier(), n_jobs=-1,\n",
       "                   param_distributions={'criterion': ['entropy', 'gini'],\n",
       "                                        'max_depth': array([ 3,  5,  7,  9, 11, 13]),\n",
       "                                        'max_features': ['auto', 'sqrt'],\n",
       "                                        'min_samples_leaf': array([4, 6]),\n",
       "                                        'n_estimators': array([ 10,  30,  50,  70,  90, 110, 130, 150, 170, 190])},\n",
       "                   random_state=101, verbose=1)"
      ]
     },
     "execution_count": 16,
     "metadata": {},
     "output_type": "execute_result"
    }
   ],
   "source": [
    "param_grid= {\n",
    "    'n_estimators': np.arange(10, 201, 20), \n",
    "    'max_depth':np.arange(3, 15, 2),\n",
    "    'criterion': ['entropy', 'gini'],\n",
    "    'max_features': ['auto', 'sqrt'],\n",
    "    'min_samples_leaf': np.arange(4, 8, 2)\n",
    "    }\n",
    "\n",
    "rfc= RandomForestClassifier()\n",
    "random= RandomizedSearchCV(rfc, param_distributions= param_grid,\n",
    "                            n_iter= 10, cv= 3, verbose= 1, \n",
    "                            random_state= 101, n_jobs= -1)\n",
    "random.fit(X_train,y_train)"
   ]
  },
  {
   "cell_type": "code",
   "execution_count": 17,
   "id": "44f15ea3",
   "metadata": {},
   "outputs": [
    {
     "name": "stdout",
     "output_type": "stream",
     "text": [
      "{'n_estimators': 10, 'min_samples_leaf': 6, 'max_features': 'sqrt', 'max_depth': 9, 'criterion': 'gini'}\n",
      "0.9\n"
     ]
    }
   ],
   "source": [
    "## predict\n",
    "random_pf= random.best_estimator_.predict(X_val)\n",
    "random_acc= accuracy_score(y_val, random_pf)\n",
    "\n",
    "print(random.best_params_)\n",
    "print(random_acc)"
   ]
  },
  {
   "cell_type": "markdown",
   "id": "dc2a4162",
   "metadata": {},
   "source": [
    "## 4. HyperOpt"
   ]
  },
  {
   "cell_type": "markdown",
   "id": "a302a7d8",
   "metadata": {},
   "source": [
    "#### parameter of fmin method\n",
    "#### objective function: loss function to minimize\n",
    "#### Domain space: probability distribution of hyperparameter\n",
    "#### optimization algorithm: optimal combination algorithm"
   ]
  },
  {
   "cell_type": "code",
   "execution_count": 18,
   "id": "0f19f300",
   "metadata": {},
   "outputs": [
    {
     "name": "stdout",
     "output_type": "stream",
     "text": [
      " 40%|██████████               | 8/20 [00:01<00:02,  4.71trial/s, best loss: -0.9166666666666666]"
     ]
    },
    {
     "name": "stderr",
     "output_type": "stream",
     "text": [
      "C:\\Users\\vaiv\\Documents\\Git\\ConvAE_LSTM\\.convAE_lstm\\lib\\site-packages\\sklearn\\ensemble\\_forest.py:427: FutureWarning: `max_features='auto'` has been deprecated in 1.1 and will be removed in 1.3. To keep the past behaviour, explicitly set `max_features='sqrt'` or remove this parameter as it is also the default value for RandomForestClassifiers and ExtraTreesClassifiers.\n",
      "  warn(\n",
      "\n",
      "C:\\Users\\vaiv\\Documents\\Git\\ConvAE_LSTM\\.convAE_lstm\\lib\\site-packages\\sklearn\\ensemble\\_forest.py:427: FutureWarning: `max_features='auto'` has been deprecated in 1.1 and will be removed in 1.3. To keep the past behaviour, explicitly set `max_features='sqrt'` or remove this parameter as it is also the default value for RandomForestClassifiers and ExtraTreesClassifiers.\n",
      "  warn(\n",
      "\n",
      "C:\\Users\\vaiv\\Documents\\Git\\ConvAE_LSTM\\.convAE_lstm\\lib\\site-packages\\sklearn\\ensemble\\_forest.py:427: FutureWarning: `max_features='auto'` has been deprecated in 1.1 and will be removed in 1.3. To keep the past behaviour, explicitly set `max_features='sqrt'` or remove this parameter as it is also the default value for RandomForestClassifiers and ExtraTreesClassifiers.\n",
      "  warn(\n",
      "\n"
     ]
    },
    {
     "name": "stdout",
     "output_type": "stream",
     "text": [
      "\r",
      " 50%|████████████            | 10/20 [00:02<00:02,  4.97trial/s, best loss: -0.9166666666666666]"
     ]
    },
    {
     "name": "stderr",
     "output_type": "stream",
     "text": [
      "C:\\Users\\vaiv\\Documents\\Git\\ConvAE_LSTM\\.convAE_lstm\\lib\\site-packages\\sklearn\\ensemble\\_forest.py:427: FutureWarning: `max_features='auto'` has been deprecated in 1.1 and will be removed in 1.3. To keep the past behaviour, explicitly set `max_features='sqrt'` or remove this parameter as it is also the default value for RandomForestClassifiers and ExtraTreesClassifiers.\n",
      "  warn(\n",
      "\n"
     ]
    },
    {
     "name": "stdout",
     "output_type": "stream",
     "text": [
      "100%|████████████████████████| 20/20 [00:04<00:00,  4.43trial/s, best loss: -0.9416666666666667]\n"
     ]
    }
   ],
   "source": [
    "# space: 알고리즘이 탐색할 범위를 정의한다. \n",
    "# hp.choice: 리스트 내의 값을 무작위로 추출\n",
    "# hp.uniform: 정의된 범위 내에서 임의의 숫자를 무작위 추출\n",
    "# hp.quniform: 정의된 범위 내에서 마지막 숫자만큼의 간격을 두어 숫자를 추출 \n",
    "space = {'criterion': hp.choice('criterion', ['entropy', 'gini']),\n",
    "        'max_depth': hp.choice('max_depth', np.arange(3, 15, 2, dtype=int)),\n",
    "        'max_features': hp.choice('max_features', ['auto', 'sqrt','log2', None]),\n",
    "        'min_samples_leaf': hp.uniform ('min_samples_leaf', 0, 0.5),\n",
    "        'min_samples_split' : hp.uniform ('min_samples_split', 0, 1),\n",
    "        'n_estimators' : hp.choice('n_estimators', [10, 50])\n",
    "    }\n",
    "\n",
    "def objective(space):\n",
    "    hopt = RandomForestClassifier(criterion = space['criterion'], \n",
    "                                   max_depth = space['max_depth'],\n",
    "                                 max_features = space['max_features'],\n",
    "                                 min_samples_leaf = space['min_samples_leaf'],\n",
    "                                 min_samples_split = space['min_samples_split'],\n",
    "                                 n_estimators = space['n_estimators'], \n",
    "                                 )\n",
    "    \n",
    "    accuracy = cross_val_score(hopt, X_train, y_train, cv = 4).mean()\n",
    "\n",
    "    # We aim to maximize accuracy, therefore we return it as a negative value\n",
    "    return {'loss': -accuracy, 'status': STATUS_OK }\n",
    "    \n",
    "trials = Trials()\n",
    "best = fmin(fn= objective,\n",
    "            space= space,\n",
    "            algo= tpe.suggest,\n",
    "            max_evals = 20,\n",
    "            trials= trials)"
   ]
  },
  {
   "cell_type": "code",
   "execution_count": 19,
   "id": "a94d278e",
   "metadata": {},
   "outputs": [
    {
     "data": {
      "text/plain": [
       "{'criterion': 0,\n",
       " 'max_depth': 3,\n",
       " 'max_features': 2,\n",
       " 'min_samples_leaf': 0.011900434509813707,\n",
       " 'min_samples_split': 0.4151822864537602,\n",
       " 'n_estimators': 1}"
      ]
     },
     "execution_count": 19,
     "metadata": {},
     "output_type": "execute_result"
    }
   ],
   "source": [
    "# 최적의 하이퍼파라미터 조합\n",
    "best"
   ]
  },
  {
   "cell_type": "code",
   "execution_count": 20,
   "id": "84ed4f95",
   "metadata": {},
   "outputs": [],
   "source": [
    "# best를 통해 최적의 조합이 도출되었으니, 이를 바탕으로 모델을 학습시켜야 한다. 그러기 위해서는 변수들이 가진 element에 인덱스를 부여한다. \n",
    "# hp.uniform은 숫자를 무작위로 추출하기에 우리가 알 수 없으므로, choice, quniform을 메소드로 가진 변수들만 딕셔너리로 만들어준다. \n",
    "crit = {0: 'entropy', 1: 'gini'}\n",
    "feat = {0: 'auto', 1: 'sqrt', 2: 'log2', 3: None}\n",
    "est = {0: 10, 1: 50, 2: 75, 3: 100, 4: 125}\n",
    "\n",
    "trainedforest = RandomForestClassifier(criterion = crit[best['criterion']], \n",
    "                                      max_depth = best['max_depth'], \n",
    "                                      max_features = feat[best['max_features']], \n",
    "                                      min_samples_leaf = best['min_samples_leaf'], \n",
    "                                      min_samples_split = best['min_samples_split'], \n",
    "                                      n_estimators = est[best['n_estimators']]\n",
    "                                     ).fit(X_train,y_train)"
   ]
  },
  {
   "cell_type": "code",
   "execution_count": 21,
   "id": "f46493d6",
   "metadata": {},
   "outputs": [
    {
     "name": "stdout",
     "output_type": "stream",
     "text": [
      "0.8333333333333334\n"
     ]
    }
   ],
   "source": [
    "hopt_pf= trainedforest.predict(X_val)\n",
    "hopt_acc = accuracy_score(y_val, hopt_pf)\n",
    "print(hopt_acc)"
   ]
  },
  {
   "cell_type": "markdown",
   "id": "1a91e3cc",
   "metadata": {},
   "source": [
    "## 5. Optuna"
   ]
  },
  {
   "cell_type": "code",
   "execution_count": 140,
   "id": "e5e03b57",
   "metadata": {},
   "outputs": [],
   "source": [
    "import optuna\n",
    "import sklearn\n",
    "from optuna.samplers import TPESampler"
   ]
  },
  {
   "cell_type": "code",
   "execution_count": 147,
   "id": "de93da0c",
   "metadata": {
    "scrolled": true
   },
   "outputs": [
    {
     "name": "stderr",
     "output_type": "stream",
     "text": [
      "\u001b[32m[I 2022-10-21 15:22:57,572]\u001b[0m A new study created in memory with name: no-name-72db9a10-d8f8-4648-b55f-8e47883b5b64\u001b[0m\n",
      "C:\\Users\\vaiv\\Documents\\Git\\ConvAE_LSTM\\.convAE_lstm\\lib\\site-packages\\sklearn\\ensemble\\_forest.py:427: FutureWarning:\n",
      "\n",
      "`max_features='auto'` has been deprecated in 1.1 and will be removed in 1.3. To keep the past behaviour, explicitly set `max_features='sqrt'` or remove this parameter as it is also the default value for RandomForestClassifiers and ExtraTreesClassifiers.\n",
      "\n",
      "C:\\Users\\vaiv\\Documents\\Git\\ConvAE_LSTM\\.convAE_lstm\\lib\\site-packages\\sklearn\\ensemble\\_forest.py:427: FutureWarning:\n",
      "\n",
      "`max_features='auto'` has been deprecated in 1.1 and will be removed in 1.3. To keep the past behaviour, explicitly set `max_features='sqrt'` or remove this parameter as it is also the default value for RandomForestClassifiers and ExtraTreesClassifiers.\n",
      "\n",
      "C:\\Users\\vaiv\\Documents\\Git\\ConvAE_LSTM\\.convAE_lstm\\lib\\site-packages\\sklearn\\ensemble\\_forest.py:427: FutureWarning:\n",
      "\n",
      "`max_features='auto'` has been deprecated in 1.1 and will be removed in 1.3. To keep the past behaviour, explicitly set `max_features='sqrt'` or remove this parameter as it is also the default value for RandomForestClassifiers and ExtraTreesClassifiers.\n",
      "\n",
      "C:\\Users\\vaiv\\Documents\\Git\\ConvAE_LSTM\\.convAE_lstm\\lib\\site-packages\\sklearn\\ensemble\\_forest.py:427: FutureWarning:\n",
      "\n",
      "`max_features='auto'` has been deprecated in 1.1 and will be removed in 1.3. To keep the past behaviour, explicitly set `max_features='sqrt'` or remove this parameter as it is also the default value for RandomForestClassifiers and ExtraTreesClassifiers.\n",
      "\n",
      "\u001b[32m[I 2022-10-21 15:22:57,866]\u001b[0m Trial 0 finished with value: 0.9466571834992887 and parameters: {'n_estimators': 54, 'max_depth': 11, 'criterion': 'entropy', 'max_features': 'auto', 'min_samples_leaf': 5}. Best is trial 0 with value: 0.9466571834992887.\u001b[0m\n",
      "C:\\Users\\vaiv\\Documents\\Git\\ConvAE_LSTM\\.convAE_lstm\\lib\\site-packages\\sklearn\\ensemble\\_forest.py:427: FutureWarning:\n",
      "\n",
      "`max_features='auto'` has been deprecated in 1.1 and will be removed in 1.3. To keep the past behaviour, explicitly set `max_features='sqrt'` or remove this parameter as it is also the default value for RandomForestClassifiers and ExtraTreesClassifiers.\n",
      "\n",
      "C:\\Users\\vaiv\\Documents\\Git\\ConvAE_LSTM\\.convAE_lstm\\lib\\site-packages\\sklearn\\ensemble\\_forest.py:427: FutureWarning:\n",
      "\n",
      "`max_features='auto'` has been deprecated in 1.1 and will be removed in 1.3. To keep the past behaviour, explicitly set `max_features='sqrt'` or remove this parameter as it is also the default value for RandomForestClassifiers and ExtraTreesClassifiers.\n",
      "\n",
      "C:\\Users\\vaiv\\Documents\\Git\\ConvAE_LSTM\\.convAE_lstm\\lib\\site-packages\\sklearn\\ensemble\\_forest.py:427: FutureWarning:\n",
      "\n",
      "`max_features='auto'` has been deprecated in 1.1 and will be removed in 1.3. To keep the past behaviour, explicitly set `max_features='sqrt'` or remove this parameter as it is also the default value for RandomForestClassifiers and ExtraTreesClassifiers.\n",
      "\n",
      "C:\\Users\\vaiv\\Documents\\Git\\ConvAE_LSTM\\.convAE_lstm\\lib\\site-packages\\sklearn\\ensemble\\_forest.py:427: FutureWarning:\n",
      "\n",
      "`max_features='auto'` has been deprecated in 1.1 and will be removed in 1.3. To keep the past behaviour, explicitly set `max_features='sqrt'` or remove this parameter as it is also the default value for RandomForestClassifiers and ExtraTreesClassifiers.\n",
      "\n",
      "\u001b[32m[I 2022-10-21 15:22:58,926]\u001b[0m Trial 1 finished with value: 0.9667496443812233 and parameters: {'n_estimators': 191, 'max_depth': 5, 'criterion': 'entropy', 'max_features': 'auto', 'min_samples_leaf': 4}. Best is trial 1 with value: 0.9667496443812233.\u001b[0m\n",
      "C:\\Users\\vaiv\\Documents\\Git\\ConvAE_LSTM\\.convAE_lstm\\lib\\site-packages\\sklearn\\ensemble\\_forest.py:427: FutureWarning:\n",
      "\n",
      "`max_features='auto'` has been deprecated in 1.1 and will be removed in 1.3. To keep the past behaviour, explicitly set `max_features='sqrt'` or remove this parameter as it is also the default value for RandomForestClassifiers and ExtraTreesClassifiers.\n",
      "\n",
      "C:\\Users\\vaiv\\Documents\\Git\\ConvAE_LSTM\\.convAE_lstm\\lib\\site-packages\\sklearn\\ensemble\\_forest.py:427: FutureWarning:\n",
      "\n",
      "`max_features='auto'` has been deprecated in 1.1 and will be removed in 1.3. To keep the past behaviour, explicitly set `max_features='sqrt'` or remove this parameter as it is also the default value for RandomForestClassifiers and ExtraTreesClassifiers.\n",
      "\n",
      "C:\\Users\\vaiv\\Documents\\Git\\ConvAE_LSTM\\.convAE_lstm\\lib\\site-packages\\sklearn\\ensemble\\_forest.py:427: FutureWarning:\n",
      "\n",
      "`max_features='auto'` has been deprecated in 1.1 and will be removed in 1.3. To keep the past behaviour, explicitly set `max_features='sqrt'` or remove this parameter as it is also the default value for RandomForestClassifiers and ExtraTreesClassifiers.\n",
      "\n",
      "C:\\Users\\vaiv\\Documents\\Git\\ConvAE_LSTM\\.convAE_lstm\\lib\\site-packages\\sklearn\\ensemble\\_forest.py:427: FutureWarning:\n",
      "\n",
      "`max_features='auto'` has been deprecated in 1.1 and will be removed in 1.3. To keep the past behaviour, explicitly set `max_features='sqrt'` or remove this parameter as it is also the default value for RandomForestClassifiers and ExtraTreesClassifiers.\n",
      "\n",
      "\u001b[32m[I 2022-10-21 15:22:59,513]\u001b[0m Trial 2 finished with value: 0.9466571834992887 and parameters: {'n_estimators': 107, 'max_depth': 11, 'criterion': 'gini', 'max_features': 'auto', 'min_samples_leaf': 7}. Best is trial 1 with value: 0.9667496443812233.\u001b[0m\n",
      "C:\\Users\\vaiv\\Documents\\Git\\ConvAE_LSTM\\.convAE_lstm\\lib\\site-packages\\sklearn\\ensemble\\_forest.py:427: FutureWarning:\n",
      "\n",
      "`max_features='auto'` has been deprecated in 1.1 and will be removed in 1.3. To keep the past behaviour, explicitly set `max_features='sqrt'` or remove this parameter as it is also the default value for RandomForestClassifiers and ExtraTreesClassifiers.\n",
      "\n",
      "C:\\Users\\vaiv\\Documents\\Git\\ConvAE_LSTM\\.convAE_lstm\\lib\\site-packages\\sklearn\\ensemble\\_forest.py:427: FutureWarning:\n",
      "\n",
      "`max_features='auto'` has been deprecated in 1.1 and will be removed in 1.3. To keep the past behaviour, explicitly set `max_features='sqrt'` or remove this parameter as it is also the default value for RandomForestClassifiers and ExtraTreesClassifiers.\n",
      "\n",
      "C:\\Users\\vaiv\\Documents\\Git\\ConvAE_LSTM\\.convAE_lstm\\lib\\site-packages\\sklearn\\ensemble\\_forest.py:427: FutureWarning:\n",
      "\n",
      "`max_features='auto'` has been deprecated in 1.1 and will be removed in 1.3. To keep the past behaviour, explicitly set `max_features='sqrt'` or remove this parameter as it is also the default value for RandomForestClassifiers and ExtraTreesClassifiers.\n",
      "\n",
      "C:\\Users\\vaiv\\Documents\\Git\\ConvAE_LSTM\\.convAE_lstm\\lib\\site-packages\\sklearn\\ensemble\\_forest.py:427: FutureWarning:\n",
      "\n",
      "`max_features='auto'` has been deprecated in 1.1 and will be removed in 1.3. To keep the past behaviour, explicitly set `max_features='sqrt'` or remove this parameter as it is also the default value for RandomForestClassifiers and ExtraTreesClassifiers.\n",
      "\n",
      "\u001b[32m[I 2022-10-21 15:23:00,273]\u001b[0m Trial 3 finished with value: 0.9532361308677098 and parameters: {'n_estimators': 127, 'max_depth': 6, 'criterion': 'entropy', 'max_features': 'auto', 'min_samples_leaf': 4}. Best is trial 1 with value: 0.9667496443812233.\u001b[0m\n",
      "\u001b[32m[I 2022-10-21 15:23:00,889]\u001b[0m Trial 4 finished with value: 0.9466571834992887 and parameters: {'n_estimators': 119, 'max_depth': 10, 'criterion': 'gini', 'max_features': 'sqrt', 'min_samples_leaf': 6}. Best is trial 1 with value: 0.9667496443812233.\u001b[0m\n",
      "\u001b[32m[I 2022-10-21 15:23:01,222]\u001b[0m Trial 5 finished with value: 0.9466571834992887 and parameters: {'n_estimators': 64, 'max_depth': 14, 'criterion': 'entropy', 'max_features': 'sqrt', 'min_samples_leaf': 5}. Best is trial 1 with value: 0.9667496443812233.\u001b[0m\n",
      "C:\\Users\\vaiv\\Documents\\Git\\ConvAE_LSTM\\.convAE_lstm\\lib\\site-packages\\sklearn\\ensemble\\_forest.py:427: FutureWarning:\n",
      "\n",
      "`max_features='auto'` has been deprecated in 1.1 and will be removed in 1.3. To keep the past behaviour, explicitly set `max_features='sqrt'` or remove this parameter as it is also the default value for RandomForestClassifiers and ExtraTreesClassifiers.\n",
      "\n",
      "C:\\Users\\vaiv\\Documents\\Git\\ConvAE_LSTM\\.convAE_lstm\\lib\\site-packages\\sklearn\\ensemble\\_forest.py:427: FutureWarning:\n",
      "\n",
      "`max_features='auto'` has been deprecated in 1.1 and will be removed in 1.3. To keep the past behaviour, explicitly set `max_features='sqrt'` or remove this parameter as it is also the default value for RandomForestClassifiers and ExtraTreesClassifiers.\n",
      "\n"
     ]
    },
    {
     "name": "stderr",
     "output_type": "stream",
     "text": [
      "C:\\Users\\vaiv\\Documents\\Git\\ConvAE_LSTM\\.convAE_lstm\\lib\\site-packages\\sklearn\\ensemble\\_forest.py:427: FutureWarning:\n",
      "\n",
      "`max_features='auto'` has been deprecated in 1.1 and will be removed in 1.3. To keep the past behaviour, explicitly set `max_features='sqrt'` or remove this parameter as it is also the default value for RandomForestClassifiers and ExtraTreesClassifiers.\n",
      "\n",
      "C:\\Users\\vaiv\\Documents\\Git\\ConvAE_LSTM\\.convAE_lstm\\lib\\site-packages\\sklearn\\ensemble\\_forest.py:427: FutureWarning:\n",
      "\n",
      "`max_features='auto'` has been deprecated in 1.1 and will be removed in 1.3. To keep the past behaviour, explicitly set `max_features='sqrt'` or remove this parameter as it is also the default value for RandomForestClassifiers and ExtraTreesClassifiers.\n",
      "\n",
      "\u001b[32m[I 2022-10-21 15:23:01,751]\u001b[0m Trial 6 finished with value: 0.9466571834992887 and parameters: {'n_estimators': 107, 'max_depth': 7, 'criterion': 'gini', 'max_features': 'auto', 'min_samples_leaf': 7}. Best is trial 1 with value: 0.9667496443812233.\u001b[0m\n",
      "\u001b[32m[I 2022-10-21 15:23:02,459]\u001b[0m Trial 7 finished with value: 0.9532361308677098 and parameters: {'n_estimators': 151, 'max_depth': 6, 'criterion': 'gini', 'max_features': 'sqrt', 'min_samples_leaf': 4}. Best is trial 1 with value: 0.9667496443812233.\u001b[0m\n",
      "\u001b[32m[I 2022-10-21 15:23:02,659]\u001b[0m Trial 8 finished with value: 0.9667496443812233 and parameters: {'n_estimators': 44, 'max_depth': 5, 'criterion': 'gini', 'max_features': 'sqrt', 'min_samples_leaf': 5}. Best is trial 1 with value: 0.9667496443812233.\u001b[0m\n",
      "\u001b[32m[I 2022-10-21 15:23:02,758]\u001b[0m Trial 9 finished with value: 0.9466571834992887 and parameters: {'n_estimators': 18, 'max_depth': 8, 'criterion': 'entropy', 'max_features': 'sqrt', 'min_samples_leaf': 7}. Best is trial 1 with value: 0.9667496443812233.\u001b[0m\n",
      "C:\\Users\\vaiv\\Documents\\Git\\ConvAE_LSTM\\.convAE_lstm\\lib\\site-packages\\sklearn\\ensemble\\_forest.py:427: FutureWarning:\n",
      "\n",
      "`max_features='auto'` has been deprecated in 1.1 and will be removed in 1.3. To keep the past behaviour, explicitly set `max_features='sqrt'` or remove this parameter as it is also the default value for RandomForestClassifiers and ExtraTreesClassifiers.\n",
      "\n",
      "C:\\Users\\vaiv\\Documents\\Git\\ConvAE_LSTM\\.convAE_lstm\\lib\\site-packages\\sklearn\\ensemble\\_forest.py:427: FutureWarning:\n",
      "\n",
      "`max_features='auto'` has been deprecated in 1.1 and will be removed in 1.3. To keep the past behaviour, explicitly set `max_features='sqrt'` or remove this parameter as it is also the default value for RandomForestClassifiers and ExtraTreesClassifiers.\n",
      "\n",
      "C:\\Users\\vaiv\\Documents\\Git\\ConvAE_LSTM\\.convAE_lstm\\lib\\site-packages\\sklearn\\ensemble\\_forest.py:427: FutureWarning:\n",
      "\n",
      "`max_features='auto'` has been deprecated in 1.1 and will be removed in 1.3. To keep the past behaviour, explicitly set `max_features='sqrt'` or remove this parameter as it is also the default value for RandomForestClassifiers and ExtraTreesClassifiers.\n",
      "\n",
      "C:\\Users\\vaiv\\Documents\\Git\\ConvAE_LSTM\\.convAE_lstm\\lib\\site-packages\\sklearn\\ensemble\\_forest.py:427: FutureWarning:\n",
      "\n",
      "`max_features='auto'` has been deprecated in 1.1 and will be removed in 1.3. To keep the past behaviour, explicitly set `max_features='sqrt'` or remove this parameter as it is also the default value for RandomForestClassifiers and ExtraTreesClassifiers.\n",
      "\n",
      "\u001b[32m[I 2022-10-21 15:23:03,921]\u001b[0m Trial 10 finished with value: 0.9534139402560455 and parameters: {'n_estimators': 199, 'max_depth': 4, 'criterion': 'entropy', 'max_features': 'auto', 'min_samples_leaf': 8}. Best is trial 1 with value: 0.9667496443812233.\u001b[0m\n",
      "\u001b[32m[I 2022-10-21 15:23:04,832]\u001b[0m Trial 11 finished with value: 0.9599928876244666 and parameters: {'n_estimators': 200, 'max_depth': 4, 'criterion': 'gini', 'max_features': 'sqrt', 'min_samples_leaf': 5}. Best is trial 1 with value: 0.9667496443812233.\u001b[0m\n",
      "\u001b[32m[I 2022-10-21 15:23:05,187]\u001b[0m Trial 12 finished with value: 0.9532361308677098 and parameters: {'n_estimators': 64, 'max_depth': 3, 'criterion': 'gini', 'max_features': 'sqrt', 'min_samples_leaf': 4}. Best is trial 1 with value: 0.9667496443812233.\u001b[0m\n",
      "C:\\Users\\vaiv\\Documents\\Git\\ConvAE_LSTM\\.convAE_lstm\\lib\\site-packages\\sklearn\\ensemble\\_forest.py:427: FutureWarning:\n",
      "\n",
      "`max_features='auto'` has been deprecated in 1.1 and will be removed in 1.3. To keep the past behaviour, explicitly set `max_features='sqrt'` or remove this parameter as it is also the default value for RandomForestClassifiers and ExtraTreesClassifiers.\n",
      "\n",
      "C:\\Users\\vaiv\\Documents\\Git\\ConvAE_LSTM\\.convAE_lstm\\lib\\site-packages\\sklearn\\ensemble\\_forest.py:427: FutureWarning:\n",
      "\n",
      "`max_features='auto'` has been deprecated in 1.1 and will be removed in 1.3. To keep the past behaviour, explicitly set `max_features='sqrt'` or remove this parameter as it is also the default value for RandomForestClassifiers and ExtraTreesClassifiers.\n",
      "\n",
      "C:\\Users\\vaiv\\Documents\\Git\\ConvAE_LSTM\\.convAE_lstm\\lib\\site-packages\\sklearn\\ensemble\\_forest.py:427: FutureWarning:\n",
      "\n",
      "`max_features='auto'` has been deprecated in 1.1 and will be removed in 1.3. To keep the past behaviour, explicitly set `max_features='sqrt'` or remove this parameter as it is also the default value for RandomForestClassifiers and ExtraTreesClassifiers.\n",
      "\n",
      "C:\\Users\\vaiv\\Documents\\Git\\ConvAE_LSTM\\.convAE_lstm\\lib\\site-packages\\sklearn\\ensemble\\_forest.py:427: FutureWarning:\n",
      "\n",
      "`max_features='auto'` has been deprecated in 1.1 and will be removed in 1.3. To keep the past behaviour, explicitly set `max_features='sqrt'` or remove this parameter as it is also the default value for RandomForestClassifiers and ExtraTreesClassifiers.\n",
      "\n",
      "\u001b[32m[I 2022-10-21 15:23:06,041]\u001b[0m Trial 13 finished with value: 0.9599928876244666 and parameters: {'n_estimators': 161, 'max_depth': 5, 'criterion': 'entropy', 'max_features': 'auto', 'min_samples_leaf': 5}. Best is trial 1 with value: 0.9667496443812233.\u001b[0m\n",
      "\u001b[32m[I 2022-10-21 15:23:06,121]\u001b[0m Trial 14 finished with value: 0.9466571834992887 and parameters: {'n_estimators': 11, 'max_depth': 8, 'criterion': 'entropy', 'max_features': 'sqrt', 'min_samples_leaf': 6}. Best is trial 1 with value: 0.9667496443812233.\u001b[0m\n",
      "C:\\Users\\vaiv\\Documents\\Git\\ConvAE_LSTM\\.convAE_lstm\\lib\\site-packages\\sklearn\\ensemble\\_forest.py:427: FutureWarning:\n",
      "\n",
      "`max_features='auto'` has been deprecated in 1.1 and will be removed in 1.3. To keep the past behaviour, explicitly set `max_features='sqrt'` or remove this parameter as it is also the default value for RandomForestClassifiers and ExtraTreesClassifiers.\n",
      "\n",
      "C:\\Users\\vaiv\\Documents\\Git\\ConvAE_LSTM\\.convAE_lstm\\lib\\site-packages\\sklearn\\ensemble\\_forest.py:427: FutureWarning:\n",
      "\n",
      "`max_features='auto'` has been deprecated in 1.1 and will be removed in 1.3. To keep the past behaviour, explicitly set `max_features='sqrt'` or remove this parameter as it is also the default value for RandomForestClassifiers and ExtraTreesClassifiers.\n",
      "\n",
      "C:\\Users\\vaiv\\Documents\\Git\\ConvAE_LSTM\\.convAE_lstm\\lib\\site-packages\\sklearn\\ensemble\\_forest.py:427: FutureWarning:\n",
      "\n",
      "`max_features='auto'` has been deprecated in 1.1 and will be removed in 1.3. To keep the past behaviour, explicitly set `max_features='sqrt'` or remove this parameter as it is also the default value for RandomForestClassifiers and ExtraTreesClassifiers.\n",
      "\n",
      "C:\\Users\\vaiv\\Documents\\Git\\ConvAE_LSTM\\.convAE_lstm\\lib\\site-packages\\sklearn\\ensemble\\_forest.py:427: FutureWarning:\n",
      "\n",
      "`max_features='auto'` has been deprecated in 1.1 and will be removed in 1.3. To keep the past behaviour, explicitly set `max_features='sqrt'` or remove this parameter as it is also the default value for RandomForestClassifiers and ExtraTreesClassifiers.\n",
      "\n",
      "\u001b[32m[I 2022-10-21 15:23:06,580]\u001b[0m Trial 15 finished with value: 0.9532361308677098 and parameters: {'n_estimators': 80, 'max_depth': 3, 'criterion': 'gini', 'max_features': 'auto', 'min_samples_leaf': 4}. Best is trial 1 with value: 0.9667496443812233.\u001b[0m\n",
      "C:\\Users\\vaiv\\Documents\\Git\\ConvAE_LSTM\\.convAE_lstm\\lib\\site-packages\\sklearn\\ensemble\\_forest.py:427: FutureWarning:\n",
      "\n",
      "`max_features='auto'` has been deprecated in 1.1 and will be removed in 1.3. To keep the past behaviour, explicitly set `max_features='sqrt'` or remove this parameter as it is also the default value for RandomForestClassifiers and ExtraTreesClassifiers.\n",
      "\n",
      "C:\\Users\\vaiv\\Documents\\Git\\ConvAE_LSTM\\.convAE_lstm\\lib\\site-packages\\sklearn\\ensemble\\_forest.py:427: FutureWarning:\n",
      "\n",
      "`max_features='auto'` has been deprecated in 1.1 and will be removed in 1.3. To keep the past behaviour, explicitly set `max_features='sqrt'` or remove this parameter as it is also the default value for RandomForestClassifiers and ExtraTreesClassifiers.\n",
      "\n",
      "C:\\Users\\vaiv\\Documents\\Git\\ConvAE_LSTM\\.convAE_lstm\\lib\\site-packages\\sklearn\\ensemble\\_forest.py:427: FutureWarning:\n",
      "\n",
      "`max_features='auto'` has been deprecated in 1.1 and will be removed in 1.3. To keep the past behaviour, explicitly set `max_features='sqrt'` or remove this parameter as it is also the default value for RandomForestClassifiers and ExtraTreesClassifiers.\n",
      "\n",
      "C:\\Users\\vaiv\\Documents\\Git\\ConvAE_LSTM\\.convAE_lstm\\lib\\site-packages\\sklearn\\ensemble\\_forest.py:427: FutureWarning:\n",
      "\n",
      "`max_features='auto'` has been deprecated in 1.1 and will be removed in 1.3. To keep the past behaviour, explicitly set `max_features='sqrt'` or remove this parameter as it is also the default value for RandomForestClassifiers and ExtraTreesClassifiers.\n",
      "\n",
      "\u001b[32m[I 2022-10-21 15:23:06,757]\u001b[0m Trial 16 finished with value: 0.9667496443812233 and parameters: {'n_estimators': 30, 'max_depth': 13, 'criterion': 'entropy', 'max_features': 'auto', 'min_samples_leaf': 5}. Best is trial 1 with value: 0.9667496443812233.\u001b[0m\n"
     ]
    },
    {
     "name": "stderr",
     "output_type": "stream",
     "text": [
      "\u001b[32m[I 2022-10-21 15:23:06,948]\u001b[0m Trial 17 finished with value: 0.9601706970128022 and parameters: {'n_estimators': 37, 'max_depth': 15, 'criterion': 'gini', 'max_features': 'sqrt', 'min_samples_leaf': 6}. Best is trial 1 with value: 0.9667496443812233.\u001b[0m\n",
      "C:\\Users\\vaiv\\Documents\\Git\\ConvAE_LSTM\\.convAE_lstm\\lib\\site-packages\\sklearn\\ensemble\\_forest.py:427: FutureWarning:\n",
      "\n",
      "`max_features='auto'` has been deprecated in 1.1 and will be removed in 1.3. To keep the past behaviour, explicitly set `max_features='sqrt'` or remove this parameter as it is also the default value for RandomForestClassifiers and ExtraTreesClassifiers.\n",
      "\n",
      "C:\\Users\\vaiv\\Documents\\Git\\ConvAE_LSTM\\.convAE_lstm\\lib\\site-packages\\sklearn\\ensemble\\_forest.py:427: FutureWarning:\n",
      "\n",
      "`max_features='auto'` has been deprecated in 1.1 and will be removed in 1.3. To keep the past behaviour, explicitly set `max_features='sqrt'` or remove this parameter as it is also the default value for RandomForestClassifiers and ExtraTreesClassifiers.\n",
      "\n",
      "C:\\Users\\vaiv\\Documents\\Git\\ConvAE_LSTM\\.convAE_lstm\\lib\\site-packages\\sklearn\\ensemble\\_forest.py:427: FutureWarning:\n",
      "\n",
      "`max_features='auto'` has been deprecated in 1.1 and will be removed in 1.3. To keep the past behaviour, explicitly set `max_features='sqrt'` or remove this parameter as it is also the default value for RandomForestClassifiers and ExtraTreesClassifiers.\n",
      "\n",
      "C:\\Users\\vaiv\\Documents\\Git\\ConvAE_LSTM\\.convAE_lstm\\lib\\site-packages\\sklearn\\ensemble\\_forest.py:427: FutureWarning:\n",
      "\n",
      "`max_features='auto'` has been deprecated in 1.1 and will be removed in 1.3. To keep the past behaviour, explicitly set `max_features='sqrt'` or remove this parameter as it is also the default value for RandomForestClassifiers and ExtraTreesClassifiers.\n",
      "\n",
      "\u001b[32m[I 2022-10-21 15:23:07,857]\u001b[0m Trial 18 finished with value: 0.9532361308677098 and parameters: {'n_estimators': 172, 'max_depth': 6, 'criterion': 'gini', 'max_features': 'auto', 'min_samples_leaf': 4}. Best is trial 1 with value: 0.9667496443812233.\u001b[0m\n",
      "C:\\Users\\vaiv\\Documents\\Git\\ConvAE_LSTM\\.convAE_lstm\\lib\\site-packages\\sklearn\\ensemble\\_forest.py:427: FutureWarning:\n",
      "\n",
      "`max_features='auto'` has been deprecated in 1.1 and will be removed in 1.3. To keep the past behaviour, explicitly set `max_features='sqrt'` or remove this parameter as it is also the default value for RandomForestClassifiers and ExtraTreesClassifiers.\n",
      "\n",
      "C:\\Users\\vaiv\\Documents\\Git\\ConvAE_LSTM\\.convAE_lstm\\lib\\site-packages\\sklearn\\ensemble\\_forest.py:427: FutureWarning:\n",
      "\n",
      "`max_features='auto'` has been deprecated in 1.1 and will be removed in 1.3. To keep the past behaviour, explicitly set `max_features='sqrt'` or remove this parameter as it is also the default value for RandomForestClassifiers and ExtraTreesClassifiers.\n",
      "\n",
      "C:\\Users\\vaiv\\Documents\\Git\\ConvAE_LSTM\\.convAE_lstm\\lib\\site-packages\\sklearn\\ensemble\\_forest.py:427: FutureWarning:\n",
      "\n",
      "`max_features='auto'` has been deprecated in 1.1 and will be removed in 1.3. To keep the past behaviour, explicitly set `max_features='sqrt'` or remove this parameter as it is also the default value for RandomForestClassifiers and ExtraTreesClassifiers.\n",
      "\n",
      "C:\\Users\\vaiv\\Documents\\Git\\ConvAE_LSTM\\.convAE_lstm\\lib\\site-packages\\sklearn\\ensemble\\_forest.py:427: FutureWarning:\n",
      "\n",
      "`max_features='auto'` has been deprecated in 1.1 and will be removed in 1.3. To keep the past behaviour, explicitly set `max_features='sqrt'` or remove this parameter as it is also the default value for RandomForestClassifiers and ExtraTreesClassifiers.\n",
      "\n",
      "\u001b[32m[I 2022-10-21 15:23:08,298]\u001b[0m Trial 19 finished with value: 0.9601706970128022 and parameters: {'n_estimators': 84, 'max_depth': 13, 'criterion': 'entropy', 'max_features': 'auto', 'min_samples_leaf': 6}. Best is trial 1 with value: 0.9667496443812233.\u001b[0m\n",
      "C:\\Users\\vaiv\\Documents\\Git\\ConvAE_LSTM\\.convAE_lstm\\lib\\site-packages\\sklearn\\ensemble\\_forest.py:427: FutureWarning:\n",
      "\n",
      "`max_features='auto'` has been deprecated in 1.1 and will be removed in 1.3. To keep the past behaviour, explicitly set `max_features='sqrt'` or remove this parameter as it is also the default value for RandomForestClassifiers and ExtraTreesClassifiers.\n",
      "\n",
      "C:\\Users\\vaiv\\Documents\\Git\\ConvAE_LSTM\\.convAE_lstm\\lib\\site-packages\\sklearn\\ensemble\\_forest.py:427: FutureWarning:\n",
      "\n",
      "`max_features='auto'` has been deprecated in 1.1 and will be removed in 1.3. To keep the past behaviour, explicitly set `max_features='sqrt'` or remove this parameter as it is also the default value for RandomForestClassifiers and ExtraTreesClassifiers.\n",
      "\n",
      "C:\\Users\\vaiv\\Documents\\Git\\ConvAE_LSTM\\.convAE_lstm\\lib\\site-packages\\sklearn\\ensemble\\_forest.py:427: FutureWarning:\n",
      "\n",
      "`max_features='auto'` has been deprecated in 1.1 and will be removed in 1.3. To keep the past behaviour, explicitly set `max_features='sqrt'` or remove this parameter as it is also the default value for RandomForestClassifiers and ExtraTreesClassifiers.\n",
      "\n",
      "C:\\Users\\vaiv\\Documents\\Git\\ConvAE_LSTM\\.convAE_lstm\\lib\\site-packages\\sklearn\\ensemble\\_forest.py:427: FutureWarning:\n",
      "\n",
      "`max_features='auto'` has been deprecated in 1.1 and will be removed in 1.3. To keep the past behaviour, explicitly set `max_features='sqrt'` or remove this parameter as it is also the default value for RandomForestClassifiers and ExtraTreesClassifiers.\n",
      "\n",
      "\u001b[32m[I 2022-10-21 15:23:09,136]\u001b[0m Trial 20 finished with value: 0.9532361308677098 and parameters: {'n_estimators': 137, 'max_depth': 12, 'criterion': 'entropy', 'max_features': 'auto', 'min_samples_leaf': 5}. Best is trial 1 with value: 0.9667496443812233.\u001b[0m\n",
      "C:\\Users\\vaiv\\Documents\\Git\\ConvAE_LSTM\\.convAE_lstm\\lib\\site-packages\\sklearn\\ensemble\\_forest.py:427: FutureWarning:\n",
      "\n",
      "`max_features='auto'` has been deprecated in 1.1 and will be removed in 1.3. To keep the past behaviour, explicitly set `max_features='sqrt'` or remove this parameter as it is also the default value for RandomForestClassifiers and ExtraTreesClassifiers.\n",
      "\n",
      "C:\\Users\\vaiv\\Documents\\Git\\ConvAE_LSTM\\.convAE_lstm\\lib\\site-packages\\sklearn\\ensemble\\_forest.py:427: FutureWarning:\n",
      "\n",
      "`max_features='auto'` has been deprecated in 1.1 and will be removed in 1.3. To keep the past behaviour, explicitly set `max_features='sqrt'` or remove this parameter as it is also the default value for RandomForestClassifiers and ExtraTreesClassifiers.\n",
      "\n",
      "C:\\Users\\vaiv\\Documents\\Git\\ConvAE_LSTM\\.convAE_lstm\\lib\\site-packages\\sklearn\\ensemble\\_forest.py:427: FutureWarning:\n",
      "\n",
      "`max_features='auto'` has been deprecated in 1.1 and will be removed in 1.3. To keep the past behaviour, explicitly set `max_features='sqrt'` or remove this parameter as it is also the default value for RandomForestClassifiers and ExtraTreesClassifiers.\n",
      "\n",
      "C:\\Users\\vaiv\\Documents\\Git\\ConvAE_LSTM\\.convAE_lstm\\lib\\site-packages\\sklearn\\ensemble\\_forest.py:427: FutureWarning:\n",
      "\n",
      "`max_features='auto'` has been deprecated in 1.1 and will be removed in 1.3. To keep the past behaviour, explicitly set `max_features='sqrt'` or remove this parameter as it is also the default value for RandomForestClassifiers and ExtraTreesClassifiers.\n",
      "\n",
      "\u001b[32m[I 2022-10-21 15:23:09,321]\u001b[0m Trial 21 finished with value: 0.9667496443812233 and parameters: {'n_estimators': 35, 'max_depth': 9, 'criterion': 'entropy', 'max_features': 'auto', 'min_samples_leaf': 5}. Best is trial 1 with value: 0.9667496443812233.\u001b[0m\n",
      "C:\\Users\\vaiv\\Documents\\Git\\ConvAE_LSTM\\.convAE_lstm\\lib\\site-packages\\sklearn\\ensemble\\_forest.py:427: FutureWarning:\n",
      "\n",
      "`max_features='auto'` has been deprecated in 1.1 and will be removed in 1.3. To keep the past behaviour, explicitly set `max_features='sqrt'` or remove this parameter as it is also the default value for RandomForestClassifiers and ExtraTreesClassifiers.\n",
      "\n",
      "C:\\Users\\vaiv\\Documents\\Git\\ConvAE_LSTM\\.convAE_lstm\\lib\\site-packages\\sklearn\\ensemble\\_forest.py:427: FutureWarning:\n",
      "\n",
      "`max_features='auto'` has been deprecated in 1.1 and will be removed in 1.3. To keep the past behaviour, explicitly set `max_features='sqrt'` or remove this parameter as it is also the default value for RandomForestClassifiers and ExtraTreesClassifiers.\n",
      "\n",
      "C:\\Users\\vaiv\\Documents\\Git\\ConvAE_LSTM\\.convAE_lstm\\lib\\site-packages\\sklearn\\ensemble\\_forest.py:427: FutureWarning:\n",
      "\n",
      "`max_features='auto'` has been deprecated in 1.1 and will be removed in 1.3. To keep the past behaviour, explicitly set `max_features='sqrt'` or remove this parameter as it is also the default value for RandomForestClassifiers and ExtraTreesClassifiers.\n",
      "\n",
      "C:\\Users\\vaiv\\Documents\\Git\\ConvAE_LSTM\\.convAE_lstm\\lib\\site-packages\\sklearn\\ensemble\\_forest.py:427: FutureWarning:\n",
      "\n",
      "`max_features='auto'` has been deprecated in 1.1 and will be removed in 1.3. To keep the past behaviour, explicitly set `max_features='sqrt'` or remove this parameter as it is also the default value for RandomForestClassifiers and ExtraTreesClassifiers.\n",
      "\n",
      "\u001b[32m[I 2022-10-21 15:23:09,509]\u001b[0m Trial 22 finished with value: 0.946479374110953 and parameters: {'n_estimators': 33, 'max_depth': 10, 'criterion': 'entropy', 'max_features': 'auto', 'min_samples_leaf': 4}. Best is trial 1 with value: 0.9667496443812233.\u001b[0m\n"
     ]
    },
    {
     "name": "stderr",
     "output_type": "stream",
     "text": [
      "\u001b[32m[I 2022-10-21 15:23:10,074]\u001b[0m Trial 23 finished with value: 0.9532361308677098 and parameters: {'n_estimators': 87, 'max_depth': 5, 'criterion': 'entropy', 'max_features': 'sqrt', 'min_samples_leaf': 5}. Best is trial 1 with value: 0.9667496443812233.\u001b[0m\n",
      "C:\\Users\\vaiv\\Documents\\Git\\ConvAE_LSTM\\.convAE_lstm\\lib\\site-packages\\sklearn\\ensemble\\_forest.py:427: FutureWarning:\n",
      "\n",
      "`max_features='auto'` has been deprecated in 1.1 and will be removed in 1.3. To keep the past behaviour, explicitly set `max_features='sqrt'` or remove this parameter as it is also the default value for RandomForestClassifiers and ExtraTreesClassifiers.\n",
      "\n",
      "C:\\Users\\vaiv\\Documents\\Git\\ConvAE_LSTM\\.convAE_lstm\\lib\\site-packages\\sklearn\\ensemble\\_forest.py:427: FutureWarning:\n",
      "\n",
      "`max_features='auto'` has been deprecated in 1.1 and will be removed in 1.3. To keep the past behaviour, explicitly set `max_features='sqrt'` or remove this parameter as it is also the default value for RandomForestClassifiers and ExtraTreesClassifiers.\n",
      "\n",
      "C:\\Users\\vaiv\\Documents\\Git\\ConvAE_LSTM\\.convAE_lstm\\lib\\site-packages\\sklearn\\ensemble\\_forest.py:427: FutureWarning:\n",
      "\n",
      "`max_features='auto'` has been deprecated in 1.1 and will be removed in 1.3. To keep the past behaviour, explicitly set `max_features='sqrt'` or remove this parameter as it is also the default value for RandomForestClassifiers and ExtraTreesClassifiers.\n",
      "\n",
      "C:\\Users\\vaiv\\Documents\\Git\\ConvAE_LSTM\\.convAE_lstm\\lib\\site-packages\\sklearn\\ensemble\\_forest.py:427: FutureWarning:\n",
      "\n",
      "`max_features='auto'` has been deprecated in 1.1 and will be removed in 1.3. To keep the past behaviour, explicitly set `max_features='sqrt'` or remove this parameter as it is also the default value for RandomForestClassifiers and ExtraTreesClassifiers.\n",
      "\n",
      "\u001b[32m[I 2022-10-21 15:23:10,240]\u001b[0m Trial 24 finished with value: 0.9599928876244666 and parameters: {'n_estimators': 24, 'max_depth': 9, 'criterion': 'entropy', 'max_features': 'auto', 'min_samples_leaf': 5}. Best is trial 1 with value: 0.9667496443812233.\u001b[0m\n",
      "C:\\Users\\vaiv\\Documents\\Git\\ConvAE_LSTM\\.convAE_lstm\\lib\\site-packages\\sklearn\\ensemble\\_forest.py:427: FutureWarning:\n",
      "\n",
      "`max_features='auto'` has been deprecated in 1.1 and will be removed in 1.3. To keep the past behaviour, explicitly set `max_features='sqrt'` or remove this parameter as it is also the default value for RandomForestClassifiers and ExtraTreesClassifiers.\n",
      "\n",
      "C:\\Users\\vaiv\\Documents\\Git\\ConvAE_LSTM\\.convAE_lstm\\lib\\site-packages\\sklearn\\ensemble\\_forest.py:427: FutureWarning:\n",
      "\n",
      "`max_features='auto'` has been deprecated in 1.1 and will be removed in 1.3. To keep the past behaviour, explicitly set `max_features='sqrt'` or remove this parameter as it is also the default value for RandomForestClassifiers and ExtraTreesClassifiers.\n",
      "\n",
      "C:\\Users\\vaiv\\Documents\\Git\\ConvAE_LSTM\\.convAE_lstm\\lib\\site-packages\\sklearn\\ensemble\\_forest.py:427: FutureWarning:\n",
      "\n",
      "`max_features='auto'` has been deprecated in 1.1 and will be removed in 1.3. To keep the past behaviour, explicitly set `max_features='sqrt'` or remove this parameter as it is also the default value for RandomForestClassifiers and ExtraTreesClassifiers.\n",
      "\n",
      "C:\\Users\\vaiv\\Documents\\Git\\ConvAE_LSTM\\.convAE_lstm\\lib\\site-packages\\sklearn\\ensemble\\_forest.py:427: FutureWarning:\n",
      "\n",
      "`max_features='auto'` has been deprecated in 1.1 and will be removed in 1.3. To keep the past behaviour, explicitly set `max_features='sqrt'` or remove this parameter as it is also the default value for RandomForestClassifiers and ExtraTreesClassifiers.\n",
      "\n",
      "\u001b[32m[I 2022-10-21 15:23:10,522]\u001b[0m Trial 25 finished with value: 0.9599928876244666 and parameters: {'n_estimators': 50, 'max_depth': 13, 'criterion': 'entropy', 'max_features': 'auto', 'min_samples_leaf': 4}. Best is trial 1 with value: 0.9667496443812233.\u001b[0m\n",
      "\u001b[32m[I 2022-10-21 15:23:10,781]\u001b[0m Trial 26 finished with value: 0.9601706970128022 and parameters: {'n_estimators': 46, 'max_depth': 7, 'criterion': 'gini', 'max_features': 'sqrt', 'min_samples_leaf': 5}. Best is trial 1 with value: 0.9667496443812233.\u001b[0m\n",
      "C:\\Users\\vaiv\\Documents\\Git\\ConvAE_LSTM\\.convAE_lstm\\lib\\site-packages\\sklearn\\ensemble\\_forest.py:427: FutureWarning:\n",
      "\n",
      "`max_features='auto'` has been deprecated in 1.1 and will be removed in 1.3. To keep the past behaviour, explicitly set `max_features='sqrt'` or remove this parameter as it is also the default value for RandomForestClassifiers and ExtraTreesClassifiers.\n",
      "\n",
      "C:\\Users\\vaiv\\Documents\\Git\\ConvAE_LSTM\\.convAE_lstm\\lib\\site-packages\\sklearn\\ensemble\\_forest.py:427: FutureWarning:\n",
      "\n",
      "`max_features='auto'` has been deprecated in 1.1 and will be removed in 1.3. To keep the past behaviour, explicitly set `max_features='sqrt'` or remove this parameter as it is also the default value for RandomForestClassifiers and ExtraTreesClassifiers.\n",
      "\n",
      "C:\\Users\\vaiv\\Documents\\Git\\ConvAE_LSTM\\.convAE_lstm\\lib\\site-packages\\sklearn\\ensemble\\_forest.py:427: FutureWarning:\n",
      "\n",
      "`max_features='auto'` has been deprecated in 1.1 and will be removed in 1.3. To keep the past behaviour, explicitly set `max_features='sqrt'` or remove this parameter as it is also the default value for RandomForestClassifiers and ExtraTreesClassifiers.\n",
      "\n",
      "C:\\Users\\vaiv\\Documents\\Git\\ConvAE_LSTM\\.convAE_lstm\\lib\\site-packages\\sklearn\\ensemble\\_forest.py:427: FutureWarning:\n",
      "\n",
      "`max_features='auto'` has been deprecated in 1.1 and will be removed in 1.3. To keep the past behaviour, explicitly set `max_features='sqrt'` or remove this parameter as it is also the default value for RandomForestClassifiers and ExtraTreesClassifiers.\n",
      "\n",
      "\u001b[32m[I 2022-10-21 15:23:11,162]\u001b[0m Trial 27 finished with value: 0.9532361308677098 and parameters: {'n_estimators': 70, 'max_depth': 9, 'criterion': 'entropy', 'max_features': 'auto', 'min_samples_leaf': 4}. Best is trial 1 with value: 0.9667496443812233.\u001b[0m\n",
      "\u001b[32m[I 2022-10-21 15:23:11,989]\u001b[0m Trial 28 finished with value: 0.9534139402560455 and parameters: {'n_estimators': 170, 'max_depth': 5, 'criterion': 'gini', 'max_features': 'sqrt', 'min_samples_leaf': 6}. Best is trial 1 with value: 0.9667496443812233.\u001b[0m\n",
      "C:\\Users\\vaiv\\Documents\\Git\\ConvAE_LSTM\\.convAE_lstm\\lib\\site-packages\\sklearn\\ensemble\\_forest.py:427: FutureWarning:\n",
      "\n",
      "`max_features='auto'` has been deprecated in 1.1 and will be removed in 1.3. To keep the past behaviour, explicitly set `max_features='sqrt'` or remove this parameter as it is also the default value for RandomForestClassifiers and ExtraTreesClassifiers.\n",
      "\n",
      "C:\\Users\\vaiv\\Documents\\Git\\ConvAE_LSTM\\.convAE_lstm\\lib\\site-packages\\sklearn\\ensemble\\_forest.py:427: FutureWarning:\n",
      "\n",
      "`max_features='auto'` has been deprecated in 1.1 and will be removed in 1.3. To keep the past behaviour, explicitly set `max_features='sqrt'` or remove this parameter as it is also the default value for RandomForestClassifiers and ExtraTreesClassifiers.\n",
      "\n",
      "C:\\Users\\vaiv\\Documents\\Git\\ConvAE_LSTM\\.convAE_lstm\\lib\\site-packages\\sklearn\\ensemble\\_forest.py:427: FutureWarning:\n",
      "\n",
      "`max_features='auto'` has been deprecated in 1.1 and will be removed in 1.3. To keep the past behaviour, explicitly set `max_features='sqrt'` or remove this parameter as it is also the default value for RandomForestClassifiers and ExtraTreesClassifiers.\n",
      "\n",
      "C:\\Users\\vaiv\\Documents\\Git\\ConvAE_LSTM\\.convAE_lstm\\lib\\site-packages\\sklearn\\ensemble\\_forest.py:427: FutureWarning:\n",
      "\n",
      "`max_features='auto'` has been deprecated in 1.1 and will be removed in 1.3. To keep the past behaviour, explicitly set `max_features='sqrt'` or remove this parameter as it is also the default value for RandomForestClassifiers and ExtraTreesClassifiers.\n",
      "\n",
      "\u001b[32m[I 2022-10-21 15:23:12,896]\u001b[0m Trial 29 finished with value: 0.9534139402560455 and parameters: {'n_estimators': 185, 'max_depth': 11, 'criterion': 'entropy', 'max_features': 'auto', 'min_samples_leaf': 5}. Best is trial 1 with value: 0.9667496443812233.\u001b[0m\n",
      "C:\\Users\\vaiv\\Documents\\Git\\ConvAE_LSTM\\.convAE_lstm\\lib\\site-packages\\sklearn\\ensemble\\_forest.py:427: FutureWarning:\n",
      "\n",
      "`max_features='auto'` has been deprecated in 1.1 and will be removed in 1.3. To keep the past behaviour, explicitly set `max_features='sqrt'` or remove this parameter as it is also the default value for RandomForestClassifiers and ExtraTreesClassifiers.\n",
      "\n",
      "C:\\Users\\vaiv\\Documents\\Git\\ConvAE_LSTM\\.convAE_lstm\\lib\\site-packages\\sklearn\\ensemble\\_forest.py:427: FutureWarning:\n",
      "\n",
      "`max_features='auto'` has been deprecated in 1.1 and will be removed in 1.3. To keep the past behaviour, explicitly set `max_features='sqrt'` or remove this parameter as it is also the default value for RandomForestClassifiers and ExtraTreesClassifiers.\n",
      "\n",
      "C:\\Users\\vaiv\\Documents\\Git\\ConvAE_LSTM\\.convAE_lstm\\lib\\site-packages\\sklearn\\ensemble\\_forest.py:427: FutureWarning:\n",
      "\n",
      "`max_features='auto'` has been deprecated in 1.1 and will be removed in 1.3. To keep the past behaviour, explicitly set `max_features='sqrt'` or remove this parameter as it is also the default value for RandomForestClassifiers and ExtraTreesClassifiers.\n",
      "\n",
      "C:\\Users\\vaiv\\Documents\\Git\\ConvAE_LSTM\\.convAE_lstm\\lib\\site-packages\\sklearn\\ensemble\\_forest.py:427: FutureWarning:\n",
      "\n",
      "`max_features='auto'` has been deprecated in 1.1 and will be removed in 1.3. To keep the past behaviour, explicitly set `max_features='sqrt'` or remove this parameter as it is also the default value for RandomForestClassifiers and ExtraTreesClassifiers.\n",
      "\n",
      "\u001b[32m[I 2022-10-21 15:23:13,076]\u001b[0m Trial 30 finished with value: 0.9399004267425319 and parameters: {'n_estimators': 33, 'max_depth': 12, 'criterion': 'entropy', 'max_features': 'auto', 'min_samples_leaf': 4}. Best is trial 1 with value: 0.9667496443812233.\u001b[0m\n"
     ]
    },
    {
     "name": "stderr",
     "output_type": "stream",
     "text": [
      "C:\\Users\\vaiv\\Documents\\Git\\ConvAE_LSTM\\.convAE_lstm\\lib\\site-packages\\sklearn\\ensemble\\_forest.py:427: FutureWarning:\n",
      "\n",
      "`max_features='auto'` has been deprecated in 1.1 and will be removed in 1.3. To keep the past behaviour, explicitly set `max_features='sqrt'` or remove this parameter as it is also the default value for RandomForestClassifiers and ExtraTreesClassifiers.\n",
      "\n",
      "C:\\Users\\vaiv\\Documents\\Git\\ConvAE_LSTM\\.convAE_lstm\\lib\\site-packages\\sklearn\\ensemble\\_forest.py:427: FutureWarning:\n",
      "\n",
      "`max_features='auto'` has been deprecated in 1.1 and will be removed in 1.3. To keep the past behaviour, explicitly set `max_features='sqrt'` or remove this parameter as it is also the default value for RandomForestClassifiers and ExtraTreesClassifiers.\n",
      "\n",
      "C:\\Users\\vaiv\\Documents\\Git\\ConvAE_LSTM\\.convAE_lstm\\lib\\site-packages\\sklearn\\ensemble\\_forest.py:427: FutureWarning:\n",
      "\n",
      "`max_features='auto'` has been deprecated in 1.1 and will be removed in 1.3. To keep the past behaviour, explicitly set `max_features='sqrt'` or remove this parameter as it is also the default value for RandomForestClassifiers and ExtraTreesClassifiers.\n",
      "\n",
      "C:\\Users\\vaiv\\Documents\\Git\\ConvAE_LSTM\\.convAE_lstm\\lib\\site-packages\\sklearn\\ensemble\\_forest.py:427: FutureWarning:\n",
      "\n",
      "`max_features='auto'` has been deprecated in 1.1 and will be removed in 1.3. To keep the past behaviour, explicitly set `max_features='sqrt'` or remove this parameter as it is also the default value for RandomForestClassifiers and ExtraTreesClassifiers.\n",
      "\n",
      "\u001b[32m[I 2022-10-21 15:23:13,343]\u001b[0m Trial 31 finished with value: 0.9534139402560455 and parameters: {'n_estimators': 49, 'max_depth': 15, 'criterion': 'entropy', 'max_features': 'auto', 'min_samples_leaf': 5}. Best is trial 1 with value: 0.9667496443812233.\u001b[0m\n",
      "C:\\Users\\vaiv\\Documents\\Git\\ConvAE_LSTM\\.convAE_lstm\\lib\\site-packages\\sklearn\\ensemble\\_forest.py:427: FutureWarning:\n",
      "\n",
      "`max_features='auto'` has been deprecated in 1.1 and will be removed in 1.3. To keep the past behaviour, explicitly set `max_features='sqrt'` or remove this parameter as it is also the default value for RandomForestClassifiers and ExtraTreesClassifiers.\n",
      "\n",
      "C:\\Users\\vaiv\\Documents\\Git\\ConvAE_LSTM\\.convAE_lstm\\lib\\site-packages\\sklearn\\ensemble\\_forest.py:427: FutureWarning:\n",
      "\n",
      "`max_features='auto'` has been deprecated in 1.1 and will be removed in 1.3. To keep the past behaviour, explicitly set `max_features='sqrt'` or remove this parameter as it is also the default value for RandomForestClassifiers and ExtraTreesClassifiers.\n",
      "\n",
      "C:\\Users\\vaiv\\Documents\\Git\\ConvAE_LSTM\\.convAE_lstm\\lib\\site-packages\\sklearn\\ensemble\\_forest.py:427: FutureWarning:\n",
      "\n",
      "`max_features='auto'` has been deprecated in 1.1 and will be removed in 1.3. To keep the past behaviour, explicitly set `max_features='sqrt'` or remove this parameter as it is also the default value for RandomForestClassifiers and ExtraTreesClassifiers.\n",
      "\n",
      "C:\\Users\\vaiv\\Documents\\Git\\ConvAE_LSTM\\.convAE_lstm\\lib\\site-packages\\sklearn\\ensemble\\_forest.py:427: FutureWarning:\n",
      "\n",
      "`max_features='auto'` has been deprecated in 1.1 and will be removed in 1.3. To keep the past behaviour, explicitly set `max_features='sqrt'` or remove this parameter as it is also the default value for RandomForestClassifiers and ExtraTreesClassifiers.\n",
      "\n",
      "\u001b[32m[I 2022-10-21 15:23:13,494]\u001b[0m Trial 32 finished with value: 0.9601706970128022 and parameters: {'n_estimators': 25, 'max_depth': 7, 'criterion': 'entropy', 'max_features': 'auto', 'min_samples_leaf': 5}. Best is trial 1 with value: 0.9667496443812233.\u001b[0m\n",
      "C:\\Users\\vaiv\\Documents\\Git\\ConvAE_LSTM\\.convAE_lstm\\lib\\site-packages\\sklearn\\ensemble\\_forest.py:427: FutureWarning:\n",
      "\n",
      "`max_features='auto'` has been deprecated in 1.1 and will be removed in 1.3. To keep the past behaviour, explicitly set `max_features='sqrt'` or remove this parameter as it is also the default value for RandomForestClassifiers and ExtraTreesClassifiers.\n",
      "\n",
      "C:\\Users\\vaiv\\Documents\\Git\\ConvAE_LSTM\\.convAE_lstm\\lib\\site-packages\\sklearn\\ensemble\\_forest.py:427: FutureWarning:\n",
      "\n",
      "`max_features='auto'` has been deprecated in 1.1 and will be removed in 1.3. To keep the past behaviour, explicitly set `max_features='sqrt'` or remove this parameter as it is also the default value for RandomForestClassifiers and ExtraTreesClassifiers.\n",
      "\n",
      "C:\\Users\\vaiv\\Documents\\Git\\ConvAE_LSTM\\.convAE_lstm\\lib\\site-packages\\sklearn\\ensemble\\_forest.py:427: FutureWarning:\n",
      "\n",
      "`max_features='auto'` has been deprecated in 1.1 and will be removed in 1.3. To keep the past behaviour, explicitly set `max_features='sqrt'` or remove this parameter as it is also the default value for RandomForestClassifiers and ExtraTreesClassifiers.\n",
      "\n",
      "C:\\Users\\vaiv\\Documents\\Git\\ConvAE_LSTM\\.convAE_lstm\\lib\\site-packages\\sklearn\\ensemble\\_forest.py:427: FutureWarning:\n",
      "\n",
      "`max_features='auto'` has been deprecated in 1.1 and will be removed in 1.3. To keep the past behaviour, explicitly set `max_features='sqrt'` or remove this parameter as it is also the default value for RandomForestClassifiers and ExtraTreesClassifiers.\n",
      "\n",
      "\u001b[32m[I 2022-10-21 15:23:13,580]\u001b[0m Trial 33 finished with value: 0.9466571834992887 and parameters: {'n_estimators': 10, 'max_depth': 4, 'criterion': 'entropy', 'max_features': 'auto', 'min_samples_leaf': 5}. Best is trial 1 with value: 0.9667496443812233.\u001b[0m\n",
      "C:\\Users\\vaiv\\Documents\\Git\\ConvAE_LSTM\\.convAE_lstm\\lib\\site-packages\\sklearn\\ensemble\\_forest.py:427: FutureWarning:\n",
      "\n",
      "`max_features='auto'` has been deprecated in 1.1 and will be removed in 1.3. To keep the past behaviour, explicitly set `max_features='sqrt'` or remove this parameter as it is also the default value for RandomForestClassifiers and ExtraTreesClassifiers.\n",
      "\n",
      "C:\\Users\\vaiv\\Documents\\Git\\ConvAE_LSTM\\.convAE_lstm\\lib\\site-packages\\sklearn\\ensemble\\_forest.py:427: FutureWarning:\n",
      "\n",
      "`max_features='auto'` has been deprecated in 1.1 and will be removed in 1.3. To keep the past behaviour, explicitly set `max_features='sqrt'` or remove this parameter as it is also the default value for RandomForestClassifiers and ExtraTreesClassifiers.\n",
      "\n",
      "C:\\Users\\vaiv\\Documents\\Git\\ConvAE_LSTM\\.convAE_lstm\\lib\\site-packages\\sklearn\\ensemble\\_forest.py:427: FutureWarning:\n",
      "\n",
      "`max_features='auto'` has been deprecated in 1.1 and will be removed in 1.3. To keep the past behaviour, explicitly set `max_features='sqrt'` or remove this parameter as it is also the default value for RandomForestClassifiers and ExtraTreesClassifiers.\n",
      "\n",
      "C:\\Users\\vaiv\\Documents\\Git\\ConvAE_LSTM\\.convAE_lstm\\lib\\site-packages\\sklearn\\ensemble\\_forest.py:427: FutureWarning:\n",
      "\n",
      "`max_features='auto'` has been deprecated in 1.1 and will be removed in 1.3. To keep the past behaviour, explicitly set `max_features='sqrt'` or remove this parameter as it is also the default value for RandomForestClassifiers and ExtraTreesClassifiers.\n",
      "\n",
      "\u001b[32m[I 2022-10-21 15:23:14,193]\u001b[0m Trial 34 finished with value: 0.9534139402560455 and parameters: {'n_estimators': 94, 'max_depth': 10, 'criterion': 'entropy', 'max_features': 'auto', 'min_samples_leaf': 6}. Best is trial 1 with value: 0.9667496443812233.\u001b[0m\n",
      "C:\\Users\\vaiv\\Documents\\Git\\ConvAE_LSTM\\.convAE_lstm\\lib\\site-packages\\sklearn\\ensemble\\_forest.py:427: FutureWarning:\n",
      "\n",
      "`max_features='auto'` has been deprecated in 1.1 and will be removed in 1.3. To keep the past behaviour, explicitly set `max_features='sqrt'` or remove this parameter as it is also the default value for RandomForestClassifiers and ExtraTreesClassifiers.\n",
      "\n",
      "C:\\Users\\vaiv\\Documents\\Git\\ConvAE_LSTM\\.convAE_lstm\\lib\\site-packages\\sklearn\\ensemble\\_forest.py:427: FutureWarning:\n",
      "\n",
      "`max_features='auto'` has been deprecated in 1.1 and will be removed in 1.3. To keep the past behaviour, explicitly set `max_features='sqrt'` or remove this parameter as it is also the default value for RandomForestClassifiers and ExtraTreesClassifiers.\n",
      "\n",
      "C:\\Users\\vaiv\\Documents\\Git\\ConvAE_LSTM\\.convAE_lstm\\lib\\site-packages\\sklearn\\ensemble\\_forest.py:427: FutureWarning:\n",
      "\n",
      "`max_features='auto'` has been deprecated in 1.1 and will be removed in 1.3. To keep the past behaviour, explicitly set `max_features='sqrt'` or remove this parameter as it is also the default value for RandomForestClassifiers and ExtraTreesClassifiers.\n",
      "\n",
      "C:\\Users\\vaiv\\Documents\\Git\\ConvAE_LSTM\\.convAE_lstm\\lib\\site-packages\\sklearn\\ensemble\\_forest.py:427: FutureWarning:\n",
      "\n",
      "`max_features='auto'` has been deprecated in 1.1 and will be removed in 1.3. To keep the past behaviour, explicitly set `max_features='sqrt'` or remove this parameter as it is also the default value for RandomForestClassifiers and ExtraTreesClassifiers.\n",
      "\n",
      "\u001b[32m[I 2022-10-21 15:23:14,521]\u001b[0m Trial 35 finished with value: 0.9667496443812233 and parameters: {'n_estimators': 59, 'max_depth': 8, 'criterion': 'entropy', 'max_features': 'auto', 'min_samples_leaf': 4}. Best is trial 1 with value: 0.9667496443812233.\u001b[0m\n"
     ]
    },
    {
     "name": "stderr",
     "output_type": "stream",
     "text": [
      "C:\\Users\\vaiv\\Documents\\Git\\ConvAE_LSTM\\.convAE_lstm\\lib\\site-packages\\sklearn\\ensemble\\_forest.py:427: FutureWarning:\n",
      "\n",
      "`max_features='auto'` has been deprecated in 1.1 and will be removed in 1.3. To keep the past behaviour, explicitly set `max_features='sqrt'` or remove this parameter as it is also the default value for RandomForestClassifiers and ExtraTreesClassifiers.\n",
      "\n",
      "C:\\Users\\vaiv\\Documents\\Git\\ConvAE_LSTM\\.convAE_lstm\\lib\\site-packages\\sklearn\\ensemble\\_forest.py:427: FutureWarning:\n",
      "\n",
      "`max_features='auto'` has been deprecated in 1.1 and will be removed in 1.3. To keep the past behaviour, explicitly set `max_features='sqrt'` or remove this parameter as it is also the default value for RandomForestClassifiers and ExtraTreesClassifiers.\n",
      "\n",
      "C:\\Users\\vaiv\\Documents\\Git\\ConvAE_LSTM\\.convAE_lstm\\lib\\site-packages\\sklearn\\ensemble\\_forest.py:427: FutureWarning:\n",
      "\n",
      "`max_features='auto'` has been deprecated in 1.1 and will be removed in 1.3. To keep the past behaviour, explicitly set `max_features='sqrt'` or remove this parameter as it is also the default value for RandomForestClassifiers and ExtraTreesClassifiers.\n",
      "\n",
      "C:\\Users\\vaiv\\Documents\\Git\\ConvAE_LSTM\\.convAE_lstm\\lib\\site-packages\\sklearn\\ensemble\\_forest.py:427: FutureWarning:\n",
      "\n",
      "`max_features='auto'` has been deprecated in 1.1 and will be removed in 1.3. To keep the past behaviour, explicitly set `max_features='sqrt'` or remove this parameter as it is also the default value for RandomForestClassifiers and ExtraTreesClassifiers.\n",
      "\n",
      "\u001b[32m[I 2022-10-21 15:23:14,901]\u001b[0m Trial 36 finished with value: 0.9667496443812233 and parameters: {'n_estimators': 63, 'max_depth': 8, 'criterion': 'entropy', 'max_features': 'auto', 'min_samples_leaf': 4}. Best is trial 1 with value: 0.9667496443812233.\u001b[0m\n",
      "C:\\Users\\vaiv\\Documents\\Git\\ConvAE_LSTM\\.convAE_lstm\\lib\\site-packages\\sklearn\\ensemble\\_forest.py:427: FutureWarning:\n",
      "\n",
      "`max_features='auto'` has been deprecated in 1.1 and will be removed in 1.3. To keep the past behaviour, explicitly set `max_features='sqrt'` or remove this parameter as it is also the default value for RandomForestClassifiers and ExtraTreesClassifiers.\n",
      "\n",
      "C:\\Users\\vaiv\\Documents\\Git\\ConvAE_LSTM\\.convAE_lstm\\lib\\site-packages\\sklearn\\ensemble\\_forest.py:427: FutureWarning:\n",
      "\n",
      "`max_features='auto'` has been deprecated in 1.1 and will be removed in 1.3. To keep the past behaviour, explicitly set `max_features='sqrt'` or remove this parameter as it is also the default value for RandomForestClassifiers and ExtraTreesClassifiers.\n",
      "\n",
      "C:\\Users\\vaiv\\Documents\\Git\\ConvAE_LSTM\\.convAE_lstm\\lib\\site-packages\\sklearn\\ensemble\\_forest.py:427: FutureWarning:\n",
      "\n",
      "`max_features='auto'` has been deprecated in 1.1 and will be removed in 1.3. To keep the past behaviour, explicitly set `max_features='sqrt'` or remove this parameter as it is also the default value for RandomForestClassifiers and ExtraTreesClassifiers.\n",
      "\n",
      "C:\\Users\\vaiv\\Documents\\Git\\ConvAE_LSTM\\.convAE_lstm\\lib\\site-packages\\sklearn\\ensemble\\_forest.py:427: FutureWarning:\n",
      "\n",
      "`max_features='auto'` has been deprecated in 1.1 and will be removed in 1.3. To keep the past behaviour, explicitly set `max_features='sqrt'` or remove this parameter as it is also the default value for RandomForestClassifiers and ExtraTreesClassifiers.\n",
      "\n",
      "\u001b[32m[I 2022-10-21 15:23:15,279]\u001b[0m Trial 37 finished with value: 0.9599928876244666 and parameters: {'n_estimators': 59, 'max_depth': 8, 'criterion': 'gini', 'max_features': 'auto', 'min_samples_leaf': 4}. Best is trial 1 with value: 0.9667496443812233.\u001b[0m\n",
      "C:\\Users\\vaiv\\Documents\\Git\\ConvAE_LSTM\\.convAE_lstm\\lib\\site-packages\\sklearn\\ensemble\\_forest.py:427: FutureWarning:\n",
      "\n",
      "`max_features='auto'` has been deprecated in 1.1 and will be removed in 1.3. To keep the past behaviour, explicitly set `max_features='sqrt'` or remove this parameter as it is also the default value for RandomForestClassifiers and ExtraTreesClassifiers.\n",
      "\n",
      "C:\\Users\\vaiv\\Documents\\Git\\ConvAE_LSTM\\.convAE_lstm\\lib\\site-packages\\sklearn\\ensemble\\_forest.py:427: FutureWarning:\n",
      "\n",
      "`max_features='auto'` has been deprecated in 1.1 and will be removed in 1.3. To keep the past behaviour, explicitly set `max_features='sqrt'` or remove this parameter as it is also the default value for RandomForestClassifiers and ExtraTreesClassifiers.\n",
      "\n",
      "C:\\Users\\vaiv\\Documents\\Git\\ConvAE_LSTM\\.convAE_lstm\\lib\\site-packages\\sklearn\\ensemble\\_forest.py:427: FutureWarning:\n",
      "\n",
      "`max_features='auto'` has been deprecated in 1.1 and will be removed in 1.3. To keep the past behaviour, explicitly set `max_features='sqrt'` or remove this parameter as it is also the default value for RandomForestClassifiers and ExtraTreesClassifiers.\n",
      "\n",
      "C:\\Users\\vaiv\\Documents\\Git\\ConvAE_LSTM\\.convAE_lstm\\lib\\site-packages\\sklearn\\ensemble\\_forest.py:427: FutureWarning:\n",
      "\n",
      "`max_features='auto'` has been deprecated in 1.1 and will be removed in 1.3. To keep the past behaviour, explicitly set `max_features='sqrt'` or remove this parameter as it is also the default value for RandomForestClassifiers and ExtraTreesClassifiers.\n",
      "\n",
      "\u001b[32m[I 2022-10-21 15:23:15,941]\u001b[0m Trial 38 finished with value: 0.9532361308677098 and parameters: {'n_estimators': 123, 'max_depth': 9, 'criterion': 'entropy', 'max_features': 'auto', 'min_samples_leaf': 4}. Best is trial 1 with value: 0.9667496443812233.\u001b[0m\n",
      "C:\\Users\\vaiv\\Documents\\Git\\ConvAE_LSTM\\.convAE_lstm\\lib\\site-packages\\sklearn\\ensemble\\_forest.py:427: FutureWarning:\n",
      "\n",
      "`max_features='auto'` has been deprecated in 1.1 and will be removed in 1.3. To keep the past behaviour, explicitly set `max_features='sqrt'` or remove this parameter as it is also the default value for RandomForestClassifiers and ExtraTreesClassifiers.\n",
      "\n",
      "C:\\Users\\vaiv\\Documents\\Git\\ConvAE_LSTM\\.convAE_lstm\\lib\\site-packages\\sklearn\\ensemble\\_forest.py:427: FutureWarning:\n",
      "\n",
      "`max_features='auto'` has been deprecated in 1.1 and will be removed in 1.3. To keep the past behaviour, explicitly set `max_features='sqrt'` or remove this parameter as it is also the default value for RandomForestClassifiers and ExtraTreesClassifiers.\n",
      "\n",
      "C:\\Users\\vaiv\\Documents\\Git\\ConvAE_LSTM\\.convAE_lstm\\lib\\site-packages\\sklearn\\ensemble\\_forest.py:427: FutureWarning:\n",
      "\n",
      "`max_features='auto'` has been deprecated in 1.1 and will be removed in 1.3. To keep the past behaviour, explicitly set `max_features='sqrt'` or remove this parameter as it is also the default value for RandomForestClassifiers and ExtraTreesClassifiers.\n",
      "\n",
      "C:\\Users\\vaiv\\Documents\\Git\\ConvAE_LSTM\\.convAE_lstm\\lib\\site-packages\\sklearn\\ensemble\\_forest.py:427: FutureWarning:\n",
      "\n",
      "`max_features='auto'` has been deprecated in 1.1 and will be removed in 1.3. To keep the past behaviour, explicitly set `max_features='sqrt'` or remove this parameter as it is also the default value for RandomForestClassifiers and ExtraTreesClassifiers.\n",
      "\n",
      "\u001b[32m[I 2022-10-21 15:23:16,485]\u001b[0m Trial 39 finished with value: 0.9532361308677098 and parameters: {'n_estimators': 96, 'max_depth': 6, 'criterion': 'entropy', 'max_features': 'auto', 'min_samples_leaf': 4}. Best is trial 1 with value: 0.9667496443812233.\u001b[0m\n",
      "C:\\Users\\vaiv\\Documents\\Git\\ConvAE_LSTM\\.convAE_lstm\\lib\\site-packages\\sklearn\\ensemble\\_forest.py:427: FutureWarning:\n",
      "\n",
      "`max_features='auto'` has been deprecated in 1.1 and will be removed in 1.3. To keep the past behaviour, explicitly set `max_features='sqrt'` or remove this parameter as it is also the default value for RandomForestClassifiers and ExtraTreesClassifiers.\n",
      "\n",
      "C:\\Users\\vaiv\\Documents\\Git\\ConvAE_LSTM\\.convAE_lstm\\lib\\site-packages\\sklearn\\ensemble\\_forest.py:427: FutureWarning:\n",
      "\n",
      "`max_features='auto'` has been deprecated in 1.1 and will be removed in 1.3. To keep the past behaviour, explicitly set `max_features='sqrt'` or remove this parameter as it is also the default value for RandomForestClassifiers and ExtraTreesClassifiers.\n",
      "\n",
      "C:\\Users\\vaiv\\Documents\\Git\\ConvAE_LSTM\\.convAE_lstm\\lib\\site-packages\\sklearn\\ensemble\\_forest.py:427: FutureWarning:\n",
      "\n",
      "`max_features='auto'` has been deprecated in 1.1 and will be removed in 1.3. To keep the past behaviour, explicitly set `max_features='sqrt'` or remove this parameter as it is also the default value for RandomForestClassifiers and ExtraTreesClassifiers.\n",
      "\n",
      "C:\\Users\\vaiv\\Documents\\Git\\ConvAE_LSTM\\.convAE_lstm\\lib\\site-packages\\sklearn\\ensemble\\_forest.py:427: FutureWarning:\n",
      "\n",
      "`max_features='auto'` has been deprecated in 1.1 and will be removed in 1.3. To keep the past behaviour, explicitly set `max_features='sqrt'` or remove this parameter as it is also the default value for RandomForestClassifiers and ExtraTreesClassifiers.\n",
      "\n"
     ]
    },
    {
     "name": "stderr",
     "output_type": "stream",
     "text": [
      "\u001b[32m[I 2022-10-21 15:23:16,883]\u001b[0m Trial 40 finished with value: 0.9532361308677098 and parameters: {'n_estimators': 69, 'max_depth': 8, 'criterion': 'entropy', 'max_features': 'auto', 'min_samples_leaf': 4}. Best is trial 1 with value: 0.9667496443812233.\u001b[0m\n",
      "\u001b[32m[I 2022-10-21 15:23:17,098]\u001b[0m Trial 41 finished with value: 0.9532361308677098 and parameters: {'n_estimators': 41, 'max_depth': 7, 'criterion': 'entropy', 'max_features': 'sqrt', 'min_samples_leaf': 4}. Best is trial 1 with value: 0.9667496443812233.\u001b[0m\n",
      "C:\\Users\\vaiv\\Documents\\Git\\ConvAE_LSTM\\.convAE_lstm\\lib\\site-packages\\sklearn\\ensemble\\_forest.py:427: FutureWarning:\n",
      "\n",
      "`max_features='auto'` has been deprecated in 1.1 and will be removed in 1.3. To keep the past behaviour, explicitly set `max_features='sqrt'` or remove this parameter as it is also the default value for RandomForestClassifiers and ExtraTreesClassifiers.\n",
      "\n",
      "C:\\Users\\vaiv\\Documents\\Git\\ConvAE_LSTM\\.convAE_lstm\\lib\\site-packages\\sklearn\\ensemble\\_forest.py:427: FutureWarning:\n",
      "\n",
      "`max_features='auto'` has been deprecated in 1.1 and will be removed in 1.3. To keep the past behaviour, explicitly set `max_features='sqrt'` or remove this parameter as it is also the default value for RandomForestClassifiers and ExtraTreesClassifiers.\n",
      "\n",
      "C:\\Users\\vaiv\\Documents\\Git\\ConvAE_LSTM\\.convAE_lstm\\lib\\site-packages\\sklearn\\ensemble\\_forest.py:427: FutureWarning:\n",
      "\n",
      "`max_features='auto'` has been deprecated in 1.1 and will be removed in 1.3. To keep the past behaviour, explicitly set `max_features='sqrt'` or remove this parameter as it is also the default value for RandomForestClassifiers and ExtraTreesClassifiers.\n",
      "\n",
      "C:\\Users\\vaiv\\Documents\\Git\\ConvAE_LSTM\\.convAE_lstm\\lib\\site-packages\\sklearn\\ensemble\\_forest.py:427: FutureWarning:\n",
      "\n",
      "`max_features='auto'` has been deprecated in 1.1 and will be removed in 1.3. To keep the past behaviour, explicitly set `max_features='sqrt'` or remove this parameter as it is also the default value for RandomForestClassifiers and ExtraTreesClassifiers.\n",
      "\n",
      "\u001b[32m[I 2022-10-21 15:23:17,475]\u001b[0m Trial 42 finished with value: 0.9667496443812233 and parameters: {'n_estimators': 75, 'max_depth': 10, 'criterion': 'gini', 'max_features': 'auto', 'min_samples_leaf': 7}. Best is trial 1 with value: 0.9667496443812233.\u001b[0m\n",
      "C:\\Users\\vaiv\\Documents\\Git\\ConvAE_LSTM\\.convAE_lstm\\lib\\site-packages\\sklearn\\ensemble\\_forest.py:427: FutureWarning:\n",
      "\n",
      "`max_features='auto'` has been deprecated in 1.1 and will be removed in 1.3. To keep the past behaviour, explicitly set `max_features='sqrt'` or remove this parameter as it is also the default value for RandomForestClassifiers and ExtraTreesClassifiers.\n",
      "\n",
      "C:\\Users\\vaiv\\Documents\\Git\\ConvAE_LSTM\\.convAE_lstm\\lib\\site-packages\\sklearn\\ensemble\\_forest.py:427: FutureWarning:\n",
      "\n",
      "`max_features='auto'` has been deprecated in 1.1 and will be removed in 1.3. To keep the past behaviour, explicitly set `max_features='sqrt'` or remove this parameter as it is also the default value for RandomForestClassifiers and ExtraTreesClassifiers.\n",
      "\n",
      "C:\\Users\\vaiv\\Documents\\Git\\ConvAE_LSTM\\.convAE_lstm\\lib\\site-packages\\sklearn\\ensemble\\_forest.py:427: FutureWarning:\n",
      "\n",
      "`max_features='auto'` has been deprecated in 1.1 and will be removed in 1.3. To keep the past behaviour, explicitly set `max_features='sqrt'` or remove this parameter as it is also the default value for RandomForestClassifiers and ExtraTreesClassifiers.\n",
      "\n",
      "C:\\Users\\vaiv\\Documents\\Git\\ConvAE_LSTM\\.convAE_lstm\\lib\\site-packages\\sklearn\\ensemble\\_forest.py:427: FutureWarning:\n",
      "\n",
      "`max_features='auto'` has been deprecated in 1.1 and will be removed in 1.3. To keep the past behaviour, explicitly set `max_features='sqrt'` or remove this parameter as it is also the default value for RandomForestClassifiers and ExtraTreesClassifiers.\n",
      "\n",
      "\u001b[32m[I 2022-10-21 15:23:17,802]\u001b[0m Trial 43 finished with value: 0.9601706970128022 and parameters: {'n_estimators': 59, 'max_depth': 12, 'criterion': 'entropy', 'max_features': 'auto', 'min_samples_leaf': 8}. Best is trial 1 with value: 0.9667496443812233.\u001b[0m\n",
      "C:\\Users\\vaiv\\Documents\\Git\\ConvAE_LSTM\\.convAE_lstm\\lib\\site-packages\\sklearn\\ensemble\\_forest.py:427: FutureWarning:\n",
      "\n",
      "`max_features='auto'` has been deprecated in 1.1 and will be removed in 1.3. To keep the past behaviour, explicitly set `max_features='sqrt'` or remove this parameter as it is also the default value for RandomForestClassifiers and ExtraTreesClassifiers.\n",
      "\n",
      "C:\\Users\\vaiv\\Documents\\Git\\ConvAE_LSTM\\.convAE_lstm\\lib\\site-packages\\sklearn\\ensemble\\_forest.py:427: FutureWarning:\n",
      "\n",
      "`max_features='auto'` has been deprecated in 1.1 and will be removed in 1.3. To keep the past behaviour, explicitly set `max_features='sqrt'` or remove this parameter as it is also the default value for RandomForestClassifiers and ExtraTreesClassifiers.\n",
      "\n",
      "C:\\Users\\vaiv\\Documents\\Git\\ConvAE_LSTM\\.convAE_lstm\\lib\\site-packages\\sklearn\\ensemble\\_forest.py:427: FutureWarning:\n",
      "\n",
      "`max_features='auto'` has been deprecated in 1.1 and will be removed in 1.3. To keep the past behaviour, explicitly set `max_features='sqrt'` or remove this parameter as it is also the default value for RandomForestClassifiers and ExtraTreesClassifiers.\n",
      "\n",
      "C:\\Users\\vaiv\\Documents\\Git\\ConvAE_LSTM\\.convAE_lstm\\lib\\site-packages\\sklearn\\ensemble\\_forest.py:427: FutureWarning:\n",
      "\n",
      "`max_features='auto'` has been deprecated in 1.1 and will be removed in 1.3. To keep the past behaviour, explicitly set `max_features='sqrt'` or remove this parameter as it is also the default value for RandomForestClassifiers and ExtraTreesClassifiers.\n",
      "\n",
      "\u001b[32m[I 2022-10-21 15:23:18,230]\u001b[0m Trial 44 finished with value: 0.9667496443812233 and parameters: {'n_estimators': 74, 'max_depth': 10, 'criterion': 'gini', 'max_features': 'auto', 'min_samples_leaf': 7}. Best is trial 1 with value: 0.9667496443812233.\u001b[0m\n",
      "C:\\Users\\vaiv\\Documents\\Git\\ConvAE_LSTM\\.convAE_lstm\\lib\\site-packages\\sklearn\\ensemble\\_forest.py:427: FutureWarning:\n",
      "\n",
      "`max_features='auto'` has been deprecated in 1.1 and will be removed in 1.3. To keep the past behaviour, explicitly set `max_features='sqrt'` or remove this parameter as it is also the default value for RandomForestClassifiers and ExtraTreesClassifiers.\n",
      "\n",
      "C:\\Users\\vaiv\\Documents\\Git\\ConvAE_LSTM\\.convAE_lstm\\lib\\site-packages\\sklearn\\ensemble\\_forest.py:427: FutureWarning:\n",
      "\n",
      "`max_features='auto'` has been deprecated in 1.1 and will be removed in 1.3. To keep the past behaviour, explicitly set `max_features='sqrt'` or remove this parameter as it is also the default value for RandomForestClassifiers and ExtraTreesClassifiers.\n",
      "\n",
      "C:\\Users\\vaiv\\Documents\\Git\\ConvAE_LSTM\\.convAE_lstm\\lib\\site-packages\\sklearn\\ensemble\\_forest.py:427: FutureWarning:\n",
      "\n",
      "`max_features='auto'` has been deprecated in 1.1 and will be removed in 1.3. To keep the past behaviour, explicitly set `max_features='sqrt'` or remove this parameter as it is also the default value for RandomForestClassifiers and ExtraTreesClassifiers.\n",
      "\n",
      "C:\\Users\\vaiv\\Documents\\Git\\ConvAE_LSTM\\.convAE_lstm\\lib\\site-packages\\sklearn\\ensemble\\_forest.py:427: FutureWarning:\n",
      "\n",
      "`max_features='auto'` has been deprecated in 1.1 and will be removed in 1.3. To keep the past behaviour, explicitly set `max_features='sqrt'` or remove this parameter as it is also the default value for RandomForestClassifiers and ExtraTreesClassifiers.\n",
      "\n",
      "\u001b[32m[I 2022-10-21 15:23:18,958]\u001b[0m Trial 45 finished with value: 0.9667496443812233 and parameters: {'n_estimators': 110, 'max_depth': 10, 'criterion': 'gini', 'max_features': 'auto', 'min_samples_leaf': 7}. Best is trial 1 with value: 0.9667496443812233.\u001b[0m\n",
      "C:\\Users\\vaiv\\Documents\\Git\\ConvAE_LSTM\\.convAE_lstm\\lib\\site-packages\\sklearn\\ensemble\\_forest.py:427: FutureWarning:\n",
      "\n",
      "`max_features='auto'` has been deprecated in 1.1 and will be removed in 1.3. To keep the past behaviour, explicitly set `max_features='sqrt'` or remove this parameter as it is also the default value for RandomForestClassifiers and ExtraTreesClassifiers.\n",
      "\n",
      "C:\\Users\\vaiv\\Documents\\Git\\ConvAE_LSTM\\.convAE_lstm\\lib\\site-packages\\sklearn\\ensemble\\_forest.py:427: FutureWarning:\n",
      "\n",
      "`max_features='auto'` has been deprecated in 1.1 and will be removed in 1.3. To keep the past behaviour, explicitly set `max_features='sqrt'` or remove this parameter as it is also the default value for RandomForestClassifiers and ExtraTreesClassifiers.\n",
      "\n"
     ]
    },
    {
     "name": "stderr",
     "output_type": "stream",
     "text": [
      "C:\\Users\\vaiv\\Documents\\Git\\ConvAE_LSTM\\.convAE_lstm\\lib\\site-packages\\sklearn\\ensemble\\_forest.py:427: FutureWarning:\n",
      "\n",
      "`max_features='auto'` has been deprecated in 1.1 and will be removed in 1.3. To keep the past behaviour, explicitly set `max_features='sqrt'` or remove this parameter as it is also the default value for RandomForestClassifiers and ExtraTreesClassifiers.\n",
      "\n",
      "C:\\Users\\vaiv\\Documents\\Git\\ConvAE_LSTM\\.convAE_lstm\\lib\\site-packages\\sklearn\\ensemble\\_forest.py:427: FutureWarning:\n",
      "\n",
      "`max_features='auto'` has been deprecated in 1.1 and will be removed in 1.3. To keep the past behaviour, explicitly set `max_features='sqrt'` or remove this parameter as it is also the default value for RandomForestClassifiers and ExtraTreesClassifiers.\n",
      "\n",
      "\u001b[32m[I 2022-10-21 15:23:19,686]\u001b[0m Trial 46 finished with value: 0.9534139402560455 and parameters: {'n_estimators': 137, 'max_depth': 11, 'criterion': 'gini', 'max_features': 'auto', 'min_samples_leaf': 7}. Best is trial 1 with value: 0.9667496443812233.\u001b[0m\n",
      "\u001b[32m[I 2022-10-21 15:23:19,817]\u001b[0m Trial 47 finished with value: 0.9601706970128022 and parameters: {'n_estimators': 24, 'max_depth': 8, 'criterion': 'entropy', 'max_features': 'sqrt', 'min_samples_leaf': 5}. Best is trial 1 with value: 0.9667496443812233.\u001b[0m\n",
      "\u001b[32m[I 2022-10-21 15:23:20,137]\u001b[0m Trial 48 finished with value: 0.9599928876244666 and parameters: {'n_estimators': 55, 'max_depth': 9, 'criterion': 'gini', 'max_features': 'sqrt', 'min_samples_leaf': 8}. Best is trial 1 with value: 0.9667496443812233.\u001b[0m\n",
      "\u001b[32m[I 2022-10-21 15:23:20,642]\u001b[0m Trial 49 finished with value: 0.9534139402560455 and parameters: {'n_estimators': 108, 'max_depth': 10, 'criterion': 'gini', 'max_features': 'sqrt', 'min_samples_leaf': 7}. Best is trial 1 with value: 0.9667496443812233.\u001b[0m\n",
      "C:\\Users\\vaiv\\Documents\\Git\\ConvAE_LSTM\\.convAE_lstm\\lib\\site-packages\\sklearn\\ensemble\\_forest.py:427: FutureWarning:\n",
      "\n",
      "`max_features='auto'` has been deprecated in 1.1 and will be removed in 1.3. To keep the past behaviour, explicitly set `max_features='sqrt'` or remove this parameter as it is also the default value for RandomForestClassifiers and ExtraTreesClassifiers.\n",
      "\n",
      "C:\\Users\\vaiv\\Documents\\Git\\ConvAE_LSTM\\.convAE_lstm\\lib\\site-packages\\sklearn\\ensemble\\_forest.py:427: FutureWarning:\n",
      "\n",
      "`max_features='auto'` has been deprecated in 1.1 and will be removed in 1.3. To keep the past behaviour, explicitly set `max_features='sqrt'` or remove this parameter as it is also the default value for RandomForestClassifiers and ExtraTreesClassifiers.\n",
      "\n",
      "C:\\Users\\vaiv\\Documents\\Git\\ConvAE_LSTM\\.convAE_lstm\\lib\\site-packages\\sklearn\\ensemble\\_forest.py:427: FutureWarning:\n",
      "\n",
      "`max_features='auto'` has been deprecated in 1.1 and will be removed in 1.3. To keep the past behaviour, explicitly set `max_features='sqrt'` or remove this parameter as it is also the default value for RandomForestClassifiers and ExtraTreesClassifiers.\n",
      "\n",
      "C:\\Users\\vaiv\\Documents\\Git\\ConvAE_LSTM\\.convAE_lstm\\lib\\site-packages\\sklearn\\ensemble\\_forest.py:427: FutureWarning:\n",
      "\n",
      "`max_features='auto'` has been deprecated in 1.1 and will be removed in 1.3. To keep the past behaviour, explicitly set `max_features='sqrt'` or remove this parameter as it is also the default value for RandomForestClassifiers and ExtraTreesClassifiers.\n",
      "\n",
      "\u001b[32m[I 2022-10-21 15:23:21,030]\u001b[0m Trial 50 finished with value: 0.9466571834992887 and parameters: {'n_estimators': 76, 'max_depth': 11, 'criterion': 'gini', 'max_features': 'auto', 'min_samples_leaf': 7}. Best is trial 1 with value: 0.9667496443812233.\u001b[0m\n",
      "C:\\Users\\vaiv\\Documents\\Git\\ConvAE_LSTM\\.convAE_lstm\\lib\\site-packages\\sklearn\\ensemble\\_forest.py:427: FutureWarning:\n",
      "\n",
      "`max_features='auto'` has been deprecated in 1.1 and will be removed in 1.3. To keep the past behaviour, explicitly set `max_features='sqrt'` or remove this parameter as it is also the default value for RandomForestClassifiers and ExtraTreesClassifiers.\n",
      "\n",
      "C:\\Users\\vaiv\\Documents\\Git\\ConvAE_LSTM\\.convAE_lstm\\lib\\site-packages\\sklearn\\ensemble\\_forest.py:427: FutureWarning:\n",
      "\n",
      "`max_features='auto'` has been deprecated in 1.1 and will be removed in 1.3. To keep the past behaviour, explicitly set `max_features='sqrt'` or remove this parameter as it is also the default value for RandomForestClassifiers and ExtraTreesClassifiers.\n",
      "\n",
      "C:\\Users\\vaiv\\Documents\\Git\\ConvAE_LSTM\\.convAE_lstm\\lib\\site-packages\\sklearn\\ensemble\\_forest.py:427: FutureWarning:\n",
      "\n",
      "`max_features='auto'` has been deprecated in 1.1 and will be removed in 1.3. To keep the past behaviour, explicitly set `max_features='sqrt'` or remove this parameter as it is also the default value for RandomForestClassifiers and ExtraTreesClassifiers.\n",
      "\n",
      "C:\\Users\\vaiv\\Documents\\Git\\ConvAE_LSTM\\.convAE_lstm\\lib\\site-packages\\sklearn\\ensemble\\_forest.py:427: FutureWarning:\n",
      "\n",
      "`max_features='auto'` has been deprecated in 1.1 and will be removed in 1.3. To keep the past behaviour, explicitly set `max_features='sqrt'` or remove this parameter as it is also the default value for RandomForestClassifiers and ExtraTreesClassifiers.\n",
      "\n",
      "\u001b[32m[I 2022-10-21 15:23:21,606]\u001b[0m Trial 51 finished with value: 0.9599928876244666 and parameters: {'n_estimators': 113, 'max_depth': 14, 'criterion': 'gini', 'max_features': 'auto', 'min_samples_leaf': 7}. Best is trial 1 with value: 0.9667496443812233.\u001b[0m\n",
      "C:\\Users\\vaiv\\Documents\\Git\\ConvAE_LSTM\\.convAE_lstm\\lib\\site-packages\\sklearn\\ensemble\\_forest.py:427: FutureWarning:\n",
      "\n",
      "`max_features='auto'` has been deprecated in 1.1 and will be removed in 1.3. To keep the past behaviour, explicitly set `max_features='sqrt'` or remove this parameter as it is also the default value for RandomForestClassifiers and ExtraTreesClassifiers.\n",
      "\n",
      "C:\\Users\\vaiv\\Documents\\Git\\ConvAE_LSTM\\.convAE_lstm\\lib\\site-packages\\sklearn\\ensemble\\_forest.py:427: FutureWarning:\n",
      "\n",
      "`max_features='auto'` has been deprecated in 1.1 and will be removed in 1.3. To keep the past behaviour, explicitly set `max_features='sqrt'` or remove this parameter as it is also the default value for RandomForestClassifiers and ExtraTreesClassifiers.\n",
      "\n",
      "C:\\Users\\vaiv\\Documents\\Git\\ConvAE_LSTM\\.convAE_lstm\\lib\\site-packages\\sklearn\\ensemble\\_forest.py:427: FutureWarning:\n",
      "\n",
      "`max_features='auto'` has been deprecated in 1.1 and will be removed in 1.3. To keep the past behaviour, explicitly set `max_features='sqrt'` or remove this parameter as it is also the default value for RandomForestClassifiers and ExtraTreesClassifiers.\n",
      "\n",
      "C:\\Users\\vaiv\\Documents\\Git\\ConvAE_LSTM\\.convAE_lstm\\lib\\site-packages\\sklearn\\ensemble\\_forest.py:427: FutureWarning:\n",
      "\n",
      "`max_features='auto'` has been deprecated in 1.1 and will be removed in 1.3. To keep the past behaviour, explicitly set `max_features='sqrt'` or remove this parameter as it is also the default value for RandomForestClassifiers and ExtraTreesClassifiers.\n",
      "\n",
      "\u001b[32m[I 2022-10-21 15:23:22,153]\u001b[0m Trial 52 finished with value: 0.9534139402560455 and parameters: {'n_estimators': 100, 'max_depth': 10, 'criterion': 'gini', 'max_features': 'auto', 'min_samples_leaf': 7}. Best is trial 1 with value: 0.9667496443812233.\u001b[0m\n",
      "C:\\Users\\vaiv\\Documents\\Git\\ConvAE_LSTM\\.convAE_lstm\\lib\\site-packages\\sklearn\\ensemble\\_forest.py:427: FutureWarning:\n",
      "\n",
      "`max_features='auto'` has been deprecated in 1.1 and will be removed in 1.3. To keep the past behaviour, explicitly set `max_features='sqrt'` or remove this parameter as it is also the default value for RandomForestClassifiers and ExtraTreesClassifiers.\n",
      "\n",
      "C:\\Users\\vaiv\\Documents\\Git\\ConvAE_LSTM\\.convAE_lstm\\lib\\site-packages\\sklearn\\ensemble\\_forest.py:427: FutureWarning:\n",
      "\n",
      "`max_features='auto'` has been deprecated in 1.1 and will be removed in 1.3. To keep the past behaviour, explicitly set `max_features='sqrt'` or remove this parameter as it is also the default value for RandomForestClassifiers and ExtraTreesClassifiers.\n",
      "\n",
      "C:\\Users\\vaiv\\Documents\\Git\\ConvAE_LSTM\\.convAE_lstm\\lib\\site-packages\\sklearn\\ensemble\\_forest.py:427: FutureWarning:\n",
      "\n",
      "`max_features='auto'` has been deprecated in 1.1 and will be removed in 1.3. To keep the past behaviour, explicitly set `max_features='sqrt'` or remove this parameter as it is also the default value for RandomForestClassifiers and ExtraTreesClassifiers.\n",
      "\n"
     ]
    },
    {
     "name": "stderr",
     "output_type": "stream",
     "text": [
      "C:\\Users\\vaiv\\Documents\\Git\\ConvAE_LSTM\\.convAE_lstm\\lib\\site-packages\\sklearn\\ensemble\\_forest.py:427: FutureWarning:\n",
      "\n",
      "`max_features='auto'` has been deprecated in 1.1 and will be removed in 1.3. To keep the past behaviour, explicitly set `max_features='sqrt'` or remove this parameter as it is also the default value for RandomForestClassifiers and ExtraTreesClassifiers.\n",
      "\n",
      "\u001b[32m[I 2022-10-21 15:23:22,556]\u001b[0m Trial 53 finished with value: 0.9466571834992887 and parameters: {'n_estimators': 76, 'max_depth': 11, 'criterion': 'gini', 'max_features': 'auto', 'min_samples_leaf': 8}. Best is trial 1 with value: 0.9667496443812233.\u001b[0m\n",
      "C:\\Users\\vaiv\\Documents\\Git\\ConvAE_LSTM\\.convAE_lstm\\lib\\site-packages\\sklearn\\ensemble\\_forest.py:427: FutureWarning:\n",
      "\n",
      "`max_features='auto'` has been deprecated in 1.1 and will be removed in 1.3. To keep the past behaviour, explicitly set `max_features='sqrt'` or remove this parameter as it is also the default value for RandomForestClassifiers and ExtraTreesClassifiers.\n",
      "\n",
      "C:\\Users\\vaiv\\Documents\\Git\\ConvAE_LSTM\\.convAE_lstm\\lib\\site-packages\\sklearn\\ensemble\\_forest.py:427: FutureWarning:\n",
      "\n",
      "`max_features='auto'` has been deprecated in 1.1 and will be removed in 1.3. To keep the past behaviour, explicitly set `max_features='sqrt'` or remove this parameter as it is also the default value for RandomForestClassifiers and ExtraTreesClassifiers.\n",
      "\n",
      "C:\\Users\\vaiv\\Documents\\Git\\ConvAE_LSTM\\.convAE_lstm\\lib\\site-packages\\sklearn\\ensemble\\_forest.py:427: FutureWarning:\n",
      "\n",
      "`max_features='auto'` has been deprecated in 1.1 and will be removed in 1.3. To keep the past behaviour, explicitly set `max_features='sqrt'` or remove this parameter as it is also the default value for RandomForestClassifiers and ExtraTreesClassifiers.\n",
      "\n",
      "C:\\Users\\vaiv\\Documents\\Git\\ConvAE_LSTM\\.convAE_lstm\\lib\\site-packages\\sklearn\\ensemble\\_forest.py:427: FutureWarning:\n",
      "\n",
      "`max_features='auto'` has been deprecated in 1.1 and will be removed in 1.3. To keep the past behaviour, explicitly set `max_features='sqrt'` or remove this parameter as it is also the default value for RandomForestClassifiers and ExtraTreesClassifiers.\n",
      "\n",
      "\u001b[32m[I 2022-10-21 15:23:23,027]\u001b[0m Trial 54 finished with value: 0.9466571834992887 and parameters: {'n_estimators': 89, 'max_depth': 9, 'criterion': 'entropy', 'max_features': 'auto', 'min_samples_leaf': 6}. Best is trial 1 with value: 0.9667496443812233.\u001b[0m\n",
      "C:\\Users\\vaiv\\Documents\\Git\\ConvAE_LSTM\\.convAE_lstm\\lib\\site-packages\\sklearn\\ensemble\\_forest.py:427: FutureWarning:\n",
      "\n",
      "`max_features='auto'` has been deprecated in 1.1 and will be removed in 1.3. To keep the past behaviour, explicitly set `max_features='sqrt'` or remove this parameter as it is also the default value for RandomForestClassifiers and ExtraTreesClassifiers.\n",
      "\n",
      "C:\\Users\\vaiv\\Documents\\Git\\ConvAE_LSTM\\.convAE_lstm\\lib\\site-packages\\sklearn\\ensemble\\_forest.py:427: FutureWarning:\n",
      "\n",
      "`max_features='auto'` has been deprecated in 1.1 and will be removed in 1.3. To keep the past behaviour, explicitly set `max_features='sqrt'` or remove this parameter as it is also the default value for RandomForestClassifiers and ExtraTreesClassifiers.\n",
      "\n",
      "C:\\Users\\vaiv\\Documents\\Git\\ConvAE_LSTM\\.convAE_lstm\\lib\\site-packages\\sklearn\\ensemble\\_forest.py:427: FutureWarning:\n",
      "\n",
      "`max_features='auto'` has been deprecated in 1.1 and will be removed in 1.3. To keep the past behaviour, explicitly set `max_features='sqrt'` or remove this parameter as it is also the default value for RandomForestClassifiers and ExtraTreesClassifiers.\n",
      "\n",
      "C:\\Users\\vaiv\\Documents\\Git\\ConvAE_LSTM\\.convAE_lstm\\lib\\site-packages\\sklearn\\ensemble\\_forest.py:427: FutureWarning:\n",
      "\n",
      "`max_features='auto'` has been deprecated in 1.1 and will be removed in 1.3. To keep the past behaviour, explicitly set `max_features='sqrt'` or remove this parameter as it is also the default value for RandomForestClassifiers and ExtraTreesClassifiers.\n",
      "\n",
      "\u001b[32m[I 2022-10-21 15:23:23,248]\u001b[0m Trial 55 finished with value: 0.9601706970128022 and parameters: {'n_estimators': 40, 'max_depth': 8, 'criterion': 'entropy', 'max_features': 'auto', 'min_samples_leaf': 6}. Best is trial 1 with value: 0.9667496443812233.\u001b[0m\n",
      "\u001b[32m[I 2022-10-21 15:23:24,056]\u001b[0m Trial 56 finished with value: 0.9532361308677098 and parameters: {'n_estimators': 136, 'max_depth': 6, 'criterion': 'entropy', 'max_features': 'sqrt', 'min_samples_leaf': 4}. Best is trial 1 with value: 0.9667496443812233.\u001b[0m\n",
      "C:\\Users\\vaiv\\Documents\\Git\\ConvAE_LSTM\\.convAE_lstm\\lib\\site-packages\\sklearn\\ensemble\\_forest.py:427: FutureWarning:\n",
      "\n",
      "`max_features='auto'` has been deprecated in 1.1 and will be removed in 1.3. To keep the past behaviour, explicitly set `max_features='sqrt'` or remove this parameter as it is also the default value for RandomForestClassifiers and ExtraTreesClassifiers.\n",
      "\n",
      "C:\\Users\\vaiv\\Documents\\Git\\ConvAE_LSTM\\.convAE_lstm\\lib\\site-packages\\sklearn\\ensemble\\_forest.py:427: FutureWarning:\n",
      "\n",
      "`max_features='auto'` has been deprecated in 1.1 and will be removed in 1.3. To keep the past behaviour, explicitly set `max_features='sqrt'` or remove this parameter as it is also the default value for RandomForestClassifiers and ExtraTreesClassifiers.\n",
      "\n",
      "C:\\Users\\vaiv\\Documents\\Git\\ConvAE_LSTM\\.convAE_lstm\\lib\\site-packages\\sklearn\\ensemble\\_forest.py:427: FutureWarning:\n",
      "\n",
      "`max_features='auto'` has been deprecated in 1.1 and will be removed in 1.3. To keep the past behaviour, explicitly set `max_features='sqrt'` or remove this parameter as it is also the default value for RandomForestClassifiers and ExtraTreesClassifiers.\n",
      "\n",
      "C:\\Users\\vaiv\\Documents\\Git\\ConvAE_LSTM\\.convAE_lstm\\lib\\site-packages\\sklearn\\ensemble\\_forest.py:427: FutureWarning:\n",
      "\n",
      "`max_features='auto'` has been deprecated in 1.1 and will be removed in 1.3. To keep the past behaviour, explicitly set `max_features='sqrt'` or remove this parameter as it is also the default value for RandomForestClassifiers and ExtraTreesClassifiers.\n",
      "\n",
      "\u001b[32m[I 2022-10-21 15:23:24,433]\u001b[0m Trial 57 finished with value: 0.9466571834992887 and parameters: {'n_estimators': 65, 'max_depth': 4, 'criterion': 'entropy', 'max_features': 'auto', 'min_samples_leaf': 4}. Best is trial 1 with value: 0.9667496443812233.\u001b[0m\n",
      "C:\\Users\\vaiv\\Documents\\Git\\ConvAE_LSTM\\.convAE_lstm\\lib\\site-packages\\sklearn\\ensemble\\_forest.py:427: FutureWarning:\n",
      "\n",
      "`max_features='auto'` has been deprecated in 1.1 and will be removed in 1.3. To keep the past behaviour, explicitly set `max_features='sqrt'` or remove this parameter as it is also the default value for RandomForestClassifiers and ExtraTreesClassifiers.\n",
      "\n",
      "C:\\Users\\vaiv\\Documents\\Git\\ConvAE_LSTM\\.convAE_lstm\\lib\\site-packages\\sklearn\\ensemble\\_forest.py:427: FutureWarning:\n",
      "\n",
      "`max_features='auto'` has been deprecated in 1.1 and will be removed in 1.3. To keep the past behaviour, explicitly set `max_features='sqrt'` or remove this parameter as it is also the default value for RandomForestClassifiers and ExtraTreesClassifiers.\n",
      "\n",
      "C:\\Users\\vaiv\\Documents\\Git\\ConvAE_LSTM\\.convAE_lstm\\lib\\site-packages\\sklearn\\ensemble\\_forest.py:427: FutureWarning:\n",
      "\n",
      "`max_features='auto'` has been deprecated in 1.1 and will be removed in 1.3. To keep the past behaviour, explicitly set `max_features='sqrt'` or remove this parameter as it is also the default value for RandomForestClassifiers and ExtraTreesClassifiers.\n",
      "\n",
      "C:\\Users\\vaiv\\Documents\\Git\\ConvAE_LSTM\\.convAE_lstm\\lib\\site-packages\\sklearn\\ensemble\\_forest.py:427: FutureWarning:\n",
      "\n",
      "`max_features='auto'` has been deprecated in 1.1 and will be removed in 1.3. To keep the past behaviour, explicitly set `max_features='sqrt'` or remove this parameter as it is also the default value for RandomForestClassifiers and ExtraTreesClassifiers.\n",
      "\n",
      "\u001b[32m[I 2022-10-21 15:23:24,702]\u001b[0m Trial 58 finished with value: 0.9466571834992887 and parameters: {'n_estimators': 45, 'max_depth': 3, 'criterion': 'gini', 'max_features': 'auto', 'min_samples_leaf': 6}. Best is trial 1 with value: 0.9667496443812233.\u001b[0m\n",
      "\u001b[32m[I 2022-10-21 15:23:24,902]\u001b[0m Trial 59 finished with value: 0.9599928876244666 and parameters: {'n_estimators': 33, 'max_depth': 13, 'criterion': 'entropy', 'max_features': 'sqrt', 'min_samples_leaf': 5}. Best is trial 1 with value: 0.9667496443812233.\u001b[0m\n"
     ]
    },
    {
     "name": "stderr",
     "output_type": "stream",
     "text": [
      "C:\\Users\\vaiv\\Documents\\Git\\ConvAE_LSTM\\.convAE_lstm\\lib\\site-packages\\sklearn\\ensemble\\_forest.py:427: FutureWarning:\n",
      "\n",
      "`max_features='auto'` has been deprecated in 1.1 and will be removed in 1.3. To keep the past behaviour, explicitly set `max_features='sqrt'` or remove this parameter as it is also the default value for RandomForestClassifiers and ExtraTreesClassifiers.\n",
      "\n",
      "C:\\Users\\vaiv\\Documents\\Git\\ConvAE_LSTM\\.convAE_lstm\\lib\\site-packages\\sklearn\\ensemble\\_forest.py:427: FutureWarning:\n",
      "\n",
      "`max_features='auto'` has been deprecated in 1.1 and will be removed in 1.3. To keep the past behaviour, explicitly set `max_features='sqrt'` or remove this parameter as it is also the default value for RandomForestClassifiers and ExtraTreesClassifiers.\n",
      "\n",
      "C:\\Users\\vaiv\\Documents\\Git\\ConvAE_LSTM\\.convAE_lstm\\lib\\site-packages\\sklearn\\ensemble\\_forest.py:427: FutureWarning:\n",
      "\n",
      "`max_features='auto'` has been deprecated in 1.1 and will be removed in 1.3. To keep the past behaviour, explicitly set `max_features='sqrt'` or remove this parameter as it is also the default value for RandomForestClassifiers and ExtraTreesClassifiers.\n",
      "\n",
      "C:\\Users\\vaiv\\Documents\\Git\\ConvAE_LSTM\\.convAE_lstm\\lib\\site-packages\\sklearn\\ensemble\\_forest.py:427: FutureWarning:\n",
      "\n",
      "`max_features='auto'` has been deprecated in 1.1 and will be removed in 1.3. To keep the past behaviour, explicitly set `max_features='sqrt'` or remove this parameter as it is also the default value for RandomForestClassifiers and ExtraTreesClassifiers.\n",
      "\n",
      "\u001b[32m[I 2022-10-21 15:23:25,430]\u001b[0m Trial 60 finished with value: 0.9532361308677098 and parameters: {'n_estimators': 80, 'max_depth': 5, 'criterion': 'gini', 'max_features': 'auto', 'min_samples_leaf': 4}. Best is trial 1 with value: 0.9667496443812233.\u001b[0m\n",
      "C:\\Users\\vaiv\\Documents\\Git\\ConvAE_LSTM\\.convAE_lstm\\lib\\site-packages\\sklearn\\ensemble\\_forest.py:427: FutureWarning:\n",
      "\n",
      "`max_features='auto'` has been deprecated in 1.1 and will be removed in 1.3. To keep the past behaviour, explicitly set `max_features='sqrt'` or remove this parameter as it is also the default value for RandomForestClassifiers and ExtraTreesClassifiers.\n",
      "\n",
      "C:\\Users\\vaiv\\Documents\\Git\\ConvAE_LSTM\\.convAE_lstm\\lib\\site-packages\\sklearn\\ensemble\\_forest.py:427: FutureWarning:\n",
      "\n",
      "`max_features='auto'` has been deprecated in 1.1 and will be removed in 1.3. To keep the past behaviour, explicitly set `max_features='sqrt'` or remove this parameter as it is also the default value for RandomForestClassifiers and ExtraTreesClassifiers.\n",
      "\n",
      "C:\\Users\\vaiv\\Documents\\Git\\ConvAE_LSTM\\.convAE_lstm\\lib\\site-packages\\sklearn\\ensemble\\_forest.py:427: FutureWarning:\n",
      "\n",
      "`max_features='auto'` has been deprecated in 1.1 and will be removed in 1.3. To keep the past behaviour, explicitly set `max_features='sqrt'` or remove this parameter as it is also the default value for RandomForestClassifiers and ExtraTreesClassifiers.\n",
      "\n",
      "C:\\Users\\vaiv\\Documents\\Git\\ConvAE_LSTM\\.convAE_lstm\\lib\\site-packages\\sklearn\\ensemble\\_forest.py:427: FutureWarning:\n",
      "\n",
      "`max_features='auto'` has been deprecated in 1.1 and will be removed in 1.3. To keep the past behaviour, explicitly set `max_features='sqrt'` or remove this parameter as it is also the default value for RandomForestClassifiers and ExtraTreesClassifiers.\n",
      "\n",
      "\u001b[32m[I 2022-10-21 15:23:25,579]\u001b[0m Trial 61 finished with value: 0.9532361308677098 and parameters: {'n_estimators': 26, 'max_depth': 10, 'criterion': 'gini', 'max_features': 'auto', 'min_samples_leaf': 7}. Best is trial 1 with value: 0.9667496443812233.\u001b[0m\n",
      "C:\\Users\\vaiv\\Documents\\Git\\ConvAE_LSTM\\.convAE_lstm\\lib\\site-packages\\sklearn\\ensemble\\_forest.py:427: FutureWarning:\n",
      "\n",
      "`max_features='auto'` has been deprecated in 1.1 and will be removed in 1.3. To keep the past behaviour, explicitly set `max_features='sqrt'` or remove this parameter as it is also the default value for RandomForestClassifiers and ExtraTreesClassifiers.\n",
      "\n",
      "C:\\Users\\vaiv\\Documents\\Git\\ConvAE_LSTM\\.convAE_lstm\\lib\\site-packages\\sklearn\\ensemble\\_forest.py:427: FutureWarning:\n",
      "\n",
      "`max_features='auto'` has been deprecated in 1.1 and will be removed in 1.3. To keep the past behaviour, explicitly set `max_features='sqrt'` or remove this parameter as it is also the default value for RandomForestClassifiers and ExtraTreesClassifiers.\n",
      "\n",
      "C:\\Users\\vaiv\\Documents\\Git\\ConvAE_LSTM\\.convAE_lstm\\lib\\site-packages\\sklearn\\ensemble\\_forest.py:427: FutureWarning:\n",
      "\n",
      "`max_features='auto'` has been deprecated in 1.1 and will be removed in 1.3. To keep the past behaviour, explicitly set `max_features='sqrt'` or remove this parameter as it is also the default value for RandomForestClassifiers and ExtraTreesClassifiers.\n",
      "\n",
      "C:\\Users\\vaiv\\Documents\\Git\\ConvAE_LSTM\\.convAE_lstm\\lib\\site-packages\\sklearn\\ensemble\\_forest.py:427: FutureWarning:\n",
      "\n",
      "`max_features='auto'` has been deprecated in 1.1 and will be removed in 1.3. To keep the past behaviour, explicitly set `max_features='sqrt'` or remove this parameter as it is also the default value for RandomForestClassifiers and ExtraTreesClassifiers.\n",
      "\n",
      "\u001b[32m[I 2022-10-21 15:23:25,911]\u001b[0m Trial 62 finished with value: 0.9601706970128022 and parameters: {'n_estimators': 52, 'max_depth': 12, 'criterion': 'gini', 'max_features': 'auto', 'min_samples_leaf': 7}. Best is trial 1 with value: 0.9667496443812233.\u001b[0m\n",
      "C:\\Users\\vaiv\\Documents\\Git\\ConvAE_LSTM\\.convAE_lstm\\lib\\site-packages\\sklearn\\ensemble\\_forest.py:427: FutureWarning:\n",
      "\n",
      "`max_features='auto'` has been deprecated in 1.1 and will be removed in 1.3. To keep the past behaviour, explicitly set `max_features='sqrt'` or remove this parameter as it is also the default value for RandomForestClassifiers and ExtraTreesClassifiers.\n",
      "\n",
      "C:\\Users\\vaiv\\Documents\\Git\\ConvAE_LSTM\\.convAE_lstm\\lib\\site-packages\\sklearn\\ensemble\\_forest.py:427: FutureWarning:\n",
      "\n",
      "`max_features='auto'` has been deprecated in 1.1 and will be removed in 1.3. To keep the past behaviour, explicitly set `max_features='sqrt'` or remove this parameter as it is also the default value for RandomForestClassifiers and ExtraTreesClassifiers.\n",
      "\n",
      "C:\\Users\\vaiv\\Documents\\Git\\ConvAE_LSTM\\.convAE_lstm\\lib\\site-packages\\sklearn\\ensemble\\_forest.py:427: FutureWarning:\n",
      "\n",
      "`max_features='auto'` has been deprecated in 1.1 and will be removed in 1.3. To keep the past behaviour, explicitly set `max_features='sqrt'` or remove this parameter as it is also the default value for RandomForestClassifiers and ExtraTreesClassifiers.\n",
      "\n",
      "C:\\Users\\vaiv\\Documents\\Git\\ConvAE_LSTM\\.convAE_lstm\\lib\\site-packages\\sklearn\\ensemble\\_forest.py:427: FutureWarning:\n",
      "\n",
      "`max_features='auto'` has been deprecated in 1.1 and will be removed in 1.3. To keep the past behaviour, explicitly set `max_features='sqrt'` or remove this parameter as it is also the default value for RandomForestClassifiers and ExtraTreesClassifiers.\n",
      "\n",
      "\u001b[32m[I 2022-10-21 15:23:26,283]\u001b[0m Trial 63 finished with value: 0.9667496443812233 and parameters: {'n_estimators': 60, 'max_depth': 7, 'criterion': 'gini', 'max_features': 'auto', 'min_samples_leaf': 4}. Best is trial 1 with value: 0.9667496443812233.\u001b[0m\n",
      "C:\\Users\\vaiv\\Documents\\Git\\ConvAE_LSTM\\.convAE_lstm\\lib\\site-packages\\sklearn\\ensemble\\_forest.py:427: FutureWarning:\n",
      "\n",
      "`max_features='auto'` has been deprecated in 1.1 and will be removed in 1.3. To keep the past behaviour, explicitly set `max_features='sqrt'` or remove this parameter as it is also the default value for RandomForestClassifiers and ExtraTreesClassifiers.\n",
      "\n",
      "C:\\Users\\vaiv\\Documents\\Git\\ConvAE_LSTM\\.convAE_lstm\\lib\\site-packages\\sklearn\\ensemble\\_forest.py:427: FutureWarning:\n",
      "\n",
      "`max_features='auto'` has been deprecated in 1.1 and will be removed in 1.3. To keep the past behaviour, explicitly set `max_features='sqrt'` or remove this parameter as it is also the default value for RandomForestClassifiers and ExtraTreesClassifiers.\n",
      "\n",
      "C:\\Users\\vaiv\\Documents\\Git\\ConvAE_LSTM\\.convAE_lstm\\lib\\site-packages\\sklearn\\ensemble\\_forest.py:427: FutureWarning:\n",
      "\n",
      "`max_features='auto'` has been deprecated in 1.1 and will be removed in 1.3. To keep the past behaviour, explicitly set `max_features='sqrt'` or remove this parameter as it is also the default value for RandomForestClassifiers and ExtraTreesClassifiers.\n",
      "\n",
      "C:\\Users\\vaiv\\Documents\\Git\\ConvAE_LSTM\\.convAE_lstm\\lib\\site-packages\\sklearn\\ensemble\\_forest.py:427: FutureWarning:\n",
      "\n",
      "`max_features='auto'` has been deprecated in 1.1 and will be removed in 1.3. To keep the past behaviour, explicitly set `max_features='sqrt'` or remove this parameter as it is also the default value for RandomForestClassifiers and ExtraTreesClassifiers.\n",
      "\n",
      "\u001b[32m[I 2022-10-21 15:23:26,655]\u001b[0m Trial 64 finished with value: 0.9667496443812233 and parameters: {'n_estimators': 59, 'max_depth': 7, 'criterion': 'gini', 'max_features': 'auto', 'min_samples_leaf': 4}. Best is trial 1 with value: 0.9667496443812233.\u001b[0m\n"
     ]
    },
    {
     "name": "stderr",
     "output_type": "stream",
     "text": [
      "C:\\Users\\vaiv\\Documents\\Git\\ConvAE_LSTM\\.convAE_lstm\\lib\\site-packages\\sklearn\\ensemble\\_forest.py:427: FutureWarning:\n",
      "\n",
      "`max_features='auto'` has been deprecated in 1.1 and will be removed in 1.3. To keep the past behaviour, explicitly set `max_features='sqrt'` or remove this parameter as it is also the default value for RandomForestClassifiers and ExtraTreesClassifiers.\n",
      "\n",
      "C:\\Users\\vaiv\\Documents\\Git\\ConvAE_LSTM\\.convAE_lstm\\lib\\site-packages\\sklearn\\ensemble\\_forest.py:427: FutureWarning:\n",
      "\n",
      "`max_features='auto'` has been deprecated in 1.1 and will be removed in 1.3. To keep the past behaviour, explicitly set `max_features='sqrt'` or remove this parameter as it is also the default value for RandomForestClassifiers and ExtraTreesClassifiers.\n",
      "\n",
      "C:\\Users\\vaiv\\Documents\\Git\\ConvAE_LSTM\\.convAE_lstm\\lib\\site-packages\\sklearn\\ensemble\\_forest.py:427: FutureWarning:\n",
      "\n",
      "`max_features='auto'` has been deprecated in 1.1 and will be removed in 1.3. To keep the past behaviour, explicitly set `max_features='sqrt'` or remove this parameter as it is also the default value for RandomForestClassifiers and ExtraTreesClassifiers.\n",
      "\n",
      "C:\\Users\\vaiv\\Documents\\Git\\ConvAE_LSTM\\.convAE_lstm\\lib\\site-packages\\sklearn\\ensemble\\_forest.py:427: FutureWarning:\n",
      "\n",
      "`max_features='auto'` has been deprecated in 1.1 and will be removed in 1.3. To keep the past behaviour, explicitly set `max_features='sqrt'` or remove this parameter as it is also the default value for RandomForestClassifiers and ExtraTreesClassifiers.\n",
      "\n",
      "\u001b[32m[I 2022-10-21 15:23:27,063]\u001b[0m Trial 65 finished with value: 0.9599928876244666 and parameters: {'n_estimators': 59, 'max_depth': 7, 'criterion': 'gini', 'max_features': 'auto', 'min_samples_leaf': 4}. Best is trial 1 with value: 0.9667496443812233.\u001b[0m\n",
      "C:\\Users\\vaiv\\Documents\\Git\\ConvAE_LSTM\\.convAE_lstm\\lib\\site-packages\\sklearn\\ensemble\\_forest.py:427: FutureWarning:\n",
      "\n",
      "`max_features='auto'` has been deprecated in 1.1 and will be removed in 1.3. To keep the past behaviour, explicitly set `max_features='sqrt'` or remove this parameter as it is also the default value for RandomForestClassifiers and ExtraTreesClassifiers.\n",
      "\n",
      "C:\\Users\\vaiv\\Documents\\Git\\ConvAE_LSTM\\.convAE_lstm\\lib\\site-packages\\sklearn\\ensemble\\_forest.py:427: FutureWarning:\n",
      "\n",
      "`max_features='auto'` has been deprecated in 1.1 and will be removed in 1.3. To keep the past behaviour, explicitly set `max_features='sqrt'` or remove this parameter as it is also the default value for RandomForestClassifiers and ExtraTreesClassifiers.\n",
      "\n",
      "C:\\Users\\vaiv\\Documents\\Git\\ConvAE_LSTM\\.convAE_lstm\\lib\\site-packages\\sklearn\\ensemble\\_forest.py:427: FutureWarning:\n",
      "\n",
      "`max_features='auto'` has been deprecated in 1.1 and will be removed in 1.3. To keep the past behaviour, explicitly set `max_features='sqrt'` or remove this parameter as it is also the default value for RandomForestClassifiers and ExtraTreesClassifiers.\n",
      "\n",
      "C:\\Users\\vaiv\\Documents\\Git\\ConvAE_LSTM\\.convAE_lstm\\lib\\site-packages\\sklearn\\ensemble\\_forest.py:427: FutureWarning:\n",
      "\n",
      "`max_features='auto'` has been deprecated in 1.1 and will be removed in 1.3. To keep the past behaviour, explicitly set `max_features='sqrt'` or remove this parameter as it is also the default value for RandomForestClassifiers and ExtraTreesClassifiers.\n",
      "\n",
      "\u001b[32m[I 2022-10-21 15:23:27,332]\u001b[0m Trial 66 finished with value: 0.9601706970128022 and parameters: {'n_estimators': 43, 'max_depth': 6, 'criterion': 'gini', 'max_features': 'auto', 'min_samples_leaf': 4}. Best is trial 1 with value: 0.9667496443812233.\u001b[0m\n",
      "C:\\Users\\vaiv\\Documents\\Git\\ConvAE_LSTM\\.convAE_lstm\\lib\\site-packages\\sklearn\\ensemble\\_forest.py:427: FutureWarning:\n",
      "\n",
      "`max_features='auto'` has been deprecated in 1.1 and will be removed in 1.3. To keep the past behaviour, explicitly set `max_features='sqrt'` or remove this parameter as it is also the default value for RandomForestClassifiers and ExtraTreesClassifiers.\n",
      "\n",
      "C:\\Users\\vaiv\\Documents\\Git\\ConvAE_LSTM\\.convAE_lstm\\lib\\site-packages\\sklearn\\ensemble\\_forest.py:427: FutureWarning:\n",
      "\n",
      "`max_features='auto'` has been deprecated in 1.1 and will be removed in 1.3. To keep the past behaviour, explicitly set `max_features='sqrt'` or remove this parameter as it is also the default value for RandomForestClassifiers and ExtraTreesClassifiers.\n",
      "\n",
      "C:\\Users\\vaiv\\Documents\\Git\\ConvAE_LSTM\\.convAE_lstm\\lib\\site-packages\\sklearn\\ensemble\\_forest.py:427: FutureWarning:\n",
      "\n",
      "`max_features='auto'` has been deprecated in 1.1 and will be removed in 1.3. To keep the past behaviour, explicitly set `max_features='sqrt'` or remove this parameter as it is also the default value for RandomForestClassifiers and ExtraTreesClassifiers.\n",
      "\n",
      "C:\\Users\\vaiv\\Documents\\Git\\ConvAE_LSTM\\.convAE_lstm\\lib\\site-packages\\sklearn\\ensemble\\_forest.py:427: FutureWarning:\n",
      "\n",
      "`max_features='auto'` has been deprecated in 1.1 and will be removed in 1.3. To keep the past behaviour, explicitly set `max_features='sqrt'` or remove this parameter as it is also the default value for RandomForestClassifiers and ExtraTreesClassifiers.\n",
      "\n",
      "\u001b[32m[I 2022-10-21 15:23:27,457]\u001b[0m Trial 67 finished with value: 0.9599928876244666 and parameters: {'n_estimators': 16, 'max_depth': 14, 'criterion': 'entropy', 'max_features': 'auto', 'min_samples_leaf': 5}. Best is trial 1 with value: 0.9667496443812233.\u001b[0m\n",
      "\u001b[32m[I 2022-10-21 15:23:28,464]\u001b[0m Trial 68 finished with value: 0.9534139402560455 and parameters: {'n_estimators': 192, 'max_depth': 5, 'criterion': 'gini', 'max_features': 'sqrt', 'min_samples_leaf': 6}. Best is trial 1 with value: 0.9667496443812233.\u001b[0m\n",
      "C:\\Users\\vaiv\\Documents\\Git\\ConvAE_LSTM\\.convAE_lstm\\lib\\site-packages\\sklearn\\ensemble\\_forest.py:427: FutureWarning:\n",
      "\n",
      "`max_features='auto'` has been deprecated in 1.1 and will be removed in 1.3. To keep the past behaviour, explicitly set `max_features='sqrt'` or remove this parameter as it is also the default value for RandomForestClassifiers and ExtraTreesClassifiers.\n",
      "\n",
      "C:\\Users\\vaiv\\Documents\\Git\\ConvAE_LSTM\\.convAE_lstm\\lib\\site-packages\\sklearn\\ensemble\\_forest.py:427: FutureWarning:\n",
      "\n",
      "`max_features='auto'` has been deprecated in 1.1 and will be removed in 1.3. To keep the past behaviour, explicitly set `max_features='sqrt'` or remove this parameter as it is also the default value for RandomForestClassifiers and ExtraTreesClassifiers.\n",
      "\n",
      "C:\\Users\\vaiv\\Documents\\Git\\ConvAE_LSTM\\.convAE_lstm\\lib\\site-packages\\sklearn\\ensemble\\_forest.py:427: FutureWarning:\n",
      "\n",
      "`max_features='auto'` has been deprecated in 1.1 and will be removed in 1.3. To keep the past behaviour, explicitly set `max_features='sqrt'` or remove this parameter as it is also the default value for RandomForestClassifiers and ExtraTreesClassifiers.\n",
      "\n",
      "C:\\Users\\vaiv\\Documents\\Git\\ConvAE_LSTM\\.convAE_lstm\\lib\\site-packages\\sklearn\\ensemble\\_forest.py:427: FutureWarning:\n",
      "\n",
      "`max_features='auto'` has been deprecated in 1.1 and will be removed in 1.3. To keep the past behaviour, explicitly set `max_features='sqrt'` or remove this parameter as it is also the default value for RandomForestClassifiers and ExtraTreesClassifiers.\n",
      "\n",
      "\u001b[32m[I 2022-10-21 15:23:28,964]\u001b[0m Trial 69 finished with value: 0.9466571834992887 and parameters: {'n_estimators': 70, 'max_depth': 9, 'criterion': 'gini', 'max_features': 'auto', 'min_samples_leaf': 7}. Best is trial 1 with value: 0.9667496443812233.\u001b[0m\n",
      "C:\\Users\\vaiv\\Documents\\Git\\ConvAE_LSTM\\.convAE_lstm\\lib\\site-packages\\sklearn\\ensemble\\_forest.py:427: FutureWarning:\n",
      "\n",
      "`max_features='auto'` has been deprecated in 1.1 and will be removed in 1.3. To keep the past behaviour, explicitly set `max_features='sqrt'` or remove this parameter as it is also the default value for RandomForestClassifiers and ExtraTreesClassifiers.\n",
      "\n",
      "C:\\Users\\vaiv\\Documents\\Git\\ConvAE_LSTM\\.convAE_lstm\\lib\\site-packages\\sklearn\\ensemble\\_forest.py:427: FutureWarning:\n",
      "\n",
      "`max_features='auto'` has been deprecated in 1.1 and will be removed in 1.3. To keep the past behaviour, explicitly set `max_features='sqrt'` or remove this parameter as it is also the default value for RandomForestClassifiers and ExtraTreesClassifiers.\n",
      "\n",
      "C:\\Users\\vaiv\\Documents\\Git\\ConvAE_LSTM\\.convAE_lstm\\lib\\site-packages\\sklearn\\ensemble\\_forest.py:427: FutureWarning:\n",
      "\n",
      "`max_features='auto'` has been deprecated in 1.1 and will be removed in 1.3. To keep the past behaviour, explicitly set `max_features='sqrt'` or remove this parameter as it is also the default value for RandomForestClassifiers and ExtraTreesClassifiers.\n",
      "\n",
      "C:\\Users\\vaiv\\Documents\\Git\\ConvAE_LSTM\\.convAE_lstm\\lib\\site-packages\\sklearn\\ensemble\\_forest.py:427: FutureWarning:\n",
      "\n",
      "`max_features='auto'` has been deprecated in 1.1 and will be removed in 1.3. To keep the past behaviour, explicitly set `max_features='sqrt'` or remove this parameter as it is also the default value for RandomForestClassifiers and ExtraTreesClassifiers.\n",
      "\n"
     ]
    },
    {
     "name": "stderr",
     "output_type": "stream",
     "text": [
      "\u001b[32m[I 2022-10-21 15:23:29,256]\u001b[0m Trial 70 finished with value: 0.9667496443812233 and parameters: {'n_estimators': 53, 'max_depth': 5, 'criterion': 'entropy', 'max_features': 'auto', 'min_samples_leaf': 4}. Best is trial 1 with value: 0.9667496443812233.\u001b[0m\n",
      "C:\\Users\\vaiv\\Documents\\Git\\ConvAE_LSTM\\.convAE_lstm\\lib\\site-packages\\sklearn\\ensemble\\_forest.py:427: FutureWarning:\n",
      "\n",
      "`max_features='auto'` has been deprecated in 1.1 and will be removed in 1.3. To keep the past behaviour, explicitly set `max_features='sqrt'` or remove this parameter as it is also the default value for RandomForestClassifiers and ExtraTreesClassifiers.\n",
      "\n",
      "C:\\Users\\vaiv\\Documents\\Git\\ConvAE_LSTM\\.convAE_lstm\\lib\\site-packages\\sklearn\\ensemble\\_forest.py:427: FutureWarning:\n",
      "\n",
      "`max_features='auto'` has been deprecated in 1.1 and will be removed in 1.3. To keep the past behaviour, explicitly set `max_features='sqrt'` or remove this parameter as it is also the default value for RandomForestClassifiers and ExtraTreesClassifiers.\n",
      "\n",
      "C:\\Users\\vaiv\\Documents\\Git\\ConvAE_LSTM\\.convAE_lstm\\lib\\site-packages\\sklearn\\ensemble\\_forest.py:427: FutureWarning:\n",
      "\n",
      "`max_features='auto'` has been deprecated in 1.1 and will be removed in 1.3. To keep the past behaviour, explicitly set `max_features='sqrt'` or remove this parameter as it is also the default value for RandomForestClassifiers and ExtraTreesClassifiers.\n",
      "\n",
      "C:\\Users\\vaiv\\Documents\\Git\\ConvAE_LSTM\\.convAE_lstm\\lib\\site-packages\\sklearn\\ensemble\\_forest.py:427: FutureWarning:\n",
      "\n",
      "`max_features='auto'` has been deprecated in 1.1 and will be removed in 1.3. To keep the past behaviour, explicitly set `max_features='sqrt'` or remove this parameter as it is also the default value for RandomForestClassifiers and ExtraTreesClassifiers.\n",
      "\n",
      "\u001b[32m[I 2022-10-21 15:23:29,678]\u001b[0m Trial 71 finished with value: 0.9534139402560455 and parameters: {'n_estimators': 77, 'max_depth': 8, 'criterion': 'gini', 'max_features': 'auto', 'min_samples_leaf': 7}. Best is trial 1 with value: 0.9667496443812233.\u001b[0m\n",
      "C:\\Users\\vaiv\\Documents\\Git\\ConvAE_LSTM\\.convAE_lstm\\lib\\site-packages\\sklearn\\ensemble\\_forest.py:427: FutureWarning:\n",
      "\n",
      "`max_features='auto'` has been deprecated in 1.1 and will be removed in 1.3. To keep the past behaviour, explicitly set `max_features='sqrt'` or remove this parameter as it is also the default value for RandomForestClassifiers and ExtraTreesClassifiers.\n",
      "\n",
      "C:\\Users\\vaiv\\Documents\\Git\\ConvAE_LSTM\\.convAE_lstm\\lib\\site-packages\\sklearn\\ensemble\\_forest.py:427: FutureWarning:\n",
      "\n",
      "`max_features='auto'` has been deprecated in 1.1 and will be removed in 1.3. To keep the past behaviour, explicitly set `max_features='sqrt'` or remove this parameter as it is also the default value for RandomForestClassifiers and ExtraTreesClassifiers.\n",
      "\n",
      "C:\\Users\\vaiv\\Documents\\Git\\ConvAE_LSTM\\.convAE_lstm\\lib\\site-packages\\sklearn\\ensemble\\_forest.py:427: FutureWarning:\n",
      "\n",
      "`max_features='auto'` has been deprecated in 1.1 and will be removed in 1.3. To keep the past behaviour, explicitly set `max_features='sqrt'` or remove this parameter as it is also the default value for RandomForestClassifiers and ExtraTreesClassifiers.\n",
      "\n",
      "C:\\Users\\vaiv\\Documents\\Git\\ConvAE_LSTM\\.convAE_lstm\\lib\\site-packages\\sklearn\\ensemble\\_forest.py:427: FutureWarning:\n",
      "\n",
      "`max_features='auto'` has been deprecated in 1.1 and will be removed in 1.3. To keep the past behaviour, explicitly set `max_features='sqrt'` or remove this parameter as it is also the default value for RandomForestClassifiers and ExtraTreesClassifiers.\n",
      "\n",
      "\u001b[32m[I 2022-10-21 15:23:29,912]\u001b[0m Trial 72 finished with value: 0.9466571834992887 and parameters: {'n_estimators': 37, 'max_depth': 10, 'criterion': 'entropy', 'max_features': 'auto', 'min_samples_leaf': 5}. Best is trial 1 with value: 0.9667496443812233.\u001b[0m\n",
      "C:\\Users\\vaiv\\Documents\\Git\\ConvAE_LSTM\\.convAE_lstm\\lib\\site-packages\\sklearn\\ensemble\\_forest.py:427: FutureWarning:\n",
      "\n",
      "`max_features='auto'` has been deprecated in 1.1 and will be removed in 1.3. To keep the past behaviour, explicitly set `max_features='sqrt'` or remove this parameter as it is also the default value for RandomForestClassifiers and ExtraTreesClassifiers.\n",
      "\n",
      "C:\\Users\\vaiv\\Documents\\Git\\ConvAE_LSTM\\.convAE_lstm\\lib\\site-packages\\sklearn\\ensemble\\_forest.py:427: FutureWarning:\n",
      "\n",
      "`max_features='auto'` has been deprecated in 1.1 and will be removed in 1.3. To keep the past behaviour, explicitly set `max_features='sqrt'` or remove this parameter as it is also the default value for RandomForestClassifiers and ExtraTreesClassifiers.\n",
      "\n",
      "C:\\Users\\vaiv\\Documents\\Git\\ConvAE_LSTM\\.convAE_lstm\\lib\\site-packages\\sklearn\\ensemble\\_forest.py:427: FutureWarning:\n",
      "\n",
      "`max_features='auto'` has been deprecated in 1.1 and will be removed in 1.3. To keep the past behaviour, explicitly set `max_features='sqrt'` or remove this parameter as it is also the default value for RandomForestClassifiers and ExtraTreesClassifiers.\n",
      "\n",
      "C:\\Users\\vaiv\\Documents\\Git\\ConvAE_LSTM\\.convAE_lstm\\lib\\site-packages\\sklearn\\ensemble\\_forest.py:427: FutureWarning:\n",
      "\n",
      "`max_features='auto'` has been deprecated in 1.1 and will be removed in 1.3. To keep the past behaviour, explicitly set `max_features='sqrt'` or remove this parameter as it is also the default value for RandomForestClassifiers and ExtraTreesClassifiers.\n",
      "\n",
      "\u001b[32m[I 2022-10-21 15:23:30,345]\u001b[0m Trial 73 finished with value: 0.9466571834992887 and parameters: {'n_estimators': 68, 'max_depth': 7, 'criterion': 'gini', 'max_features': 'auto', 'min_samples_leaf': 7}. Best is trial 1 with value: 0.9667496443812233.\u001b[0m\n",
      "C:\\Users\\vaiv\\Documents\\Git\\ConvAE_LSTM\\.convAE_lstm\\lib\\site-packages\\sklearn\\ensemble\\_forest.py:427: FutureWarning:\n",
      "\n",
      "`max_features='auto'` has been deprecated in 1.1 and will be removed in 1.3. To keep the past behaviour, explicitly set `max_features='sqrt'` or remove this parameter as it is also the default value for RandomForestClassifiers and ExtraTreesClassifiers.\n",
      "\n",
      "C:\\Users\\vaiv\\Documents\\Git\\ConvAE_LSTM\\.convAE_lstm\\lib\\site-packages\\sklearn\\ensemble\\_forest.py:427: FutureWarning:\n",
      "\n",
      "`max_features='auto'` has been deprecated in 1.1 and will be removed in 1.3. To keep the past behaviour, explicitly set `max_features='sqrt'` or remove this parameter as it is also the default value for RandomForestClassifiers and ExtraTreesClassifiers.\n",
      "\n",
      "C:\\Users\\vaiv\\Documents\\Git\\ConvAE_LSTM\\.convAE_lstm\\lib\\site-packages\\sklearn\\ensemble\\_forest.py:427: FutureWarning:\n",
      "\n",
      "`max_features='auto'` has been deprecated in 1.1 and will be removed in 1.3. To keep the past behaviour, explicitly set `max_features='sqrt'` or remove this parameter as it is also the default value for RandomForestClassifiers and ExtraTreesClassifiers.\n",
      "\n",
      "C:\\Users\\vaiv\\Documents\\Git\\ConvAE_LSTM\\.convAE_lstm\\lib\\site-packages\\sklearn\\ensemble\\_forest.py:427: FutureWarning:\n",
      "\n",
      "`max_features='auto'` has been deprecated in 1.1 and will be removed in 1.3. To keep the past behaviour, explicitly set `max_features='sqrt'` or remove this parameter as it is also the default value for RandomForestClassifiers and ExtraTreesClassifiers.\n",
      "\n",
      "\u001b[32m[I 2022-10-21 15:23:30,877]\u001b[0m Trial 74 finished with value: 0.9466571834992887 and parameters: {'n_estimators': 91, 'max_depth': 9, 'criterion': 'gini', 'max_features': 'auto', 'min_samples_leaf': 8}. Best is trial 1 with value: 0.9667496443812233.\u001b[0m\n",
      "C:\\Users\\vaiv\\Documents\\Git\\ConvAE_LSTM\\.convAE_lstm\\lib\\site-packages\\sklearn\\ensemble\\_forest.py:427: FutureWarning:\n",
      "\n",
      "`max_features='auto'` has been deprecated in 1.1 and will be removed in 1.3. To keep the past behaviour, explicitly set `max_features='sqrt'` or remove this parameter as it is also the default value for RandomForestClassifiers and ExtraTreesClassifiers.\n",
      "\n",
      "C:\\Users\\vaiv\\Documents\\Git\\ConvAE_LSTM\\.convAE_lstm\\lib\\site-packages\\sklearn\\ensemble\\_forest.py:427: FutureWarning:\n",
      "\n",
      "`max_features='auto'` has been deprecated in 1.1 and will be removed in 1.3. To keep the past behaviour, explicitly set `max_features='sqrt'` or remove this parameter as it is also the default value for RandomForestClassifiers and ExtraTreesClassifiers.\n",
      "\n",
      "C:\\Users\\vaiv\\Documents\\Git\\ConvAE_LSTM\\.convAE_lstm\\lib\\site-packages\\sklearn\\ensemble\\_forest.py:427: FutureWarning:\n",
      "\n",
      "`max_features='auto'` has been deprecated in 1.1 and will be removed in 1.3. To keep the past behaviour, explicitly set `max_features='sqrt'` or remove this parameter as it is also the default value for RandomForestClassifiers and ExtraTreesClassifiers.\n",
      "\n"
     ]
    },
    {
     "name": "stderr",
     "output_type": "stream",
     "text": [
      "C:\\Users\\vaiv\\Documents\\Git\\ConvAE_LSTM\\.convAE_lstm\\lib\\site-packages\\sklearn\\ensemble\\_forest.py:427: FutureWarning:\n",
      "\n",
      "`max_features='auto'` has been deprecated in 1.1 and will be removed in 1.3. To keep the past behaviour, explicitly set `max_features='sqrt'` or remove this parameter as it is also the default value for RandomForestClassifiers and ExtraTreesClassifiers.\n",
      "\n",
      "\u001b[32m[I 2022-10-21 15:23:31,793]\u001b[0m Trial 75 finished with value: 0.9466571834992887 and parameters: {'n_estimators': 155, 'max_depth': 4, 'criterion': 'gini', 'max_features': 'auto', 'min_samples_leaf': 7}. Best is trial 1 with value: 0.9667496443812233.\u001b[0m\n",
      "C:\\Users\\vaiv\\Documents\\Git\\ConvAE_LSTM\\.convAE_lstm\\lib\\site-packages\\sklearn\\ensemble\\_forest.py:427: FutureWarning:\n",
      "\n",
      "`max_features='auto'` has been deprecated in 1.1 and will be removed in 1.3. To keep the past behaviour, explicitly set `max_features='sqrt'` or remove this parameter as it is also the default value for RandomForestClassifiers and ExtraTreesClassifiers.\n",
      "\n",
      "C:\\Users\\vaiv\\Documents\\Git\\ConvAE_LSTM\\.convAE_lstm\\lib\\site-packages\\sklearn\\ensemble\\_forest.py:427: FutureWarning:\n",
      "\n",
      "`max_features='auto'` has been deprecated in 1.1 and will be removed in 1.3. To keep the past behaviour, explicitly set `max_features='sqrt'` or remove this parameter as it is also the default value for RandomForestClassifiers and ExtraTreesClassifiers.\n",
      "\n",
      "C:\\Users\\vaiv\\Documents\\Git\\ConvAE_LSTM\\.convAE_lstm\\lib\\site-packages\\sklearn\\ensemble\\_forest.py:427: FutureWarning:\n",
      "\n",
      "`max_features='auto'` has been deprecated in 1.1 and will be removed in 1.3. To keep the past behaviour, explicitly set `max_features='sqrt'` or remove this parameter as it is also the default value for RandomForestClassifiers and ExtraTreesClassifiers.\n",
      "\n",
      "C:\\Users\\vaiv\\Documents\\Git\\ConvAE_LSTM\\.convAE_lstm\\lib\\site-packages\\sklearn\\ensemble\\_forest.py:427: FutureWarning:\n",
      "\n",
      "`max_features='auto'` has been deprecated in 1.1 and will be removed in 1.3. To keep the past behaviour, explicitly set `max_features='sqrt'` or remove this parameter as it is also the default value for RandomForestClassifiers and ExtraTreesClassifiers.\n",
      "\n",
      "\u001b[32m[I 2022-10-21 15:23:32,121]\u001b[0m Trial 76 finished with value: 0.9667496443812233 and parameters: {'n_estimators': 52, 'max_depth': 5, 'criterion': 'entropy', 'max_features': 'auto', 'min_samples_leaf': 4}. Best is trial 1 with value: 0.9667496443812233.\u001b[0m\n",
      "C:\\Users\\vaiv\\Documents\\Git\\ConvAE_LSTM\\.convAE_lstm\\lib\\site-packages\\sklearn\\ensemble\\_forest.py:427: FutureWarning:\n",
      "\n",
      "`max_features='auto'` has been deprecated in 1.1 and will be removed in 1.3. To keep the past behaviour, explicitly set `max_features='sqrt'` or remove this parameter as it is also the default value for RandomForestClassifiers and ExtraTreesClassifiers.\n",
      "\n",
      "C:\\Users\\vaiv\\Documents\\Git\\ConvAE_LSTM\\.convAE_lstm\\lib\\site-packages\\sklearn\\ensemble\\_forest.py:427: FutureWarning:\n",
      "\n",
      "`max_features='auto'` has been deprecated in 1.1 and will be removed in 1.3. To keep the past behaviour, explicitly set `max_features='sqrt'` or remove this parameter as it is also the default value for RandomForestClassifiers and ExtraTreesClassifiers.\n",
      "\n",
      "C:\\Users\\vaiv\\Documents\\Git\\ConvAE_LSTM\\.convAE_lstm\\lib\\site-packages\\sklearn\\ensemble\\_forest.py:427: FutureWarning:\n",
      "\n",
      "`max_features='auto'` has been deprecated in 1.1 and will be removed in 1.3. To keep the past behaviour, explicitly set `max_features='sqrt'` or remove this parameter as it is also the default value for RandomForestClassifiers and ExtraTreesClassifiers.\n",
      "\n",
      "C:\\Users\\vaiv\\Documents\\Git\\ConvAE_LSTM\\.convAE_lstm\\lib\\site-packages\\sklearn\\ensemble\\_forest.py:427: FutureWarning:\n",
      "\n",
      "`max_features='auto'` has been deprecated in 1.1 and will be removed in 1.3. To keep the past behaviour, explicitly set `max_features='sqrt'` or remove this parameter as it is also the default value for RandomForestClassifiers and ExtraTreesClassifiers.\n",
      "\n",
      "\u001b[32m[I 2022-10-21 15:23:32,344]\u001b[0m Trial 77 finished with value: 0.9534139402560455 and parameters: {'n_estimators': 30, 'max_depth': 8, 'criterion': 'entropy', 'max_features': 'auto', 'min_samples_leaf': 4}. Best is trial 1 with value: 0.9667496443812233.\u001b[0m\n",
      "C:\\Users\\vaiv\\Documents\\Git\\ConvAE_LSTM\\.convAE_lstm\\lib\\site-packages\\sklearn\\ensemble\\_forest.py:427: FutureWarning:\n",
      "\n",
      "`max_features='auto'` has been deprecated in 1.1 and will be removed in 1.3. To keep the past behaviour, explicitly set `max_features='sqrt'` or remove this parameter as it is also the default value for RandomForestClassifiers and ExtraTreesClassifiers.\n",
      "\n",
      "C:\\Users\\vaiv\\Documents\\Git\\ConvAE_LSTM\\.convAE_lstm\\lib\\site-packages\\sklearn\\ensemble\\_forest.py:427: FutureWarning:\n",
      "\n",
      "`max_features='auto'` has been deprecated in 1.1 and will be removed in 1.3. To keep the past behaviour, explicitly set `max_features='sqrt'` or remove this parameter as it is also the default value for RandomForestClassifiers and ExtraTreesClassifiers.\n",
      "\n",
      "C:\\Users\\vaiv\\Documents\\Git\\ConvAE_LSTM\\.convAE_lstm\\lib\\site-packages\\sklearn\\ensemble\\_forest.py:427: FutureWarning:\n",
      "\n",
      "`max_features='auto'` has been deprecated in 1.1 and will be removed in 1.3. To keep the past behaviour, explicitly set `max_features='sqrt'` or remove this parameter as it is also the default value for RandomForestClassifiers and ExtraTreesClassifiers.\n",
      "\n",
      "C:\\Users\\vaiv\\Documents\\Git\\ConvAE_LSTM\\.convAE_lstm\\lib\\site-packages\\sklearn\\ensemble\\_forest.py:427: FutureWarning:\n",
      "\n",
      "`max_features='auto'` has been deprecated in 1.1 and will be removed in 1.3. To keep the past behaviour, explicitly set `max_features='sqrt'` or remove this parameter as it is also the default value for RandomForestClassifiers and ExtraTreesClassifiers.\n",
      "\n",
      "\u001b[32m[I 2022-10-21 15:23:32,687]\u001b[0m Trial 78 finished with value: 0.9532361308677098 and parameters: {'n_estimators': 56, 'max_depth': 7, 'criterion': 'entropy', 'max_features': 'auto', 'min_samples_leaf': 4}. Best is trial 1 with value: 0.9667496443812233.\u001b[0m\n",
      "C:\\Users\\vaiv\\Documents\\Git\\ConvAE_LSTM\\.convAE_lstm\\lib\\site-packages\\sklearn\\ensemble\\_forest.py:427: FutureWarning:\n",
      "\n",
      "`max_features='auto'` has been deprecated in 1.1 and will be removed in 1.3. To keep the past behaviour, explicitly set `max_features='sqrt'` or remove this parameter as it is also the default value for RandomForestClassifiers and ExtraTreesClassifiers.\n",
      "\n",
      "C:\\Users\\vaiv\\Documents\\Git\\ConvAE_LSTM\\.convAE_lstm\\lib\\site-packages\\sklearn\\ensemble\\_forest.py:427: FutureWarning:\n",
      "\n",
      "`max_features='auto'` has been deprecated in 1.1 and will be removed in 1.3. To keep the past behaviour, explicitly set `max_features='sqrt'` or remove this parameter as it is also the default value for RandomForestClassifiers and ExtraTreesClassifiers.\n",
      "\n",
      "C:\\Users\\vaiv\\Documents\\Git\\ConvAE_LSTM\\.convAE_lstm\\lib\\site-packages\\sklearn\\ensemble\\_forest.py:427: FutureWarning:\n",
      "\n",
      "`max_features='auto'` has been deprecated in 1.1 and will be removed in 1.3. To keep the past behaviour, explicitly set `max_features='sqrt'` or remove this parameter as it is also the default value for RandomForestClassifiers and ExtraTreesClassifiers.\n",
      "\n",
      "C:\\Users\\vaiv\\Documents\\Git\\ConvAE_LSTM\\.convAE_lstm\\lib\\site-packages\\sklearn\\ensemble\\_forest.py:427: FutureWarning:\n",
      "\n",
      "`max_features='auto'` has been deprecated in 1.1 and will be removed in 1.3. To keep the past behaviour, explicitly set `max_features='sqrt'` or remove this parameter as it is also the default value for RandomForestClassifiers and ExtraTreesClassifiers.\n",
      "\n",
      "\u001b[32m[I 2022-10-21 15:23:33,168]\u001b[0m Trial 79 finished with value: 0.9601706970128022 and parameters: {'n_estimators': 85, 'max_depth': 8, 'criterion': 'gini', 'max_features': 'auto', 'min_samples_leaf': 5}. Best is trial 1 with value: 0.9667496443812233.\u001b[0m\n",
      "\u001b[32m[I 2022-10-21 15:23:33,466]\u001b[0m Trial 80 finished with value: 0.9599928876244666 and parameters: {'n_estimators': 49, 'max_depth': 6, 'criterion': 'entropy', 'max_features': 'sqrt', 'min_samples_leaf': 4}. Best is trial 1 with value: 0.9667496443812233.\u001b[0m\n",
      "C:\\Users\\vaiv\\Documents\\Git\\ConvAE_LSTM\\.convAE_lstm\\lib\\site-packages\\sklearn\\ensemble\\_forest.py:427: FutureWarning:\n",
      "\n",
      "`max_features='auto'` has been deprecated in 1.1 and will be removed in 1.3. To keep the past behaviour, explicitly set `max_features='sqrt'` or remove this parameter as it is also the default value for RandomForestClassifiers and ExtraTreesClassifiers.\n",
      "\n",
      "C:\\Users\\vaiv\\Documents\\Git\\ConvAE_LSTM\\.convAE_lstm\\lib\\site-packages\\sklearn\\ensemble\\_forest.py:427: FutureWarning:\n",
      "\n",
      "`max_features='auto'` has been deprecated in 1.1 and will be removed in 1.3. To keep the past behaviour, explicitly set `max_features='sqrt'` or remove this parameter as it is also the default value for RandomForestClassifiers and ExtraTreesClassifiers.\n",
      "\n"
     ]
    },
    {
     "name": "stderr",
     "output_type": "stream",
     "text": [
      "C:\\Users\\vaiv\\Documents\\Git\\ConvAE_LSTM\\.convAE_lstm\\lib\\site-packages\\sklearn\\ensemble\\_forest.py:427: FutureWarning:\n",
      "\n",
      "`max_features='auto'` has been deprecated in 1.1 and will be removed in 1.3. To keep the past behaviour, explicitly set `max_features='sqrt'` or remove this parameter as it is also the default value for RandomForestClassifiers and ExtraTreesClassifiers.\n",
      "\n",
      "C:\\Users\\vaiv\\Documents\\Git\\ConvAE_LSTM\\.convAE_lstm\\lib\\site-packages\\sklearn\\ensemble\\_forest.py:427: FutureWarning:\n",
      "\n",
      "`max_features='auto'` has been deprecated in 1.1 and will be removed in 1.3. To keep the past behaviour, explicitly set `max_features='sqrt'` or remove this parameter as it is also the default value for RandomForestClassifiers and ExtraTreesClassifiers.\n",
      "\n",
      "\u001b[32m[I 2022-10-21 15:23:33,911]\u001b[0m Trial 81 finished with value: 0.9667496443812233 and parameters: {'n_estimators': 63, 'max_depth': 9, 'criterion': 'entropy', 'max_features': 'auto', 'min_samples_leaf': 5}. Best is trial 1 with value: 0.9667496443812233.\u001b[0m\n",
      "C:\\Users\\vaiv\\Documents\\Git\\ConvAE_LSTM\\.convAE_lstm\\lib\\site-packages\\sklearn\\ensemble\\_forest.py:427: FutureWarning:\n",
      "\n",
      "`max_features='auto'` has been deprecated in 1.1 and will be removed in 1.3. To keep the past behaviour, explicitly set `max_features='sqrt'` or remove this parameter as it is also the default value for RandomForestClassifiers and ExtraTreesClassifiers.\n",
      "\n",
      "C:\\Users\\vaiv\\Documents\\Git\\ConvAE_LSTM\\.convAE_lstm\\lib\\site-packages\\sklearn\\ensemble\\_forest.py:427: FutureWarning:\n",
      "\n",
      "`max_features='auto'` has been deprecated in 1.1 and will be removed in 1.3. To keep the past behaviour, explicitly set `max_features='sqrt'` or remove this parameter as it is also the default value for RandomForestClassifiers and ExtraTreesClassifiers.\n",
      "\n",
      "C:\\Users\\vaiv\\Documents\\Git\\ConvAE_LSTM\\.convAE_lstm\\lib\\site-packages\\sklearn\\ensemble\\_forest.py:427: FutureWarning:\n",
      "\n",
      "`max_features='auto'` has been deprecated in 1.1 and will be removed in 1.3. To keep the past behaviour, explicitly set `max_features='sqrt'` or remove this parameter as it is also the default value for RandomForestClassifiers and ExtraTreesClassifiers.\n",
      "\n",
      "C:\\Users\\vaiv\\Documents\\Git\\ConvAE_LSTM\\.convAE_lstm\\lib\\site-packages\\sklearn\\ensemble\\_forest.py:427: FutureWarning:\n",
      "\n",
      "`max_features='auto'` has been deprecated in 1.1 and will be removed in 1.3. To keep the past behaviour, explicitly set `max_features='sqrt'` or remove this parameter as it is also the default value for RandomForestClassifiers and ExtraTreesClassifiers.\n",
      "\n",
      "\u001b[32m[I 2022-10-21 15:23:34,287]\u001b[0m Trial 82 finished with value: 0.9532361308677098 and parameters: {'n_estimators': 63, 'max_depth': 4, 'criterion': 'entropy', 'max_features': 'auto', 'min_samples_leaf': 4}. Best is trial 1 with value: 0.9667496443812233.\u001b[0m\n",
      "C:\\Users\\vaiv\\Documents\\Git\\ConvAE_LSTM\\.convAE_lstm\\lib\\site-packages\\sklearn\\ensemble\\_forest.py:427: FutureWarning:\n",
      "\n",
      "`max_features='auto'` has been deprecated in 1.1 and will be removed in 1.3. To keep the past behaviour, explicitly set `max_features='sqrt'` or remove this parameter as it is also the default value for RandomForestClassifiers and ExtraTreesClassifiers.\n",
      "\n",
      "C:\\Users\\vaiv\\Documents\\Git\\ConvAE_LSTM\\.convAE_lstm\\lib\\site-packages\\sklearn\\ensemble\\_forest.py:427: FutureWarning:\n",
      "\n",
      "`max_features='auto'` has been deprecated in 1.1 and will be removed in 1.3. To keep the past behaviour, explicitly set `max_features='sqrt'` or remove this parameter as it is also the default value for RandomForestClassifiers and ExtraTreesClassifiers.\n",
      "\n",
      "C:\\Users\\vaiv\\Documents\\Git\\ConvAE_LSTM\\.convAE_lstm\\lib\\site-packages\\sklearn\\ensemble\\_forest.py:427: FutureWarning:\n",
      "\n",
      "`max_features='auto'` has been deprecated in 1.1 and will be removed in 1.3. To keep the past behaviour, explicitly set `max_features='sqrt'` or remove this parameter as it is also the default value for RandomForestClassifiers and ExtraTreesClassifiers.\n",
      "\n",
      "C:\\Users\\vaiv\\Documents\\Git\\ConvAE_LSTM\\.convAE_lstm\\lib\\site-packages\\sklearn\\ensemble\\_forest.py:427: FutureWarning:\n",
      "\n",
      "`max_features='auto'` has been deprecated in 1.1 and will be removed in 1.3. To keep the past behaviour, explicitly set `max_features='sqrt'` or remove this parameter as it is also the default value for RandomForestClassifiers and ExtraTreesClassifiers.\n",
      "\n",
      "\u001b[32m[I 2022-10-21 15:23:34,630]\u001b[0m Trial 83 finished with value: 0.9534139402560455 and parameters: {'n_estimators': 47, 'max_depth': 5, 'criterion': 'entropy', 'max_features': 'auto', 'min_samples_leaf': 5}. Best is trial 1 with value: 0.9667496443812233.\u001b[0m\n",
      "C:\\Users\\vaiv\\Documents\\Git\\ConvAE_LSTM\\.convAE_lstm\\lib\\site-packages\\sklearn\\ensemble\\_forest.py:427: FutureWarning:\n",
      "\n",
      "`max_features='auto'` has been deprecated in 1.1 and will be removed in 1.3. To keep the past behaviour, explicitly set `max_features='sqrt'` or remove this parameter as it is also the default value for RandomForestClassifiers and ExtraTreesClassifiers.\n",
      "\n",
      "C:\\Users\\vaiv\\Documents\\Git\\ConvAE_LSTM\\.convAE_lstm\\lib\\site-packages\\sklearn\\ensemble\\_forest.py:427: FutureWarning:\n",
      "\n",
      "`max_features='auto'` has been deprecated in 1.1 and will be removed in 1.3. To keep the past behaviour, explicitly set `max_features='sqrt'` or remove this parameter as it is also the default value for RandomForestClassifiers and ExtraTreesClassifiers.\n",
      "\n",
      "C:\\Users\\vaiv\\Documents\\Git\\ConvAE_LSTM\\.convAE_lstm\\lib\\site-packages\\sklearn\\ensemble\\_forest.py:427: FutureWarning:\n",
      "\n",
      "`max_features='auto'` has been deprecated in 1.1 and will be removed in 1.3. To keep the past behaviour, explicitly set `max_features='sqrt'` or remove this parameter as it is also the default value for RandomForestClassifiers and ExtraTreesClassifiers.\n",
      "\n",
      "C:\\Users\\vaiv\\Documents\\Git\\ConvAE_LSTM\\.convAE_lstm\\lib\\site-packages\\sklearn\\ensemble\\_forest.py:427: FutureWarning:\n",
      "\n",
      "`max_features='auto'` has been deprecated in 1.1 and will be removed in 1.3. To keep the past behaviour, explicitly set `max_features='sqrt'` or remove this parameter as it is also the default value for RandomForestClassifiers and ExtraTreesClassifiers.\n",
      "\n",
      "\u001b[32m[I 2022-10-21 15:23:35,639]\u001b[0m Trial 84 finished with value: 0.9532361308677098 and parameters: {'n_estimators': 174, 'max_depth': 4, 'criterion': 'entropy', 'max_features': 'auto', 'min_samples_leaf': 5}. Best is trial 1 with value: 0.9667496443812233.\u001b[0m\n",
      "C:\\Users\\vaiv\\Documents\\Git\\ConvAE_LSTM\\.convAE_lstm\\lib\\site-packages\\sklearn\\ensemble\\_forest.py:427: FutureWarning:\n",
      "\n",
      "`max_features='auto'` has been deprecated in 1.1 and will be removed in 1.3. To keep the past behaviour, explicitly set `max_features='sqrt'` or remove this parameter as it is also the default value for RandomForestClassifiers and ExtraTreesClassifiers.\n",
      "\n",
      "C:\\Users\\vaiv\\Documents\\Git\\ConvAE_LSTM\\.convAE_lstm\\lib\\site-packages\\sklearn\\ensemble\\_forest.py:427: FutureWarning:\n",
      "\n",
      "`max_features='auto'` has been deprecated in 1.1 and will be removed in 1.3. To keep the past behaviour, explicitly set `max_features='sqrt'` or remove this parameter as it is also the default value for RandomForestClassifiers and ExtraTreesClassifiers.\n",
      "\n",
      "C:\\Users\\vaiv\\Documents\\Git\\ConvAE_LSTM\\.convAE_lstm\\lib\\site-packages\\sklearn\\ensemble\\_forest.py:427: FutureWarning:\n",
      "\n",
      "`max_features='auto'` has been deprecated in 1.1 and will be removed in 1.3. To keep the past behaviour, explicitly set `max_features='sqrt'` or remove this parameter as it is also the default value for RandomForestClassifiers and ExtraTreesClassifiers.\n",
      "\n",
      "C:\\Users\\vaiv\\Documents\\Git\\ConvAE_LSTM\\.convAE_lstm\\lib\\site-packages\\sklearn\\ensemble\\_forest.py:427: FutureWarning:\n",
      "\n",
      "`max_features='auto'` has been deprecated in 1.1 and will be removed in 1.3. To keep the past behaviour, explicitly set `max_features='sqrt'` or remove this parameter as it is also the default value for RandomForestClassifiers and ExtraTreesClassifiers.\n",
      "\n",
      "\u001b[32m[I 2022-10-21 15:23:35,752]\u001b[0m Trial 85 finished with value: 0.9532361308677098 and parameters: {'n_estimators': 17, 'max_depth': 5, 'criterion': 'entropy', 'max_features': 'auto', 'min_samples_leaf': 4}. Best is trial 1 with value: 0.9667496443812233.\u001b[0m\n",
      "C:\\Users\\vaiv\\Documents\\Git\\ConvAE_LSTM\\.convAE_lstm\\lib\\site-packages\\sklearn\\ensemble\\_forest.py:427: FutureWarning:\n",
      "\n",
      "`max_features='auto'` has been deprecated in 1.1 and will be removed in 1.3. To keep the past behaviour, explicitly set `max_features='sqrt'` or remove this parameter as it is also the default value for RandomForestClassifiers and ExtraTreesClassifiers.\n",
      "\n",
      "C:\\Users\\vaiv\\Documents\\Git\\ConvAE_LSTM\\.convAE_lstm\\lib\\site-packages\\sklearn\\ensemble\\_forest.py:427: FutureWarning:\n",
      "\n",
      "`max_features='auto'` has been deprecated in 1.1 and will be removed in 1.3. To keep the past behaviour, explicitly set `max_features='sqrt'` or remove this parameter as it is also the default value for RandomForestClassifiers and ExtraTreesClassifiers.\n",
      "\n"
     ]
    },
    {
     "name": "stderr",
     "output_type": "stream",
     "text": [
      "C:\\Users\\vaiv\\Documents\\Git\\ConvAE_LSTM\\.convAE_lstm\\lib\\site-packages\\sklearn\\ensemble\\_forest.py:427: FutureWarning:\n",
      "\n",
      "`max_features='auto'` has been deprecated in 1.1 and will be removed in 1.3. To keep the past behaviour, explicitly set `max_features='sqrt'` or remove this parameter as it is also the default value for RandomForestClassifiers and ExtraTreesClassifiers.\n",
      "\n",
      "C:\\Users\\vaiv\\Documents\\Git\\ConvAE_LSTM\\.convAE_lstm\\lib\\site-packages\\sklearn\\ensemble\\_forest.py:427: FutureWarning:\n",
      "\n",
      "`max_features='auto'` has been deprecated in 1.1 and will be removed in 1.3. To keep the past behaviour, explicitly set `max_features='sqrt'` or remove this parameter as it is also the default value for RandomForestClassifiers and ExtraTreesClassifiers.\n",
      "\n",
      "\u001b[32m[I 2022-10-21 15:23:35,985]\u001b[0m Trial 86 finished with value: 0.9466571834992887 and parameters: {'n_estimators': 38, 'max_depth': 6, 'criterion': 'entropy', 'max_features': 'auto', 'min_samples_leaf': 6}. Best is trial 1 with value: 0.9667496443812233.\u001b[0m\n",
      "C:\\Users\\vaiv\\Documents\\Git\\ConvAE_LSTM\\.convAE_lstm\\lib\\site-packages\\sklearn\\ensemble\\_forest.py:427: FutureWarning:\n",
      "\n",
      "`max_features='auto'` has been deprecated in 1.1 and will be removed in 1.3. To keep the past behaviour, explicitly set `max_features='sqrt'` or remove this parameter as it is also the default value for RandomForestClassifiers and ExtraTreesClassifiers.\n",
      "\n",
      "C:\\Users\\vaiv\\Documents\\Git\\ConvAE_LSTM\\.convAE_lstm\\lib\\site-packages\\sklearn\\ensemble\\_forest.py:427: FutureWarning:\n",
      "\n",
      "`max_features='auto'` has been deprecated in 1.1 and will be removed in 1.3. To keep the past behaviour, explicitly set `max_features='sqrt'` or remove this parameter as it is also the default value for RandomForestClassifiers and ExtraTreesClassifiers.\n",
      "\n",
      "C:\\Users\\vaiv\\Documents\\Git\\ConvAE_LSTM\\.convAE_lstm\\lib\\site-packages\\sklearn\\ensemble\\_forest.py:427: FutureWarning:\n",
      "\n",
      "`max_features='auto'` has been deprecated in 1.1 and will be removed in 1.3. To keep the past behaviour, explicitly set `max_features='sqrt'` or remove this parameter as it is also the default value for RandomForestClassifiers and ExtraTreesClassifiers.\n",
      "\n",
      "C:\\Users\\vaiv\\Documents\\Git\\ConvAE_LSTM\\.convAE_lstm\\lib\\site-packages\\sklearn\\ensemble\\_forest.py:427: FutureWarning:\n",
      "\n",
      "`max_features='auto'` has been deprecated in 1.1 and will be removed in 1.3. To keep the past behaviour, explicitly set `max_features='sqrt'` or remove this parameter as it is also the default value for RandomForestClassifiers and ExtraTreesClassifiers.\n",
      "\n",
      "\u001b[32m[I 2022-10-21 15:23:36,613]\u001b[0m Trial 87 finished with value: 0.9599928876244666 and parameters: {'n_estimators': 117, 'max_depth': 10, 'criterion': 'entropy', 'max_features': 'auto', 'min_samples_leaf': 7}. Best is trial 1 with value: 0.9667496443812233.\u001b[0m\n",
      "\u001b[32m[I 2022-10-21 15:23:36,888]\u001b[0m Trial 88 finished with value: 0.9532361308677098 and parameters: {'n_estimators': 53, 'max_depth': 5, 'criterion': 'entropy', 'max_features': 'sqrt', 'min_samples_leaf': 4}. Best is trial 1 with value: 0.9667496443812233.\u001b[0m\n",
      "C:\\Users\\vaiv\\Documents\\Git\\ConvAE_LSTM\\.convAE_lstm\\lib\\site-packages\\sklearn\\ensemble\\_forest.py:427: FutureWarning:\n",
      "\n",
      "`max_features='auto'` has been deprecated in 1.1 and will be removed in 1.3. To keep the past behaviour, explicitly set `max_features='sqrt'` or remove this parameter as it is also the default value for RandomForestClassifiers and ExtraTreesClassifiers.\n",
      "\n",
      "C:\\Users\\vaiv\\Documents\\Git\\ConvAE_LSTM\\.convAE_lstm\\lib\\site-packages\\sklearn\\ensemble\\_forest.py:427: FutureWarning:\n",
      "\n",
      "`max_features='auto'` has been deprecated in 1.1 and will be removed in 1.3. To keep the past behaviour, explicitly set `max_features='sqrt'` or remove this parameter as it is also the default value for RandomForestClassifiers and ExtraTreesClassifiers.\n",
      "\n",
      "C:\\Users\\vaiv\\Documents\\Git\\ConvAE_LSTM\\.convAE_lstm\\lib\\site-packages\\sklearn\\ensemble\\_forest.py:427: FutureWarning:\n",
      "\n",
      "`max_features='auto'` has been deprecated in 1.1 and will be removed in 1.3. To keep the past behaviour, explicitly set `max_features='sqrt'` or remove this parameter as it is also the default value for RandomForestClassifiers and ExtraTreesClassifiers.\n",
      "\n",
      "C:\\Users\\vaiv\\Documents\\Git\\ConvAE_LSTM\\.convAE_lstm\\lib\\site-packages\\sklearn\\ensemble\\_forest.py:427: FutureWarning:\n",
      "\n",
      "`max_features='auto'` has been deprecated in 1.1 and will be removed in 1.3. To keep the past behaviour, explicitly set `max_features='sqrt'` or remove this parameter as it is also the default value for RandomForestClassifiers and ExtraTreesClassifiers.\n",
      "\n",
      "\u001b[32m[I 2022-10-21 15:23:37,059]\u001b[0m Trial 89 finished with value: 0.9532361308677098 and parameters: {'n_estimators': 29, 'max_depth': 7, 'criterion': 'gini', 'max_features': 'auto', 'min_samples_leaf': 4}. Best is trial 1 with value: 0.9667496443812233.\u001b[0m\n",
      "C:\\Users\\vaiv\\Documents\\Git\\ConvAE_LSTM\\.convAE_lstm\\lib\\site-packages\\sklearn\\ensemble\\_forest.py:427: FutureWarning:\n",
      "\n",
      "`max_features='auto'` has been deprecated in 1.1 and will be removed in 1.3. To keep the past behaviour, explicitly set `max_features='sqrt'` or remove this parameter as it is also the default value for RandomForestClassifiers and ExtraTreesClassifiers.\n",
      "\n",
      "C:\\Users\\vaiv\\Documents\\Git\\ConvAE_LSTM\\.convAE_lstm\\lib\\site-packages\\sklearn\\ensemble\\_forest.py:427: FutureWarning:\n",
      "\n",
      "`max_features='auto'` has been deprecated in 1.1 and will be removed in 1.3. To keep the past behaviour, explicitly set `max_features='sqrt'` or remove this parameter as it is also the default value for RandomForestClassifiers and ExtraTreesClassifiers.\n",
      "\n",
      "C:\\Users\\vaiv\\Documents\\Git\\ConvAE_LSTM\\.convAE_lstm\\lib\\site-packages\\sklearn\\ensemble\\_forest.py:427: FutureWarning:\n",
      "\n",
      "`max_features='auto'` has been deprecated in 1.1 and will be removed in 1.3. To keep the past behaviour, explicitly set `max_features='sqrt'` or remove this parameter as it is also the default value for RandomForestClassifiers and ExtraTreesClassifiers.\n",
      "\n",
      "C:\\Users\\vaiv\\Documents\\Git\\ConvAE_LSTM\\.convAE_lstm\\lib\\site-packages\\sklearn\\ensemble\\_forest.py:427: FutureWarning:\n",
      "\n",
      "`max_features='auto'` has been deprecated in 1.1 and will be removed in 1.3. To keep the past behaviour, explicitly set `max_features='sqrt'` or remove this parameter as it is also the default value for RandomForestClassifiers and ExtraTreesClassifiers.\n",
      "\n",
      "\u001b[32m[I 2022-10-21 15:23:37,460]\u001b[0m Trial 90 finished with value: 0.9532361308677098 and parameters: {'n_estimators': 72, 'max_depth': 6, 'criterion': 'gini', 'max_features': 'auto', 'min_samples_leaf': 4}. Best is trial 1 with value: 0.9667496443812233.\u001b[0m\n",
      "C:\\Users\\vaiv\\Documents\\Git\\ConvAE_LSTM\\.convAE_lstm\\lib\\site-packages\\sklearn\\ensemble\\_forest.py:427: FutureWarning:\n",
      "\n",
      "`max_features='auto'` has been deprecated in 1.1 and will be removed in 1.3. To keep the past behaviour, explicitly set `max_features='sqrt'` or remove this parameter as it is also the default value for RandomForestClassifiers and ExtraTreesClassifiers.\n",
      "\n",
      "C:\\Users\\vaiv\\Documents\\Git\\ConvAE_LSTM\\.convAE_lstm\\lib\\site-packages\\sklearn\\ensemble\\_forest.py:427: FutureWarning:\n",
      "\n",
      "`max_features='auto'` has been deprecated in 1.1 and will be removed in 1.3. To keep the past behaviour, explicitly set `max_features='sqrt'` or remove this parameter as it is also the default value for RandomForestClassifiers and ExtraTreesClassifiers.\n",
      "\n",
      "C:\\Users\\vaiv\\Documents\\Git\\ConvAE_LSTM\\.convAE_lstm\\lib\\site-packages\\sklearn\\ensemble\\_forest.py:427: FutureWarning:\n",
      "\n",
      "`max_features='auto'` has been deprecated in 1.1 and will be removed in 1.3. To keep the past behaviour, explicitly set `max_features='sqrt'` or remove this parameter as it is also the default value for RandomForestClassifiers and ExtraTreesClassifiers.\n",
      "\n",
      "C:\\Users\\vaiv\\Documents\\Git\\ConvAE_LSTM\\.convAE_lstm\\lib\\site-packages\\sklearn\\ensemble\\_forest.py:427: FutureWarning:\n",
      "\n",
      "`max_features='auto'` has been deprecated in 1.1 and will be removed in 1.3. To keep the past behaviour, explicitly set `max_features='sqrt'` or remove this parameter as it is also the default value for RandomForestClassifiers and ExtraTreesClassifiers.\n",
      "\n",
      "\u001b[32m[I 2022-10-21 15:23:37,821]\u001b[0m Trial 91 finished with value: 0.9667496443812233 and parameters: {'n_estimators': 65, 'max_depth': 9, 'criterion': 'entropy', 'max_features': 'auto', 'min_samples_leaf': 5}. Best is trial 1 with value: 0.9667496443812233.\u001b[0m\n"
     ]
    },
    {
     "name": "stderr",
     "output_type": "stream",
     "text": [
      "C:\\Users\\vaiv\\Documents\\Git\\ConvAE_LSTM\\.convAE_lstm\\lib\\site-packages\\sklearn\\ensemble\\_forest.py:427: FutureWarning:\n",
      "\n",
      "`max_features='auto'` has been deprecated in 1.1 and will be removed in 1.3. To keep the past behaviour, explicitly set `max_features='sqrt'` or remove this parameter as it is also the default value for RandomForestClassifiers and ExtraTreesClassifiers.\n",
      "\n",
      "C:\\Users\\vaiv\\Documents\\Git\\ConvAE_LSTM\\.convAE_lstm\\lib\\site-packages\\sklearn\\ensemble\\_forest.py:427: FutureWarning:\n",
      "\n",
      "`max_features='auto'` has been deprecated in 1.1 and will be removed in 1.3. To keep the past behaviour, explicitly set `max_features='sqrt'` or remove this parameter as it is also the default value for RandomForestClassifiers and ExtraTreesClassifiers.\n",
      "\n",
      "C:\\Users\\vaiv\\Documents\\Git\\ConvAE_LSTM\\.convAE_lstm\\lib\\site-packages\\sklearn\\ensemble\\_forest.py:427: FutureWarning:\n",
      "\n",
      "`max_features='auto'` has been deprecated in 1.1 and will be removed in 1.3. To keep the past behaviour, explicitly set `max_features='sqrt'` or remove this parameter as it is also the default value for RandomForestClassifiers and ExtraTreesClassifiers.\n",
      "\n",
      "C:\\Users\\vaiv\\Documents\\Git\\ConvAE_LSTM\\.convAE_lstm\\lib\\site-packages\\sklearn\\ensemble\\_forest.py:427: FutureWarning:\n",
      "\n",
      "`max_features='auto'` has been deprecated in 1.1 and will be removed in 1.3. To keep the past behaviour, explicitly set `max_features='sqrt'` or remove this parameter as it is also the default value for RandomForestClassifiers and ExtraTreesClassifiers.\n",
      "\n",
      "\u001b[32m[I 2022-10-21 15:23:38,209]\u001b[0m Trial 92 finished with value: 0.9532361308677098 and parameters: {'n_estimators': 63, 'max_depth': 8, 'criterion': 'gini', 'max_features': 'auto', 'min_samples_leaf': 4}. Best is trial 1 with value: 0.9667496443812233.\u001b[0m\n",
      "C:\\Users\\vaiv\\Documents\\Git\\ConvAE_LSTM\\.convAE_lstm\\lib\\site-packages\\sklearn\\ensemble\\_forest.py:427: FutureWarning:\n",
      "\n",
      "`max_features='auto'` has been deprecated in 1.1 and will be removed in 1.3. To keep the past behaviour, explicitly set `max_features='sqrt'` or remove this parameter as it is also the default value for RandomForestClassifiers and ExtraTreesClassifiers.\n",
      "\n",
      "C:\\Users\\vaiv\\Documents\\Git\\ConvAE_LSTM\\.convAE_lstm\\lib\\site-packages\\sklearn\\ensemble\\_forest.py:427: FutureWarning:\n",
      "\n",
      "`max_features='auto'` has been deprecated in 1.1 and will be removed in 1.3. To keep the past behaviour, explicitly set `max_features='sqrt'` or remove this parameter as it is also the default value for RandomForestClassifiers and ExtraTreesClassifiers.\n",
      "\n",
      "C:\\Users\\vaiv\\Documents\\Git\\ConvAE_LSTM\\.convAE_lstm\\lib\\site-packages\\sklearn\\ensemble\\_forest.py:427: FutureWarning:\n",
      "\n",
      "`max_features='auto'` has been deprecated in 1.1 and will be removed in 1.3. To keep the past behaviour, explicitly set `max_features='sqrt'` or remove this parameter as it is also the default value for RandomForestClassifiers and ExtraTreesClassifiers.\n",
      "\n",
      "C:\\Users\\vaiv\\Documents\\Git\\ConvAE_LSTM\\.convAE_lstm\\lib\\site-packages\\sklearn\\ensemble\\_forest.py:427: FutureWarning:\n",
      "\n",
      "`max_features='auto'` has been deprecated in 1.1 and will be removed in 1.3. To keep the past behaviour, explicitly set `max_features='sqrt'` or remove this parameter as it is also the default value for RandomForestClassifiers and ExtraTreesClassifiers.\n",
      "\n",
      "\u001b[32m[I 2022-10-21 15:23:38,466]\u001b[0m Trial 93 finished with value: 0.9532361308677098 and parameters: {'n_estimators': 43, 'max_depth': 9, 'criterion': 'entropy', 'max_features': 'auto', 'min_samples_leaf': 5}. Best is trial 1 with value: 0.9667496443812233.\u001b[0m\n",
      "\u001b[32m[I 2022-10-21 15:23:38,969]\u001b[0m Trial 94 finished with value: 0.9534139402560455 and parameters: {'n_estimators': 81, 'max_depth': 7, 'criterion': 'entropy', 'max_features': 'sqrt', 'min_samples_leaf': 5}. Best is trial 1 with value: 0.9667496443812233.\u001b[0m\n",
      "C:\\Users\\vaiv\\Documents\\Git\\ConvAE_LSTM\\.convAE_lstm\\lib\\site-packages\\sklearn\\ensemble\\_forest.py:427: FutureWarning:\n",
      "\n",
      "`max_features='auto'` has been deprecated in 1.1 and will be removed in 1.3. To keep the past behaviour, explicitly set `max_features='sqrt'` or remove this parameter as it is also the default value for RandomForestClassifiers and ExtraTreesClassifiers.\n",
      "\n",
      "C:\\Users\\vaiv\\Documents\\Git\\ConvAE_LSTM\\.convAE_lstm\\lib\\site-packages\\sklearn\\ensemble\\_forest.py:427: FutureWarning:\n",
      "\n",
      "`max_features='auto'` has been deprecated in 1.1 and will be removed in 1.3. To keep the past behaviour, explicitly set `max_features='sqrt'` or remove this parameter as it is also the default value for RandomForestClassifiers and ExtraTreesClassifiers.\n",
      "\n",
      "C:\\Users\\vaiv\\Documents\\Git\\ConvAE_LSTM\\.convAE_lstm\\lib\\site-packages\\sklearn\\ensemble\\_forest.py:427: FutureWarning:\n",
      "\n",
      "`max_features='auto'` has been deprecated in 1.1 and will be removed in 1.3. To keep the past behaviour, explicitly set `max_features='sqrt'` or remove this parameter as it is also the default value for RandomForestClassifiers and ExtraTreesClassifiers.\n",
      "\n",
      "C:\\Users\\vaiv\\Documents\\Git\\ConvAE_LSTM\\.convAE_lstm\\lib\\site-packages\\sklearn\\ensemble\\_forest.py:427: FutureWarning:\n",
      "\n",
      "`max_features='auto'` has been deprecated in 1.1 and will be removed in 1.3. To keep the past behaviour, explicitly set `max_features='sqrt'` or remove this parameter as it is also the default value for RandomForestClassifiers and ExtraTreesClassifiers.\n",
      "\n",
      "\u001b[32m[I 2022-10-21 15:23:39,367]\u001b[0m Trial 95 finished with value: 0.9599928876244666 and parameters: {'n_estimators': 73, 'max_depth': 10, 'criterion': 'entropy', 'max_features': 'auto', 'min_samples_leaf': 5}. Best is trial 1 with value: 0.9667496443812233.\u001b[0m\n",
      "C:\\Users\\vaiv\\Documents\\Git\\ConvAE_LSTM\\.convAE_lstm\\lib\\site-packages\\sklearn\\ensemble\\_forest.py:427: FutureWarning:\n",
      "\n",
      "`max_features='auto'` has been deprecated in 1.1 and will be removed in 1.3. To keep the past behaviour, explicitly set `max_features='sqrt'` or remove this parameter as it is also the default value for RandomForestClassifiers and ExtraTreesClassifiers.\n",
      "\n",
      "C:\\Users\\vaiv\\Documents\\Git\\ConvAE_LSTM\\.convAE_lstm\\lib\\site-packages\\sklearn\\ensemble\\_forest.py:427: FutureWarning:\n",
      "\n",
      "`max_features='auto'` has been deprecated in 1.1 and will be removed in 1.3. To keep the past behaviour, explicitly set `max_features='sqrt'` or remove this parameter as it is also the default value for RandomForestClassifiers and ExtraTreesClassifiers.\n",
      "\n",
      "C:\\Users\\vaiv\\Documents\\Git\\ConvAE_LSTM\\.convAE_lstm\\lib\\site-packages\\sklearn\\ensemble\\_forest.py:427: FutureWarning:\n",
      "\n",
      "`max_features='auto'` has been deprecated in 1.1 and will be removed in 1.3. To keep the past behaviour, explicitly set `max_features='sqrt'` or remove this parameter as it is also the default value for RandomForestClassifiers and ExtraTreesClassifiers.\n",
      "\n",
      "C:\\Users\\vaiv\\Documents\\Git\\ConvAE_LSTM\\.convAE_lstm\\lib\\site-packages\\sklearn\\ensemble\\_forest.py:427: FutureWarning:\n",
      "\n",
      "`max_features='auto'` has been deprecated in 1.1 and will be removed in 1.3. To keep the past behaviour, explicitly set `max_features='sqrt'` or remove this parameter as it is also the default value for RandomForestClassifiers and ExtraTreesClassifiers.\n",
      "\n",
      "\u001b[32m[I 2022-10-21 15:23:39,697]\u001b[0m Trial 96 finished with value: 0.9532361308677098 and parameters: {'n_estimators': 57, 'max_depth': 11, 'criterion': 'gini', 'max_features': 'auto', 'min_samples_leaf': 6}. Best is trial 1 with value: 0.9667496443812233.\u001b[0m\n",
      "C:\\Users\\vaiv\\Documents\\Git\\ConvAE_LSTM\\.convAE_lstm\\lib\\site-packages\\sklearn\\ensemble\\_forest.py:427: FutureWarning:\n",
      "\n",
      "`max_features='auto'` has been deprecated in 1.1 and will be removed in 1.3. To keep the past behaviour, explicitly set `max_features='sqrt'` or remove this parameter as it is also the default value for RandomForestClassifiers and ExtraTreesClassifiers.\n",
      "\n",
      "C:\\Users\\vaiv\\Documents\\Git\\ConvAE_LSTM\\.convAE_lstm\\lib\\site-packages\\sklearn\\ensemble\\_forest.py:427: FutureWarning:\n",
      "\n",
      "`max_features='auto'` has been deprecated in 1.1 and will be removed in 1.3. To keep the past behaviour, explicitly set `max_features='sqrt'` or remove this parameter as it is also the default value for RandomForestClassifiers and ExtraTreesClassifiers.\n",
      "\n",
      "C:\\Users\\vaiv\\Documents\\Git\\ConvAE_LSTM\\.convAE_lstm\\lib\\site-packages\\sklearn\\ensemble\\_forest.py:427: FutureWarning:\n",
      "\n",
      "`max_features='auto'` has been deprecated in 1.1 and will be removed in 1.3. To keep the past behaviour, explicitly set `max_features='sqrt'` or remove this parameter as it is also the default value for RandomForestClassifiers and ExtraTreesClassifiers.\n",
      "\n"
     ]
    },
    {
     "name": "stderr",
     "output_type": "stream",
     "text": [
      "C:\\Users\\vaiv\\Documents\\Git\\ConvAE_LSTM\\.convAE_lstm\\lib\\site-packages\\sklearn\\ensemble\\_forest.py:427: FutureWarning:\n",
      "\n",
      "`max_features='auto'` has been deprecated in 1.1 and will be removed in 1.3. To keep the past behaviour, explicitly set `max_features='sqrt'` or remove this parameter as it is also the default value for RandomForestClassifiers and ExtraTreesClassifiers.\n",
      "\n",
      "\u001b[32m[I 2022-10-21 15:23:40,325]\u001b[0m Trial 97 finished with value: 0.9599928876244666 and parameters: {'n_estimators': 104, 'max_depth': 10, 'criterion': 'gini', 'max_features': 'auto', 'min_samples_leaf': 4}. Best is trial 1 with value: 0.9667496443812233.\u001b[0m\n",
      "C:\\Users\\vaiv\\Documents\\Git\\ConvAE_LSTM\\.convAE_lstm\\lib\\site-packages\\sklearn\\ensemble\\_forest.py:427: FutureWarning:\n",
      "\n",
      "`max_features='auto'` has been deprecated in 1.1 and will be removed in 1.3. To keep the past behaviour, explicitly set `max_features='sqrt'` or remove this parameter as it is also the default value for RandomForestClassifiers and ExtraTreesClassifiers.\n",
      "\n",
      "C:\\Users\\vaiv\\Documents\\Git\\ConvAE_LSTM\\.convAE_lstm\\lib\\site-packages\\sklearn\\ensemble\\_forest.py:427: FutureWarning:\n",
      "\n",
      "`max_features='auto'` has been deprecated in 1.1 and will be removed in 1.3. To keep the past behaviour, explicitly set `max_features='sqrt'` or remove this parameter as it is also the default value for RandomForestClassifiers and ExtraTreesClassifiers.\n",
      "\n",
      "C:\\Users\\vaiv\\Documents\\Git\\ConvAE_LSTM\\.convAE_lstm\\lib\\site-packages\\sklearn\\ensemble\\_forest.py:427: FutureWarning:\n",
      "\n",
      "`max_features='auto'` has been deprecated in 1.1 and will be removed in 1.3. To keep the past behaviour, explicitly set `max_features='sqrt'` or remove this parameter as it is also the default value for RandomForestClassifiers and ExtraTreesClassifiers.\n",
      "\n",
      "C:\\Users\\vaiv\\Documents\\Git\\ConvAE_LSTM\\.convAE_lstm\\lib\\site-packages\\sklearn\\ensemble\\_forest.py:427: FutureWarning:\n",
      "\n",
      "`max_features='auto'` has been deprecated in 1.1 and will be removed in 1.3. To keep the past behaviour, explicitly set `max_features='sqrt'` or remove this parameter as it is also the default value for RandomForestClassifiers and ExtraTreesClassifiers.\n",
      "\n",
      "\u001b[32m[I 2022-10-21 15:23:40,656]\u001b[0m Trial 98 finished with value: 0.9599928876244666 and parameters: {'n_estimators': 60, 'max_depth': 11, 'criterion': 'gini', 'max_features': 'auto', 'min_samples_leaf': 4}. Best is trial 1 with value: 0.9667496443812233.\u001b[0m\n",
      "C:\\Users\\vaiv\\Documents\\Git\\ConvAE_LSTM\\.convAE_lstm\\lib\\site-packages\\sklearn\\ensemble\\_forest.py:427: FutureWarning:\n",
      "\n",
      "`max_features='auto'` has been deprecated in 1.1 and will be removed in 1.3. To keep the past behaviour, explicitly set `max_features='sqrt'` or remove this parameter as it is also the default value for RandomForestClassifiers and ExtraTreesClassifiers.\n",
      "\n",
      "C:\\Users\\vaiv\\Documents\\Git\\ConvAE_LSTM\\.convAE_lstm\\lib\\site-packages\\sklearn\\ensemble\\_forest.py:427: FutureWarning:\n",
      "\n",
      "`max_features='auto'` has been deprecated in 1.1 and will be removed in 1.3. To keep the past behaviour, explicitly set `max_features='sqrt'` or remove this parameter as it is also the default value for RandomForestClassifiers and ExtraTreesClassifiers.\n",
      "\n",
      "C:\\Users\\vaiv\\Documents\\Git\\ConvAE_LSTM\\.convAE_lstm\\lib\\site-packages\\sklearn\\ensemble\\_forest.py:427: FutureWarning:\n",
      "\n",
      "`max_features='auto'` has been deprecated in 1.1 and will be removed in 1.3. To keep the past behaviour, explicitly set `max_features='sqrt'` or remove this parameter as it is also the default value for RandomForestClassifiers and ExtraTreesClassifiers.\n",
      "\n",
      "C:\\Users\\vaiv\\Documents\\Git\\ConvAE_LSTM\\.convAE_lstm\\lib\\site-packages\\sklearn\\ensemble\\_forest.py:427: FutureWarning:\n",
      "\n",
      "`max_features='auto'` has been deprecated in 1.1 and will be removed in 1.3. To keep the past behaviour, explicitly set `max_features='sqrt'` or remove this parameter as it is also the default value for RandomForestClassifiers and ExtraTreesClassifiers.\n",
      "\n",
      "\u001b[32m[I 2022-10-21 15:23:40,945]\u001b[0m Trial 99 finished with value: 0.9601706970128022 and parameters: {'n_estimators': 51, 'max_depth': 13, 'criterion': 'entropy', 'max_features': 'auto', 'min_samples_leaf': 4}. Best is trial 1 with value: 0.9667496443812233.\u001b[0m\n",
      "C:\\Users\\vaiv\\Documents\\Git\\ConvAE_LSTM\\.convAE_lstm\\lib\\site-packages\\sklearn\\ensemble\\_forest.py:427: FutureWarning:\n",
      "\n",
      "`max_features='auto'` has been deprecated in 1.1 and will be removed in 1.3. To keep the past behaviour, explicitly set `max_features='sqrt'` or remove this parameter as it is also the default value for RandomForestClassifiers and ExtraTreesClassifiers.\n",
      "\n",
      "C:\\Users\\vaiv\\Documents\\Git\\ConvAE_LSTM\\.convAE_lstm\\lib\\site-packages\\sklearn\\ensemble\\_forest.py:427: FutureWarning:\n",
      "\n",
      "`max_features='auto'` has been deprecated in 1.1 and will be removed in 1.3. To keep the past behaviour, explicitly set `max_features='sqrt'` or remove this parameter as it is also the default value for RandomForestClassifiers and ExtraTreesClassifiers.\n",
      "\n",
      "C:\\Users\\vaiv\\Documents\\Git\\ConvAE_LSTM\\.convAE_lstm\\lib\\site-packages\\sklearn\\ensemble\\_forest.py:427: FutureWarning:\n",
      "\n",
      "`max_features='auto'` has been deprecated in 1.1 and will be removed in 1.3. To keep the past behaviour, explicitly set `max_features='sqrt'` or remove this parameter as it is also the default value for RandomForestClassifiers and ExtraTreesClassifiers.\n",
      "\n",
      "C:\\Users\\vaiv\\Documents\\Git\\ConvAE_LSTM\\.convAE_lstm\\lib\\site-packages\\sklearn\\ensemble\\_forest.py:427: FutureWarning:\n",
      "\n",
      "`max_features='auto'` has been deprecated in 1.1 and will be removed in 1.3. To keep the past behaviour, explicitly set `max_features='sqrt'` or remove this parameter as it is also the default value for RandomForestClassifiers and ExtraTreesClassifiers.\n",
      "\n",
      "\u001b[32m[I 2022-10-21 15:23:41,317]\u001b[0m Trial 100 finished with value: 0.9599928876244666 and parameters: {'n_estimators': 65, 'max_depth': 9, 'criterion': 'entropy', 'max_features': 'auto', 'min_samples_leaf': 5}. Best is trial 1 with value: 0.9667496443812233.\u001b[0m\n",
      "C:\\Users\\vaiv\\Documents\\Git\\ConvAE_LSTM\\.convAE_lstm\\lib\\site-packages\\sklearn\\ensemble\\_forest.py:427: FutureWarning:\n",
      "\n",
      "`max_features='auto'` has been deprecated in 1.1 and will be removed in 1.3. To keep the past behaviour, explicitly set `max_features='sqrt'` or remove this parameter as it is also the default value for RandomForestClassifiers and ExtraTreesClassifiers.\n",
      "\n",
      "C:\\Users\\vaiv\\Documents\\Git\\ConvAE_LSTM\\.convAE_lstm\\lib\\site-packages\\sklearn\\ensemble\\_forest.py:427: FutureWarning:\n",
      "\n",
      "`max_features='auto'` has been deprecated in 1.1 and will be removed in 1.3. To keep the past behaviour, explicitly set `max_features='sqrt'` or remove this parameter as it is also the default value for RandomForestClassifiers and ExtraTreesClassifiers.\n",
      "\n",
      "C:\\Users\\vaiv\\Documents\\Git\\ConvAE_LSTM\\.convAE_lstm\\lib\\site-packages\\sklearn\\ensemble\\_forest.py:427: FutureWarning:\n",
      "\n",
      "`max_features='auto'` has been deprecated in 1.1 and will be removed in 1.3. To keep the past behaviour, explicitly set `max_features='sqrt'` or remove this parameter as it is also the default value for RandomForestClassifiers and ExtraTreesClassifiers.\n",
      "\n",
      "C:\\Users\\vaiv\\Documents\\Git\\ConvAE_LSTM\\.convAE_lstm\\lib\\site-packages\\sklearn\\ensemble\\_forest.py:427: FutureWarning:\n",
      "\n",
      "`max_features='auto'` has been deprecated in 1.1 and will be removed in 1.3. To keep the past behaviour, explicitly set `max_features='sqrt'` or remove this parameter as it is also the default value for RandomForestClassifiers and ExtraTreesClassifiers.\n",
      "\n",
      "\u001b[32m[I 2022-10-21 15:23:41,683]\u001b[0m Trial 101 finished with value: 0.9534139402560455 and parameters: {'n_estimators': 67, 'max_depth': 8, 'criterion': 'gini', 'max_features': 'auto', 'min_samples_leaf': 7}. Best is trial 1 with value: 0.9667496443812233.\u001b[0m\n",
      "C:\\Users\\vaiv\\Documents\\Git\\ConvAE_LSTM\\.convAE_lstm\\lib\\site-packages\\sklearn\\ensemble\\_forest.py:427: FutureWarning:\n",
      "\n",
      "`max_features='auto'` has been deprecated in 1.1 and will be removed in 1.3. To keep the past behaviour, explicitly set `max_features='sqrt'` or remove this parameter as it is also the default value for RandomForestClassifiers and ExtraTreesClassifiers.\n",
      "\n",
      "C:\\Users\\vaiv\\Documents\\Git\\ConvAE_LSTM\\.convAE_lstm\\lib\\site-packages\\sklearn\\ensemble\\_forest.py:427: FutureWarning:\n",
      "\n",
      "`max_features='auto'` has been deprecated in 1.1 and will be removed in 1.3. To keep the past behaviour, explicitly set `max_features='sqrt'` or remove this parameter as it is also the default value for RandomForestClassifiers and ExtraTreesClassifiers.\n",
      "\n"
     ]
    },
    {
     "name": "stderr",
     "output_type": "stream",
     "text": [
      "C:\\Users\\vaiv\\Documents\\Git\\ConvAE_LSTM\\.convAE_lstm\\lib\\site-packages\\sklearn\\ensemble\\_forest.py:427: FutureWarning:\n",
      "\n",
      "`max_features='auto'` has been deprecated in 1.1 and will be removed in 1.3. To keep the past behaviour, explicitly set `max_features='sqrt'` or remove this parameter as it is also the default value for RandomForestClassifiers and ExtraTreesClassifiers.\n",
      "\n",
      "C:\\Users\\vaiv\\Documents\\Git\\ConvAE_LSTM\\.convAE_lstm\\lib\\site-packages\\sklearn\\ensemble\\_forest.py:427: FutureWarning:\n",
      "\n",
      "`max_features='auto'` has been deprecated in 1.1 and will be removed in 1.3. To keep the past behaviour, explicitly set `max_features='sqrt'` or remove this parameter as it is also the default value for RandomForestClassifiers and ExtraTreesClassifiers.\n",
      "\n",
      "\u001b[32m[I 2022-10-21 15:23:42,170]\u001b[0m Trial 102 finished with value: 0.9534139402560455 and parameters: {'n_estimators': 74, 'max_depth': 9, 'criterion': 'entropy', 'max_features': 'auto', 'min_samples_leaf': 5}. Best is trial 1 with value: 0.9667496443812233.\u001b[0m\n",
      "C:\\Users\\vaiv\\Documents\\Git\\ConvAE_LSTM\\.convAE_lstm\\lib\\site-packages\\sklearn\\ensemble\\_forest.py:427: FutureWarning:\n",
      "\n",
      "`max_features='auto'` has been deprecated in 1.1 and will be removed in 1.3. To keep the past behaviour, explicitly set `max_features='sqrt'` or remove this parameter as it is also the default value for RandomForestClassifiers and ExtraTreesClassifiers.\n",
      "\n",
      "C:\\Users\\vaiv\\Documents\\Git\\ConvAE_LSTM\\.convAE_lstm\\lib\\site-packages\\sklearn\\ensemble\\_forest.py:427: FutureWarning:\n",
      "\n",
      "`max_features='auto'` has been deprecated in 1.1 and will be removed in 1.3. To keep the past behaviour, explicitly set `max_features='sqrt'` or remove this parameter as it is also the default value for RandomForestClassifiers and ExtraTreesClassifiers.\n",
      "\n",
      "C:\\Users\\vaiv\\Documents\\Git\\ConvAE_LSTM\\.convAE_lstm\\lib\\site-packages\\sklearn\\ensemble\\_forest.py:427: FutureWarning:\n",
      "\n",
      "`max_features='auto'` has been deprecated in 1.1 and will be removed in 1.3. To keep the past behaviour, explicitly set `max_features='sqrt'` or remove this parameter as it is also the default value for RandomForestClassifiers and ExtraTreesClassifiers.\n",
      "\n",
      "C:\\Users\\vaiv\\Documents\\Git\\ConvAE_LSTM\\.convAE_lstm\\lib\\site-packages\\sklearn\\ensemble\\_forest.py:427: FutureWarning:\n",
      "\n",
      "`max_features='auto'` has been deprecated in 1.1 and will be removed in 1.3. To keep the past behaviour, explicitly set `max_features='sqrt'` or remove this parameter as it is also the default value for RandomForestClassifiers and ExtraTreesClassifiers.\n",
      "\n",
      "\u001b[32m[I 2022-10-21 15:23:42,544]\u001b[0m Trial 103 finished with value: 0.9667496443812233 and parameters: {'n_estimators': 62, 'max_depth': 8, 'criterion': 'entropy', 'max_features': 'auto', 'min_samples_leaf': 4}. Best is trial 1 with value: 0.9667496443812233.\u001b[0m\n",
      "C:\\Users\\vaiv\\Documents\\Git\\ConvAE_LSTM\\.convAE_lstm\\lib\\site-packages\\sklearn\\ensemble\\_forest.py:427: FutureWarning:\n",
      "\n",
      "`max_features='auto'` has been deprecated in 1.1 and will be removed in 1.3. To keep the past behaviour, explicitly set `max_features='sqrt'` or remove this parameter as it is also the default value for RandomForestClassifiers and ExtraTreesClassifiers.\n",
      "\n",
      "C:\\Users\\vaiv\\Documents\\Git\\ConvAE_LSTM\\.convAE_lstm\\lib\\site-packages\\sklearn\\ensemble\\_forest.py:427: FutureWarning:\n",
      "\n",
      "`max_features='auto'` has been deprecated in 1.1 and will be removed in 1.3. To keep the past behaviour, explicitly set `max_features='sqrt'` or remove this parameter as it is also the default value for RandomForestClassifiers and ExtraTreesClassifiers.\n",
      "\n",
      "C:\\Users\\vaiv\\Documents\\Git\\ConvAE_LSTM\\.convAE_lstm\\lib\\site-packages\\sklearn\\ensemble\\_forest.py:427: FutureWarning:\n",
      "\n",
      "`max_features='auto'` has been deprecated in 1.1 and will be removed in 1.3. To keep the past behaviour, explicitly set `max_features='sqrt'` or remove this parameter as it is also the default value for RandomForestClassifiers and ExtraTreesClassifiers.\n",
      "\n",
      "C:\\Users\\vaiv\\Documents\\Git\\ConvAE_LSTM\\.convAE_lstm\\lib\\site-packages\\sklearn\\ensemble\\_forest.py:427: FutureWarning:\n",
      "\n",
      "`max_features='auto'` has been deprecated in 1.1 and will be removed in 1.3. To keep the past behaviour, explicitly set `max_features='sqrt'` or remove this parameter as it is also the default value for RandomForestClassifiers and ExtraTreesClassifiers.\n",
      "\n",
      "\u001b[32m[I 2022-10-21 15:23:42,811]\u001b[0m Trial 104 finished with value: 0.9667496443812233 and parameters: {'n_estimators': 35, 'max_depth': 7, 'criterion': 'gini', 'max_features': 'auto', 'min_samples_leaf': 4}. Best is trial 1 with value: 0.9667496443812233.\u001b[0m\n",
      "C:\\Users\\vaiv\\Documents\\Git\\ConvAE_LSTM\\.convAE_lstm\\lib\\site-packages\\sklearn\\ensemble\\_forest.py:427: FutureWarning:\n",
      "\n",
      "`max_features='auto'` has been deprecated in 1.1 and will be removed in 1.3. To keep the past behaviour, explicitly set `max_features='sqrt'` or remove this parameter as it is also the default value for RandomForestClassifiers and ExtraTreesClassifiers.\n",
      "\n",
      "C:\\Users\\vaiv\\Documents\\Git\\ConvAE_LSTM\\.convAE_lstm\\lib\\site-packages\\sklearn\\ensemble\\_forest.py:427: FutureWarning:\n",
      "\n",
      "`max_features='auto'` has been deprecated in 1.1 and will be removed in 1.3. To keep the past behaviour, explicitly set `max_features='sqrt'` or remove this parameter as it is also the default value for RandomForestClassifiers and ExtraTreesClassifiers.\n",
      "\n",
      "C:\\Users\\vaiv\\Documents\\Git\\ConvAE_LSTM\\.convAE_lstm\\lib\\site-packages\\sklearn\\ensemble\\_forest.py:427: FutureWarning:\n",
      "\n",
      "`max_features='auto'` has been deprecated in 1.1 and will be removed in 1.3. To keep the past behaviour, explicitly set `max_features='sqrt'` or remove this parameter as it is also the default value for RandomForestClassifiers and ExtraTreesClassifiers.\n",
      "\n",
      "C:\\Users\\vaiv\\Documents\\Git\\ConvAE_LSTM\\.convAE_lstm\\lib\\site-packages\\sklearn\\ensemble\\_forest.py:427: FutureWarning:\n",
      "\n",
      "`max_features='auto'` has been deprecated in 1.1 and will be removed in 1.3. To keep the past behaviour, explicitly set `max_features='sqrt'` or remove this parameter as it is also the default value for RandomForestClassifiers and ExtraTreesClassifiers.\n",
      "\n",
      "\u001b[32m[I 2022-10-21 15:23:43,079]\u001b[0m Trial 105 finished with value: 0.9599928876244666 and parameters: {'n_estimators': 34, 'max_depth': 8, 'criterion': 'entropy', 'max_features': 'auto', 'min_samples_leaf': 4}. Best is trial 1 with value: 0.9667496443812233.\u001b[0m\n",
      "C:\\Users\\vaiv\\Documents\\Git\\ConvAE_LSTM\\.convAE_lstm\\lib\\site-packages\\sklearn\\ensemble\\_forest.py:427: FutureWarning:\n",
      "\n",
      "`max_features='auto'` has been deprecated in 1.1 and will be removed in 1.3. To keep the past behaviour, explicitly set `max_features='sqrt'` or remove this parameter as it is also the default value for RandomForestClassifiers and ExtraTreesClassifiers.\n",
      "\n",
      "C:\\Users\\vaiv\\Documents\\Git\\ConvAE_LSTM\\.convAE_lstm\\lib\\site-packages\\sklearn\\ensemble\\_forest.py:427: FutureWarning:\n",
      "\n",
      "`max_features='auto'` has been deprecated in 1.1 and will be removed in 1.3. To keep the past behaviour, explicitly set `max_features='sqrt'` or remove this parameter as it is also the default value for RandomForestClassifiers and ExtraTreesClassifiers.\n",
      "\n",
      "C:\\Users\\vaiv\\Documents\\Git\\ConvAE_LSTM\\.convAE_lstm\\lib\\site-packages\\sklearn\\ensemble\\_forest.py:427: FutureWarning:\n",
      "\n",
      "`max_features='auto'` has been deprecated in 1.1 and will be removed in 1.3. To keep the past behaviour, explicitly set `max_features='sqrt'` or remove this parameter as it is also the default value for RandomForestClassifiers and ExtraTreesClassifiers.\n",
      "\n",
      "C:\\Users\\vaiv\\Documents\\Git\\ConvAE_LSTM\\.convAE_lstm\\lib\\site-packages\\sklearn\\ensemble\\_forest.py:427: FutureWarning:\n",
      "\n",
      "`max_features='auto'` has been deprecated in 1.1 and will be removed in 1.3. To keep the past behaviour, explicitly set `max_features='sqrt'` or remove this parameter as it is also the default value for RandomForestClassifiers and ExtraTreesClassifiers.\n",
      "\n",
      "\u001b[32m[I 2022-10-21 15:23:43,922]\u001b[0m Trial 106 finished with value: 0.9601706970128022 and parameters: {'n_estimators': 130, 'max_depth': 9, 'criterion': 'gini', 'max_features': 'auto', 'min_samples_leaf': 5}. Best is trial 1 with value: 0.9667496443812233.\u001b[0m\n",
      "C:\\Users\\vaiv\\Documents\\Git\\ConvAE_LSTM\\.convAE_lstm\\lib\\site-packages\\sklearn\\ensemble\\_forest.py:427: FutureWarning:\n",
      "\n",
      "`max_features='auto'` has been deprecated in 1.1 and will be removed in 1.3. To keep the past behaviour, explicitly set `max_features='sqrt'` or remove this parameter as it is also the default value for RandomForestClassifiers and ExtraTreesClassifiers.\n",
      "\n",
      "C:\\Users\\vaiv\\Documents\\Git\\ConvAE_LSTM\\.convAE_lstm\\lib\\site-packages\\sklearn\\ensemble\\_forest.py:427: FutureWarning:\n",
      "\n",
      "`max_features='auto'` has been deprecated in 1.1 and will be removed in 1.3. To keep the past behaviour, explicitly set `max_features='sqrt'` or remove this parameter as it is also the default value for RandomForestClassifiers and ExtraTreesClassifiers.\n",
      "\n"
     ]
    },
    {
     "name": "stderr",
     "output_type": "stream",
     "text": [
      "C:\\Users\\vaiv\\Documents\\Git\\ConvAE_LSTM\\.convAE_lstm\\lib\\site-packages\\sklearn\\ensemble\\_forest.py:427: FutureWarning:\n",
      "\n",
      "`max_features='auto'` has been deprecated in 1.1 and will be removed in 1.3. To keep the past behaviour, explicitly set `max_features='sqrt'` or remove this parameter as it is also the default value for RandomForestClassifiers and ExtraTreesClassifiers.\n",
      "\n",
      "C:\\Users\\vaiv\\Documents\\Git\\ConvAE_LSTM\\.convAE_lstm\\lib\\site-packages\\sklearn\\ensemble\\_forest.py:427: FutureWarning:\n",
      "\n",
      "`max_features='auto'` has been deprecated in 1.1 and will be removed in 1.3. To keep the past behaviour, explicitly set `max_features='sqrt'` or remove this parameter as it is also the default value for RandomForestClassifiers and ExtraTreesClassifiers.\n",
      "\n",
      "\u001b[32m[I 2022-10-21 15:23:44,498]\u001b[0m Trial 107 finished with value: 0.9532361308677098 and parameters: {'n_estimators': 98, 'max_depth': 10, 'criterion': 'gini', 'max_features': 'auto', 'min_samples_leaf': 8}. Best is trial 1 with value: 0.9667496443812233.\u001b[0m\n",
      "C:\\Users\\vaiv\\Documents\\Git\\ConvAE_LSTM\\.convAE_lstm\\lib\\site-packages\\sklearn\\ensemble\\_forest.py:427: FutureWarning:\n",
      "\n",
      "`max_features='auto'` has been deprecated in 1.1 and will be removed in 1.3. To keep the past behaviour, explicitly set `max_features='sqrt'` or remove this parameter as it is also the default value for RandomForestClassifiers and ExtraTreesClassifiers.\n",
      "\n",
      "C:\\Users\\vaiv\\Documents\\Git\\ConvAE_LSTM\\.convAE_lstm\\lib\\site-packages\\sklearn\\ensemble\\_forest.py:427: FutureWarning:\n",
      "\n",
      "`max_features='auto'` has been deprecated in 1.1 and will be removed in 1.3. To keep the past behaviour, explicitly set `max_features='sqrt'` or remove this parameter as it is also the default value for RandomForestClassifiers and ExtraTreesClassifiers.\n",
      "\n",
      "C:\\Users\\vaiv\\Documents\\Git\\ConvAE_LSTM\\.convAE_lstm\\lib\\site-packages\\sklearn\\ensemble\\_forest.py:427: FutureWarning:\n",
      "\n",
      "`max_features='auto'` has been deprecated in 1.1 and will be removed in 1.3. To keep the past behaviour, explicitly set `max_features='sqrt'` or remove this parameter as it is also the default value for RandomForestClassifiers and ExtraTreesClassifiers.\n",
      "\n",
      "C:\\Users\\vaiv\\Documents\\Git\\ConvAE_LSTM\\.convAE_lstm\\lib\\site-packages\\sklearn\\ensemble\\_forest.py:427: FutureWarning:\n",
      "\n",
      "`max_features='auto'` has been deprecated in 1.1 and will be removed in 1.3. To keep the past behaviour, explicitly set `max_features='sqrt'` or remove this parameter as it is also the default value for RandomForestClassifiers and ExtraTreesClassifiers.\n",
      "\n",
      "\u001b[32m[I 2022-10-21 15:23:44,797]\u001b[0m Trial 108 finished with value: 0.9667496443812233 and parameters: {'n_estimators': 54, 'max_depth': 15, 'criterion': 'entropy', 'max_features': 'auto', 'min_samples_leaf': 4}. Best is trial 1 with value: 0.9667496443812233.\u001b[0m\n",
      "\u001b[32m[I 2022-10-21 15:23:45,106]\u001b[0m Trial 109 finished with value: 0.9466571834992887 and parameters: {'n_estimators': 47, 'max_depth': 14, 'criterion': 'gini', 'max_features': 'sqrt', 'min_samples_leaf': 7}. Best is trial 1 with value: 0.9667496443812233.\u001b[0m\n",
      "C:\\Users\\vaiv\\Documents\\Git\\ConvAE_LSTM\\.convAE_lstm\\lib\\site-packages\\sklearn\\ensemble\\_forest.py:427: FutureWarning:\n",
      "\n",
      "`max_features='auto'` has been deprecated in 1.1 and will be removed in 1.3. To keep the past behaviour, explicitly set `max_features='sqrt'` or remove this parameter as it is also the default value for RandomForestClassifiers and ExtraTreesClassifiers.\n",
      "\n",
      "C:\\Users\\vaiv\\Documents\\Git\\ConvAE_LSTM\\.convAE_lstm\\lib\\site-packages\\sklearn\\ensemble\\_forest.py:427: FutureWarning:\n",
      "\n",
      "`max_features='auto'` has been deprecated in 1.1 and will be removed in 1.3. To keep the past behaviour, explicitly set `max_features='sqrt'` or remove this parameter as it is also the default value for RandomForestClassifiers and ExtraTreesClassifiers.\n",
      "\n",
      "C:\\Users\\vaiv\\Documents\\Git\\ConvAE_LSTM\\.convAE_lstm\\lib\\site-packages\\sklearn\\ensemble\\_forest.py:427: FutureWarning:\n",
      "\n",
      "`max_features='auto'` has been deprecated in 1.1 and will be removed in 1.3. To keep the past behaviour, explicitly set `max_features='sqrt'` or remove this parameter as it is also the default value for RandomForestClassifiers and ExtraTreesClassifiers.\n",
      "\n",
      "C:\\Users\\vaiv\\Documents\\Git\\ConvAE_LSTM\\.convAE_lstm\\lib\\site-packages\\sklearn\\ensemble\\_forest.py:427: FutureWarning:\n",
      "\n",
      "`max_features='auto'` has been deprecated in 1.1 and will be removed in 1.3. To keep the past behaviour, explicitly set `max_features='sqrt'` or remove this parameter as it is also the default value for RandomForestClassifiers and ExtraTreesClassifiers.\n",
      "\n",
      "\u001b[32m[I 2022-10-21 15:23:45,412]\u001b[0m Trial 110 finished with value: 0.9599928876244666 and parameters: {'n_estimators': 54, 'max_depth': 15, 'criterion': 'entropy', 'max_features': 'auto', 'min_samples_leaf': 4}. Best is trial 1 with value: 0.9667496443812233.\u001b[0m\n",
      "C:\\Users\\vaiv\\Documents\\Git\\ConvAE_LSTM\\.convAE_lstm\\lib\\site-packages\\sklearn\\ensemble\\_forest.py:427: FutureWarning:\n",
      "\n",
      "`max_features='auto'` has been deprecated in 1.1 and will be removed in 1.3. To keep the past behaviour, explicitly set `max_features='sqrt'` or remove this parameter as it is also the default value for RandomForestClassifiers and ExtraTreesClassifiers.\n",
      "\n",
      "C:\\Users\\vaiv\\Documents\\Git\\ConvAE_LSTM\\.convAE_lstm\\lib\\site-packages\\sklearn\\ensemble\\_forest.py:427: FutureWarning:\n",
      "\n",
      "`max_features='auto'` has been deprecated in 1.1 and will be removed in 1.3. To keep the past behaviour, explicitly set `max_features='sqrt'` or remove this parameter as it is also the default value for RandomForestClassifiers and ExtraTreesClassifiers.\n",
      "\n",
      "C:\\Users\\vaiv\\Documents\\Git\\ConvAE_LSTM\\.convAE_lstm\\lib\\site-packages\\sklearn\\ensemble\\_forest.py:427: FutureWarning:\n",
      "\n",
      "`max_features='auto'` has been deprecated in 1.1 and will be removed in 1.3. To keep the past behaviour, explicitly set `max_features='sqrt'` or remove this parameter as it is also the default value for RandomForestClassifiers and ExtraTreesClassifiers.\n",
      "\n",
      "C:\\Users\\vaiv\\Documents\\Git\\ConvAE_LSTM\\.convAE_lstm\\lib\\site-packages\\sklearn\\ensemble\\_forest.py:427: FutureWarning:\n",
      "\n",
      "`max_features='auto'` has been deprecated in 1.1 and will be removed in 1.3. To keep the past behaviour, explicitly set `max_features='sqrt'` or remove this parameter as it is also the default value for RandomForestClassifiers and ExtraTreesClassifiers.\n",
      "\n",
      "\u001b[32m[I 2022-10-21 15:23:45,758]\u001b[0m Trial 111 finished with value: 0.9667496443812233 and parameters: {'n_estimators': 59, 'max_depth': 9, 'criterion': 'entropy', 'max_features': 'auto', 'min_samples_leaf': 5}. Best is trial 1 with value: 0.9667496443812233.\u001b[0m\n",
      "C:\\Users\\vaiv\\Documents\\Git\\ConvAE_LSTM\\.convAE_lstm\\lib\\site-packages\\sklearn\\ensemble\\_forest.py:427: FutureWarning:\n",
      "\n",
      "`max_features='auto'` has been deprecated in 1.1 and will be removed in 1.3. To keep the past behaviour, explicitly set `max_features='sqrt'` or remove this parameter as it is also the default value for RandomForestClassifiers and ExtraTreesClassifiers.\n",
      "\n",
      "C:\\Users\\vaiv\\Documents\\Git\\ConvAE_LSTM\\.convAE_lstm\\lib\\site-packages\\sklearn\\ensemble\\_forest.py:427: FutureWarning:\n",
      "\n",
      "`max_features='auto'` has been deprecated in 1.1 and will be removed in 1.3. To keep the past behaviour, explicitly set `max_features='sqrt'` or remove this parameter as it is also the default value for RandomForestClassifiers and ExtraTreesClassifiers.\n",
      "\n",
      "C:\\Users\\vaiv\\Documents\\Git\\ConvAE_LSTM\\.convAE_lstm\\lib\\site-packages\\sklearn\\ensemble\\_forest.py:427: FutureWarning:\n",
      "\n",
      "`max_features='auto'` has been deprecated in 1.1 and will be removed in 1.3. To keep the past behaviour, explicitly set `max_features='sqrt'` or remove this parameter as it is also the default value for RandomForestClassifiers and ExtraTreesClassifiers.\n",
      "\n",
      "C:\\Users\\vaiv\\Documents\\Git\\ConvAE_LSTM\\.convAE_lstm\\lib\\site-packages\\sklearn\\ensemble\\_forest.py:427: FutureWarning:\n",
      "\n",
      "`max_features='auto'` has been deprecated in 1.1 and will be removed in 1.3. To keep the past behaviour, explicitly set `max_features='sqrt'` or remove this parameter as it is also the default value for RandomForestClassifiers and ExtraTreesClassifiers.\n",
      "\n",
      "\u001b[32m[I 2022-10-21 15:23:45,906]\u001b[0m Trial 112 finished with value: 0.9599928876244666 and parameters: {'n_estimators': 20, 'max_depth': 9, 'criterion': 'entropy', 'max_features': 'auto', 'min_samples_leaf': 5}. Best is trial 1 with value: 0.9667496443812233.\u001b[0m\n"
     ]
    },
    {
     "name": "stderr",
     "output_type": "stream",
     "text": [
      "C:\\Users\\vaiv\\Documents\\Git\\ConvAE_LSTM\\.convAE_lstm\\lib\\site-packages\\sklearn\\ensemble\\_forest.py:427: FutureWarning:\n",
      "\n",
      "`max_features='auto'` has been deprecated in 1.1 and will be removed in 1.3. To keep the past behaviour, explicitly set `max_features='sqrt'` or remove this parameter as it is also the default value for RandomForestClassifiers and ExtraTreesClassifiers.\n",
      "\n",
      "C:\\Users\\vaiv\\Documents\\Git\\ConvAE_LSTM\\.convAE_lstm\\lib\\site-packages\\sklearn\\ensemble\\_forest.py:427: FutureWarning:\n",
      "\n",
      "`max_features='auto'` has been deprecated in 1.1 and will be removed in 1.3. To keep the past behaviour, explicitly set `max_features='sqrt'` or remove this parameter as it is also the default value for RandomForestClassifiers and ExtraTreesClassifiers.\n",
      "\n",
      "C:\\Users\\vaiv\\Documents\\Git\\ConvAE_LSTM\\.convAE_lstm\\lib\\site-packages\\sklearn\\ensemble\\_forest.py:427: FutureWarning:\n",
      "\n",
      "`max_features='auto'` has been deprecated in 1.1 and will be removed in 1.3. To keep the past behaviour, explicitly set `max_features='sqrt'` or remove this parameter as it is also the default value for RandomForestClassifiers and ExtraTreesClassifiers.\n",
      "\n",
      "C:\\Users\\vaiv\\Documents\\Git\\ConvAE_LSTM\\.convAE_lstm\\lib\\site-packages\\sklearn\\ensemble\\_forest.py:427: FutureWarning:\n",
      "\n",
      "`max_features='auto'` has been deprecated in 1.1 and will be removed in 1.3. To keep the past behaviour, explicitly set `max_features='sqrt'` or remove this parameter as it is also the default value for RandomForestClassifiers and ExtraTreesClassifiers.\n",
      "\n",
      "\u001b[32m[I 2022-10-21 15:23:46,468]\u001b[0m Trial 113 finished with value: 0.9599928876244666 and parameters: {'n_estimators': 83, 'max_depth': 9, 'criterion': 'entropy', 'max_features': 'auto', 'min_samples_leaf': 7}. Best is trial 1 with value: 0.9667496443812233.\u001b[0m\n",
      "C:\\Users\\vaiv\\Documents\\Git\\ConvAE_LSTM\\.convAE_lstm\\lib\\site-packages\\sklearn\\ensemble\\_forest.py:427: FutureWarning:\n",
      "\n",
      "`max_features='auto'` has been deprecated in 1.1 and will be removed in 1.3. To keep the past behaviour, explicitly set `max_features='sqrt'` or remove this parameter as it is also the default value for RandomForestClassifiers and ExtraTreesClassifiers.\n",
      "\n",
      "C:\\Users\\vaiv\\Documents\\Git\\ConvAE_LSTM\\.convAE_lstm\\lib\\site-packages\\sklearn\\ensemble\\_forest.py:427: FutureWarning:\n",
      "\n",
      "`max_features='auto'` has been deprecated in 1.1 and will be removed in 1.3. To keep the past behaviour, explicitly set `max_features='sqrt'` or remove this parameter as it is also the default value for RandomForestClassifiers and ExtraTreesClassifiers.\n",
      "\n",
      "C:\\Users\\vaiv\\Documents\\Git\\ConvAE_LSTM\\.convAE_lstm\\lib\\site-packages\\sklearn\\ensemble\\_forest.py:427: FutureWarning:\n",
      "\n",
      "`max_features='auto'` has been deprecated in 1.1 and will be removed in 1.3. To keep the past behaviour, explicitly set `max_features='sqrt'` or remove this parameter as it is also the default value for RandomForestClassifiers and ExtraTreesClassifiers.\n",
      "\n",
      "C:\\Users\\vaiv\\Documents\\Git\\ConvAE_LSTM\\.convAE_lstm\\lib\\site-packages\\sklearn\\ensemble\\_forest.py:427: FutureWarning:\n",
      "\n",
      "`max_features='auto'` has been deprecated in 1.1 and will be removed in 1.3. To keep the past behaviour, explicitly set `max_features='sqrt'` or remove this parameter as it is also the default value for RandomForestClassifiers and ExtraTreesClassifiers.\n",
      "\n",
      "\u001b[32m[I 2022-10-21 15:23:47,014]\u001b[0m Trial 114 finished with value: 0.9532361308677098 and parameters: {'n_estimators': 78, 'max_depth': 8, 'criterion': 'entropy', 'max_features': 'auto', 'min_samples_leaf': 4}. Best is trial 1 with value: 0.9667496443812233.\u001b[0m\n",
      "C:\\Users\\vaiv\\Documents\\Git\\ConvAE_LSTM\\.convAE_lstm\\lib\\site-packages\\sklearn\\ensemble\\_forest.py:427: FutureWarning:\n",
      "\n",
      "`max_features='auto'` has been deprecated in 1.1 and will be removed in 1.3. To keep the past behaviour, explicitly set `max_features='sqrt'` or remove this parameter as it is also the default value for RandomForestClassifiers and ExtraTreesClassifiers.\n",
      "\n",
      "C:\\Users\\vaiv\\Documents\\Git\\ConvAE_LSTM\\.convAE_lstm\\lib\\site-packages\\sklearn\\ensemble\\_forest.py:427: FutureWarning:\n",
      "\n",
      "`max_features='auto'` has been deprecated in 1.1 and will be removed in 1.3. To keep the past behaviour, explicitly set `max_features='sqrt'` or remove this parameter as it is also the default value for RandomForestClassifiers and ExtraTreesClassifiers.\n",
      "\n",
      "C:\\Users\\vaiv\\Documents\\Git\\ConvAE_LSTM\\.convAE_lstm\\lib\\site-packages\\sklearn\\ensemble\\_forest.py:427: FutureWarning:\n",
      "\n",
      "`max_features='auto'` has been deprecated in 1.1 and will be removed in 1.3. To keep the past behaviour, explicitly set `max_features='sqrt'` or remove this parameter as it is also the default value for RandomForestClassifiers and ExtraTreesClassifiers.\n",
      "\n",
      "C:\\Users\\vaiv\\Documents\\Git\\ConvAE_LSTM\\.convAE_lstm\\lib\\site-packages\\sklearn\\ensemble\\_forest.py:427: FutureWarning:\n",
      "\n",
      "`max_features='auto'` has been deprecated in 1.1 and will be removed in 1.3. To keep the past behaviour, explicitly set `max_features='sqrt'` or remove this parameter as it is also the default value for RandomForestClassifiers and ExtraTreesClassifiers.\n",
      "\n",
      "\u001b[32m[I 2022-10-21 15:23:47,312]\u001b[0m Trial 115 finished with value: 0.9599928876244666 and parameters: {'n_estimators': 42, 'max_depth': 8, 'criterion': 'gini', 'max_features': 'auto', 'min_samples_leaf': 4}. Best is trial 1 with value: 0.9667496443812233.\u001b[0m\n",
      "C:\\Users\\vaiv\\Documents\\Git\\ConvAE_LSTM\\.convAE_lstm\\lib\\site-packages\\sklearn\\ensemble\\_forest.py:427: FutureWarning:\n",
      "\n",
      "`max_features='auto'` has been deprecated in 1.1 and will be removed in 1.3. To keep the past behaviour, explicitly set `max_features='sqrt'` or remove this parameter as it is also the default value for RandomForestClassifiers and ExtraTreesClassifiers.\n",
      "\n",
      "C:\\Users\\vaiv\\Documents\\Git\\ConvAE_LSTM\\.convAE_lstm\\lib\\site-packages\\sklearn\\ensemble\\_forest.py:427: FutureWarning:\n",
      "\n",
      "`max_features='auto'` has been deprecated in 1.1 and will be removed in 1.3. To keep the past behaviour, explicitly set `max_features='sqrt'` or remove this parameter as it is also the default value for RandomForestClassifiers and ExtraTreesClassifiers.\n",
      "\n",
      "C:\\Users\\vaiv\\Documents\\Git\\ConvAE_LSTM\\.convAE_lstm\\lib\\site-packages\\sklearn\\ensemble\\_forest.py:427: FutureWarning:\n",
      "\n",
      "`max_features='auto'` has been deprecated in 1.1 and will be removed in 1.3. To keep the past behaviour, explicitly set `max_features='sqrt'` or remove this parameter as it is also the default value for RandomForestClassifiers and ExtraTreesClassifiers.\n",
      "\n",
      "C:\\Users\\vaiv\\Documents\\Git\\ConvAE_LSTM\\.convAE_lstm\\lib\\site-packages\\sklearn\\ensemble\\_forest.py:427: FutureWarning:\n",
      "\n",
      "`max_features='auto'` has been deprecated in 1.1 and will be removed in 1.3. To keep the past behaviour, explicitly set `max_features='sqrt'` or remove this parameter as it is also the default value for RandomForestClassifiers and ExtraTreesClassifiers.\n",
      "\n",
      "\u001b[32m[I 2022-10-21 15:23:47,663]\u001b[0m Trial 116 finished with value: 0.9667496443812233 and parameters: {'n_estimators': 50, 'max_depth': 7, 'criterion': 'entropy', 'max_features': 'auto', 'min_samples_leaf': 4}. Best is trial 1 with value: 0.9667496443812233.\u001b[0m\n",
      "\u001b[32m[I 2022-10-21 15:23:47,915]\u001b[0m Trial 117 finished with value: 0.9667496443812233 and parameters: {'n_estimators': 37, 'max_depth': 7, 'criterion': 'entropy', 'max_features': 'sqrt', 'min_samples_leaf': 4}. Best is trial 1 with value: 0.9667496443812233.\u001b[0m\n",
      "C:\\Users\\vaiv\\Documents\\Git\\ConvAE_LSTM\\.convAE_lstm\\lib\\site-packages\\sklearn\\ensemble\\_forest.py:427: FutureWarning:\n",
      "\n",
      "`max_features='auto'` has been deprecated in 1.1 and will be removed in 1.3. To keep the past behaviour, explicitly set `max_features='sqrt'` or remove this parameter as it is also the default value for RandomForestClassifiers and ExtraTreesClassifiers.\n",
      "\n",
      "C:\\Users\\vaiv\\Documents\\Git\\ConvAE_LSTM\\.convAE_lstm\\lib\\site-packages\\sklearn\\ensemble\\_forest.py:427: FutureWarning:\n",
      "\n",
      "`max_features='auto'` has been deprecated in 1.1 and will be removed in 1.3. To keep the past behaviour, explicitly set `max_features='sqrt'` or remove this parameter as it is also the default value for RandomForestClassifiers and ExtraTreesClassifiers.\n",
      "\n",
      "C:\\Users\\vaiv\\Documents\\Git\\ConvAE_LSTM\\.convAE_lstm\\lib\\site-packages\\sklearn\\ensemble\\_forest.py:427: FutureWarning:\n",
      "\n",
      "`max_features='auto'` has been deprecated in 1.1 and will be removed in 1.3. To keep the past behaviour, explicitly set `max_features='sqrt'` or remove this parameter as it is also the default value for RandomForestClassifiers and ExtraTreesClassifiers.\n",
      "\n"
     ]
    },
    {
     "name": "stderr",
     "output_type": "stream",
     "text": [
      "C:\\Users\\vaiv\\Documents\\Git\\ConvAE_LSTM\\.convAE_lstm\\lib\\site-packages\\sklearn\\ensemble\\_forest.py:427: FutureWarning:\n",
      "\n",
      "`max_features='auto'` has been deprecated in 1.1 and will be removed in 1.3. To keep the past behaviour, explicitly set `max_features='sqrt'` or remove this parameter as it is also the default value for RandomForestClassifiers and ExtraTreesClassifiers.\n",
      "\n",
      "\u001b[32m[I 2022-10-21 15:23:48,336]\u001b[0m Trial 118 finished with value: 0.9601706970128022 and parameters: {'n_estimators': 60, 'max_depth': 7, 'criterion': 'gini', 'max_features': 'auto', 'min_samples_leaf': 4}. Best is trial 1 with value: 0.9667496443812233.\u001b[0m\n",
      "C:\\Users\\vaiv\\Documents\\Git\\ConvAE_LSTM\\.convAE_lstm\\lib\\site-packages\\sklearn\\ensemble\\_forest.py:427: FutureWarning:\n",
      "\n",
      "`max_features='auto'` has been deprecated in 1.1 and will be removed in 1.3. To keep the past behaviour, explicitly set `max_features='sqrt'` or remove this parameter as it is also the default value for RandomForestClassifiers and ExtraTreesClassifiers.\n",
      "\n",
      "C:\\Users\\vaiv\\Documents\\Git\\ConvAE_LSTM\\.convAE_lstm\\lib\\site-packages\\sklearn\\ensemble\\_forest.py:427: FutureWarning:\n",
      "\n",
      "`max_features='auto'` has been deprecated in 1.1 and will be removed in 1.3. To keep the past behaviour, explicitly set `max_features='sqrt'` or remove this parameter as it is also the default value for RandomForestClassifiers and ExtraTreesClassifiers.\n",
      "\n",
      "C:\\Users\\vaiv\\Documents\\Git\\ConvAE_LSTM\\.convAE_lstm\\lib\\site-packages\\sklearn\\ensemble\\_forest.py:427: FutureWarning:\n",
      "\n",
      "`max_features='auto'` has been deprecated in 1.1 and will be removed in 1.3. To keep the past behaviour, explicitly set `max_features='sqrt'` or remove this parameter as it is also the default value for RandomForestClassifiers and ExtraTreesClassifiers.\n",
      "\n",
      "C:\\Users\\vaiv\\Documents\\Git\\ConvAE_LSTM\\.convAE_lstm\\lib\\site-packages\\sklearn\\ensemble\\_forest.py:427: FutureWarning:\n",
      "\n",
      "`max_features='auto'` has been deprecated in 1.1 and will be removed in 1.3. To keep the past behaviour, explicitly set `max_features='sqrt'` or remove this parameter as it is also the default value for RandomForestClassifiers and ExtraTreesClassifiers.\n",
      "\n",
      "\u001b[32m[I 2022-10-21 15:23:48,812]\u001b[0m Trial 119 finished with value: 0.9464793741109531 and parameters: {'n_estimators': 62, 'max_depth': 6, 'criterion': 'entropy', 'max_features': 'auto', 'min_samples_leaf': 4}. Best is trial 1 with value: 0.9667496443812233.\u001b[0m\n",
      "C:\\Users\\vaiv\\Documents\\Git\\ConvAE_LSTM\\.convAE_lstm\\lib\\site-packages\\sklearn\\ensemble\\_forest.py:427: FutureWarning:\n",
      "\n",
      "`max_features='auto'` has been deprecated in 1.1 and will be removed in 1.3. To keep the past behaviour, explicitly set `max_features='sqrt'` or remove this parameter as it is also the default value for RandomForestClassifiers and ExtraTreesClassifiers.\n",
      "\n",
      "C:\\Users\\vaiv\\Documents\\Git\\ConvAE_LSTM\\.convAE_lstm\\lib\\site-packages\\sklearn\\ensemble\\_forest.py:427: FutureWarning:\n",
      "\n",
      "`max_features='auto'` has been deprecated in 1.1 and will be removed in 1.3. To keep the past behaviour, explicitly set `max_features='sqrt'` or remove this parameter as it is also the default value for RandomForestClassifiers and ExtraTreesClassifiers.\n",
      "\n",
      "C:\\Users\\vaiv\\Documents\\Git\\ConvAE_LSTM\\.convAE_lstm\\lib\\site-packages\\sklearn\\ensemble\\_forest.py:427: FutureWarning:\n",
      "\n",
      "`max_features='auto'` has been deprecated in 1.1 and will be removed in 1.3. To keep the past behaviour, explicitly set `max_features='sqrt'` or remove this parameter as it is also the default value for RandomForestClassifiers and ExtraTreesClassifiers.\n",
      "\n",
      "C:\\Users\\vaiv\\Documents\\Git\\ConvAE_LSTM\\.convAE_lstm\\lib\\site-packages\\sklearn\\ensemble\\_forest.py:427: FutureWarning:\n",
      "\n",
      "`max_features='auto'` has been deprecated in 1.1 and will be removed in 1.3. To keep the past behaviour, explicitly set `max_features='sqrt'` or remove this parameter as it is also the default value for RandomForestClassifiers and ExtraTreesClassifiers.\n",
      "\n",
      "\u001b[32m[I 2022-10-21 15:23:49,035]\u001b[0m Trial 120 finished with value: 0.9532361308677098 and parameters: {'n_estimators': 29, 'max_depth': 8, 'criterion': 'entropy', 'max_features': 'auto', 'min_samples_leaf': 4}. Best is trial 1 with value: 0.9667496443812233.\u001b[0m\n",
      "C:\\Users\\vaiv\\Documents\\Git\\ConvAE_LSTM\\.convAE_lstm\\lib\\site-packages\\sklearn\\ensemble\\_forest.py:427: FutureWarning:\n",
      "\n",
      "`max_features='auto'` has been deprecated in 1.1 and will be removed in 1.3. To keep the past behaviour, explicitly set `max_features='sqrt'` or remove this parameter as it is also the default value for RandomForestClassifiers and ExtraTreesClassifiers.\n",
      "\n",
      "C:\\Users\\vaiv\\Documents\\Git\\ConvAE_LSTM\\.convAE_lstm\\lib\\site-packages\\sklearn\\ensemble\\_forest.py:427: FutureWarning:\n",
      "\n",
      "`max_features='auto'` has been deprecated in 1.1 and will be removed in 1.3. To keep the past behaviour, explicitly set `max_features='sqrt'` or remove this parameter as it is also the default value for RandomForestClassifiers and ExtraTreesClassifiers.\n",
      "\n",
      "C:\\Users\\vaiv\\Documents\\Git\\ConvAE_LSTM\\.convAE_lstm\\lib\\site-packages\\sklearn\\ensemble\\_forest.py:427: FutureWarning:\n",
      "\n",
      "`max_features='auto'` has been deprecated in 1.1 and will be removed in 1.3. To keep the past behaviour, explicitly set `max_features='sqrt'` or remove this parameter as it is also the default value for RandomForestClassifiers and ExtraTreesClassifiers.\n",
      "\n",
      "C:\\Users\\vaiv\\Documents\\Git\\ConvAE_LSTM\\.convAE_lstm\\lib\\site-packages\\sklearn\\ensemble\\_forest.py:427: FutureWarning:\n",
      "\n",
      "`max_features='auto'` has been deprecated in 1.1 and will be removed in 1.3. To keep the past behaviour, explicitly set `max_features='sqrt'` or remove this parameter as it is also the default value for RandomForestClassifiers and ExtraTreesClassifiers.\n",
      "\n",
      "\u001b[32m[I 2022-10-21 15:23:49,498]\u001b[0m Trial 121 finished with value: 0.9466571834992887 and parameters: {'n_estimators': 68, 'max_depth': 15, 'criterion': 'entropy', 'max_features': 'auto', 'min_samples_leaf': 4}. Best is trial 1 with value: 0.9667496443812233.\u001b[0m\n",
      "C:\\Users\\vaiv\\Documents\\Git\\ConvAE_LSTM\\.convAE_lstm\\lib\\site-packages\\sklearn\\ensemble\\_forest.py:427: FutureWarning:\n",
      "\n",
      "`max_features='auto'` has been deprecated in 1.1 and will be removed in 1.3. To keep the past behaviour, explicitly set `max_features='sqrt'` or remove this parameter as it is also the default value for RandomForestClassifiers and ExtraTreesClassifiers.\n",
      "\n",
      "C:\\Users\\vaiv\\Documents\\Git\\ConvAE_LSTM\\.convAE_lstm\\lib\\site-packages\\sklearn\\ensemble\\_forest.py:427: FutureWarning:\n",
      "\n",
      "`max_features='auto'` has been deprecated in 1.1 and will be removed in 1.3. To keep the past behaviour, explicitly set `max_features='sqrt'` or remove this parameter as it is also the default value for RandomForestClassifiers and ExtraTreesClassifiers.\n",
      "\n",
      "C:\\Users\\vaiv\\Documents\\Git\\ConvAE_LSTM\\.convAE_lstm\\lib\\site-packages\\sklearn\\ensemble\\_forest.py:427: FutureWarning:\n",
      "\n",
      "`max_features='auto'` has been deprecated in 1.1 and will be removed in 1.3. To keep the past behaviour, explicitly set `max_features='sqrt'` or remove this parameter as it is also the default value for RandomForestClassifiers and ExtraTreesClassifiers.\n",
      "\n",
      "C:\\Users\\vaiv\\Documents\\Git\\ConvAE_LSTM\\.convAE_lstm\\lib\\site-packages\\sklearn\\ensemble\\_forest.py:427: FutureWarning:\n",
      "\n",
      "`max_features='auto'` has been deprecated in 1.1 and will be removed in 1.3. To keep the past behaviour, explicitly set `max_features='sqrt'` or remove this parameter as it is also the default value for RandomForestClassifiers and ExtraTreesClassifiers.\n",
      "\n",
      "\u001b[32m[I 2022-10-21 15:23:50,174]\u001b[0m Trial 122 finished with value: 0.9601706970128022 and parameters: {'n_estimators': 92, 'max_depth': 10, 'criterion': 'entropy', 'max_features': 'auto', 'min_samples_leaf': 5}. Best is trial 1 with value: 0.9667496443812233.\u001b[0m\n",
      "C:\\Users\\vaiv\\Documents\\Git\\ConvAE_LSTM\\.convAE_lstm\\lib\\site-packages\\sklearn\\ensemble\\_forest.py:427: FutureWarning:\n",
      "\n",
      "`max_features='auto'` has been deprecated in 1.1 and will be removed in 1.3. To keep the past behaviour, explicitly set `max_features='sqrt'` or remove this parameter as it is also the default value for RandomForestClassifiers and ExtraTreesClassifiers.\n",
      "\n",
      "C:\\Users\\vaiv\\Documents\\Git\\ConvAE_LSTM\\.convAE_lstm\\lib\\site-packages\\sklearn\\ensemble\\_forest.py:427: FutureWarning:\n",
      "\n",
      "`max_features='auto'` has been deprecated in 1.1 and will be removed in 1.3. To keep the past behaviour, explicitly set `max_features='sqrt'` or remove this parameter as it is also the default value for RandomForestClassifiers and ExtraTreesClassifiers.\n",
      "\n"
     ]
    },
    {
     "name": "stderr",
     "output_type": "stream",
     "text": [
      "C:\\Users\\vaiv\\Documents\\Git\\ConvAE_LSTM\\.convAE_lstm\\lib\\site-packages\\sklearn\\ensemble\\_forest.py:427: FutureWarning:\n",
      "\n",
      "`max_features='auto'` has been deprecated in 1.1 and will be removed in 1.3. To keep the past behaviour, explicitly set `max_features='sqrt'` or remove this parameter as it is also the default value for RandomForestClassifiers and ExtraTreesClassifiers.\n",
      "\n",
      "C:\\Users\\vaiv\\Documents\\Git\\ConvAE_LSTM\\.convAE_lstm\\lib\\site-packages\\sklearn\\ensemble\\_forest.py:427: FutureWarning:\n",
      "\n",
      "`max_features='auto'` has been deprecated in 1.1 and will be removed in 1.3. To keep the past behaviour, explicitly set `max_features='sqrt'` or remove this parameter as it is also the default value for RandomForestClassifiers and ExtraTreesClassifiers.\n",
      "\n",
      "\u001b[32m[I 2022-10-21 15:23:50,905]\u001b[0m Trial 123 finished with value: 0.9599928876244666 and parameters: {'n_estimators': 110, 'max_depth': 9, 'criterion': 'entropy', 'max_features': 'auto', 'min_samples_leaf': 5}. Best is trial 1 with value: 0.9667496443812233.\u001b[0m\n",
      "C:\\Users\\vaiv\\Documents\\Git\\ConvAE_LSTM\\.convAE_lstm\\lib\\site-packages\\sklearn\\ensemble\\_forest.py:427: FutureWarning:\n",
      "\n",
      "`max_features='auto'` has been deprecated in 1.1 and will be removed in 1.3. To keep the past behaviour, explicitly set `max_features='sqrt'` or remove this parameter as it is also the default value for RandomForestClassifiers and ExtraTreesClassifiers.\n",
      "\n",
      "C:\\Users\\vaiv\\Documents\\Git\\ConvAE_LSTM\\.convAE_lstm\\lib\\site-packages\\sklearn\\ensemble\\_forest.py:427: FutureWarning:\n",
      "\n",
      "`max_features='auto'` has been deprecated in 1.1 and will be removed in 1.3. To keep the past behaviour, explicitly set `max_features='sqrt'` or remove this parameter as it is also the default value for RandomForestClassifiers and ExtraTreesClassifiers.\n",
      "\n",
      "C:\\Users\\vaiv\\Documents\\Git\\ConvAE_LSTM\\.convAE_lstm\\lib\\site-packages\\sklearn\\ensemble\\_forest.py:427: FutureWarning:\n",
      "\n",
      "`max_features='auto'` has been deprecated in 1.1 and will be removed in 1.3. To keep the past behaviour, explicitly set `max_features='sqrt'` or remove this parameter as it is also the default value for RandomForestClassifiers and ExtraTreesClassifiers.\n",
      "\n",
      "C:\\Users\\vaiv\\Documents\\Git\\ConvAE_LSTM\\.convAE_lstm\\lib\\site-packages\\sklearn\\ensemble\\_forest.py:427: FutureWarning:\n",
      "\n",
      "`max_features='auto'` has been deprecated in 1.1 and will be removed in 1.3. To keep the past behaviour, explicitly set `max_features='sqrt'` or remove this parameter as it is also the default value for RandomForestClassifiers and ExtraTreesClassifiers.\n",
      "\n",
      "\u001b[32m[I 2022-10-21 15:23:51,185]\u001b[0m Trial 124 finished with value: 0.9667496443812233 and parameters: {'n_estimators': 34, 'max_depth': 14, 'criterion': 'gini', 'max_features': 'auto', 'min_samples_leaf': 4}. Best is trial 1 with value: 0.9667496443812233.\u001b[0m\n",
      "C:\\Users\\vaiv\\Documents\\Git\\ConvAE_LSTM\\.convAE_lstm\\lib\\site-packages\\sklearn\\ensemble\\_forest.py:427: FutureWarning:\n",
      "\n",
      "`max_features='auto'` has been deprecated in 1.1 and will be removed in 1.3. To keep the past behaviour, explicitly set `max_features='sqrt'` or remove this parameter as it is also the default value for RandomForestClassifiers and ExtraTreesClassifiers.\n",
      "\n",
      "C:\\Users\\vaiv\\Documents\\Git\\ConvAE_LSTM\\.convAE_lstm\\lib\\site-packages\\sklearn\\ensemble\\_forest.py:427: FutureWarning:\n",
      "\n",
      "`max_features='auto'` has been deprecated in 1.1 and will be removed in 1.3. To keep the past behaviour, explicitly set `max_features='sqrt'` or remove this parameter as it is also the default value for RandomForestClassifiers and ExtraTreesClassifiers.\n",
      "\n",
      "C:\\Users\\vaiv\\Documents\\Git\\ConvAE_LSTM\\.convAE_lstm\\lib\\site-packages\\sklearn\\ensemble\\_forest.py:427: FutureWarning:\n",
      "\n",
      "`max_features='auto'` has been deprecated in 1.1 and will be removed in 1.3. To keep the past behaviour, explicitly set `max_features='sqrt'` or remove this parameter as it is also the default value for RandomForestClassifiers and ExtraTreesClassifiers.\n",
      "\n",
      "C:\\Users\\vaiv\\Documents\\Git\\ConvAE_LSTM\\.convAE_lstm\\lib\\site-packages\\sklearn\\ensemble\\_forest.py:427: FutureWarning:\n",
      "\n",
      "`max_features='auto'` has been deprecated in 1.1 and will be removed in 1.3. To keep the past behaviour, explicitly set `max_features='sqrt'` or remove this parameter as it is also the default value for RandomForestClassifiers and ExtraTreesClassifiers.\n",
      "\n",
      "\u001b[32m[I 2022-10-21 15:23:51,463]\u001b[0m Trial 125 finished with value: 0.9667496443812233 and parameters: {'n_estimators': 35, 'max_depth': 14, 'criterion': 'entropy', 'max_features': 'auto', 'min_samples_leaf': 4}. Best is trial 1 with value: 0.9667496443812233.\u001b[0m\n",
      "C:\\Users\\vaiv\\Documents\\Git\\ConvAE_LSTM\\.convAE_lstm\\lib\\site-packages\\sklearn\\ensemble\\_forest.py:427: FutureWarning:\n",
      "\n",
      "`max_features='auto'` has been deprecated in 1.1 and will be removed in 1.3. To keep the past behaviour, explicitly set `max_features='sqrt'` or remove this parameter as it is also the default value for RandomForestClassifiers and ExtraTreesClassifiers.\n",
      "\n",
      "C:\\Users\\vaiv\\Documents\\Git\\ConvAE_LSTM\\.convAE_lstm\\lib\\site-packages\\sklearn\\ensemble\\_forest.py:427: FutureWarning:\n",
      "\n",
      "`max_features='auto'` has been deprecated in 1.1 and will be removed in 1.3. To keep the past behaviour, explicitly set `max_features='sqrt'` or remove this parameter as it is also the default value for RandomForestClassifiers and ExtraTreesClassifiers.\n",
      "\n",
      "C:\\Users\\vaiv\\Documents\\Git\\ConvAE_LSTM\\.convAE_lstm\\lib\\site-packages\\sklearn\\ensemble\\_forest.py:427: FutureWarning:\n",
      "\n",
      "`max_features='auto'` has been deprecated in 1.1 and will be removed in 1.3. To keep the past behaviour, explicitly set `max_features='sqrt'` or remove this parameter as it is also the default value for RandomForestClassifiers and ExtraTreesClassifiers.\n",
      "\n",
      "C:\\Users\\vaiv\\Documents\\Git\\ConvAE_LSTM\\.convAE_lstm\\lib\\site-packages\\sklearn\\ensemble\\_forest.py:427: FutureWarning:\n",
      "\n",
      "`max_features='auto'` has been deprecated in 1.1 and will be removed in 1.3. To keep the past behaviour, explicitly set `max_features='sqrt'` or remove this parameter as it is also the default value for RandomForestClassifiers and ExtraTreesClassifiers.\n",
      "\n",
      "\u001b[32m[I 2022-10-21 15:23:51,782]\u001b[0m Trial 126 finished with value: 0.9532361308677098 and parameters: {'n_estimators': 45, 'max_depth': 14, 'criterion': 'gini', 'max_features': 'auto', 'min_samples_leaf': 6}. Best is trial 1 with value: 0.9667496443812233.\u001b[0m\n",
      "C:\\Users\\vaiv\\Documents\\Git\\ConvAE_LSTM\\.convAE_lstm\\lib\\site-packages\\sklearn\\ensemble\\_forest.py:427: FutureWarning:\n",
      "\n",
      "`max_features='auto'` has been deprecated in 1.1 and will be removed in 1.3. To keep the past behaviour, explicitly set `max_features='sqrt'` or remove this parameter as it is also the default value for RandomForestClassifiers and ExtraTreesClassifiers.\n",
      "\n",
      "C:\\Users\\vaiv\\Documents\\Git\\ConvAE_LSTM\\.convAE_lstm\\lib\\site-packages\\sklearn\\ensemble\\_forest.py:427: FutureWarning:\n",
      "\n",
      "`max_features='auto'` has been deprecated in 1.1 and will be removed in 1.3. To keep the past behaviour, explicitly set `max_features='sqrt'` or remove this parameter as it is also the default value for RandomForestClassifiers and ExtraTreesClassifiers.\n",
      "\n",
      "C:\\Users\\vaiv\\Documents\\Git\\ConvAE_LSTM\\.convAE_lstm\\lib\\site-packages\\sklearn\\ensemble\\_forest.py:427: FutureWarning:\n",
      "\n",
      "`max_features='auto'` has been deprecated in 1.1 and will be removed in 1.3. To keep the past behaviour, explicitly set `max_features='sqrt'` or remove this parameter as it is also the default value for RandomForestClassifiers and ExtraTreesClassifiers.\n",
      "\n",
      "C:\\Users\\vaiv\\Documents\\Git\\ConvAE_LSTM\\.convAE_lstm\\lib\\site-packages\\sklearn\\ensemble\\_forest.py:427: FutureWarning:\n",
      "\n",
      "`max_features='auto'` has been deprecated in 1.1 and will be removed in 1.3. To keep the past behaviour, explicitly set `max_features='sqrt'` or remove this parameter as it is also the default value for RandomForestClassifiers and ExtraTreesClassifiers.\n",
      "\n",
      "\u001b[32m[I 2022-10-21 15:23:51,934]\u001b[0m Trial 127 finished with value: 0.9466571834992887 and parameters: {'n_estimators': 21, 'max_depth': 15, 'criterion': 'entropy', 'max_features': 'auto', 'min_samples_leaf': 4}. Best is trial 1 with value: 0.9667496443812233.\u001b[0m\n",
      "\u001b[32m[I 2022-10-21 15:23:52,235]\u001b[0m Trial 128 finished with value: 0.9599928876244666 and parameters: {'n_estimators': 55, 'max_depth': 7, 'criterion': 'entropy', 'max_features': 'sqrt', 'min_samples_leaf': 4}. Best is trial 1 with value: 0.9667496443812233.\u001b[0m\n"
     ]
    },
    {
     "name": "stderr",
     "output_type": "stream",
     "text": [
      "C:\\Users\\vaiv\\Documents\\Git\\ConvAE_LSTM\\.convAE_lstm\\lib\\site-packages\\sklearn\\ensemble\\_forest.py:427: FutureWarning:\n",
      "\n",
      "`max_features='auto'` has been deprecated in 1.1 and will be removed in 1.3. To keep the past behaviour, explicitly set `max_features='sqrt'` or remove this parameter as it is also the default value for RandomForestClassifiers and ExtraTreesClassifiers.\n",
      "\n",
      "C:\\Users\\vaiv\\Documents\\Git\\ConvAE_LSTM\\.convAE_lstm\\lib\\site-packages\\sklearn\\ensemble\\_forest.py:427: FutureWarning:\n",
      "\n",
      "`max_features='auto'` has been deprecated in 1.1 and will be removed in 1.3. To keep the past behaviour, explicitly set `max_features='sqrt'` or remove this parameter as it is also the default value for RandomForestClassifiers and ExtraTreesClassifiers.\n",
      "\n",
      "C:\\Users\\vaiv\\Documents\\Git\\ConvAE_LSTM\\.convAE_lstm\\lib\\site-packages\\sklearn\\ensemble\\_forest.py:427: FutureWarning:\n",
      "\n",
      "`max_features='auto'` has been deprecated in 1.1 and will be removed in 1.3. To keep the past behaviour, explicitly set `max_features='sqrt'` or remove this parameter as it is also the default value for RandomForestClassifiers and ExtraTreesClassifiers.\n",
      "\n",
      "C:\\Users\\vaiv\\Documents\\Git\\ConvAE_LSTM\\.convAE_lstm\\lib\\site-packages\\sklearn\\ensemble\\_forest.py:427: FutureWarning:\n",
      "\n",
      "`max_features='auto'` has been deprecated in 1.1 and will be removed in 1.3. To keep the past behaviour, explicitly set `max_features='sqrt'` or remove this parameter as it is also the default value for RandomForestClassifiers and ExtraTreesClassifiers.\n",
      "\n",
      "\u001b[32m[I 2022-10-21 15:23:52,552]\u001b[0m Trial 129 finished with value: 0.9534139402560455 and parameters: {'n_estimators': 52, 'max_depth': 8, 'criterion': 'entropy', 'max_features': 'auto', 'min_samples_leaf': 4}. Best is trial 1 with value: 0.9667496443812233.\u001b[0m\n",
      "C:\\Users\\vaiv\\Documents\\Git\\ConvAE_LSTM\\.convAE_lstm\\lib\\site-packages\\sklearn\\ensemble\\_forest.py:427: FutureWarning:\n",
      "\n",
      "`max_features='auto'` has been deprecated in 1.1 and will be removed in 1.3. To keep the past behaviour, explicitly set `max_features='sqrt'` or remove this parameter as it is also the default value for RandomForestClassifiers and ExtraTreesClassifiers.\n",
      "\n",
      "C:\\Users\\vaiv\\Documents\\Git\\ConvAE_LSTM\\.convAE_lstm\\lib\\site-packages\\sklearn\\ensemble\\_forest.py:427: FutureWarning:\n",
      "\n",
      "`max_features='auto'` has been deprecated in 1.1 and will be removed in 1.3. To keep the past behaviour, explicitly set `max_features='sqrt'` or remove this parameter as it is also the default value for RandomForestClassifiers and ExtraTreesClassifiers.\n",
      "\n",
      "C:\\Users\\vaiv\\Documents\\Git\\ConvAE_LSTM\\.convAE_lstm\\lib\\site-packages\\sklearn\\ensemble\\_forest.py:427: FutureWarning:\n",
      "\n",
      "`max_features='auto'` has been deprecated in 1.1 and will be removed in 1.3. To keep the past behaviour, explicitly set `max_features='sqrt'` or remove this parameter as it is also the default value for RandomForestClassifiers and ExtraTreesClassifiers.\n",
      "\n",
      "C:\\Users\\vaiv\\Documents\\Git\\ConvAE_LSTM\\.convAE_lstm\\lib\\site-packages\\sklearn\\ensemble\\_forest.py:427: FutureWarning:\n",
      "\n",
      "`max_features='auto'` has been deprecated in 1.1 and will be removed in 1.3. To keep the past behaviour, explicitly set `max_features='sqrt'` or remove this parameter as it is also the default value for RandomForestClassifiers and ExtraTreesClassifiers.\n",
      "\n",
      "\u001b[32m[I 2022-10-21 15:23:52,924]\u001b[0m Trial 130 finished with value: 0.9599928876244666 and parameters: {'n_estimators': 66, 'max_depth': 13, 'criterion': 'gini', 'max_features': 'auto', 'min_samples_leaf': 5}. Best is trial 1 with value: 0.9667496443812233.\u001b[0m\n",
      "C:\\Users\\vaiv\\Documents\\Git\\ConvAE_LSTM\\.convAE_lstm\\lib\\site-packages\\sklearn\\ensemble\\_forest.py:427: FutureWarning:\n",
      "\n",
      "`max_features='auto'` has been deprecated in 1.1 and will be removed in 1.3. To keep the past behaviour, explicitly set `max_features='sqrt'` or remove this parameter as it is also the default value for RandomForestClassifiers and ExtraTreesClassifiers.\n",
      "\n",
      "C:\\Users\\vaiv\\Documents\\Git\\ConvAE_LSTM\\.convAE_lstm\\lib\\site-packages\\sklearn\\ensemble\\_forest.py:427: FutureWarning:\n",
      "\n",
      "`max_features='auto'` has been deprecated in 1.1 and will be removed in 1.3. To keep the past behaviour, explicitly set `max_features='sqrt'` or remove this parameter as it is also the default value for RandomForestClassifiers and ExtraTreesClassifiers.\n",
      "\n",
      "C:\\Users\\vaiv\\Documents\\Git\\ConvAE_LSTM\\.convAE_lstm\\lib\\site-packages\\sklearn\\ensemble\\_forest.py:427: FutureWarning:\n",
      "\n",
      "`max_features='auto'` has been deprecated in 1.1 and will be removed in 1.3. To keep the past behaviour, explicitly set `max_features='sqrt'` or remove this parameter as it is also the default value for RandomForestClassifiers and ExtraTreesClassifiers.\n",
      "\n",
      "C:\\Users\\vaiv\\Documents\\Git\\ConvAE_LSTM\\.convAE_lstm\\lib\\site-packages\\sklearn\\ensemble\\_forest.py:427: FutureWarning:\n",
      "\n",
      "`max_features='auto'` has been deprecated in 1.1 and will be removed in 1.3. To keep the past behaviour, explicitly set `max_features='sqrt'` or remove this parameter as it is also the default value for RandomForestClassifiers and ExtraTreesClassifiers.\n",
      "\n",
      "\u001b[32m[I 2022-10-21 15:23:53,343]\u001b[0m Trial 131 finished with value: 0.9534139402560455 and parameters: {'n_estimators': 71, 'max_depth': 9, 'criterion': 'entropy', 'max_features': 'auto', 'min_samples_leaf': 5}. Best is trial 1 with value: 0.9667496443812233.\u001b[0m\n",
      "C:\\Users\\vaiv\\Documents\\Git\\ConvAE_LSTM\\.convAE_lstm\\lib\\site-packages\\sklearn\\ensemble\\_forest.py:427: FutureWarning:\n",
      "\n",
      "`max_features='auto'` has been deprecated in 1.1 and will be removed in 1.3. To keep the past behaviour, explicitly set `max_features='sqrt'` or remove this parameter as it is also the default value for RandomForestClassifiers and ExtraTreesClassifiers.\n",
      "\n",
      "C:\\Users\\vaiv\\Documents\\Git\\ConvAE_LSTM\\.convAE_lstm\\lib\\site-packages\\sklearn\\ensemble\\_forest.py:427: FutureWarning:\n",
      "\n",
      "`max_features='auto'` has been deprecated in 1.1 and will be removed in 1.3. To keep the past behaviour, explicitly set `max_features='sqrt'` or remove this parameter as it is also the default value for RandomForestClassifiers and ExtraTreesClassifiers.\n",
      "\n",
      "C:\\Users\\vaiv\\Documents\\Git\\ConvAE_LSTM\\.convAE_lstm\\lib\\site-packages\\sklearn\\ensemble\\_forest.py:427: FutureWarning:\n",
      "\n",
      "`max_features='auto'` has been deprecated in 1.1 and will be removed in 1.3. To keep the past behaviour, explicitly set `max_features='sqrt'` or remove this parameter as it is also the default value for RandomForestClassifiers and ExtraTreesClassifiers.\n",
      "\n",
      "C:\\Users\\vaiv\\Documents\\Git\\ConvAE_LSTM\\.convAE_lstm\\lib\\site-packages\\sklearn\\ensemble\\_forest.py:427: FutureWarning:\n",
      "\n",
      "`max_features='auto'` has been deprecated in 1.1 and will be removed in 1.3. To keep the past behaviour, explicitly set `max_features='sqrt'` or remove this parameter as it is also the default value for RandomForestClassifiers and ExtraTreesClassifiers.\n",
      "\n",
      "\u001b[32m[I 2022-10-21 15:23:53,686]\u001b[0m Trial 132 finished with value: 0.9601706970128022 and parameters: {'n_estimators': 51, 'max_depth': 9, 'criterion': 'entropy', 'max_features': 'auto', 'min_samples_leaf': 5}. Best is trial 1 with value: 0.9667496443812233.\u001b[0m\n",
      "C:\\Users\\vaiv\\Documents\\Git\\ConvAE_LSTM\\.convAE_lstm\\lib\\site-packages\\sklearn\\ensemble\\_forest.py:427: FutureWarning:\n",
      "\n",
      "`max_features='auto'` has been deprecated in 1.1 and will be removed in 1.3. To keep the past behaviour, explicitly set `max_features='sqrt'` or remove this parameter as it is also the default value for RandomForestClassifiers and ExtraTreesClassifiers.\n",
      "\n",
      "C:\\Users\\vaiv\\Documents\\Git\\ConvAE_LSTM\\.convAE_lstm\\lib\\site-packages\\sklearn\\ensemble\\_forest.py:427: FutureWarning:\n",
      "\n",
      "`max_features='auto'` has been deprecated in 1.1 and will be removed in 1.3. To keep the past behaviour, explicitly set `max_features='sqrt'` or remove this parameter as it is also the default value for RandomForestClassifiers and ExtraTreesClassifiers.\n",
      "\n",
      "C:\\Users\\vaiv\\Documents\\Git\\ConvAE_LSTM\\.convAE_lstm\\lib\\site-packages\\sklearn\\ensemble\\_forest.py:427: FutureWarning:\n",
      "\n",
      "`max_features='auto'` has been deprecated in 1.1 and will be removed in 1.3. To keep the past behaviour, explicitly set `max_features='sqrt'` or remove this parameter as it is also the default value for RandomForestClassifiers and ExtraTreesClassifiers.\n",
      "\n",
      "C:\\Users\\vaiv\\Documents\\Git\\ConvAE_LSTM\\.convAE_lstm\\lib\\site-packages\\sklearn\\ensemble\\_forest.py:427: FutureWarning:\n",
      "\n",
      "`max_features='auto'` has been deprecated in 1.1 and will be removed in 1.3. To keep the past behaviour, explicitly set `max_features='sqrt'` or remove this parameter as it is also the default value for RandomForestClassifiers and ExtraTreesClassifiers.\n",
      "\n"
     ]
    },
    {
     "name": "stderr",
     "output_type": "stream",
     "text": [
      "\u001b[32m[I 2022-10-21 15:23:54,127]\u001b[0m Trial 133 finished with value: 0.9466571834992887 and parameters: {'n_estimators': 62, 'max_depth': 10, 'criterion': 'entropy', 'max_features': 'auto', 'min_samples_leaf': 7}. Best is trial 1 with value: 0.9667496443812233.\u001b[0m\n",
      "C:\\Users\\vaiv\\Documents\\Git\\ConvAE_LSTM\\.convAE_lstm\\lib\\site-packages\\sklearn\\ensemble\\_forest.py:427: FutureWarning:\n",
      "\n",
      "`max_features='auto'` has been deprecated in 1.1 and will be removed in 1.3. To keep the past behaviour, explicitly set `max_features='sqrt'` or remove this parameter as it is also the default value for RandomForestClassifiers and ExtraTreesClassifiers.\n",
      "\n",
      "C:\\Users\\vaiv\\Documents\\Git\\ConvAE_LSTM\\.convAE_lstm\\lib\\site-packages\\sklearn\\ensemble\\_forest.py:427: FutureWarning:\n",
      "\n",
      "`max_features='auto'` has been deprecated in 1.1 and will be removed in 1.3. To keep the past behaviour, explicitly set `max_features='sqrt'` or remove this parameter as it is also the default value for RandomForestClassifiers and ExtraTreesClassifiers.\n",
      "\n",
      "C:\\Users\\vaiv\\Documents\\Git\\ConvAE_LSTM\\.convAE_lstm\\lib\\site-packages\\sklearn\\ensemble\\_forest.py:427: FutureWarning:\n",
      "\n",
      "`max_features='auto'` has been deprecated in 1.1 and will be removed in 1.3. To keep the past behaviour, explicitly set `max_features='sqrt'` or remove this parameter as it is also the default value for RandomForestClassifiers and ExtraTreesClassifiers.\n",
      "\n",
      "C:\\Users\\vaiv\\Documents\\Git\\ConvAE_LSTM\\.convAE_lstm\\lib\\site-packages\\sklearn\\ensemble\\_forest.py:427: FutureWarning:\n",
      "\n",
      "`max_features='auto'` has been deprecated in 1.1 and will be removed in 1.3. To keep the past behaviour, explicitly set `max_features='sqrt'` or remove this parameter as it is also the default value for RandomForestClassifiers and ExtraTreesClassifiers.\n",
      "\n",
      "\u001b[32m[I 2022-10-21 15:23:54,364]\u001b[0m Trial 134 finished with value: 0.9466571834992887 and parameters: {'n_estimators': 40, 'max_depth': 14, 'criterion': 'entropy', 'max_features': 'auto', 'min_samples_leaf': 4}. Best is trial 1 with value: 0.9667496443812233.\u001b[0m\n",
      "C:\\Users\\vaiv\\Documents\\Git\\ConvAE_LSTM\\.convAE_lstm\\lib\\site-packages\\sklearn\\ensemble\\_forest.py:427: FutureWarning:\n",
      "\n",
      "`max_features='auto'` has been deprecated in 1.1 and will be removed in 1.3. To keep the past behaviour, explicitly set `max_features='sqrt'` or remove this parameter as it is also the default value for RandomForestClassifiers and ExtraTreesClassifiers.\n",
      "\n",
      "C:\\Users\\vaiv\\Documents\\Git\\ConvAE_LSTM\\.convAE_lstm\\lib\\site-packages\\sklearn\\ensemble\\_forest.py:427: FutureWarning:\n",
      "\n",
      "`max_features='auto'` has been deprecated in 1.1 and will be removed in 1.3. To keep the past behaviour, explicitly set `max_features='sqrt'` or remove this parameter as it is also the default value for RandomForestClassifiers and ExtraTreesClassifiers.\n",
      "\n",
      "C:\\Users\\vaiv\\Documents\\Git\\ConvAE_LSTM\\.convAE_lstm\\lib\\site-packages\\sklearn\\ensemble\\_forest.py:427: FutureWarning:\n",
      "\n",
      "`max_features='auto'` has been deprecated in 1.1 and will be removed in 1.3. To keep the past behaviour, explicitly set `max_features='sqrt'` or remove this parameter as it is also the default value for RandomForestClassifiers and ExtraTreesClassifiers.\n",
      "\n",
      "C:\\Users\\vaiv\\Documents\\Git\\ConvAE_LSTM\\.convAE_lstm\\lib\\site-packages\\sklearn\\ensemble\\_forest.py:427: FutureWarning:\n",
      "\n",
      "`max_features='auto'` has been deprecated in 1.1 and will be removed in 1.3. To keep the past behaviour, explicitly set `max_features='sqrt'` or remove this parameter as it is also the default value for RandomForestClassifiers and ExtraTreesClassifiers.\n",
      "\n",
      "\u001b[32m[I 2022-10-21 15:23:55,047]\u001b[0m Trial 135 finished with value: 0.9667496443812233 and parameters: {'n_estimators': 119, 'max_depth': 12, 'criterion': 'entropy', 'max_features': 'auto', 'min_samples_leaf': 5}. Best is trial 1 with value: 0.9667496443812233.\u001b[0m\n",
      "C:\\Users\\vaiv\\Documents\\Git\\ConvAE_LSTM\\.convAE_lstm\\lib\\site-packages\\sklearn\\ensemble\\_forest.py:427: FutureWarning:\n",
      "\n",
      "`max_features='auto'` has been deprecated in 1.1 and will be removed in 1.3. To keep the past behaviour, explicitly set `max_features='sqrt'` or remove this parameter as it is also the default value for RandomForestClassifiers and ExtraTreesClassifiers.\n",
      "\n",
      "C:\\Users\\vaiv\\Documents\\Git\\ConvAE_LSTM\\.convAE_lstm\\lib\\site-packages\\sklearn\\ensemble\\_forest.py:427: FutureWarning:\n",
      "\n",
      "`max_features='auto'` has been deprecated in 1.1 and will be removed in 1.3. To keep the past behaviour, explicitly set `max_features='sqrt'` or remove this parameter as it is also the default value for RandomForestClassifiers and ExtraTreesClassifiers.\n",
      "\n",
      "C:\\Users\\vaiv\\Documents\\Git\\ConvAE_LSTM\\.convAE_lstm\\lib\\site-packages\\sklearn\\ensemble\\_forest.py:427: FutureWarning:\n",
      "\n",
      "`max_features='auto'` has been deprecated in 1.1 and will be removed in 1.3. To keep the past behaviour, explicitly set `max_features='sqrt'` or remove this parameter as it is also the default value for RandomForestClassifiers and ExtraTreesClassifiers.\n",
      "\n",
      "C:\\Users\\vaiv\\Documents\\Git\\ConvAE_LSTM\\.convAE_lstm\\lib\\site-packages\\sklearn\\ensemble\\_forest.py:427: FutureWarning:\n",
      "\n",
      "`max_features='auto'` has been deprecated in 1.1 and will be removed in 1.3. To keep the past behaviour, explicitly set `max_features='sqrt'` or remove this parameter as it is also the default value for RandomForestClassifiers and ExtraTreesClassifiers.\n",
      "\n",
      "\u001b[32m[I 2022-10-21 15:23:55,686]\u001b[0m Trial 136 finished with value: 0.9532361308677098 and parameters: {'n_estimators': 121, 'max_depth': 12, 'criterion': 'gini', 'max_features': 'auto', 'min_samples_leaf': 4}. Best is trial 1 with value: 0.9667496443812233.\u001b[0m\n",
      "\u001b[32m[I 2022-10-21 15:23:55,928]\u001b[0m Trial 137 finished with value: 0.9532361308677098 and parameters: {'n_estimators': 45, 'max_depth': 5, 'criterion': 'entropy', 'max_features': 'sqrt', 'min_samples_leaf': 7}. Best is trial 1 with value: 0.9667496443812233.\u001b[0m\n",
      "C:\\Users\\vaiv\\Documents\\Git\\ConvAE_LSTM\\.convAE_lstm\\lib\\site-packages\\sklearn\\ensemble\\_forest.py:427: FutureWarning:\n",
      "\n",
      "`max_features='auto'` has been deprecated in 1.1 and will be removed in 1.3. To keep the past behaviour, explicitly set `max_features='sqrt'` or remove this parameter as it is also the default value for RandomForestClassifiers and ExtraTreesClassifiers.\n",
      "\n",
      "C:\\Users\\vaiv\\Documents\\Git\\ConvAE_LSTM\\.convAE_lstm\\lib\\site-packages\\sklearn\\ensemble\\_forest.py:427: FutureWarning:\n",
      "\n",
      "`max_features='auto'` has been deprecated in 1.1 and will be removed in 1.3. To keep the past behaviour, explicitly set `max_features='sqrt'` or remove this parameter as it is also the default value for RandomForestClassifiers and ExtraTreesClassifiers.\n",
      "\n",
      "C:\\Users\\vaiv\\Documents\\Git\\ConvAE_LSTM\\.convAE_lstm\\lib\\site-packages\\sklearn\\ensemble\\_forest.py:427: FutureWarning:\n",
      "\n",
      "`max_features='auto'` has been deprecated in 1.1 and will be removed in 1.3. To keep the past behaviour, explicitly set `max_features='sqrt'` or remove this parameter as it is also the default value for RandomForestClassifiers and ExtraTreesClassifiers.\n",
      "\n",
      "C:\\Users\\vaiv\\Documents\\Git\\ConvAE_LSTM\\.convAE_lstm\\lib\\site-packages\\sklearn\\ensemble\\_forest.py:427: FutureWarning:\n",
      "\n",
      "`max_features='auto'` has been deprecated in 1.1 and will be removed in 1.3. To keep the past behaviour, explicitly set `max_features='sqrt'` or remove this parameter as it is also the default value for RandomForestClassifiers and ExtraTreesClassifiers.\n",
      "\n",
      "\u001b[32m[I 2022-10-21 15:23:56,108]\u001b[0m Trial 138 finished with value: 0.9532361308677098 and parameters: {'n_estimators': 31, 'max_depth': 15, 'criterion': 'entropy', 'max_features': 'auto', 'min_samples_leaf': 4}. Best is trial 1 with value: 0.9667496443812233.\u001b[0m\n",
      "C:\\Users\\vaiv\\Documents\\Git\\ConvAE_LSTM\\.convAE_lstm\\lib\\site-packages\\sklearn\\ensemble\\_forest.py:427: FutureWarning:\n",
      "\n",
      "`max_features='auto'` has been deprecated in 1.1 and will be removed in 1.3. To keep the past behaviour, explicitly set `max_features='sqrt'` or remove this parameter as it is also the default value for RandomForestClassifiers and ExtraTreesClassifiers.\n",
      "\n",
      "C:\\Users\\vaiv\\Documents\\Git\\ConvAE_LSTM\\.convAE_lstm\\lib\\site-packages\\sklearn\\ensemble\\_forest.py:427: FutureWarning:\n",
      "\n",
      "`max_features='auto'` has been deprecated in 1.1 and will be removed in 1.3. To keep the past behaviour, explicitly set `max_features='sqrt'` or remove this parameter as it is also the default value for RandomForestClassifiers and ExtraTreesClassifiers.\n",
      "\n"
     ]
    },
    {
     "name": "stderr",
     "output_type": "stream",
     "text": [
      "C:\\Users\\vaiv\\Documents\\Git\\ConvAE_LSTM\\.convAE_lstm\\lib\\site-packages\\sklearn\\ensemble\\_forest.py:427: FutureWarning:\n",
      "\n",
      "`max_features='auto'` has been deprecated in 1.1 and will be removed in 1.3. To keep the past behaviour, explicitly set `max_features='sqrt'` or remove this parameter as it is also the default value for RandomForestClassifiers and ExtraTreesClassifiers.\n",
      "\n",
      "C:\\Users\\vaiv\\Documents\\Git\\ConvAE_LSTM\\.convAE_lstm\\lib\\site-packages\\sklearn\\ensemble\\_forest.py:427: FutureWarning:\n",
      "\n",
      "`max_features='auto'` has been deprecated in 1.1 and will be removed in 1.3. To keep the past behaviour, explicitly set `max_features='sqrt'` or remove this parameter as it is also the default value for RandomForestClassifiers and ExtraTreesClassifiers.\n",
      "\n",
      "\u001b[32m[I 2022-10-21 15:23:56,656]\u001b[0m Trial 139 finished with value: 0.9599928876244666 and parameters: {'n_estimators': 103, 'max_depth': 11, 'criterion': 'gini', 'max_features': 'auto', 'min_samples_leaf': 4}. Best is trial 1 with value: 0.9667496443812233.\u001b[0m\n",
      "C:\\Users\\vaiv\\Documents\\Git\\ConvAE_LSTM\\.convAE_lstm\\lib\\site-packages\\sklearn\\ensemble\\_forest.py:427: FutureWarning:\n",
      "\n",
      "`max_features='auto'` has been deprecated in 1.1 and will be removed in 1.3. To keep the past behaviour, explicitly set `max_features='sqrt'` or remove this parameter as it is also the default value for RandomForestClassifiers and ExtraTreesClassifiers.\n",
      "\n",
      "C:\\Users\\vaiv\\Documents\\Git\\ConvAE_LSTM\\.convAE_lstm\\lib\\site-packages\\sklearn\\ensemble\\_forest.py:427: FutureWarning:\n",
      "\n",
      "`max_features='auto'` has been deprecated in 1.1 and will be removed in 1.3. To keep the past behaviour, explicitly set `max_features='sqrt'` or remove this parameter as it is also the default value for RandomForestClassifiers and ExtraTreesClassifiers.\n",
      "\n",
      "C:\\Users\\vaiv\\Documents\\Git\\ConvAE_LSTM\\.convAE_lstm\\lib\\site-packages\\sklearn\\ensemble\\_forest.py:427: FutureWarning:\n",
      "\n",
      "`max_features='auto'` has been deprecated in 1.1 and will be removed in 1.3. To keep the past behaviour, explicitly set `max_features='sqrt'` or remove this parameter as it is also the default value for RandomForestClassifiers and ExtraTreesClassifiers.\n",
      "\n",
      "C:\\Users\\vaiv\\Documents\\Git\\ConvAE_LSTM\\.convAE_lstm\\lib\\site-packages\\sklearn\\ensemble\\_forest.py:427: FutureWarning:\n",
      "\n",
      "`max_features='auto'` has been deprecated in 1.1 and will be removed in 1.3. To keep the past behaviour, explicitly set `max_features='sqrt'` or remove this parameter as it is also the default value for RandomForestClassifiers and ExtraTreesClassifiers.\n",
      "\n",
      "\u001b[32m[I 2022-10-21 15:23:57,079]\u001b[0m Trial 140 finished with value: 0.9532361308677098 and parameters: {'n_estimators': 75, 'max_depth': 8, 'criterion': 'gini', 'max_features': 'auto', 'min_samples_leaf': 4}. Best is trial 1 with value: 0.9667496443812233.\u001b[0m\n",
      "C:\\Users\\vaiv\\Documents\\Git\\ConvAE_LSTM\\.convAE_lstm\\lib\\site-packages\\sklearn\\ensemble\\_forest.py:427: FutureWarning:\n",
      "\n",
      "`max_features='auto'` has been deprecated in 1.1 and will be removed in 1.3. To keep the past behaviour, explicitly set `max_features='sqrt'` or remove this parameter as it is also the default value for RandomForestClassifiers and ExtraTreesClassifiers.\n",
      "\n",
      "C:\\Users\\vaiv\\Documents\\Git\\ConvAE_LSTM\\.convAE_lstm\\lib\\site-packages\\sklearn\\ensemble\\_forest.py:427: FutureWarning:\n",
      "\n",
      "`max_features='auto'` has been deprecated in 1.1 and will be removed in 1.3. To keep the past behaviour, explicitly set `max_features='sqrt'` or remove this parameter as it is also the default value for RandomForestClassifiers and ExtraTreesClassifiers.\n",
      "\n",
      "C:\\Users\\vaiv\\Documents\\Git\\ConvAE_LSTM\\.convAE_lstm\\lib\\site-packages\\sklearn\\ensemble\\_forest.py:427: FutureWarning:\n",
      "\n",
      "`max_features='auto'` has been deprecated in 1.1 and will be removed in 1.3. To keep the past behaviour, explicitly set `max_features='sqrt'` or remove this parameter as it is also the default value for RandomForestClassifiers and ExtraTreesClassifiers.\n",
      "\n",
      "C:\\Users\\vaiv\\Documents\\Git\\ConvAE_LSTM\\.convAE_lstm\\lib\\site-packages\\sklearn\\ensemble\\_forest.py:427: FutureWarning:\n",
      "\n",
      "`max_features='auto'` has been deprecated in 1.1 and will be removed in 1.3. To keep the past behaviour, explicitly set `max_features='sqrt'` or remove this parameter as it is also the default value for RandomForestClassifiers and ExtraTreesClassifiers.\n",
      "\n",
      "\u001b[32m[I 2022-10-21 15:23:57,399]\u001b[0m Trial 141 finished with value: 0.9667496443812233 and parameters: {'n_estimators': 56, 'max_depth': 7, 'criterion': 'entropy', 'max_features': 'auto', 'min_samples_leaf': 4}. Best is trial 1 with value: 0.9667496443812233.\u001b[0m\n",
      "C:\\Users\\vaiv\\Documents\\Git\\ConvAE_LSTM\\.convAE_lstm\\lib\\site-packages\\sklearn\\ensemble\\_forest.py:427: FutureWarning:\n",
      "\n",
      "`max_features='auto'` has been deprecated in 1.1 and will be removed in 1.3. To keep the past behaviour, explicitly set `max_features='sqrt'` or remove this parameter as it is also the default value for RandomForestClassifiers and ExtraTreesClassifiers.\n",
      "\n",
      "C:\\Users\\vaiv\\Documents\\Git\\ConvAE_LSTM\\.convAE_lstm\\lib\\site-packages\\sklearn\\ensemble\\_forest.py:427: FutureWarning:\n",
      "\n",
      "`max_features='auto'` has been deprecated in 1.1 and will be removed in 1.3. To keep the past behaviour, explicitly set `max_features='sqrt'` or remove this parameter as it is also the default value for RandomForestClassifiers and ExtraTreesClassifiers.\n",
      "\n",
      "C:\\Users\\vaiv\\Documents\\Git\\ConvAE_LSTM\\.convAE_lstm\\lib\\site-packages\\sklearn\\ensemble\\_forest.py:427: FutureWarning:\n",
      "\n",
      "`max_features='auto'` has been deprecated in 1.1 and will be removed in 1.3. To keep the past behaviour, explicitly set `max_features='sqrt'` or remove this parameter as it is also the default value for RandomForestClassifiers and ExtraTreesClassifiers.\n",
      "\n",
      "C:\\Users\\vaiv\\Documents\\Git\\ConvAE_LSTM\\.convAE_lstm\\lib\\site-packages\\sklearn\\ensemble\\_forest.py:427: FutureWarning:\n",
      "\n",
      "`max_features='auto'` has been deprecated in 1.1 and will be removed in 1.3. To keep the past behaviour, explicitly set `max_features='sqrt'` or remove this parameter as it is also the default value for RandomForestClassifiers and ExtraTreesClassifiers.\n",
      "\n",
      "\u001b[32m[I 2022-10-21 15:23:57,734]\u001b[0m Trial 142 finished with value: 0.9599928876244666 and parameters: {'n_estimators': 58, 'max_depth': 6, 'criterion': 'gini', 'max_features': 'auto', 'min_samples_leaf': 4}. Best is trial 1 with value: 0.9667496443812233.\u001b[0m\n",
      "C:\\Users\\vaiv\\Documents\\Git\\ConvAE_LSTM\\.convAE_lstm\\lib\\site-packages\\sklearn\\ensemble\\_forest.py:427: FutureWarning:\n",
      "\n",
      "`max_features='auto'` has been deprecated in 1.1 and will be removed in 1.3. To keep the past behaviour, explicitly set `max_features='sqrt'` or remove this parameter as it is also the default value for RandomForestClassifiers and ExtraTreesClassifiers.\n",
      "\n",
      "C:\\Users\\vaiv\\Documents\\Git\\ConvAE_LSTM\\.convAE_lstm\\lib\\site-packages\\sklearn\\ensemble\\_forest.py:427: FutureWarning:\n",
      "\n",
      "`max_features='auto'` has been deprecated in 1.1 and will be removed in 1.3. To keep the past behaviour, explicitly set `max_features='sqrt'` or remove this parameter as it is also the default value for RandomForestClassifiers and ExtraTreesClassifiers.\n",
      "\n",
      "C:\\Users\\vaiv\\Documents\\Git\\ConvAE_LSTM\\.convAE_lstm\\lib\\site-packages\\sklearn\\ensemble\\_forest.py:427: FutureWarning:\n",
      "\n",
      "`max_features='auto'` has been deprecated in 1.1 and will be removed in 1.3. To keep the past behaviour, explicitly set `max_features='sqrt'` or remove this parameter as it is also the default value for RandomForestClassifiers and ExtraTreesClassifiers.\n",
      "\n",
      "C:\\Users\\vaiv\\Documents\\Git\\ConvAE_LSTM\\.convAE_lstm\\lib\\site-packages\\sklearn\\ensemble\\_forest.py:427: FutureWarning:\n",
      "\n",
      "`max_features='auto'` has been deprecated in 1.1 and will be removed in 1.3. To keep the past behaviour, explicitly set `max_features='sqrt'` or remove this parameter as it is also the default value for RandomForestClassifiers and ExtraTreesClassifiers.\n",
      "\n",
      "\u001b[32m[I 2022-10-21 15:23:58,062]\u001b[0m Trial 143 finished with value: 0.9599928876244666 and parameters: {'n_estimators': 57, 'max_depth': 7, 'criterion': 'gini', 'max_features': 'auto', 'min_samples_leaf': 4}. Best is trial 1 with value: 0.9667496443812233.\u001b[0m\n",
      "C:\\Users\\vaiv\\Documents\\Git\\ConvAE_LSTM\\.convAE_lstm\\lib\\site-packages\\sklearn\\ensemble\\_forest.py:427: FutureWarning:\n",
      "\n",
      "`max_features='auto'` has been deprecated in 1.1 and will be removed in 1.3. To keep the past behaviour, explicitly set `max_features='sqrt'` or remove this parameter as it is also the default value for RandomForestClassifiers and ExtraTreesClassifiers.\n",
      "\n"
     ]
    },
    {
     "name": "stderr",
     "output_type": "stream",
     "text": [
      "C:\\Users\\vaiv\\Documents\\Git\\ConvAE_LSTM\\.convAE_lstm\\lib\\site-packages\\sklearn\\ensemble\\_forest.py:427: FutureWarning:\n",
      "\n",
      "`max_features='auto'` has been deprecated in 1.1 and will be removed in 1.3. To keep the past behaviour, explicitly set `max_features='sqrt'` or remove this parameter as it is also the default value for RandomForestClassifiers and ExtraTreesClassifiers.\n",
      "\n",
      "C:\\Users\\vaiv\\Documents\\Git\\ConvAE_LSTM\\.convAE_lstm\\lib\\site-packages\\sklearn\\ensemble\\_forest.py:427: FutureWarning:\n",
      "\n",
      "`max_features='auto'` has been deprecated in 1.1 and will be removed in 1.3. To keep the past behaviour, explicitly set `max_features='sqrt'` or remove this parameter as it is also the default value for RandomForestClassifiers and ExtraTreesClassifiers.\n",
      "\n",
      "C:\\Users\\vaiv\\Documents\\Git\\ConvAE_LSTM\\.convAE_lstm\\lib\\site-packages\\sklearn\\ensemble\\_forest.py:427: FutureWarning:\n",
      "\n",
      "`max_features='auto'` has been deprecated in 1.1 and will be removed in 1.3. To keep the past behaviour, explicitly set `max_features='sqrt'` or remove this parameter as it is also the default value for RandomForestClassifiers and ExtraTreesClassifiers.\n",
      "\n",
      "\u001b[32m[I 2022-10-21 15:23:58,428]\u001b[0m Trial 144 finished with value: 0.9532361308677098 and parameters: {'n_estimators': 64, 'max_depth': 7, 'criterion': 'entropy', 'max_features': 'auto', 'min_samples_leaf': 4}. Best is trial 1 with value: 0.9667496443812233.\u001b[0m\n",
      "C:\\Users\\vaiv\\Documents\\Git\\ConvAE_LSTM\\.convAE_lstm\\lib\\site-packages\\sklearn\\ensemble\\_forest.py:427: FutureWarning:\n",
      "\n",
      "`max_features='auto'` has been deprecated in 1.1 and will be removed in 1.3. To keep the past behaviour, explicitly set `max_features='sqrt'` or remove this parameter as it is also the default value for RandomForestClassifiers and ExtraTreesClassifiers.\n",
      "\n",
      "C:\\Users\\vaiv\\Documents\\Git\\ConvAE_LSTM\\.convAE_lstm\\lib\\site-packages\\sklearn\\ensemble\\_forest.py:427: FutureWarning:\n",
      "\n",
      "`max_features='auto'` has been deprecated in 1.1 and will be removed in 1.3. To keep the past behaviour, explicitly set `max_features='sqrt'` or remove this parameter as it is also the default value for RandomForestClassifiers and ExtraTreesClassifiers.\n",
      "\n",
      "C:\\Users\\vaiv\\Documents\\Git\\ConvAE_LSTM\\.convAE_lstm\\lib\\site-packages\\sklearn\\ensemble\\_forest.py:427: FutureWarning:\n",
      "\n",
      "`max_features='auto'` has been deprecated in 1.1 and will be removed in 1.3. To keep the past behaviour, explicitly set `max_features='sqrt'` or remove this parameter as it is also the default value for RandomForestClassifiers and ExtraTreesClassifiers.\n",
      "\n",
      "C:\\Users\\vaiv\\Documents\\Git\\ConvAE_LSTM\\.convAE_lstm\\lib\\site-packages\\sklearn\\ensemble\\_forest.py:427: FutureWarning:\n",
      "\n",
      "`max_features='auto'` has been deprecated in 1.1 and will be removed in 1.3. To keep the past behaviour, explicitly set `max_features='sqrt'` or remove this parameter as it is also the default value for RandomForestClassifiers and ExtraTreesClassifiers.\n",
      "\n",
      "\u001b[32m[I 2022-10-21 15:23:58,914]\u001b[0m Trial 145 finished with value: 0.9466571834992887 and parameters: {'n_estimators': 69, 'max_depth': 11, 'criterion': 'gini', 'max_features': 'auto', 'min_samples_leaf': 4}. Best is trial 1 with value: 0.9667496443812233.\u001b[0m\n",
      "\u001b[32m[I 2022-10-21 15:23:59,145]\u001b[0m Trial 146 finished with value: 0.9534139402560455 and parameters: {'n_estimators': 38, 'max_depth': 9, 'criterion': 'gini', 'max_features': 'sqrt', 'min_samples_leaf': 7}. Best is trial 1 with value: 0.9667496443812233.\u001b[0m\n",
      "C:\\Users\\vaiv\\Documents\\Git\\ConvAE_LSTM\\.convAE_lstm\\lib\\site-packages\\sklearn\\ensemble\\_forest.py:427: FutureWarning:\n",
      "\n",
      "`max_features='auto'` has been deprecated in 1.1 and will be removed in 1.3. To keep the past behaviour, explicitly set `max_features='sqrt'` or remove this parameter as it is also the default value for RandomForestClassifiers and ExtraTreesClassifiers.\n",
      "\n",
      "C:\\Users\\vaiv\\Documents\\Git\\ConvAE_LSTM\\.convAE_lstm\\lib\\site-packages\\sklearn\\ensemble\\_forest.py:427: FutureWarning:\n",
      "\n",
      "`max_features='auto'` has been deprecated in 1.1 and will be removed in 1.3. To keep the past behaviour, explicitly set `max_features='sqrt'` or remove this parameter as it is also the default value for RandomForestClassifiers and ExtraTreesClassifiers.\n",
      "\n",
      "C:\\Users\\vaiv\\Documents\\Git\\ConvAE_LSTM\\.convAE_lstm\\lib\\site-packages\\sklearn\\ensemble\\_forest.py:427: FutureWarning:\n",
      "\n",
      "`max_features='auto'` has been deprecated in 1.1 and will be removed in 1.3. To keep the past behaviour, explicitly set `max_features='sqrt'` or remove this parameter as it is also the default value for RandomForestClassifiers and ExtraTreesClassifiers.\n",
      "\n",
      "C:\\Users\\vaiv\\Documents\\Git\\ConvAE_LSTM\\.convAE_lstm\\lib\\site-packages\\sklearn\\ensemble\\_forest.py:427: FutureWarning:\n",
      "\n",
      "`max_features='auto'` has been deprecated in 1.1 and will be removed in 1.3. To keep the past behaviour, explicitly set `max_features='sqrt'` or remove this parameter as it is also the default value for RandomForestClassifiers and ExtraTreesClassifiers.\n",
      "\n",
      "\u001b[32m[I 2022-10-21 15:23:59,825]\u001b[0m Trial 147 finished with value: 0.9534139402560455 and parameters: {'n_estimators': 125, 'max_depth': 13, 'criterion': 'entropy', 'max_features': 'auto', 'min_samples_leaf': 5}. Best is trial 1 with value: 0.9667496443812233.\u001b[0m\n",
      "C:\\Users\\vaiv\\Documents\\Git\\ConvAE_LSTM\\.convAE_lstm\\lib\\site-packages\\sklearn\\ensemble\\_forest.py:427: FutureWarning:\n",
      "\n",
      "`max_features='auto'` has been deprecated in 1.1 and will be removed in 1.3. To keep the past behaviour, explicitly set `max_features='sqrt'` or remove this parameter as it is also the default value for RandomForestClassifiers and ExtraTreesClassifiers.\n",
      "\n",
      "C:\\Users\\vaiv\\Documents\\Git\\ConvAE_LSTM\\.convAE_lstm\\lib\\site-packages\\sklearn\\ensemble\\_forest.py:427: FutureWarning:\n",
      "\n",
      "`max_features='auto'` has been deprecated in 1.1 and will be removed in 1.3. To keep the past behaviour, explicitly set `max_features='sqrt'` or remove this parameter as it is also the default value for RandomForestClassifiers and ExtraTreesClassifiers.\n",
      "\n",
      "C:\\Users\\vaiv\\Documents\\Git\\ConvAE_LSTM\\.convAE_lstm\\lib\\site-packages\\sklearn\\ensemble\\_forest.py:427: FutureWarning:\n",
      "\n",
      "`max_features='auto'` has been deprecated in 1.1 and will be removed in 1.3. To keep the past behaviour, explicitly set `max_features='sqrt'` or remove this parameter as it is also the default value for RandomForestClassifiers and ExtraTreesClassifiers.\n",
      "\n",
      "C:\\Users\\vaiv\\Documents\\Git\\ConvAE_LSTM\\.convAE_lstm\\lib\\site-packages\\sklearn\\ensemble\\_forest.py:427: FutureWarning:\n",
      "\n",
      "`max_features='auto'` has been deprecated in 1.1 and will be removed in 1.3. To keep the past behaviour, explicitly set `max_features='sqrt'` or remove this parameter as it is also the default value for RandomForestClassifiers and ExtraTreesClassifiers.\n",
      "\n",
      "\u001b[32m[I 2022-10-21 15:24:00,573]\u001b[0m Trial 148 finished with value: 0.9532361308677098 and parameters: {'n_estimators': 133, 'max_depth': 10, 'criterion': 'gini', 'max_features': 'auto', 'min_samples_leaf': 5}. Best is trial 1 with value: 0.9667496443812233.\u001b[0m\n",
      "C:\\Users\\vaiv\\Documents\\Git\\ConvAE_LSTM\\.convAE_lstm\\lib\\site-packages\\sklearn\\ensemble\\_forest.py:427: FutureWarning:\n",
      "\n",
      "`max_features='auto'` has been deprecated in 1.1 and will be removed in 1.3. To keep the past behaviour, explicitly set `max_features='sqrt'` or remove this parameter as it is also the default value for RandomForestClassifiers and ExtraTreesClassifiers.\n",
      "\n",
      "C:\\Users\\vaiv\\Documents\\Git\\ConvAE_LSTM\\.convAE_lstm\\lib\\site-packages\\sklearn\\ensemble\\_forest.py:427: FutureWarning:\n",
      "\n",
      "`max_features='auto'` has been deprecated in 1.1 and will be removed in 1.3. To keep the past behaviour, explicitly set `max_features='sqrt'` or remove this parameter as it is also the default value for RandomForestClassifiers and ExtraTreesClassifiers.\n",
      "\n",
      "C:\\Users\\vaiv\\Documents\\Git\\ConvAE_LSTM\\.convAE_lstm\\lib\\site-packages\\sklearn\\ensemble\\_forest.py:427: FutureWarning:\n",
      "\n",
      "`max_features='auto'` has been deprecated in 1.1 and will be removed in 1.3. To keep the past behaviour, explicitly set `max_features='sqrt'` or remove this parameter as it is also the default value for RandomForestClassifiers and ExtraTreesClassifiers.\n",
      "\n",
      "C:\\Users\\vaiv\\Documents\\Git\\ConvAE_LSTM\\.convAE_lstm\\lib\\site-packages\\sklearn\\ensemble\\_forest.py:427: FutureWarning:\n",
      "\n",
      "`max_features='auto'` has been deprecated in 1.1 and will be removed in 1.3. To keep the past behaviour, explicitly set `max_features='sqrt'` or remove this parameter as it is also the default value for RandomForestClassifiers and ExtraTreesClassifiers.\n",
      "\n"
     ]
    },
    {
     "name": "stderr",
     "output_type": "stream",
     "text": [
      "\u001b[32m[I 2022-10-21 15:24:01,037]\u001b[0m Trial 149 finished with value: 0.9599928876244666 and parameters: {'n_estimators': 87, 'max_depth': 13, 'criterion': 'gini', 'max_features': 'auto', 'min_samples_leaf': 5}. Best is trial 1 with value: 0.9667496443812233.\u001b[0m\n",
      "C:\\Users\\vaiv\\Documents\\Git\\ConvAE_LSTM\\.convAE_lstm\\lib\\site-packages\\sklearn\\ensemble\\_forest.py:427: FutureWarning:\n",
      "\n",
      "`max_features='auto'` has been deprecated in 1.1 and will be removed in 1.3. To keep the past behaviour, explicitly set `max_features='sqrt'` or remove this parameter as it is also the default value for RandomForestClassifiers and ExtraTreesClassifiers.\n",
      "\n",
      "C:\\Users\\vaiv\\Documents\\Git\\ConvAE_LSTM\\.convAE_lstm\\lib\\site-packages\\sklearn\\ensemble\\_forest.py:427: FutureWarning:\n",
      "\n",
      "`max_features='auto'` has been deprecated in 1.1 and will be removed in 1.3. To keep the past behaviour, explicitly set `max_features='sqrt'` or remove this parameter as it is also the default value for RandomForestClassifiers and ExtraTreesClassifiers.\n",
      "\n",
      "C:\\Users\\vaiv\\Documents\\Git\\ConvAE_LSTM\\.convAE_lstm\\lib\\site-packages\\sklearn\\ensemble\\_forest.py:427: FutureWarning:\n",
      "\n",
      "`max_features='auto'` has been deprecated in 1.1 and will be removed in 1.3. To keep the past behaviour, explicitly set `max_features='sqrt'` or remove this parameter as it is also the default value for RandomForestClassifiers and ExtraTreesClassifiers.\n",
      "\n",
      "C:\\Users\\vaiv\\Documents\\Git\\ConvAE_LSTM\\.convAE_lstm\\lib\\site-packages\\sklearn\\ensemble\\_forest.py:427: FutureWarning:\n",
      "\n",
      "`max_features='auto'` has been deprecated in 1.1 and will be removed in 1.3. To keep the past behaviour, explicitly set `max_features='sqrt'` or remove this parameter as it is also the default value for RandomForestClassifiers and ExtraTreesClassifiers.\n",
      "\n",
      "\u001b[32m[I 2022-10-21 15:24:01,197]\u001b[0m Trial 150 finished with value: 0.9532361308677098 and parameters: {'n_estimators': 26, 'max_depth': 14, 'criterion': 'entropy', 'max_features': 'auto', 'min_samples_leaf': 7}. Best is trial 1 with value: 0.9667496443812233.\u001b[0m\n",
      "C:\\Users\\vaiv\\Documents\\Git\\ConvAE_LSTM\\.convAE_lstm\\lib\\site-packages\\sklearn\\ensemble\\_forest.py:427: FutureWarning:\n",
      "\n",
      "`max_features='auto'` has been deprecated in 1.1 and will be removed in 1.3. To keep the past behaviour, explicitly set `max_features='sqrt'` or remove this parameter as it is also the default value for RandomForestClassifiers and ExtraTreesClassifiers.\n",
      "\n",
      "C:\\Users\\vaiv\\Documents\\Git\\ConvAE_LSTM\\.convAE_lstm\\lib\\site-packages\\sklearn\\ensemble\\_forest.py:427: FutureWarning:\n",
      "\n",
      "`max_features='auto'` has been deprecated in 1.1 and will be removed in 1.3. To keep the past behaviour, explicitly set `max_features='sqrt'` or remove this parameter as it is also the default value for RandomForestClassifiers and ExtraTreesClassifiers.\n",
      "\n",
      "C:\\Users\\vaiv\\Documents\\Git\\ConvAE_LSTM\\.convAE_lstm\\lib\\site-packages\\sklearn\\ensemble\\_forest.py:427: FutureWarning:\n",
      "\n",
      "`max_features='auto'` has been deprecated in 1.1 and will be removed in 1.3. To keep the past behaviour, explicitly set `max_features='sqrt'` or remove this parameter as it is also the default value for RandomForestClassifiers and ExtraTreesClassifiers.\n",
      "\n",
      "C:\\Users\\vaiv\\Documents\\Git\\ConvAE_LSTM\\.convAE_lstm\\lib\\site-packages\\sklearn\\ensemble\\_forest.py:427: FutureWarning:\n",
      "\n",
      "`max_features='auto'` has been deprecated in 1.1 and will be removed in 1.3. To keep the past behaviour, explicitly set `max_features='sqrt'` or remove this parameter as it is also the default value for RandomForestClassifiers and ExtraTreesClassifiers.\n",
      "\n",
      "\u001b[32m[I 2022-10-21 15:24:01,511]\u001b[0m Trial 151 finished with value: 0.9532361308677098 and parameters: {'n_estimators': 56, 'max_depth': 12, 'criterion': 'entropy', 'max_features': 'auto', 'min_samples_leaf': 4}. Best is trial 1 with value: 0.9667496443812233.\u001b[0m\n",
      "C:\\Users\\vaiv\\Documents\\Git\\ConvAE_LSTM\\.convAE_lstm\\lib\\site-packages\\sklearn\\ensemble\\_forest.py:427: FutureWarning:\n",
      "\n",
      "`max_features='auto'` has been deprecated in 1.1 and will be removed in 1.3. To keep the past behaviour, explicitly set `max_features='sqrt'` or remove this parameter as it is also the default value for RandomForestClassifiers and ExtraTreesClassifiers.\n",
      "\n",
      "C:\\Users\\vaiv\\Documents\\Git\\ConvAE_LSTM\\.convAE_lstm\\lib\\site-packages\\sklearn\\ensemble\\_forest.py:427: FutureWarning:\n",
      "\n",
      "`max_features='auto'` has been deprecated in 1.1 and will be removed in 1.3. To keep the past behaviour, explicitly set `max_features='sqrt'` or remove this parameter as it is also the default value for RandomForestClassifiers and ExtraTreesClassifiers.\n",
      "\n",
      "C:\\Users\\vaiv\\Documents\\Git\\ConvAE_LSTM\\.convAE_lstm\\lib\\site-packages\\sklearn\\ensemble\\_forest.py:427: FutureWarning:\n",
      "\n",
      "`max_features='auto'` has been deprecated in 1.1 and will be removed in 1.3. To keep the past behaviour, explicitly set `max_features='sqrt'` or remove this parameter as it is also the default value for RandomForestClassifiers and ExtraTreesClassifiers.\n",
      "\n",
      "C:\\Users\\vaiv\\Documents\\Git\\ConvAE_LSTM\\.convAE_lstm\\lib\\site-packages\\sklearn\\ensemble\\_forest.py:427: FutureWarning:\n",
      "\n",
      "`max_features='auto'` has been deprecated in 1.1 and will be removed in 1.3. To keep the past behaviour, explicitly set `max_features='sqrt'` or remove this parameter as it is also the default value for RandomForestClassifiers and ExtraTreesClassifiers.\n",
      "\n",
      "\u001b[32m[I 2022-10-21 15:24:01,892]\u001b[0m Trial 152 finished with value: 0.9599928876244666 and parameters: {'n_estimators': 60, 'max_depth': 7, 'criterion': 'entropy', 'max_features': 'auto', 'min_samples_leaf': 4}. Best is trial 1 with value: 0.9667496443812233.\u001b[0m\n",
      "C:\\Users\\vaiv\\Documents\\Git\\ConvAE_LSTM\\.convAE_lstm\\lib\\site-packages\\sklearn\\ensemble\\_forest.py:427: FutureWarning:\n",
      "\n",
      "`max_features='auto'` has been deprecated in 1.1 and will be removed in 1.3. To keep the past behaviour, explicitly set `max_features='sqrt'` or remove this parameter as it is also the default value for RandomForestClassifiers and ExtraTreesClassifiers.\n",
      "\n",
      "C:\\Users\\vaiv\\Documents\\Git\\ConvAE_LSTM\\.convAE_lstm\\lib\\site-packages\\sklearn\\ensemble\\_forest.py:427: FutureWarning:\n",
      "\n",
      "`max_features='auto'` has been deprecated in 1.1 and will be removed in 1.3. To keep the past behaviour, explicitly set `max_features='sqrt'` or remove this parameter as it is also the default value for RandomForestClassifiers and ExtraTreesClassifiers.\n",
      "\n",
      "C:\\Users\\vaiv\\Documents\\Git\\ConvAE_LSTM\\.convAE_lstm\\lib\\site-packages\\sklearn\\ensemble\\_forest.py:427: FutureWarning:\n",
      "\n",
      "`max_features='auto'` has been deprecated in 1.1 and will be removed in 1.3. To keep the past behaviour, explicitly set `max_features='sqrt'` or remove this parameter as it is also the default value for RandomForestClassifiers and ExtraTreesClassifiers.\n",
      "\n",
      "C:\\Users\\vaiv\\Documents\\Git\\ConvAE_LSTM\\.convAE_lstm\\lib\\site-packages\\sklearn\\ensemble\\_forest.py:427: FutureWarning:\n",
      "\n",
      "`max_features='auto'` has been deprecated in 1.1 and will be removed in 1.3. To keep the past behaviour, explicitly set `max_features='sqrt'` or remove this parameter as it is also the default value for RandomForestClassifiers and ExtraTreesClassifiers.\n",
      "\n",
      "\u001b[32m[I 2022-10-21 15:24:02,182]\u001b[0m Trial 153 finished with value: 0.9599928876244666 and parameters: {'n_estimators': 48, 'max_depth': 10, 'criterion': 'entropy', 'max_features': 'auto', 'min_samples_leaf': 4}. Best is trial 1 with value: 0.9667496443812233.\u001b[0m\n",
      "C:\\Users\\vaiv\\Documents\\Git\\ConvAE_LSTM\\.convAE_lstm\\lib\\site-packages\\sklearn\\ensemble\\_forest.py:427: FutureWarning:\n",
      "\n",
      "`max_features='auto'` has been deprecated in 1.1 and will be removed in 1.3. To keep the past behaviour, explicitly set `max_features='sqrt'` or remove this parameter as it is also the default value for RandomForestClassifiers and ExtraTreesClassifiers.\n",
      "\n",
      "C:\\Users\\vaiv\\Documents\\Git\\ConvAE_LSTM\\.convAE_lstm\\lib\\site-packages\\sklearn\\ensemble\\_forest.py:427: FutureWarning:\n",
      "\n",
      "`max_features='auto'` has been deprecated in 1.1 and will be removed in 1.3. To keep the past behaviour, explicitly set `max_features='sqrt'` or remove this parameter as it is also the default value for RandomForestClassifiers and ExtraTreesClassifiers.\n",
      "\n",
      "C:\\Users\\vaiv\\Documents\\Git\\ConvAE_LSTM\\.convAE_lstm\\lib\\site-packages\\sklearn\\ensemble\\_forest.py:427: FutureWarning:\n",
      "\n",
      "`max_features='auto'` has been deprecated in 1.1 and will be removed in 1.3. To keep the past behaviour, explicitly set `max_features='sqrt'` or remove this parameter as it is also the default value for RandomForestClassifiers and ExtraTreesClassifiers.\n",
      "\n",
      "C:\\Users\\vaiv\\Documents\\Git\\ConvAE_LSTM\\.convAE_lstm\\lib\\site-packages\\sklearn\\ensemble\\_forest.py:427: FutureWarning:\n",
      "\n",
      "`max_features='auto'` has been deprecated in 1.1 and will be removed in 1.3. To keep the past behaviour, explicitly set `max_features='sqrt'` or remove this parameter as it is also the default value for RandomForestClassifiers and ExtraTreesClassifiers.\n",
      "\n"
     ]
    },
    {
     "name": "stderr",
     "output_type": "stream",
     "text": [
      "\u001b[32m[I 2022-10-21 15:24:02,411]\u001b[0m Trial 154 finished with value: 0.9601706970128022 and parameters: {'n_estimators': 38, 'max_depth': 8, 'criterion': 'entropy', 'max_features': 'auto', 'min_samples_leaf': 4}. Best is trial 1 with value: 0.9667496443812233.\u001b[0m\n",
      "C:\\Users\\vaiv\\Documents\\Git\\ConvAE_LSTM\\.convAE_lstm\\lib\\site-packages\\sklearn\\ensemble\\_forest.py:427: FutureWarning:\n",
      "\n",
      "`max_features='auto'` has been deprecated in 1.1 and will be removed in 1.3. To keep the past behaviour, explicitly set `max_features='sqrt'` or remove this parameter as it is also the default value for RandomForestClassifiers and ExtraTreesClassifiers.\n",
      "\n",
      "C:\\Users\\vaiv\\Documents\\Git\\ConvAE_LSTM\\.convAE_lstm\\lib\\site-packages\\sklearn\\ensemble\\_forest.py:427: FutureWarning:\n",
      "\n",
      "`max_features='auto'` has been deprecated in 1.1 and will be removed in 1.3. To keep the past behaviour, explicitly set `max_features='sqrt'` or remove this parameter as it is also the default value for RandomForestClassifiers and ExtraTreesClassifiers.\n",
      "\n",
      "C:\\Users\\vaiv\\Documents\\Git\\ConvAE_LSTM\\.convAE_lstm\\lib\\site-packages\\sklearn\\ensemble\\_forest.py:427: FutureWarning:\n",
      "\n",
      "`max_features='auto'` has been deprecated in 1.1 and will be removed in 1.3. To keep the past behaviour, explicitly set `max_features='sqrt'` or remove this parameter as it is also the default value for RandomForestClassifiers and ExtraTreesClassifiers.\n",
      "\n",
      "C:\\Users\\vaiv\\Documents\\Git\\ConvAE_LSTM\\.convAE_lstm\\lib\\site-packages\\sklearn\\ensemble\\_forest.py:427: FutureWarning:\n",
      "\n",
      "`max_features='auto'` has been deprecated in 1.1 and will be removed in 1.3. To keep the past behaviour, explicitly set `max_features='sqrt'` or remove this parameter as it is also the default value for RandomForestClassifiers and ExtraTreesClassifiers.\n",
      "\n",
      "\u001b[32m[I 2022-10-21 15:24:02,612]\u001b[0m Trial 155 finished with value: 0.9532361308677098 and parameters: {'n_estimators': 34, 'max_depth': 14, 'criterion': 'entropy', 'max_features': 'auto', 'min_samples_leaf': 4}. Best is trial 1 with value: 0.9667496443812233.\u001b[0m\n",
      "C:\\Users\\vaiv\\Documents\\Git\\ConvAE_LSTM\\.convAE_lstm\\lib\\site-packages\\sklearn\\ensemble\\_forest.py:427: FutureWarning:\n",
      "\n",
      "`max_features='auto'` has been deprecated in 1.1 and will be removed in 1.3. To keep the past behaviour, explicitly set `max_features='sqrt'` or remove this parameter as it is also the default value for RandomForestClassifiers and ExtraTreesClassifiers.\n",
      "\n",
      "C:\\Users\\vaiv\\Documents\\Git\\ConvAE_LSTM\\.convAE_lstm\\lib\\site-packages\\sklearn\\ensemble\\_forest.py:427: FutureWarning:\n",
      "\n",
      "`max_features='auto'` has been deprecated in 1.1 and will be removed in 1.3. To keep the past behaviour, explicitly set `max_features='sqrt'` or remove this parameter as it is also the default value for RandomForestClassifiers and ExtraTreesClassifiers.\n",
      "\n",
      "C:\\Users\\vaiv\\Documents\\Git\\ConvAE_LSTM\\.convAE_lstm\\lib\\site-packages\\sklearn\\ensemble\\_forest.py:427: FutureWarning:\n",
      "\n",
      "`max_features='auto'` has been deprecated in 1.1 and will be removed in 1.3. To keep the past behaviour, explicitly set `max_features='sqrt'` or remove this parameter as it is also the default value for RandomForestClassifiers and ExtraTreesClassifiers.\n",
      "\n",
      "C:\\Users\\vaiv\\Documents\\Git\\ConvAE_LSTM\\.convAE_lstm\\lib\\site-packages\\sklearn\\ensemble\\_forest.py:427: FutureWarning:\n",
      "\n",
      "`max_features='auto'` has been deprecated in 1.1 and will be removed in 1.3. To keep the past behaviour, explicitly set `max_features='sqrt'` or remove this parameter as it is also the default value for RandomForestClassifiers and ExtraTreesClassifiers.\n",
      "\n",
      "\u001b[32m[I 2022-10-21 15:24:03,212]\u001b[0m Trial 156 finished with value: 0.9532361308677098 and parameters: {'n_estimators': 112, 'max_depth': 15, 'criterion': 'entropy', 'max_features': 'auto', 'min_samples_leaf': 5}. Best is trial 1 with value: 0.9667496443812233.\u001b[0m\n",
      "C:\\Users\\vaiv\\Documents\\Git\\ConvAE_LSTM\\.convAE_lstm\\lib\\site-packages\\sklearn\\ensemble\\_forest.py:427: FutureWarning:\n",
      "\n",
      "`max_features='auto'` has been deprecated in 1.1 and will be removed in 1.3. To keep the past behaviour, explicitly set `max_features='sqrt'` or remove this parameter as it is also the default value for RandomForestClassifiers and ExtraTreesClassifiers.\n",
      "\n",
      "C:\\Users\\vaiv\\Documents\\Git\\ConvAE_LSTM\\.convAE_lstm\\lib\\site-packages\\sklearn\\ensemble\\_forest.py:427: FutureWarning:\n",
      "\n",
      "`max_features='auto'` has been deprecated in 1.1 and will be removed in 1.3. To keep the past behaviour, explicitly set `max_features='sqrt'` or remove this parameter as it is also the default value for RandomForestClassifiers and ExtraTreesClassifiers.\n",
      "\n",
      "C:\\Users\\vaiv\\Documents\\Git\\ConvAE_LSTM\\.convAE_lstm\\lib\\site-packages\\sklearn\\ensemble\\_forest.py:427: FutureWarning:\n",
      "\n",
      "`max_features='auto'` has been deprecated in 1.1 and will be removed in 1.3. To keep the past behaviour, explicitly set `max_features='sqrt'` or remove this parameter as it is also the default value for RandomForestClassifiers and ExtraTreesClassifiers.\n",
      "\n",
      "C:\\Users\\vaiv\\Documents\\Git\\ConvAE_LSTM\\.convAE_lstm\\lib\\site-packages\\sklearn\\ensemble\\_forest.py:427: FutureWarning:\n",
      "\n",
      "`max_features='auto'` has been deprecated in 1.1 and will be removed in 1.3. To keep the past behaviour, explicitly set `max_features='sqrt'` or remove this parameter as it is also the default value for RandomForestClassifiers and ExtraTreesClassifiers.\n",
      "\n",
      "\u001b[32m[I 2022-10-21 15:24:03,913]\u001b[0m Trial 157 finished with value: 0.9466571834992887 and parameters: {'n_estimators': 117, 'max_depth': 10, 'criterion': 'gini', 'max_features': 'auto', 'min_samples_leaf': 4}. Best is trial 1 with value: 0.9667496443812233.\u001b[0m\n",
      "\u001b[32m[I 2022-10-21 15:24:04,164]\u001b[0m Trial 158 finished with value: 0.9534139402560455 and parameters: {'n_estimators': 48, 'max_depth': 8, 'criterion': 'entropy', 'max_features': 'sqrt', 'min_samples_leaf': 6}. Best is trial 1 with value: 0.9667496443812233.\u001b[0m\n",
      "C:\\Users\\vaiv\\Documents\\Git\\ConvAE_LSTM\\.convAE_lstm\\lib\\site-packages\\sklearn\\ensemble\\_forest.py:427: FutureWarning:\n",
      "\n",
      "`max_features='auto'` has been deprecated in 1.1 and will be removed in 1.3. To keep the past behaviour, explicitly set `max_features='sqrt'` or remove this parameter as it is also the default value for RandomForestClassifiers and ExtraTreesClassifiers.\n",
      "\n",
      "C:\\Users\\vaiv\\Documents\\Git\\ConvAE_LSTM\\.convAE_lstm\\lib\\site-packages\\sklearn\\ensemble\\_forest.py:427: FutureWarning:\n",
      "\n",
      "`max_features='auto'` has been deprecated in 1.1 and will be removed in 1.3. To keep the past behaviour, explicitly set `max_features='sqrt'` or remove this parameter as it is also the default value for RandomForestClassifiers and ExtraTreesClassifiers.\n",
      "\n",
      "C:\\Users\\vaiv\\Documents\\Git\\ConvAE_LSTM\\.convAE_lstm\\lib\\site-packages\\sklearn\\ensemble\\_forest.py:427: FutureWarning:\n",
      "\n",
      "`max_features='auto'` has been deprecated in 1.1 and will be removed in 1.3. To keep the past behaviour, explicitly set `max_features='sqrt'` or remove this parameter as it is also the default value for RandomForestClassifiers and ExtraTreesClassifiers.\n",
      "\n",
      "C:\\Users\\vaiv\\Documents\\Git\\ConvAE_LSTM\\.convAE_lstm\\lib\\site-packages\\sklearn\\ensemble\\_forest.py:427: FutureWarning:\n",
      "\n",
      "`max_features='auto'` has been deprecated in 1.1 and will be removed in 1.3. To keep the past behaviour, explicitly set `max_features='sqrt'` or remove this parameter as it is also the default value for RandomForestClassifiers and ExtraTreesClassifiers.\n",
      "\n",
      "\u001b[32m[I 2022-10-21 15:24:05,120]\u001b[0m Trial 159 finished with value: 0.9532361308677098 and parameters: {'n_estimators': 176, 'max_depth': 7, 'criterion': 'entropy', 'max_features': 'auto', 'min_samples_leaf': 4}. Best is trial 1 with value: 0.9667496443812233.\u001b[0m\n",
      "C:\\Users\\vaiv\\Documents\\Git\\ConvAE_LSTM\\.convAE_lstm\\lib\\site-packages\\sklearn\\ensemble\\_forest.py:427: FutureWarning:\n",
      "\n",
      "`max_features='auto'` has been deprecated in 1.1 and will be removed in 1.3. To keep the past behaviour, explicitly set `max_features='sqrt'` or remove this parameter as it is also the default value for RandomForestClassifiers and ExtraTreesClassifiers.\n",
      "\n",
      "C:\\Users\\vaiv\\Documents\\Git\\ConvAE_LSTM\\.convAE_lstm\\lib\\site-packages\\sklearn\\ensemble\\_forest.py:427: FutureWarning:\n",
      "\n",
      "`max_features='auto'` has been deprecated in 1.1 and will be removed in 1.3. To keep the past behaviour, explicitly set `max_features='sqrt'` or remove this parameter as it is also the default value for RandomForestClassifiers and ExtraTreesClassifiers.\n",
      "\n",
      "C:\\Users\\vaiv\\Documents\\Git\\ConvAE_LSTM\\.convAE_lstm\\lib\\site-packages\\sklearn\\ensemble\\_forest.py:427: FutureWarning:\n",
      "\n",
      "`max_features='auto'` has been deprecated in 1.1 and will be removed in 1.3. To keep the past behaviour, explicitly set `max_features='sqrt'` or remove this parameter as it is also the default value for RandomForestClassifiers and ExtraTreesClassifiers.\n",
      "\n",
      "C:\\Users\\vaiv\\Documents\\Git\\ConvAE_LSTM\\.convAE_lstm\\lib\\site-packages\\sklearn\\ensemble\\_forest.py:427: FutureWarning:\n",
      "\n",
      "`max_features='auto'` has been deprecated in 1.1 and will be removed in 1.3. To keep the past behaviour, explicitly set `max_features='sqrt'` or remove this parameter as it is also the default value for RandomForestClassifiers and ExtraTreesClassifiers.\n",
      "\n",
      "\u001b[32m[I 2022-10-21 15:24:05,224]\u001b[0m Trial 160 finished with value: 0.9599928876244666 and parameters: {'n_estimators': 15, 'max_depth': 13, 'criterion': 'gini', 'max_features': 'auto', 'min_samples_leaf': 4}. Best is trial 1 with value: 0.9667496443812233.\u001b[0m\n"
     ]
    },
    {
     "name": "stderr",
     "output_type": "stream",
     "text": [
      "C:\\Users\\vaiv\\Documents\\Git\\ConvAE_LSTM\\.convAE_lstm\\lib\\site-packages\\sklearn\\ensemble\\_forest.py:427: FutureWarning:\n",
      "\n",
      "`max_features='auto'` has been deprecated in 1.1 and will be removed in 1.3. To keep the past behaviour, explicitly set `max_features='sqrt'` or remove this parameter as it is also the default value for RandomForestClassifiers and ExtraTreesClassifiers.\n",
      "\n",
      "C:\\Users\\vaiv\\Documents\\Git\\ConvAE_LSTM\\.convAE_lstm\\lib\\site-packages\\sklearn\\ensemble\\_forest.py:427: FutureWarning:\n",
      "\n",
      "`max_features='auto'` has been deprecated in 1.1 and will be removed in 1.3. To keep the past behaviour, explicitly set `max_features='sqrt'` or remove this parameter as it is also the default value for RandomForestClassifiers and ExtraTreesClassifiers.\n",
      "\n",
      "C:\\Users\\vaiv\\Documents\\Git\\ConvAE_LSTM\\.convAE_lstm\\lib\\site-packages\\sklearn\\ensemble\\_forest.py:427: FutureWarning:\n",
      "\n",
      "`max_features='auto'` has been deprecated in 1.1 and will be removed in 1.3. To keep the past behaviour, explicitly set `max_features='sqrt'` or remove this parameter as it is also the default value for RandomForestClassifiers and ExtraTreesClassifiers.\n",
      "\n",
      "C:\\Users\\vaiv\\Documents\\Git\\ConvAE_LSTM\\.convAE_lstm\\lib\\site-packages\\sklearn\\ensemble\\_forest.py:427: FutureWarning:\n",
      "\n",
      "`max_features='auto'` has been deprecated in 1.1 and will be removed in 1.3. To keep the past behaviour, explicitly set `max_features='sqrt'` or remove this parameter as it is also the default value for RandomForestClassifiers and ExtraTreesClassifiers.\n",
      "\n",
      "\u001b[32m[I 2022-10-21 15:24:05,436]\u001b[0m Trial 161 finished with value: 0.9667496443812233 and parameters: {'n_estimators': 35, 'max_depth': 14, 'criterion': 'entropy', 'max_features': 'auto', 'min_samples_leaf': 4}. Best is trial 1 with value: 0.9667496443812233.\u001b[0m\n",
      "C:\\Users\\vaiv\\Documents\\Git\\ConvAE_LSTM\\.convAE_lstm\\lib\\site-packages\\sklearn\\ensemble\\_forest.py:427: FutureWarning:\n",
      "\n",
      "`max_features='auto'` has been deprecated in 1.1 and will be removed in 1.3. To keep the past behaviour, explicitly set `max_features='sqrt'` or remove this parameter as it is also the default value for RandomForestClassifiers and ExtraTreesClassifiers.\n",
      "\n",
      "C:\\Users\\vaiv\\Documents\\Git\\ConvAE_LSTM\\.convAE_lstm\\lib\\site-packages\\sklearn\\ensemble\\_forest.py:427: FutureWarning:\n",
      "\n",
      "`max_features='auto'` has been deprecated in 1.1 and will be removed in 1.3. To keep the past behaviour, explicitly set `max_features='sqrt'` or remove this parameter as it is also the default value for RandomForestClassifiers and ExtraTreesClassifiers.\n",
      "\n",
      "C:\\Users\\vaiv\\Documents\\Git\\ConvAE_LSTM\\.convAE_lstm\\lib\\site-packages\\sklearn\\ensemble\\_forest.py:427: FutureWarning:\n",
      "\n",
      "`max_features='auto'` has been deprecated in 1.1 and will be removed in 1.3. To keep the past behaviour, explicitly set `max_features='sqrt'` or remove this parameter as it is also the default value for RandomForestClassifiers and ExtraTreesClassifiers.\n",
      "\n",
      "C:\\Users\\vaiv\\Documents\\Git\\ConvAE_LSTM\\.convAE_lstm\\lib\\site-packages\\sklearn\\ensemble\\_forest.py:427: FutureWarning:\n",
      "\n",
      "`max_features='auto'` has been deprecated in 1.1 and will be removed in 1.3. To keep the past behaviour, explicitly set `max_features='sqrt'` or remove this parameter as it is also the default value for RandomForestClassifiers and ExtraTreesClassifiers.\n",
      "\n",
      "\u001b[32m[I 2022-10-21 15:24:05,800]\u001b[0m Trial 162 finished with value: 0.9733285917496444 and parameters: {'n_estimators': 65, 'max_depth': 6, 'criterion': 'entropy', 'max_features': 'auto', 'min_samples_leaf': 4}. Best is trial 162 with value: 0.9733285917496444.\u001b[0m\n",
      "C:\\Users\\vaiv\\Documents\\Git\\ConvAE_LSTM\\.convAE_lstm\\lib\\site-packages\\sklearn\\ensemble\\_forest.py:427: FutureWarning:\n",
      "\n",
      "`max_features='auto'` has been deprecated in 1.1 and will be removed in 1.3. To keep the past behaviour, explicitly set `max_features='sqrt'` or remove this parameter as it is also the default value for RandomForestClassifiers and ExtraTreesClassifiers.\n",
      "\n",
      "C:\\Users\\vaiv\\Documents\\Git\\ConvAE_LSTM\\.convAE_lstm\\lib\\site-packages\\sklearn\\ensemble\\_forest.py:427: FutureWarning:\n",
      "\n",
      "`max_features='auto'` has been deprecated in 1.1 and will be removed in 1.3. To keep the past behaviour, explicitly set `max_features='sqrt'` or remove this parameter as it is also the default value for RandomForestClassifiers and ExtraTreesClassifiers.\n",
      "\n",
      "C:\\Users\\vaiv\\Documents\\Git\\ConvAE_LSTM\\.convAE_lstm\\lib\\site-packages\\sklearn\\ensemble\\_forest.py:427: FutureWarning:\n",
      "\n",
      "`max_features='auto'` has been deprecated in 1.1 and will be removed in 1.3. To keep the past behaviour, explicitly set `max_features='sqrt'` or remove this parameter as it is also the default value for RandomForestClassifiers and ExtraTreesClassifiers.\n",
      "\n",
      "C:\\Users\\vaiv\\Documents\\Git\\ConvAE_LSTM\\.convAE_lstm\\lib\\site-packages\\sklearn\\ensemble\\_forest.py:427: FutureWarning:\n",
      "\n",
      "`max_features='auto'` has been deprecated in 1.1 and will be removed in 1.3. To keep the past behaviour, explicitly set `max_features='sqrt'` or remove this parameter as it is also the default value for RandomForestClassifiers and ExtraTreesClassifiers.\n",
      "\n",
      "\u001b[32m[I 2022-10-21 15:24:06,107]\u001b[0m Trial 163 finished with value: 0.9667496443812233 and parameters: {'n_estimators': 50, 'max_depth': 6, 'criterion': 'gini', 'max_features': 'auto', 'min_samples_leaf': 4}. Best is trial 162 with value: 0.9733285917496444.\u001b[0m\n",
      "C:\\Users\\vaiv\\Documents\\Git\\ConvAE_LSTM\\.convAE_lstm\\lib\\site-packages\\sklearn\\ensemble\\_forest.py:427: FutureWarning:\n",
      "\n",
      "`max_features='auto'` has been deprecated in 1.1 and will be removed in 1.3. To keep the past behaviour, explicitly set `max_features='sqrt'` or remove this parameter as it is also the default value for RandomForestClassifiers and ExtraTreesClassifiers.\n",
      "\n",
      "C:\\Users\\vaiv\\Documents\\Git\\ConvAE_LSTM\\.convAE_lstm\\lib\\site-packages\\sklearn\\ensemble\\_forest.py:427: FutureWarning:\n",
      "\n",
      "`max_features='auto'` has been deprecated in 1.1 and will be removed in 1.3. To keep the past behaviour, explicitly set `max_features='sqrt'` or remove this parameter as it is also the default value for RandomForestClassifiers and ExtraTreesClassifiers.\n",
      "\n",
      "C:\\Users\\vaiv\\Documents\\Git\\ConvAE_LSTM\\.convAE_lstm\\lib\\site-packages\\sklearn\\ensemble\\_forest.py:427: FutureWarning:\n",
      "\n",
      "`max_features='auto'` has been deprecated in 1.1 and will be removed in 1.3. To keep the past behaviour, explicitly set `max_features='sqrt'` or remove this parameter as it is also the default value for RandomForestClassifiers and ExtraTreesClassifiers.\n",
      "\n",
      "C:\\Users\\vaiv\\Documents\\Git\\ConvAE_LSTM\\.convAE_lstm\\lib\\site-packages\\sklearn\\ensemble\\_forest.py:427: FutureWarning:\n",
      "\n",
      "`max_features='auto'` has been deprecated in 1.1 and will be removed in 1.3. To keep the past behaviour, explicitly set `max_features='sqrt'` or remove this parameter as it is also the default value for RandomForestClassifiers and ExtraTreesClassifiers.\n",
      "\n",
      "\u001b[32m[I 2022-10-21 15:24:06,472]\u001b[0m Trial 164 finished with value: 0.9532361308677098 and parameters: {'n_estimators': 66, 'max_depth': 6, 'criterion': 'entropy', 'max_features': 'auto', 'min_samples_leaf': 4}. Best is trial 162 with value: 0.9733285917496444.\u001b[0m\n",
      "C:\\Users\\vaiv\\Documents\\Git\\ConvAE_LSTM\\.convAE_lstm\\lib\\site-packages\\sklearn\\ensemble\\_forest.py:427: FutureWarning:\n",
      "\n",
      "`max_features='auto'` has been deprecated in 1.1 and will be removed in 1.3. To keep the past behaviour, explicitly set `max_features='sqrt'` or remove this parameter as it is also the default value for RandomForestClassifiers and ExtraTreesClassifiers.\n",
      "\n",
      "C:\\Users\\vaiv\\Documents\\Git\\ConvAE_LSTM\\.convAE_lstm\\lib\\site-packages\\sklearn\\ensemble\\_forest.py:427: FutureWarning:\n",
      "\n",
      "`max_features='auto'` has been deprecated in 1.1 and will be removed in 1.3. To keep the past behaviour, explicitly set `max_features='sqrt'` or remove this parameter as it is also the default value for RandomForestClassifiers and ExtraTreesClassifiers.\n",
      "\n",
      "C:\\Users\\vaiv\\Documents\\Git\\ConvAE_LSTM\\.convAE_lstm\\lib\\site-packages\\sklearn\\ensemble\\_forest.py:427: FutureWarning:\n",
      "\n",
      "`max_features='auto'` has been deprecated in 1.1 and will be removed in 1.3. To keep the past behaviour, explicitly set `max_features='sqrt'` or remove this parameter as it is also the default value for RandomForestClassifiers and ExtraTreesClassifiers.\n",
      "\n",
      "C:\\Users\\vaiv\\Documents\\Git\\ConvAE_LSTM\\.convAE_lstm\\lib\\site-packages\\sklearn\\ensemble\\_forest.py:427: FutureWarning:\n",
      "\n",
      "`max_features='auto'` has been deprecated in 1.1 and will be removed in 1.3. To keep the past behaviour, explicitly set `max_features='sqrt'` or remove this parameter as it is also the default value for RandomForestClassifiers and ExtraTreesClassifiers.\n",
      "\n"
     ]
    },
    {
     "name": "stderr",
     "output_type": "stream",
     "text": [
      "\u001b[32m[I 2022-10-21 15:24:06,654]\u001b[0m Trial 165 finished with value: 0.9532361308677098 and parameters: {'n_estimators': 27, 'max_depth': 6, 'criterion': 'entropy', 'max_features': 'auto', 'min_samples_leaf': 4}. Best is trial 162 with value: 0.9733285917496444.\u001b[0m\n",
      "C:\\Users\\vaiv\\Documents\\Git\\ConvAE_LSTM\\.convAE_lstm\\lib\\site-packages\\sklearn\\ensemble\\_forest.py:427: FutureWarning:\n",
      "\n",
      "`max_features='auto'` has been deprecated in 1.1 and will be removed in 1.3. To keep the past behaviour, explicitly set `max_features='sqrt'` or remove this parameter as it is also the default value for RandomForestClassifiers and ExtraTreesClassifiers.\n",
      "\n",
      "C:\\Users\\vaiv\\Documents\\Git\\ConvAE_LSTM\\.convAE_lstm\\lib\\site-packages\\sklearn\\ensemble\\_forest.py:427: FutureWarning:\n",
      "\n",
      "`max_features='auto'` has been deprecated in 1.1 and will be removed in 1.3. To keep the past behaviour, explicitly set `max_features='sqrt'` or remove this parameter as it is also the default value for RandomForestClassifiers and ExtraTreesClassifiers.\n",
      "\n",
      "C:\\Users\\vaiv\\Documents\\Git\\ConvAE_LSTM\\.convAE_lstm\\lib\\site-packages\\sklearn\\ensemble\\_forest.py:427: FutureWarning:\n",
      "\n",
      "`max_features='auto'` has been deprecated in 1.1 and will be removed in 1.3. To keep the past behaviour, explicitly set `max_features='sqrt'` or remove this parameter as it is also the default value for RandomForestClassifiers and ExtraTreesClassifiers.\n",
      "\n",
      "C:\\Users\\vaiv\\Documents\\Git\\ConvAE_LSTM\\.convAE_lstm\\lib\\site-packages\\sklearn\\ensemble\\_forest.py:427: FutureWarning:\n",
      "\n",
      "`max_features='auto'` has been deprecated in 1.1 and will be removed in 1.3. To keep the past behaviour, explicitly set `max_features='sqrt'` or remove this parameter as it is also the default value for RandomForestClassifiers and ExtraTreesClassifiers.\n",
      "\n",
      "\u001b[32m[I 2022-10-21 15:24:06,799]\u001b[0m Trial 166 finished with value: 0.9667496443812233 and parameters: {'n_estimators': 23, 'max_depth': 5, 'criterion': 'entropy', 'max_features': 'auto', 'min_samples_leaf': 4}. Best is trial 162 with value: 0.9733285917496444.\u001b[0m\n",
      "C:\\Users\\vaiv\\Documents\\Git\\ConvAE_LSTM\\.convAE_lstm\\lib\\site-packages\\sklearn\\ensemble\\_forest.py:427: FutureWarning:\n",
      "\n",
      "`max_features='auto'` has been deprecated in 1.1 and will be removed in 1.3. To keep the past behaviour, explicitly set `max_features='sqrt'` or remove this parameter as it is also the default value for RandomForestClassifiers and ExtraTreesClassifiers.\n",
      "\n",
      "C:\\Users\\vaiv\\Documents\\Git\\ConvAE_LSTM\\.convAE_lstm\\lib\\site-packages\\sklearn\\ensemble\\_forest.py:427: FutureWarning:\n",
      "\n",
      "`max_features='auto'` has been deprecated in 1.1 and will be removed in 1.3. To keep the past behaviour, explicitly set `max_features='sqrt'` or remove this parameter as it is also the default value for RandomForestClassifiers and ExtraTreesClassifiers.\n",
      "\n",
      "C:\\Users\\vaiv\\Documents\\Git\\ConvAE_LSTM\\.convAE_lstm\\lib\\site-packages\\sklearn\\ensemble\\_forest.py:427: FutureWarning:\n",
      "\n",
      "`max_features='auto'` has been deprecated in 1.1 and will be removed in 1.3. To keep the past behaviour, explicitly set `max_features='sqrt'` or remove this parameter as it is also the default value for RandomForestClassifiers and ExtraTreesClassifiers.\n",
      "\n",
      "C:\\Users\\vaiv\\Documents\\Git\\ConvAE_LSTM\\.convAE_lstm\\lib\\site-packages\\sklearn\\ensemble\\_forest.py:427: FutureWarning:\n",
      "\n",
      "`max_features='auto'` has been deprecated in 1.1 and will be removed in 1.3. To keep the past behaviour, explicitly set `max_features='sqrt'` or remove this parameter as it is also the default value for RandomForestClassifiers and ExtraTreesClassifiers.\n",
      "\n",
      "\u001b[32m[I 2022-10-21 15:24:07,420]\u001b[0m Trial 167 finished with value: 0.9534139402560455 and parameters: {'n_estimators': 115, 'max_depth': 7, 'criterion': 'entropy', 'max_features': 'auto', 'min_samples_leaf': 7}. Best is trial 162 with value: 0.9733285917496444.\u001b[0m\n",
      "C:\\Users\\vaiv\\Documents\\Git\\ConvAE_LSTM\\.convAE_lstm\\lib\\site-packages\\sklearn\\ensemble\\_forest.py:427: FutureWarning:\n",
      "\n",
      "`max_features='auto'` has been deprecated in 1.1 and will be removed in 1.3. To keep the past behaviour, explicitly set `max_features='sqrt'` or remove this parameter as it is also the default value for RandomForestClassifiers and ExtraTreesClassifiers.\n",
      "\n",
      "C:\\Users\\vaiv\\Documents\\Git\\ConvAE_LSTM\\.convAE_lstm\\lib\\site-packages\\sklearn\\ensemble\\_forest.py:427: FutureWarning:\n",
      "\n",
      "`max_features='auto'` has been deprecated in 1.1 and will be removed in 1.3. To keep the past behaviour, explicitly set `max_features='sqrt'` or remove this parameter as it is also the default value for RandomForestClassifiers and ExtraTreesClassifiers.\n",
      "\n",
      "C:\\Users\\vaiv\\Documents\\Git\\ConvAE_LSTM\\.convAE_lstm\\lib\\site-packages\\sklearn\\ensemble\\_forest.py:427: FutureWarning:\n",
      "\n",
      "`max_features='auto'` has been deprecated in 1.1 and will be removed in 1.3. To keep the past behaviour, explicitly set `max_features='sqrt'` or remove this parameter as it is also the default value for RandomForestClassifiers and ExtraTreesClassifiers.\n",
      "\n",
      "C:\\Users\\vaiv\\Documents\\Git\\ConvAE_LSTM\\.convAE_lstm\\lib\\site-packages\\sklearn\\ensemble\\_forest.py:427: FutureWarning:\n",
      "\n",
      "`max_features='auto'` has been deprecated in 1.1 and will be removed in 1.3. To keep the past behaviour, explicitly set `max_features='sqrt'` or remove this parameter as it is also the default value for RandomForestClassifiers and ExtraTreesClassifiers.\n",
      "\n",
      "\u001b[32m[I 2022-10-21 15:24:07,514]\u001b[0m Trial 168 finished with value: 0.9667496443812233 and parameters: {'n_estimators': 12, 'max_depth': 7, 'criterion': 'gini', 'max_features': 'auto', 'min_samples_leaf': 4}. Best is trial 162 with value: 0.9733285917496444.\u001b[0m\n",
      "C:\\Users\\vaiv\\Documents\\Git\\ConvAE_LSTM\\.convAE_lstm\\lib\\site-packages\\sklearn\\ensemble\\_forest.py:427: FutureWarning:\n",
      "\n",
      "`max_features='auto'` has been deprecated in 1.1 and will be removed in 1.3. To keep the past behaviour, explicitly set `max_features='sqrt'` or remove this parameter as it is also the default value for RandomForestClassifiers and ExtraTreesClassifiers.\n",
      "\n",
      "C:\\Users\\vaiv\\Documents\\Git\\ConvAE_LSTM\\.convAE_lstm\\lib\\site-packages\\sklearn\\ensemble\\_forest.py:427: FutureWarning:\n",
      "\n",
      "`max_features='auto'` has been deprecated in 1.1 and will be removed in 1.3. To keep the past behaviour, explicitly set `max_features='sqrt'` or remove this parameter as it is also the default value for RandomForestClassifiers and ExtraTreesClassifiers.\n",
      "\n",
      "C:\\Users\\vaiv\\Documents\\Git\\ConvAE_LSTM\\.convAE_lstm\\lib\\site-packages\\sklearn\\ensemble\\_forest.py:427: FutureWarning:\n",
      "\n",
      "`max_features='auto'` has been deprecated in 1.1 and will be removed in 1.3. To keep the past behaviour, explicitly set `max_features='sqrt'` or remove this parameter as it is also the default value for RandomForestClassifiers and ExtraTreesClassifiers.\n",
      "\n",
      "C:\\Users\\vaiv\\Documents\\Git\\ConvAE_LSTM\\.convAE_lstm\\lib\\site-packages\\sklearn\\ensemble\\_forest.py:427: FutureWarning:\n",
      "\n",
      "`max_features='auto'` has been deprecated in 1.1 and will be removed in 1.3. To keep the past behaviour, explicitly set `max_features='sqrt'` or remove this parameter as it is also the default value for RandomForestClassifiers and ExtraTreesClassifiers.\n",
      "\n",
      "\u001b[32m[I 2022-10-21 15:24:07,966]\u001b[0m Trial 169 finished with value: 0.9532361308677098 and parameters: {'n_estimators': 72, 'max_depth': 7, 'criterion': 'gini', 'max_features': 'auto', 'min_samples_leaf': 4}. Best is trial 162 with value: 0.9733285917496444.\u001b[0m\n",
      "C:\\Users\\vaiv\\Documents\\Git\\ConvAE_LSTM\\.convAE_lstm\\lib\\site-packages\\sklearn\\ensemble\\_forest.py:427: FutureWarning:\n",
      "\n",
      "`max_features='auto'` has been deprecated in 1.1 and will be removed in 1.3. To keep the past behaviour, explicitly set `max_features='sqrt'` or remove this parameter as it is also the default value for RandomForestClassifiers and ExtraTreesClassifiers.\n",
      "\n",
      "C:\\Users\\vaiv\\Documents\\Git\\ConvAE_LSTM\\.convAE_lstm\\lib\\site-packages\\sklearn\\ensemble\\_forest.py:427: FutureWarning:\n",
      "\n",
      "`max_features='auto'` has been deprecated in 1.1 and will be removed in 1.3. To keep the past behaviour, explicitly set `max_features='sqrt'` or remove this parameter as it is also the default value for RandomForestClassifiers and ExtraTreesClassifiers.\n",
      "\n",
      "C:\\Users\\vaiv\\Documents\\Git\\ConvAE_LSTM\\.convAE_lstm\\lib\\site-packages\\sklearn\\ensemble\\_forest.py:427: FutureWarning:\n",
      "\n",
      "`max_features='auto'` has been deprecated in 1.1 and will be removed in 1.3. To keep the past behaviour, explicitly set `max_features='sqrt'` or remove this parameter as it is also the default value for RandomForestClassifiers and ExtraTreesClassifiers.\n",
      "\n",
      "C:\\Users\\vaiv\\Documents\\Git\\ConvAE_LSTM\\.convAE_lstm\\lib\\site-packages\\sklearn\\ensemble\\_forest.py:427: FutureWarning:\n",
      "\n",
      "`max_features='auto'` has been deprecated in 1.1 and will be removed in 1.3. To keep the past behaviour, explicitly set `max_features='sqrt'` or remove this parameter as it is also the default value for RandomForestClassifiers and ExtraTreesClassifiers.\n",
      "\n",
      "\u001b[32m[I 2022-10-21 15:24:08,047]\u001b[0m Trial 170 finished with value: 0.946479374110953 and parameters: {'n_estimators': 10, 'max_depth': 5, 'criterion': 'gini', 'max_features': 'auto', 'min_samples_leaf': 4}. Best is trial 162 with value: 0.9733285917496444.\u001b[0m\n"
     ]
    },
    {
     "name": "stderr",
     "output_type": "stream",
     "text": [
      "C:\\Users\\vaiv\\Documents\\Git\\ConvAE_LSTM\\.convAE_lstm\\lib\\site-packages\\sklearn\\ensemble\\_forest.py:427: FutureWarning:\n",
      "\n",
      "`max_features='auto'` has been deprecated in 1.1 and will be removed in 1.3. To keep the past behaviour, explicitly set `max_features='sqrt'` or remove this parameter as it is also the default value for RandomForestClassifiers and ExtraTreesClassifiers.\n",
      "\n",
      "C:\\Users\\vaiv\\Documents\\Git\\ConvAE_LSTM\\.convAE_lstm\\lib\\site-packages\\sklearn\\ensemble\\_forest.py:427: FutureWarning:\n",
      "\n",
      "`max_features='auto'` has been deprecated in 1.1 and will be removed in 1.3. To keep the past behaviour, explicitly set `max_features='sqrt'` or remove this parameter as it is also the default value for RandomForestClassifiers and ExtraTreesClassifiers.\n",
      "\n",
      "C:\\Users\\vaiv\\Documents\\Git\\ConvAE_LSTM\\.convAE_lstm\\lib\\site-packages\\sklearn\\ensemble\\_forest.py:427: FutureWarning:\n",
      "\n",
      "`max_features='auto'` has been deprecated in 1.1 and will be removed in 1.3. To keep the past behaviour, explicitly set `max_features='sqrt'` or remove this parameter as it is also the default value for RandomForestClassifiers and ExtraTreesClassifiers.\n",
      "\n",
      "C:\\Users\\vaiv\\Documents\\Git\\ConvAE_LSTM\\.convAE_lstm\\lib\\site-packages\\sklearn\\ensemble\\_forest.py:427: FutureWarning:\n",
      "\n",
      "`max_features='auto'` has been deprecated in 1.1 and will be removed in 1.3. To keep the past behaviour, explicitly set `max_features='sqrt'` or remove this parameter as it is also the default value for RandomForestClassifiers and ExtraTreesClassifiers.\n",
      "\n",
      "\u001b[32m[I 2022-10-21 15:24:08,295]\u001b[0m Trial 171 finished with value: 0.9667496443812233 and parameters: {'n_estimators': 42, 'max_depth': 7, 'criterion': 'entropy', 'max_features': 'auto', 'min_samples_leaf': 4}. Best is trial 162 with value: 0.9733285917496444.\u001b[0m\n",
      "C:\\Users\\vaiv\\Documents\\Git\\ConvAE_LSTM\\.convAE_lstm\\lib\\site-packages\\sklearn\\ensemble\\_forest.py:427: FutureWarning:\n",
      "\n",
      "`max_features='auto'` has been deprecated in 1.1 and will be removed in 1.3. To keep the past behaviour, explicitly set `max_features='sqrt'` or remove this parameter as it is also the default value for RandomForestClassifiers and ExtraTreesClassifiers.\n",
      "\n",
      "C:\\Users\\vaiv\\Documents\\Git\\ConvAE_LSTM\\.convAE_lstm\\lib\\site-packages\\sklearn\\ensemble\\_forest.py:427: FutureWarning:\n",
      "\n",
      "`max_features='auto'` has been deprecated in 1.1 and will be removed in 1.3. To keep the past behaviour, explicitly set `max_features='sqrt'` or remove this parameter as it is also the default value for RandomForestClassifiers and ExtraTreesClassifiers.\n",
      "\n",
      "C:\\Users\\vaiv\\Documents\\Git\\ConvAE_LSTM\\.convAE_lstm\\lib\\site-packages\\sklearn\\ensemble\\_forest.py:427: FutureWarning:\n",
      "\n",
      "`max_features='auto'` has been deprecated in 1.1 and will be removed in 1.3. To keep the past behaviour, explicitly set `max_features='sqrt'` or remove this parameter as it is also the default value for RandomForestClassifiers and ExtraTreesClassifiers.\n",
      "\n",
      "C:\\Users\\vaiv\\Documents\\Git\\ConvAE_LSTM\\.convAE_lstm\\lib\\site-packages\\sklearn\\ensemble\\_forest.py:427: FutureWarning:\n",
      "\n",
      "`max_features='auto'` has been deprecated in 1.1 and will be removed in 1.3. To keep the past behaviour, explicitly set `max_features='sqrt'` or remove this parameter as it is also the default value for RandomForestClassifiers and ExtraTreesClassifiers.\n",
      "\n",
      "\u001b[32m[I 2022-10-21 15:24:08,535]\u001b[0m Trial 172 finished with value: 0.9667496443812233 and parameters: {'n_estimators': 41, 'max_depth': 5, 'criterion': 'gini', 'max_features': 'auto', 'min_samples_leaf': 5}. Best is trial 162 with value: 0.9733285917496444.\u001b[0m\n",
      "C:\\Users\\vaiv\\Documents\\Git\\ConvAE_LSTM\\.convAE_lstm\\lib\\site-packages\\sklearn\\ensemble\\_forest.py:427: FutureWarning:\n",
      "\n",
      "`max_features='auto'` has been deprecated in 1.1 and will be removed in 1.3. To keep the past behaviour, explicitly set `max_features='sqrt'` or remove this parameter as it is also the default value for RandomForestClassifiers and ExtraTreesClassifiers.\n",
      "\n",
      "C:\\Users\\vaiv\\Documents\\Git\\ConvAE_LSTM\\.convAE_lstm\\lib\\site-packages\\sklearn\\ensemble\\_forest.py:427: FutureWarning:\n",
      "\n",
      "`max_features='auto'` has been deprecated in 1.1 and will be removed in 1.3. To keep the past behaviour, explicitly set `max_features='sqrt'` or remove this parameter as it is also the default value for RandomForestClassifiers and ExtraTreesClassifiers.\n",
      "\n",
      "C:\\Users\\vaiv\\Documents\\Git\\ConvAE_LSTM\\.convAE_lstm\\lib\\site-packages\\sklearn\\ensemble\\_forest.py:427: FutureWarning:\n",
      "\n",
      "`max_features='auto'` has been deprecated in 1.1 and will be removed in 1.3. To keep the past behaviour, explicitly set `max_features='sqrt'` or remove this parameter as it is also the default value for RandomForestClassifiers and ExtraTreesClassifiers.\n",
      "\n",
      "C:\\Users\\vaiv\\Documents\\Git\\ConvAE_LSTM\\.convAE_lstm\\lib\\site-packages\\sklearn\\ensemble\\_forest.py:427: FutureWarning:\n",
      "\n",
      "`max_features='auto'` has been deprecated in 1.1 and will be removed in 1.3. To keep the past behaviour, explicitly set `max_features='sqrt'` or remove this parameter as it is also the default value for RandomForestClassifiers and ExtraTreesClassifiers.\n",
      "\n",
      "\u001b[32m[I 2022-10-21 15:24:08,886]\u001b[0m Trial 173 finished with value: 0.9667496443812233 and parameters: {'n_estimators': 43, 'max_depth': 6, 'criterion': 'gini', 'max_features': 'auto', 'min_samples_leaf': 4}. Best is trial 162 with value: 0.9733285917496444.\u001b[0m\n",
      "C:\\Users\\vaiv\\Documents\\Git\\ConvAE_LSTM\\.convAE_lstm\\lib\\site-packages\\sklearn\\ensemble\\_forest.py:427: FutureWarning:\n",
      "\n",
      "`max_features='auto'` has been deprecated in 1.1 and will be removed in 1.3. To keep the past behaviour, explicitly set `max_features='sqrt'` or remove this parameter as it is also the default value for RandomForestClassifiers and ExtraTreesClassifiers.\n",
      "\n",
      "C:\\Users\\vaiv\\Documents\\Git\\ConvAE_LSTM\\.convAE_lstm\\lib\\site-packages\\sklearn\\ensemble\\_forest.py:427: FutureWarning:\n",
      "\n",
      "`max_features='auto'` has been deprecated in 1.1 and will be removed in 1.3. To keep the past behaviour, explicitly set `max_features='sqrt'` or remove this parameter as it is also the default value for RandomForestClassifiers and ExtraTreesClassifiers.\n",
      "\n",
      "C:\\Users\\vaiv\\Documents\\Git\\ConvAE_LSTM\\.convAE_lstm\\lib\\site-packages\\sklearn\\ensemble\\_forest.py:427: FutureWarning:\n",
      "\n",
      "`max_features='auto'` has been deprecated in 1.1 and will be removed in 1.3. To keep the past behaviour, explicitly set `max_features='sqrt'` or remove this parameter as it is also the default value for RandomForestClassifiers and ExtraTreesClassifiers.\n",
      "\n",
      "C:\\Users\\vaiv\\Documents\\Git\\ConvAE_LSTM\\.convAE_lstm\\lib\\site-packages\\sklearn\\ensemble\\_forest.py:427: FutureWarning:\n",
      "\n",
      "`max_features='auto'` has been deprecated in 1.1 and will be removed in 1.3. To keep the past behaviour, explicitly set `max_features='sqrt'` or remove this parameter as it is also the default value for RandomForestClassifiers and ExtraTreesClassifiers.\n",
      "\n",
      "\u001b[32m[I 2022-10-21 15:24:09,182]\u001b[0m Trial 174 finished with value: 0.9599928876244666 and parameters: {'n_estimators': 50, 'max_depth': 6, 'criterion': 'entropy', 'max_features': 'auto', 'min_samples_leaf': 4}. Best is trial 162 with value: 0.9733285917496444.\u001b[0m\n",
      "C:\\Users\\vaiv\\Documents\\Git\\ConvAE_LSTM\\.convAE_lstm\\lib\\site-packages\\sklearn\\ensemble\\_forest.py:427: FutureWarning:\n",
      "\n",
      "`max_features='auto'` has been deprecated in 1.1 and will be removed in 1.3. To keep the past behaviour, explicitly set `max_features='sqrt'` or remove this parameter as it is also the default value for RandomForestClassifiers and ExtraTreesClassifiers.\n",
      "\n",
      "C:\\Users\\vaiv\\Documents\\Git\\ConvAE_LSTM\\.convAE_lstm\\lib\\site-packages\\sklearn\\ensemble\\_forest.py:427: FutureWarning:\n",
      "\n",
      "`max_features='auto'` has been deprecated in 1.1 and will be removed in 1.3. To keep the past behaviour, explicitly set `max_features='sqrt'` or remove this parameter as it is also the default value for RandomForestClassifiers and ExtraTreesClassifiers.\n",
      "\n",
      "C:\\Users\\vaiv\\Documents\\Git\\ConvAE_LSTM\\.convAE_lstm\\lib\\site-packages\\sklearn\\ensemble\\_forest.py:427: FutureWarning:\n",
      "\n",
      "`max_features='auto'` has been deprecated in 1.1 and will be removed in 1.3. To keep the past behaviour, explicitly set `max_features='sqrt'` or remove this parameter as it is also the default value for RandomForestClassifiers and ExtraTreesClassifiers.\n",
      "\n",
      "C:\\Users\\vaiv\\Documents\\Git\\ConvAE_LSTM\\.convAE_lstm\\lib\\site-packages\\sklearn\\ensemble\\_forest.py:427: FutureWarning:\n",
      "\n",
      "`max_features='auto'` has been deprecated in 1.1 and will be removed in 1.3. To keep the past behaviour, explicitly set `max_features='sqrt'` or remove this parameter as it is also the default value for RandomForestClassifiers and ExtraTreesClassifiers.\n",
      "\n"
     ]
    },
    {
     "name": "stderr",
     "output_type": "stream",
     "text": [
      "\u001b[32m[I 2022-10-21 15:24:09,547]\u001b[0m Trial 175 finished with value: 0.9532361308677098 and parameters: {'n_estimators': 62, 'max_depth': 8, 'criterion': 'gini', 'max_features': 'auto', 'min_samples_leaf': 4}. Best is trial 162 with value: 0.9733285917496444.\u001b[0m\n",
      "C:\\Users\\vaiv\\Documents\\Git\\ConvAE_LSTM\\.convAE_lstm\\lib\\site-packages\\sklearn\\ensemble\\_forest.py:427: FutureWarning:\n",
      "\n",
      "`max_features='auto'` has been deprecated in 1.1 and will be removed in 1.3. To keep the past behaviour, explicitly set `max_features='sqrt'` or remove this parameter as it is also the default value for RandomForestClassifiers and ExtraTreesClassifiers.\n",
      "\n",
      "C:\\Users\\vaiv\\Documents\\Git\\ConvAE_LSTM\\.convAE_lstm\\lib\\site-packages\\sklearn\\ensemble\\_forest.py:427: FutureWarning:\n",
      "\n",
      "`max_features='auto'` has been deprecated in 1.1 and will be removed in 1.3. To keep the past behaviour, explicitly set `max_features='sqrt'` or remove this parameter as it is also the default value for RandomForestClassifiers and ExtraTreesClassifiers.\n",
      "\n",
      "C:\\Users\\vaiv\\Documents\\Git\\ConvAE_LSTM\\.convAE_lstm\\lib\\site-packages\\sklearn\\ensemble\\_forest.py:427: FutureWarning:\n",
      "\n",
      "`max_features='auto'` has been deprecated in 1.1 and will be removed in 1.3. To keep the past behaviour, explicitly set `max_features='sqrt'` or remove this parameter as it is also the default value for RandomForestClassifiers and ExtraTreesClassifiers.\n",
      "\n",
      "C:\\Users\\vaiv\\Documents\\Git\\ConvAE_LSTM\\.convAE_lstm\\lib\\site-packages\\sklearn\\ensemble\\_forest.py:427: FutureWarning:\n",
      "\n",
      "`max_features='auto'` has been deprecated in 1.1 and will be removed in 1.3. To keep the past behaviour, explicitly set `max_features='sqrt'` or remove this parameter as it is also the default value for RandomForestClassifiers and ExtraTreesClassifiers.\n",
      "\n",
      "\u001b[32m[I 2022-10-21 15:24:09,857]\u001b[0m Trial 176 finished with value: 0.9667496443812233 and parameters: {'n_estimators': 53, 'max_depth': 7, 'criterion': 'entropy', 'max_features': 'auto', 'min_samples_leaf': 4}. Best is trial 162 with value: 0.9733285917496444.\u001b[0m\n",
      "C:\\Users\\vaiv\\Documents\\Git\\ConvAE_LSTM\\.convAE_lstm\\lib\\site-packages\\sklearn\\ensemble\\_forest.py:427: FutureWarning:\n",
      "\n",
      "`max_features='auto'` has been deprecated in 1.1 and will be removed in 1.3. To keep the past behaviour, explicitly set `max_features='sqrt'` or remove this parameter as it is also the default value for RandomForestClassifiers and ExtraTreesClassifiers.\n",
      "\n",
      "C:\\Users\\vaiv\\Documents\\Git\\ConvAE_LSTM\\.convAE_lstm\\lib\\site-packages\\sklearn\\ensemble\\_forest.py:427: FutureWarning:\n",
      "\n",
      "`max_features='auto'` has been deprecated in 1.1 and will be removed in 1.3. To keep the past behaviour, explicitly set `max_features='sqrt'` or remove this parameter as it is also the default value for RandomForestClassifiers and ExtraTreesClassifiers.\n",
      "\n",
      "C:\\Users\\vaiv\\Documents\\Git\\ConvAE_LSTM\\.convAE_lstm\\lib\\site-packages\\sklearn\\ensemble\\_forest.py:427: FutureWarning:\n",
      "\n",
      "`max_features='auto'` has been deprecated in 1.1 and will be removed in 1.3. To keep the past behaviour, explicitly set `max_features='sqrt'` or remove this parameter as it is also the default value for RandomForestClassifiers and ExtraTreesClassifiers.\n",
      "\n",
      "C:\\Users\\vaiv\\Documents\\Git\\ConvAE_LSTM\\.convAE_lstm\\lib\\site-packages\\sklearn\\ensemble\\_forest.py:427: FutureWarning:\n",
      "\n",
      "`max_features='auto'` has been deprecated in 1.1 and will be removed in 1.3. To keep the past behaviour, explicitly set `max_features='sqrt'` or remove this parameter as it is also the default value for RandomForestClassifiers and ExtraTreesClassifiers.\n",
      "\n",
      "\u001b[32m[I 2022-10-21 15:24:10,250]\u001b[0m Trial 177 finished with value: 0.9667496443812233 and parameters: {'n_estimators': 54, 'max_depth': 6, 'criterion': 'entropy', 'max_features': 'auto', 'min_samples_leaf': 4}. Best is trial 162 with value: 0.9733285917496444.\u001b[0m\n",
      "C:\\Users\\vaiv\\Documents\\Git\\ConvAE_LSTM\\.convAE_lstm\\lib\\site-packages\\sklearn\\ensemble\\_forest.py:427: FutureWarning:\n",
      "\n",
      "`max_features='auto'` has been deprecated in 1.1 and will be removed in 1.3. To keep the past behaviour, explicitly set `max_features='sqrt'` or remove this parameter as it is also the default value for RandomForestClassifiers and ExtraTreesClassifiers.\n",
      "\n",
      "C:\\Users\\vaiv\\Documents\\Git\\ConvAE_LSTM\\.convAE_lstm\\lib\\site-packages\\sklearn\\ensemble\\_forest.py:427: FutureWarning:\n",
      "\n",
      "`max_features='auto'` has been deprecated in 1.1 and will be removed in 1.3. To keep the past behaviour, explicitly set `max_features='sqrt'` or remove this parameter as it is also the default value for RandomForestClassifiers and ExtraTreesClassifiers.\n",
      "\n",
      "C:\\Users\\vaiv\\Documents\\Git\\ConvAE_LSTM\\.convAE_lstm\\lib\\site-packages\\sklearn\\ensemble\\_forest.py:427: FutureWarning:\n",
      "\n",
      "`max_features='auto'` has been deprecated in 1.1 and will be removed in 1.3. To keep the past behaviour, explicitly set `max_features='sqrt'` or remove this parameter as it is also the default value for RandomForestClassifiers and ExtraTreesClassifiers.\n",
      "\n",
      "C:\\Users\\vaiv\\Documents\\Git\\ConvAE_LSTM\\.convAE_lstm\\lib\\site-packages\\sklearn\\ensemble\\_forest.py:427: FutureWarning:\n",
      "\n",
      "`max_features='auto'` has been deprecated in 1.1 and will be removed in 1.3. To keep the past behaviour, explicitly set `max_features='sqrt'` or remove this parameter as it is also the default value for RandomForestClassifiers and ExtraTreesClassifiers.\n",
      "\n",
      "\u001b[32m[I 2022-10-21 15:24:10,588]\u001b[0m Trial 178 finished with value: 0.9532361308677098 and parameters: {'n_estimators': 55, 'max_depth': 6, 'criterion': 'entropy', 'max_features': 'auto', 'min_samples_leaf': 4}. Best is trial 162 with value: 0.9733285917496444.\u001b[0m\n",
      "C:\\Users\\vaiv\\Documents\\Git\\ConvAE_LSTM\\.convAE_lstm\\lib\\site-packages\\sklearn\\ensemble\\_forest.py:427: FutureWarning:\n",
      "\n",
      "`max_features='auto'` has been deprecated in 1.1 and will be removed in 1.3. To keep the past behaviour, explicitly set `max_features='sqrt'` or remove this parameter as it is also the default value for RandomForestClassifiers and ExtraTreesClassifiers.\n",
      "\n",
      "C:\\Users\\vaiv\\Documents\\Git\\ConvAE_LSTM\\.convAE_lstm\\lib\\site-packages\\sklearn\\ensemble\\_forest.py:427: FutureWarning:\n",
      "\n",
      "`max_features='auto'` has been deprecated in 1.1 and will be removed in 1.3. To keep the past behaviour, explicitly set `max_features='sqrt'` or remove this parameter as it is also the default value for RandomForestClassifiers and ExtraTreesClassifiers.\n",
      "\n",
      "C:\\Users\\vaiv\\Documents\\Git\\ConvAE_LSTM\\.convAE_lstm\\lib\\site-packages\\sklearn\\ensemble\\_forest.py:427: FutureWarning:\n",
      "\n",
      "`max_features='auto'` has been deprecated in 1.1 and will be removed in 1.3. To keep the past behaviour, explicitly set `max_features='sqrt'` or remove this parameter as it is also the default value for RandomForestClassifiers and ExtraTreesClassifiers.\n",
      "\n",
      "C:\\Users\\vaiv\\Documents\\Git\\ConvAE_LSTM\\.convAE_lstm\\lib\\site-packages\\sklearn\\ensemble\\_forest.py:427: FutureWarning:\n",
      "\n",
      "`max_features='auto'` has been deprecated in 1.1 and will be removed in 1.3. To keep the past behaviour, explicitly set `max_features='sqrt'` or remove this parameter as it is also the default value for RandomForestClassifiers and ExtraTreesClassifiers.\n",
      "\n",
      "\u001b[32m[I 2022-10-21 15:24:10,946]\u001b[0m Trial 179 finished with value: 0.9601706970128022 and parameters: {'n_estimators': 58, 'max_depth': 8, 'criterion': 'entropy', 'max_features': 'auto', 'min_samples_leaf': 4}. Best is trial 162 with value: 0.9733285917496444.\u001b[0m\n",
      "C:\\Users\\vaiv\\Documents\\Git\\ConvAE_LSTM\\.convAE_lstm\\lib\\site-packages\\sklearn\\ensemble\\_forest.py:427: FutureWarning:\n",
      "\n",
      "`max_features='auto'` has been deprecated in 1.1 and will be removed in 1.3. To keep the past behaviour, explicitly set `max_features='sqrt'` or remove this parameter as it is also the default value for RandomForestClassifiers and ExtraTreesClassifiers.\n",
      "\n",
      "C:\\Users\\vaiv\\Documents\\Git\\ConvAE_LSTM\\.convAE_lstm\\lib\\site-packages\\sklearn\\ensemble\\_forest.py:427: FutureWarning:\n",
      "\n",
      "`max_features='auto'` has been deprecated in 1.1 and will be removed in 1.3. To keep the past behaviour, explicitly set `max_features='sqrt'` or remove this parameter as it is also the default value for RandomForestClassifiers and ExtraTreesClassifiers.\n",
      "\n",
      "C:\\Users\\vaiv\\Documents\\Git\\ConvAE_LSTM\\.convAE_lstm\\lib\\site-packages\\sklearn\\ensemble\\_forest.py:427: FutureWarning:\n",
      "\n",
      "`max_features='auto'` has been deprecated in 1.1 and will be removed in 1.3. To keep the past behaviour, explicitly set `max_features='sqrt'` or remove this parameter as it is also the default value for RandomForestClassifiers and ExtraTreesClassifiers.\n",
      "\n",
      "C:\\Users\\vaiv\\Documents\\Git\\ConvAE_LSTM\\.convAE_lstm\\lib\\site-packages\\sklearn\\ensemble\\_forest.py:427: FutureWarning:\n",
      "\n",
      "`max_features='auto'` has been deprecated in 1.1 and will be removed in 1.3. To keep the past behaviour, explicitly set `max_features='sqrt'` or remove this parameter as it is also the default value for RandomForestClassifiers and ExtraTreesClassifiers.\n",
      "\n"
     ]
    },
    {
     "name": "stderr",
     "output_type": "stream",
     "text": [
      "\u001b[32m[I 2022-10-21 15:24:11,096]\u001b[0m Trial 180 finished with value: 0.9599928876244666 and parameters: {'n_estimators': 21, 'max_depth': 5, 'criterion': 'entropy', 'max_features': 'auto', 'min_samples_leaf': 4}. Best is trial 162 with value: 0.9733285917496444.\u001b[0m\n",
      "C:\\Users\\vaiv\\Documents\\Git\\ConvAE_LSTM\\.convAE_lstm\\lib\\site-packages\\sklearn\\ensemble\\_forest.py:427: FutureWarning:\n",
      "\n",
      "`max_features='auto'` has been deprecated in 1.1 and will be removed in 1.3. To keep the past behaviour, explicitly set `max_features='sqrt'` or remove this parameter as it is also the default value for RandomForestClassifiers and ExtraTreesClassifiers.\n",
      "\n",
      "C:\\Users\\vaiv\\Documents\\Git\\ConvAE_LSTM\\.convAE_lstm\\lib\\site-packages\\sklearn\\ensemble\\_forest.py:427: FutureWarning:\n",
      "\n",
      "`max_features='auto'` has been deprecated in 1.1 and will be removed in 1.3. To keep the past behaviour, explicitly set `max_features='sqrt'` or remove this parameter as it is also the default value for RandomForestClassifiers and ExtraTreesClassifiers.\n",
      "\n",
      "C:\\Users\\vaiv\\Documents\\Git\\ConvAE_LSTM\\.convAE_lstm\\lib\\site-packages\\sklearn\\ensemble\\_forest.py:427: FutureWarning:\n",
      "\n",
      "`max_features='auto'` has been deprecated in 1.1 and will be removed in 1.3. To keep the past behaviour, explicitly set `max_features='sqrt'` or remove this parameter as it is also the default value for RandomForestClassifiers and ExtraTreesClassifiers.\n",
      "\n",
      "C:\\Users\\vaiv\\Documents\\Git\\ConvAE_LSTM\\.convAE_lstm\\lib\\site-packages\\sklearn\\ensemble\\_forest.py:427: FutureWarning:\n",
      "\n",
      "`max_features='auto'` has been deprecated in 1.1 and will be removed in 1.3. To keep the past behaviour, explicitly set `max_features='sqrt'` or remove this parameter as it is also the default value for RandomForestClassifiers and ExtraTreesClassifiers.\n",
      "\n",
      "\u001b[32m[I 2022-10-21 15:24:11,503]\u001b[0m Trial 181 finished with value: 0.9601706970128022 and parameters: {'n_estimators': 65, 'max_depth': 9, 'criterion': 'entropy', 'max_features': 'auto', 'min_samples_leaf': 7}. Best is trial 162 with value: 0.9733285917496444.\u001b[0m\n",
      "C:\\Users\\vaiv\\Documents\\Git\\ConvAE_LSTM\\.convAE_lstm\\lib\\site-packages\\sklearn\\ensemble\\_forest.py:427: FutureWarning:\n",
      "\n",
      "`max_features='auto'` has been deprecated in 1.1 and will be removed in 1.3. To keep the past behaviour, explicitly set `max_features='sqrt'` or remove this parameter as it is also the default value for RandomForestClassifiers and ExtraTreesClassifiers.\n",
      "\n",
      "C:\\Users\\vaiv\\Documents\\Git\\ConvAE_LSTM\\.convAE_lstm\\lib\\site-packages\\sklearn\\ensemble\\_forest.py:427: FutureWarning:\n",
      "\n",
      "`max_features='auto'` has been deprecated in 1.1 and will be removed in 1.3. To keep the past behaviour, explicitly set `max_features='sqrt'` or remove this parameter as it is also the default value for RandomForestClassifiers and ExtraTreesClassifiers.\n",
      "\n",
      "C:\\Users\\vaiv\\Documents\\Git\\ConvAE_LSTM\\.convAE_lstm\\lib\\site-packages\\sklearn\\ensemble\\_forest.py:427: FutureWarning:\n",
      "\n",
      "`max_features='auto'` has been deprecated in 1.1 and will be removed in 1.3. To keep the past behaviour, explicitly set `max_features='sqrt'` or remove this parameter as it is also the default value for RandomForestClassifiers and ExtraTreesClassifiers.\n",
      "\n",
      "C:\\Users\\vaiv\\Documents\\Git\\ConvAE_LSTM\\.convAE_lstm\\lib\\site-packages\\sklearn\\ensemble\\_forest.py:427: FutureWarning:\n",
      "\n",
      "`max_features='auto'` has been deprecated in 1.1 and will be removed in 1.3. To keep the past behaviour, explicitly set `max_features='sqrt'` or remove this parameter as it is also the default value for RandomForestClassifiers and ExtraTreesClassifiers.\n",
      "\n",
      "\u001b[32m[I 2022-10-21 15:24:11,880]\u001b[0m Trial 182 finished with value: 0.9667496443812233 and parameters: {'n_estimators': 61, 'max_depth': 4, 'criterion': 'entropy', 'max_features': 'auto', 'min_samples_leaf': 4}. Best is trial 162 with value: 0.9733285917496444.\u001b[0m\n",
      "\u001b[32m[I 2022-10-21 15:24:12,257]\u001b[0m Trial 183 finished with value: 0.9532361308677098 and parameters: {'n_estimators': 69, 'max_depth': 12, 'criterion': 'entropy', 'max_features': 'sqrt', 'min_samples_leaf': 4}. Best is trial 162 with value: 0.9733285917496444.\u001b[0m\n",
      "C:\\Users\\vaiv\\Documents\\Git\\ConvAE_LSTM\\.convAE_lstm\\lib\\site-packages\\sklearn\\ensemble\\_forest.py:427: FutureWarning:\n",
      "\n",
      "`max_features='auto'` has been deprecated in 1.1 and will be removed in 1.3. To keep the past behaviour, explicitly set `max_features='sqrt'` or remove this parameter as it is also the default value for RandomForestClassifiers and ExtraTreesClassifiers.\n",
      "\n",
      "C:\\Users\\vaiv\\Documents\\Git\\ConvAE_LSTM\\.convAE_lstm\\lib\\site-packages\\sklearn\\ensemble\\_forest.py:427: FutureWarning:\n",
      "\n",
      "`max_features='auto'` has been deprecated in 1.1 and will be removed in 1.3. To keep the past behaviour, explicitly set `max_features='sqrt'` or remove this parameter as it is also the default value for RandomForestClassifiers and ExtraTreesClassifiers.\n",
      "\n",
      "C:\\Users\\vaiv\\Documents\\Git\\ConvAE_LSTM\\.convAE_lstm\\lib\\site-packages\\sklearn\\ensemble\\_forest.py:427: FutureWarning:\n",
      "\n",
      "`max_features='auto'` has been deprecated in 1.1 and will be removed in 1.3. To keep the past behaviour, explicitly set `max_features='sqrt'` or remove this parameter as it is also the default value for RandomForestClassifiers and ExtraTreesClassifiers.\n",
      "\n",
      "C:\\Users\\vaiv\\Documents\\Git\\ConvAE_LSTM\\.convAE_lstm\\lib\\site-packages\\sklearn\\ensemble\\_forest.py:427: FutureWarning:\n",
      "\n",
      "`max_features='auto'` has been deprecated in 1.1 and will be removed in 1.3. To keep the past behaviour, explicitly set `max_features='sqrt'` or remove this parameter as it is also the default value for RandomForestClassifiers and ExtraTreesClassifiers.\n",
      "\n",
      "\u001b[32m[I 2022-10-21 15:24:12,606]\u001b[0m Trial 184 finished with value: 0.9599928876244666 and parameters: {'n_estimators': 60, 'max_depth': 4, 'criterion': 'gini', 'max_features': 'auto', 'min_samples_leaf': 4}. Best is trial 162 with value: 0.9733285917496444.\u001b[0m\n",
      "C:\\Users\\vaiv\\Documents\\Git\\ConvAE_LSTM\\.convAE_lstm\\lib\\site-packages\\sklearn\\ensemble\\_forest.py:427: FutureWarning:\n",
      "\n",
      "`max_features='auto'` has been deprecated in 1.1 and will be removed in 1.3. To keep the past behaviour, explicitly set `max_features='sqrt'` or remove this parameter as it is also the default value for RandomForestClassifiers and ExtraTreesClassifiers.\n",
      "\n",
      "C:\\Users\\vaiv\\Documents\\Git\\ConvAE_LSTM\\.convAE_lstm\\lib\\site-packages\\sklearn\\ensemble\\_forest.py:427: FutureWarning:\n",
      "\n",
      "`max_features='auto'` has been deprecated in 1.1 and will be removed in 1.3. To keep the past behaviour, explicitly set `max_features='sqrt'` or remove this parameter as it is also the default value for RandomForestClassifiers and ExtraTreesClassifiers.\n",
      "\n",
      "C:\\Users\\vaiv\\Documents\\Git\\ConvAE_LSTM\\.convAE_lstm\\lib\\site-packages\\sklearn\\ensemble\\_forest.py:427: FutureWarning:\n",
      "\n",
      "`max_features='auto'` has been deprecated in 1.1 and will be removed in 1.3. To keep the past behaviour, explicitly set `max_features='sqrt'` or remove this parameter as it is also the default value for RandomForestClassifiers and ExtraTreesClassifiers.\n",
      "\n",
      "C:\\Users\\vaiv\\Documents\\Git\\ConvAE_LSTM\\.convAE_lstm\\lib\\site-packages\\sklearn\\ensemble\\_forest.py:427: FutureWarning:\n",
      "\n",
      "`max_features='auto'` has been deprecated in 1.1 and will be removed in 1.3. To keep the past behaviour, explicitly set `max_features='sqrt'` or remove this parameter as it is also the default value for RandomForestClassifiers and ExtraTreesClassifiers.\n",
      "\n",
      "\u001b[32m[I 2022-10-21 15:24:12,707]\u001b[0m Trial 185 finished with value: 0.9667496443812233 and parameters: {'n_estimators': 15, 'max_depth': 5, 'criterion': 'gini', 'max_features': 'auto', 'min_samples_leaf': 4}. Best is trial 162 with value: 0.9733285917496444.\u001b[0m\n",
      "C:\\Users\\vaiv\\Documents\\Git\\ConvAE_LSTM\\.convAE_lstm\\lib\\site-packages\\sklearn\\ensemble\\_forest.py:427: FutureWarning:\n",
      "\n",
      "`max_features='auto'` has been deprecated in 1.1 and will be removed in 1.3. To keep the past behaviour, explicitly set `max_features='sqrt'` or remove this parameter as it is also the default value for RandomForestClassifiers and ExtraTreesClassifiers.\n",
      "\n",
      "C:\\Users\\vaiv\\Documents\\Git\\ConvAE_LSTM\\.convAE_lstm\\lib\\site-packages\\sklearn\\ensemble\\_forest.py:427: FutureWarning:\n",
      "\n",
      "`max_features='auto'` has been deprecated in 1.1 and will be removed in 1.3. To keep the past behaviour, explicitly set `max_features='sqrt'` or remove this parameter as it is also the default value for RandomForestClassifiers and ExtraTreesClassifiers.\n",
      "\n"
     ]
    },
    {
     "name": "stderr",
     "output_type": "stream",
     "text": [
      "C:\\Users\\vaiv\\Documents\\Git\\ConvAE_LSTM\\.convAE_lstm\\lib\\site-packages\\sklearn\\ensemble\\_forest.py:427: FutureWarning:\n",
      "\n",
      "`max_features='auto'` has been deprecated in 1.1 and will be removed in 1.3. To keep the past behaviour, explicitly set `max_features='sqrt'` or remove this parameter as it is also the default value for RandomForestClassifiers and ExtraTreesClassifiers.\n",
      "\n",
      "C:\\Users\\vaiv\\Documents\\Git\\ConvAE_LSTM\\.convAE_lstm\\lib\\site-packages\\sklearn\\ensemble\\_forest.py:427: FutureWarning:\n",
      "\n",
      "`max_features='auto'` has been deprecated in 1.1 and will be removed in 1.3. To keep the past behaviour, explicitly set `max_features='sqrt'` or remove this parameter as it is also the default value for RandomForestClassifiers and ExtraTreesClassifiers.\n",
      "\n",
      "\u001b[32m[I 2022-10-21 15:24:13,091]\u001b[0m Trial 186 finished with value: 0.9667496443812233 and parameters: {'n_estimators': 65, 'max_depth': 5, 'criterion': 'entropy', 'max_features': 'auto', 'min_samples_leaf': 4}. Best is trial 162 with value: 0.9733285917496444.\u001b[0m\n",
      "C:\\Users\\vaiv\\Documents\\Git\\ConvAE_LSTM\\.convAE_lstm\\lib\\site-packages\\sklearn\\ensemble\\_forest.py:427: FutureWarning:\n",
      "\n",
      "`max_features='auto'` has been deprecated in 1.1 and will be removed in 1.3. To keep the past behaviour, explicitly set `max_features='sqrt'` or remove this parameter as it is also the default value for RandomForestClassifiers and ExtraTreesClassifiers.\n",
      "\n",
      "C:\\Users\\vaiv\\Documents\\Git\\ConvAE_LSTM\\.convAE_lstm\\lib\\site-packages\\sklearn\\ensemble\\_forest.py:427: FutureWarning:\n",
      "\n",
      "`max_features='auto'` has been deprecated in 1.1 and will be removed in 1.3. To keep the past behaviour, explicitly set `max_features='sqrt'` or remove this parameter as it is also the default value for RandomForestClassifiers and ExtraTreesClassifiers.\n",
      "\n",
      "C:\\Users\\vaiv\\Documents\\Git\\ConvAE_LSTM\\.convAE_lstm\\lib\\site-packages\\sklearn\\ensemble\\_forest.py:427: FutureWarning:\n",
      "\n",
      "`max_features='auto'` has been deprecated in 1.1 and will be removed in 1.3. To keep the past behaviour, explicitly set `max_features='sqrt'` or remove this parameter as it is also the default value for RandomForestClassifiers and ExtraTreesClassifiers.\n",
      "\n",
      "C:\\Users\\vaiv\\Documents\\Git\\ConvAE_LSTM\\.convAE_lstm\\lib\\site-packages\\sklearn\\ensemble\\_forest.py:427: FutureWarning:\n",
      "\n",
      "`max_features='auto'` has been deprecated in 1.1 and will be removed in 1.3. To keep the past behaviour, explicitly set `max_features='sqrt'` or remove this parameter as it is also the default value for RandomForestClassifiers and ExtraTreesClassifiers.\n",
      "\n",
      "\u001b[32m[I 2022-10-21 15:24:13,542]\u001b[0m Trial 187 finished with value: 0.9599928876244666 and parameters: {'n_estimators': 79, 'max_depth': 5, 'criterion': 'gini', 'max_features': 'auto', 'min_samples_leaf': 4}. Best is trial 162 with value: 0.9733285917496444.\u001b[0m\n",
      "C:\\Users\\vaiv\\Documents\\Git\\ConvAE_LSTM\\.convAE_lstm\\lib\\site-packages\\sklearn\\ensemble\\_forest.py:427: FutureWarning:\n",
      "\n",
      "`max_features='auto'` has been deprecated in 1.1 and will be removed in 1.3. To keep the past behaviour, explicitly set `max_features='sqrt'` or remove this parameter as it is also the default value for RandomForestClassifiers and ExtraTreesClassifiers.\n",
      "\n",
      "C:\\Users\\vaiv\\Documents\\Git\\ConvAE_LSTM\\.convAE_lstm\\lib\\site-packages\\sklearn\\ensemble\\_forest.py:427: FutureWarning:\n",
      "\n",
      "`max_features='auto'` has been deprecated in 1.1 and will be removed in 1.3. To keep the past behaviour, explicitly set `max_features='sqrt'` or remove this parameter as it is also the default value for RandomForestClassifiers and ExtraTreesClassifiers.\n",
      "\n",
      "C:\\Users\\vaiv\\Documents\\Git\\ConvAE_LSTM\\.convAE_lstm\\lib\\site-packages\\sklearn\\ensemble\\_forest.py:427: FutureWarning:\n",
      "\n",
      "`max_features='auto'` has been deprecated in 1.1 and will be removed in 1.3. To keep the past behaviour, explicitly set `max_features='sqrt'` or remove this parameter as it is also the default value for RandomForestClassifiers and ExtraTreesClassifiers.\n",
      "\n",
      "C:\\Users\\vaiv\\Documents\\Git\\ConvAE_LSTM\\.convAE_lstm\\lib\\site-packages\\sklearn\\ensemble\\_forest.py:427: FutureWarning:\n",
      "\n",
      "`max_features='auto'` has been deprecated in 1.1 and will be removed in 1.3. To keep the past behaviour, explicitly set `max_features='sqrt'` or remove this parameter as it is also the default value for RandomForestClassifiers and ExtraTreesClassifiers.\n",
      "\n",
      "\u001b[32m[I 2022-10-21 15:24:14,063]\u001b[0m Trial 188 finished with value: 0.9599928876244666 and parameters: {'n_estimators': 67, 'max_depth': 6, 'criterion': 'gini', 'max_features': 'auto', 'min_samples_leaf': 4}. Best is trial 162 with value: 0.9733285917496444.\u001b[0m\n",
      "C:\\Users\\vaiv\\Documents\\Git\\ConvAE_LSTM\\.convAE_lstm\\lib\\site-packages\\sklearn\\ensemble\\_forest.py:427: FutureWarning:\n",
      "\n",
      "`max_features='auto'` has been deprecated in 1.1 and will be removed in 1.3. To keep the past behaviour, explicitly set `max_features='sqrt'` or remove this parameter as it is also the default value for RandomForestClassifiers and ExtraTreesClassifiers.\n",
      "\n",
      "C:\\Users\\vaiv\\Documents\\Git\\ConvAE_LSTM\\.convAE_lstm\\lib\\site-packages\\sklearn\\ensemble\\_forest.py:427: FutureWarning:\n",
      "\n",
      "`max_features='auto'` has been deprecated in 1.1 and will be removed in 1.3. To keep the past behaviour, explicitly set `max_features='sqrt'` or remove this parameter as it is also the default value for RandomForestClassifiers and ExtraTreesClassifiers.\n",
      "\n",
      "C:\\Users\\vaiv\\Documents\\Git\\ConvAE_LSTM\\.convAE_lstm\\lib\\site-packages\\sklearn\\ensemble\\_forest.py:427: FutureWarning:\n",
      "\n",
      "`max_features='auto'` has been deprecated in 1.1 and will be removed in 1.3. To keep the past behaviour, explicitly set `max_features='sqrt'` or remove this parameter as it is also the default value for RandomForestClassifiers and ExtraTreesClassifiers.\n",
      "\n",
      "C:\\Users\\vaiv\\Documents\\Git\\ConvAE_LSTM\\.convAE_lstm\\lib\\site-packages\\sklearn\\ensemble\\_forest.py:427: FutureWarning:\n",
      "\n",
      "`max_features='auto'` has been deprecated in 1.1 and will be removed in 1.3. To keep the past behaviour, explicitly set `max_features='sqrt'` or remove this parameter as it is also the default value for RandomForestClassifiers and ExtraTreesClassifiers.\n",
      "\n",
      "\u001b[32m[I 2022-10-21 15:24:14,363]\u001b[0m Trial 189 finished with value: 0.9532361308677098 and parameters: {'n_estimators': 49, 'max_depth': 8, 'criterion': 'entropy', 'max_features': 'auto', 'min_samples_leaf': 4}. Best is trial 162 with value: 0.9733285917496444.\u001b[0m\n",
      "C:\\Users\\vaiv\\Documents\\Git\\ConvAE_LSTM\\.convAE_lstm\\lib\\site-packages\\sklearn\\ensemble\\_forest.py:427: FutureWarning:\n",
      "\n",
      "`max_features='auto'` has been deprecated in 1.1 and will be removed in 1.3. To keep the past behaviour, explicitly set `max_features='sqrt'` or remove this parameter as it is also the default value for RandomForestClassifiers and ExtraTreesClassifiers.\n",
      "\n",
      "C:\\Users\\vaiv\\Documents\\Git\\ConvAE_LSTM\\.convAE_lstm\\lib\\site-packages\\sklearn\\ensemble\\_forest.py:427: FutureWarning:\n",
      "\n",
      "`max_features='auto'` has been deprecated in 1.1 and will be removed in 1.3. To keep the past behaviour, explicitly set `max_features='sqrt'` or remove this parameter as it is also the default value for RandomForestClassifiers and ExtraTreesClassifiers.\n",
      "\n",
      "C:\\Users\\vaiv\\Documents\\Git\\ConvAE_LSTM\\.convAE_lstm\\lib\\site-packages\\sklearn\\ensemble\\_forest.py:427: FutureWarning:\n",
      "\n",
      "`max_features='auto'` has been deprecated in 1.1 and will be removed in 1.3. To keep the past behaviour, explicitly set `max_features='sqrt'` or remove this parameter as it is also the default value for RandomForestClassifiers and ExtraTreesClassifiers.\n",
      "\n",
      "C:\\Users\\vaiv\\Documents\\Git\\ConvAE_LSTM\\.convAE_lstm\\lib\\site-packages\\sklearn\\ensemble\\_forest.py:427: FutureWarning:\n",
      "\n",
      "`max_features='auto'` has been deprecated in 1.1 and will be removed in 1.3. To keep the past behaviour, explicitly set `max_features='sqrt'` or remove this parameter as it is also the default value for RandomForestClassifiers and ExtraTreesClassifiers.\n",
      "\n",
      "\u001b[32m[I 2022-10-21 15:24:14,615]\u001b[0m Trial 190 finished with value: 0.9399004267425319 and parameters: {'n_estimators': 42, 'max_depth': 7, 'criterion': 'gini', 'max_features': 'auto', 'min_samples_leaf': 4}. Best is trial 162 with value: 0.9733285917496444.\u001b[0m\n",
      "C:\\Users\\vaiv\\Documents\\Git\\ConvAE_LSTM\\.convAE_lstm\\lib\\site-packages\\sklearn\\ensemble\\_forest.py:427: FutureWarning:\n",
      "\n",
      "`max_features='auto'` has been deprecated in 1.1 and will be removed in 1.3. To keep the past behaviour, explicitly set `max_features='sqrt'` or remove this parameter as it is also the default value for RandomForestClassifiers and ExtraTreesClassifiers.\n",
      "\n"
     ]
    },
    {
     "name": "stderr",
     "output_type": "stream",
     "text": [
      "C:\\Users\\vaiv\\Documents\\Git\\ConvAE_LSTM\\.convAE_lstm\\lib\\site-packages\\sklearn\\ensemble\\_forest.py:427: FutureWarning:\n",
      "\n",
      "`max_features='auto'` has been deprecated in 1.1 and will be removed in 1.3. To keep the past behaviour, explicitly set `max_features='sqrt'` or remove this parameter as it is also the default value for RandomForestClassifiers and ExtraTreesClassifiers.\n",
      "\n",
      "C:\\Users\\vaiv\\Documents\\Git\\ConvAE_LSTM\\.convAE_lstm\\lib\\site-packages\\sklearn\\ensemble\\_forest.py:427: FutureWarning:\n",
      "\n",
      "`max_features='auto'` has been deprecated in 1.1 and will be removed in 1.3. To keep the past behaviour, explicitly set `max_features='sqrt'` or remove this parameter as it is also the default value for RandomForestClassifiers and ExtraTreesClassifiers.\n",
      "\n",
      "C:\\Users\\vaiv\\Documents\\Git\\ConvAE_LSTM\\.convAE_lstm\\lib\\site-packages\\sklearn\\ensemble\\_forest.py:427: FutureWarning:\n",
      "\n",
      "`max_features='auto'` has been deprecated in 1.1 and will be removed in 1.3. To keep the past behaviour, explicitly set `max_features='sqrt'` or remove this parameter as it is also the default value for RandomForestClassifiers and ExtraTreesClassifiers.\n",
      "\n",
      "\u001b[32m[I 2022-10-21 15:24:14,995]\u001b[0m Trial 191 finished with value: 0.9667496443812233 and parameters: {'n_estimators': 53, 'max_depth': 7, 'criterion': 'entropy', 'max_features': 'auto', 'min_samples_leaf': 4}. Best is trial 162 with value: 0.9733285917496444.\u001b[0m\n",
      "C:\\Users\\vaiv\\Documents\\Git\\ConvAE_LSTM\\.convAE_lstm\\lib\\site-packages\\sklearn\\ensemble\\_forest.py:427: FutureWarning:\n",
      "\n",
      "`max_features='auto'` has been deprecated in 1.1 and will be removed in 1.3. To keep the past behaviour, explicitly set `max_features='sqrt'` or remove this parameter as it is also the default value for RandomForestClassifiers and ExtraTreesClassifiers.\n",
      "\n",
      "C:\\Users\\vaiv\\Documents\\Git\\ConvAE_LSTM\\.convAE_lstm\\lib\\site-packages\\sklearn\\ensemble\\_forest.py:427: FutureWarning:\n",
      "\n",
      "`max_features='auto'` has been deprecated in 1.1 and will be removed in 1.3. To keep the past behaviour, explicitly set `max_features='sqrt'` or remove this parameter as it is also the default value for RandomForestClassifiers and ExtraTreesClassifiers.\n",
      "\n",
      "C:\\Users\\vaiv\\Documents\\Git\\ConvAE_LSTM\\.convAE_lstm\\lib\\site-packages\\sklearn\\ensemble\\_forest.py:427: FutureWarning:\n",
      "\n",
      "`max_features='auto'` has been deprecated in 1.1 and will be removed in 1.3. To keep the past behaviour, explicitly set `max_features='sqrt'` or remove this parameter as it is also the default value for RandomForestClassifiers and ExtraTreesClassifiers.\n",
      "\n",
      "C:\\Users\\vaiv\\Documents\\Git\\ConvAE_LSTM\\.convAE_lstm\\lib\\site-packages\\sklearn\\ensemble\\_forest.py:427: FutureWarning:\n",
      "\n",
      "`max_features='auto'` has been deprecated in 1.1 and will be removed in 1.3. To keep the past behaviour, explicitly set `max_features='sqrt'` or remove this parameter as it is also the default value for RandomForestClassifiers and ExtraTreesClassifiers.\n",
      "\n",
      "\u001b[32m[I 2022-10-21 15:24:15,245]\u001b[0m Trial 192 finished with value: 0.9599928876244666 and parameters: {'n_estimators': 36, 'max_depth': 14, 'criterion': 'entropy', 'max_features': 'auto', 'min_samples_leaf': 4}. Best is trial 162 with value: 0.9733285917496444.\u001b[0m\n",
      "C:\\Users\\vaiv\\Documents\\Git\\ConvAE_LSTM\\.convAE_lstm\\lib\\site-packages\\sklearn\\ensemble\\_forest.py:427: FutureWarning:\n",
      "\n",
      "`max_features='auto'` has been deprecated in 1.1 and will be removed in 1.3. To keep the past behaviour, explicitly set `max_features='sqrt'` or remove this parameter as it is also the default value for RandomForestClassifiers and ExtraTreesClassifiers.\n",
      "\n",
      "C:\\Users\\vaiv\\Documents\\Git\\ConvAE_LSTM\\.convAE_lstm\\lib\\site-packages\\sklearn\\ensemble\\_forest.py:427: FutureWarning:\n",
      "\n",
      "`max_features='auto'` has been deprecated in 1.1 and will be removed in 1.3. To keep the past behaviour, explicitly set `max_features='sqrt'` or remove this parameter as it is also the default value for RandomForestClassifiers and ExtraTreesClassifiers.\n",
      "\n",
      "C:\\Users\\vaiv\\Documents\\Git\\ConvAE_LSTM\\.convAE_lstm\\lib\\site-packages\\sklearn\\ensemble\\_forest.py:427: FutureWarning:\n",
      "\n",
      "`max_features='auto'` has been deprecated in 1.1 and will be removed in 1.3. To keep the past behaviour, explicitly set `max_features='sqrt'` or remove this parameter as it is also the default value for RandomForestClassifiers and ExtraTreesClassifiers.\n",
      "\n",
      "C:\\Users\\vaiv\\Documents\\Git\\ConvAE_LSTM\\.convAE_lstm\\lib\\site-packages\\sklearn\\ensemble\\_forest.py:427: FutureWarning:\n",
      "\n",
      "`max_features='auto'` has been deprecated in 1.1 and will be removed in 1.3. To keep the past behaviour, explicitly set `max_features='sqrt'` or remove this parameter as it is also the default value for RandomForestClassifiers and ExtraTreesClassifiers.\n",
      "\n",
      "\u001b[32m[I 2022-10-21 15:24:15,510]\u001b[0m Trial 193 finished with value: 0.9534139402560455 and parameters: {'n_estimators': 42, 'max_depth': 6, 'criterion': 'gini', 'max_features': 'auto', 'min_samples_leaf': 4}. Best is trial 162 with value: 0.9733285917496444.\u001b[0m\n",
      "C:\\Users\\vaiv\\Documents\\Git\\ConvAE_LSTM\\.convAE_lstm\\lib\\site-packages\\sklearn\\ensemble\\_forest.py:427: FutureWarning:\n",
      "\n",
      "`max_features='auto'` has been deprecated in 1.1 and will be removed in 1.3. To keep the past behaviour, explicitly set `max_features='sqrt'` or remove this parameter as it is also the default value for RandomForestClassifiers and ExtraTreesClassifiers.\n",
      "\n",
      "C:\\Users\\vaiv\\Documents\\Git\\ConvAE_LSTM\\.convAE_lstm\\lib\\site-packages\\sklearn\\ensemble\\_forest.py:427: FutureWarning:\n",
      "\n",
      "`max_features='auto'` has been deprecated in 1.1 and will be removed in 1.3. To keep the past behaviour, explicitly set `max_features='sqrt'` or remove this parameter as it is also the default value for RandomForestClassifiers and ExtraTreesClassifiers.\n",
      "\n",
      "C:\\Users\\vaiv\\Documents\\Git\\ConvAE_LSTM\\.convAE_lstm\\lib\\site-packages\\sklearn\\ensemble\\_forest.py:427: FutureWarning:\n",
      "\n",
      "`max_features='auto'` has been deprecated in 1.1 and will be removed in 1.3. To keep the past behaviour, explicitly set `max_features='sqrt'` or remove this parameter as it is also the default value for RandomForestClassifiers and ExtraTreesClassifiers.\n",
      "\n",
      "C:\\Users\\vaiv\\Documents\\Git\\ConvAE_LSTM\\.convAE_lstm\\lib\\site-packages\\sklearn\\ensemble\\_forest.py:427: FutureWarning:\n",
      "\n",
      "`max_features='auto'` has been deprecated in 1.1 and will be removed in 1.3. To keep the past behaviour, explicitly set `max_features='sqrt'` or remove this parameter as it is also the default value for RandomForestClassifiers and ExtraTreesClassifiers.\n",
      "\n",
      "\u001b[32m[I 2022-10-21 15:24:15,825]\u001b[0m Trial 194 finished with value: 0.9667496443812233 and parameters: {'n_estimators': 46, 'max_depth': 5, 'criterion': 'gini', 'max_features': 'auto', 'min_samples_leaf': 7}. Best is trial 162 with value: 0.9733285917496444.\u001b[0m\n",
      "C:\\Users\\vaiv\\Documents\\Git\\ConvAE_LSTM\\.convAE_lstm\\lib\\site-packages\\sklearn\\ensemble\\_forest.py:427: FutureWarning:\n",
      "\n",
      "`max_features='auto'` has been deprecated in 1.1 and will be removed in 1.3. To keep the past behaviour, explicitly set `max_features='sqrt'` or remove this parameter as it is also the default value for RandomForestClassifiers and ExtraTreesClassifiers.\n",
      "\n",
      "C:\\Users\\vaiv\\Documents\\Git\\ConvAE_LSTM\\.convAE_lstm\\lib\\site-packages\\sklearn\\ensemble\\_forest.py:427: FutureWarning:\n",
      "\n",
      "`max_features='auto'` has been deprecated in 1.1 and will be removed in 1.3. To keep the past behaviour, explicitly set `max_features='sqrt'` or remove this parameter as it is also the default value for RandomForestClassifiers and ExtraTreesClassifiers.\n",
      "\n",
      "C:\\Users\\vaiv\\Documents\\Git\\ConvAE_LSTM\\.convAE_lstm\\lib\\site-packages\\sklearn\\ensemble\\_forest.py:427: FutureWarning:\n",
      "\n",
      "`max_features='auto'` has been deprecated in 1.1 and will be removed in 1.3. To keep the past behaviour, explicitly set `max_features='sqrt'` or remove this parameter as it is also the default value for RandomForestClassifiers and ExtraTreesClassifiers.\n",
      "\n",
      "C:\\Users\\vaiv\\Documents\\Git\\ConvAE_LSTM\\.convAE_lstm\\lib\\site-packages\\sklearn\\ensemble\\_forest.py:427: FutureWarning:\n",
      "\n",
      "`max_features='auto'` has been deprecated in 1.1 and will be removed in 1.3. To keep the past behaviour, explicitly set `max_features='sqrt'` or remove this parameter as it is also the default value for RandomForestClassifiers and ExtraTreesClassifiers.\n",
      "\n",
      "\u001b[32m[I 2022-10-21 15:24:16,064]\u001b[0m Trial 195 finished with value: 0.9464793741109531 and parameters: {'n_estimators': 33, 'max_depth': 14, 'criterion': 'entropy', 'max_features': 'auto', 'min_samples_leaf': 4}. Best is trial 162 with value: 0.9733285917496444.\u001b[0m\n"
     ]
    },
    {
     "name": "stderr",
     "output_type": "stream",
     "text": [
      "C:\\Users\\vaiv\\Documents\\Git\\ConvAE_LSTM\\.convAE_lstm\\lib\\site-packages\\sklearn\\ensemble\\_forest.py:427: FutureWarning:\n",
      "\n",
      "`max_features='auto'` has been deprecated in 1.1 and will be removed in 1.3. To keep the past behaviour, explicitly set `max_features='sqrt'` or remove this parameter as it is also the default value for RandomForestClassifiers and ExtraTreesClassifiers.\n",
      "\n",
      "C:\\Users\\vaiv\\Documents\\Git\\ConvAE_LSTM\\.convAE_lstm\\lib\\site-packages\\sklearn\\ensemble\\_forest.py:427: FutureWarning:\n",
      "\n",
      "`max_features='auto'` has been deprecated in 1.1 and will be removed in 1.3. To keep the past behaviour, explicitly set `max_features='sqrt'` or remove this parameter as it is also the default value for RandomForestClassifiers and ExtraTreesClassifiers.\n",
      "\n",
      "C:\\Users\\vaiv\\Documents\\Git\\ConvAE_LSTM\\.convAE_lstm\\lib\\site-packages\\sklearn\\ensemble\\_forest.py:427: FutureWarning:\n",
      "\n",
      "`max_features='auto'` has been deprecated in 1.1 and will be removed in 1.3. To keep the past behaviour, explicitly set `max_features='sqrt'` or remove this parameter as it is also the default value for RandomForestClassifiers and ExtraTreesClassifiers.\n",
      "\n",
      "C:\\Users\\vaiv\\Documents\\Git\\ConvAE_LSTM\\.convAE_lstm\\lib\\site-packages\\sklearn\\ensemble\\_forest.py:427: FutureWarning:\n",
      "\n",
      "`max_features='auto'` has been deprecated in 1.1 and will be removed in 1.3. To keep the past behaviour, explicitly set `max_features='sqrt'` or remove this parameter as it is also the default value for RandomForestClassifiers and ExtraTreesClassifiers.\n",
      "\n",
      "\u001b[32m[I 2022-10-21 15:24:16,383]\u001b[0m Trial 196 finished with value: 0.9466571834992887 and parameters: {'n_estimators': 52, 'max_depth': 4, 'criterion': 'gini', 'max_features': 'auto', 'min_samples_leaf': 7}. Best is trial 162 with value: 0.9733285917496444.\u001b[0m\n",
      "C:\\Users\\vaiv\\Documents\\Git\\ConvAE_LSTM\\.convAE_lstm\\lib\\site-packages\\sklearn\\ensemble\\_forest.py:427: FutureWarning:\n",
      "\n",
      "`max_features='auto'` has been deprecated in 1.1 and will be removed in 1.3. To keep the past behaviour, explicitly set `max_features='sqrt'` or remove this parameter as it is also the default value for RandomForestClassifiers and ExtraTreesClassifiers.\n",
      "\n",
      "C:\\Users\\vaiv\\Documents\\Git\\ConvAE_LSTM\\.convAE_lstm\\lib\\site-packages\\sklearn\\ensemble\\_forest.py:427: FutureWarning:\n",
      "\n",
      "`max_features='auto'` has been deprecated in 1.1 and will be removed in 1.3. To keep the past behaviour, explicitly set `max_features='sqrt'` or remove this parameter as it is also the default value for RandomForestClassifiers and ExtraTreesClassifiers.\n",
      "\n",
      "C:\\Users\\vaiv\\Documents\\Git\\ConvAE_LSTM\\.convAE_lstm\\lib\\site-packages\\sklearn\\ensemble\\_forest.py:427: FutureWarning:\n",
      "\n",
      "`max_features='auto'` has been deprecated in 1.1 and will be removed in 1.3. To keep the past behaviour, explicitly set `max_features='sqrt'` or remove this parameter as it is also the default value for RandomForestClassifiers and ExtraTreesClassifiers.\n",
      "\n",
      "C:\\Users\\vaiv\\Documents\\Git\\ConvAE_LSTM\\.convAE_lstm\\lib\\site-packages\\sklearn\\ensemble\\_forest.py:427: FutureWarning:\n",
      "\n",
      "`max_features='auto'` has been deprecated in 1.1 and will be removed in 1.3. To keep the past behaviour, explicitly set `max_features='sqrt'` or remove this parameter as it is also the default value for RandomForestClassifiers and ExtraTreesClassifiers.\n",
      "\n",
      "\u001b[32m[I 2022-10-21 15:24:16,761]\u001b[0m Trial 197 finished with value: 0.9601706970128022 and parameters: {'n_estimators': 61, 'max_depth': 4, 'criterion': 'gini', 'max_features': 'auto', 'min_samples_leaf': 6}. Best is trial 162 with value: 0.9733285917496444.\u001b[0m\n",
      "\u001b[32m[I 2022-10-21 15:24:16,942]\u001b[0m Trial 198 finished with value: 0.9532361308677098 and parameters: {'n_estimators': 31, 'max_depth': 7, 'criterion': 'gini', 'max_features': 'sqrt', 'min_samples_leaf': 4}. Best is trial 162 with value: 0.9733285917496444.\u001b[0m\n",
      "C:\\Users\\vaiv\\Documents\\Git\\ConvAE_LSTM\\.convAE_lstm\\lib\\site-packages\\sklearn\\ensemble\\_forest.py:427: FutureWarning:\n",
      "\n",
      "`max_features='auto'` has been deprecated in 1.1 and will be removed in 1.3. To keep the past behaviour, explicitly set `max_features='sqrt'` or remove this parameter as it is also the default value for RandomForestClassifiers and ExtraTreesClassifiers.\n",
      "\n",
      "C:\\Users\\vaiv\\Documents\\Git\\ConvAE_LSTM\\.convAE_lstm\\lib\\site-packages\\sklearn\\ensemble\\_forest.py:427: FutureWarning:\n",
      "\n",
      "`max_features='auto'` has been deprecated in 1.1 and will be removed in 1.3. To keep the past behaviour, explicitly set `max_features='sqrt'` or remove this parameter as it is also the default value for RandomForestClassifiers and ExtraTreesClassifiers.\n",
      "\n",
      "C:\\Users\\vaiv\\Documents\\Git\\ConvAE_LSTM\\.convAE_lstm\\lib\\site-packages\\sklearn\\ensemble\\_forest.py:427: FutureWarning:\n",
      "\n",
      "`max_features='auto'` has been deprecated in 1.1 and will be removed in 1.3. To keep the past behaviour, explicitly set `max_features='sqrt'` or remove this parameter as it is also the default value for RandomForestClassifiers and ExtraTreesClassifiers.\n",
      "\n",
      "C:\\Users\\vaiv\\Documents\\Git\\ConvAE_LSTM\\.convAE_lstm\\lib\\site-packages\\sklearn\\ensemble\\_forest.py:427: FutureWarning:\n",
      "\n",
      "`max_features='auto'` has been deprecated in 1.1 and will be removed in 1.3. To keep the past behaviour, explicitly set `max_features='sqrt'` or remove this parameter as it is also the default value for RandomForestClassifiers and ExtraTreesClassifiers.\n",
      "\n",
      "\u001b[32m[I 2022-10-21 15:24:17,562]\u001b[0m Trial 199 finished with value: 0.9532361308677098 and parameters: {'n_estimators': 108, 'max_depth': 6, 'criterion': 'entropy', 'max_features': 'auto', 'min_samples_leaf': 4}. Best is trial 162 with value: 0.9733285917496444.\u001b[0m\n"
     ]
    },
    {
     "name": "stdout",
     "output_type": "stream",
     "text": [
      "Best trial : score 0.9733285917496444, \n",
      "params {'n_estimators': 65, 'max_depth': 6, 'criterion': 'entropy', 'max_features': 'auto', 'min_samples_leaf': 4}\n"
     ]
    }
   ],
   "source": [
    "# 1. 최소화/최대화할 목적함수 정의\n",
    "def objective(trial: Trial, data, label):\n",
    "    # 2. trial object로 하이퍼파라미터 값 추천\n",
    "    rf_param= {\n",
    "                'n_estimators': trial.suggest_int('n_estimators', 10, 200), \n",
    "                'max_depth':trial.suggest_int('max_depth', 3, 15),\n",
    "                'criterion': trial.suggest_categorical('criterion', ['entropy', 'gini']),\n",
    "                'max_features': trial.suggest_categorical('max_features', ['auto', 'sqrt']),\n",
    "                'min_samples_leaf': trial.suggest_int('min_samples_leaf', 4, 8)\n",
    "                }\n",
    "    classifier_obj = sklearn.ensemble.RandomForestClassifier(**rf_param)\n",
    "    \n",
    "    accuracy = cross_val_score(classifier_obj, data, label, cv = 4).mean()\n",
    "    return accuracy\n",
    "\n",
    "# 3. study 오브젝트 생성하고 목적함수 최적화하는 단계\n",
    "# 여기서는 목적함수를 정확도로 설정했기 때문에 최대화를 목표로 하고 있지만, 손실함수의 경우 direction='minimize'로 설정\n",
    "study = optuna.create_study(direction='maximize', sampler=TPESampler())\n",
    "# 반복 시행 횟수(trial)는 200번으로\n",
    "study.optimize(lambda trial: objective(trial, data, label), n_trials=200)\n",
    "print('Best trial : score {}, \\nparams {}'.format(study.best_trial.value, study.best_trial.params))"
   ]
  },
  {
   "cell_type": "code",
   "execution_count": 148,
   "id": "dc0b72b5",
   "metadata": {
    "scrolled": true
   },
   "outputs": [
    {
     "name": "stdout",
     "output_type": "stream",
     "text": [
      "{'n_estimators': 65, 'max_depth': 6, 'criterion': 'entropy', 'max_features': 'auto', 'min_samples_leaf': 4}\n",
      "0.9733285917496444\n"
     ]
    }
   ],
   "source": [
    "# 시행된 trial 중 최적의 하이퍼파라미터 반환하는 메소드\n",
    "print(study.best_trial.params)\n",
    "\n",
    "# 시행된 trial 중 가장 높은 값 반환하는 메소드\n",
    "optuna_acc = study.best_trial.value\n",
    "print(optuna_acc)"
   ]
  },
  {
   "cell_type": "code",
   "execution_count": 149,
   "id": "8ae0aa50",
   "metadata": {},
   "outputs": [
    {
     "data": {
      "application/vnd.plotly.v1+json": {
       "config": {
        "plotlyServerURL": "https://plot.ly"
       },
       "data": [
        {
         "cliponaxis": false,
         "hovertemplate": [
          "criterion (CategoricalDistribution): 0.025135882198793525<extra></extra>",
          "max_features (CategoricalDistribution): 0.05340536597567811<extra></extra>",
          "max_depth (IntDistribution): 0.2052773748994947<extra></extra>",
          "min_samples_leaf (IntDistribution): 0.2069810568214652<extra></extra>",
          "n_estimators (IntDistribution): 0.5092003201045685<extra></extra>"
         ],
         "marker": {
          "color": "rgb(66,146,198)"
         },
         "orientation": "h",
         "text": [
          "0.03",
          "0.05",
          "0.21",
          "0.21",
          "0.51"
         ],
         "textposition": "outside",
         "type": "bar",
         "x": [
          0.025135882198793525,
          0.05340536597567811,
          0.2052773748994947,
          0.2069810568214652,
          0.5092003201045685
         ],
         "y": [
          "criterion",
          "max_features",
          "max_depth",
          "min_samples_leaf",
          "n_estimators"
         ]
        }
       ],
       "layout": {
        "showlegend": false,
        "template": {
         "data": {
          "bar": [
           {
            "error_x": {
             "color": "#2a3f5f"
            },
            "error_y": {
             "color": "#2a3f5f"
            },
            "marker": {
             "line": {
              "color": "#E5ECF6",
              "width": 0.5
             },
             "pattern": {
              "fillmode": "overlay",
              "size": 10,
              "solidity": 0.2
             }
            },
            "type": "bar"
           }
          ],
          "barpolar": [
           {
            "marker": {
             "line": {
              "color": "#E5ECF6",
              "width": 0.5
             },
             "pattern": {
              "fillmode": "overlay",
              "size": 10,
              "solidity": 0.2
             }
            },
            "type": "barpolar"
           }
          ],
          "carpet": [
           {
            "aaxis": {
             "endlinecolor": "#2a3f5f",
             "gridcolor": "white",
             "linecolor": "white",
             "minorgridcolor": "white",
             "startlinecolor": "#2a3f5f"
            },
            "baxis": {
             "endlinecolor": "#2a3f5f",
             "gridcolor": "white",
             "linecolor": "white",
             "minorgridcolor": "white",
             "startlinecolor": "#2a3f5f"
            },
            "type": "carpet"
           }
          ],
          "choropleth": [
           {
            "colorbar": {
             "outlinewidth": 0,
             "ticks": ""
            },
            "type": "choropleth"
           }
          ],
          "contour": [
           {
            "colorbar": {
             "outlinewidth": 0,
             "ticks": ""
            },
            "colorscale": [
             [
              0,
              "#0d0887"
             ],
             [
              0.1111111111111111,
              "#46039f"
             ],
             [
              0.2222222222222222,
              "#7201a8"
             ],
             [
              0.3333333333333333,
              "#9c179e"
             ],
             [
              0.4444444444444444,
              "#bd3786"
             ],
             [
              0.5555555555555556,
              "#d8576b"
             ],
             [
              0.6666666666666666,
              "#ed7953"
             ],
             [
              0.7777777777777778,
              "#fb9f3a"
             ],
             [
              0.8888888888888888,
              "#fdca26"
             ],
             [
              1,
              "#f0f921"
             ]
            ],
            "type": "contour"
           }
          ],
          "contourcarpet": [
           {
            "colorbar": {
             "outlinewidth": 0,
             "ticks": ""
            },
            "type": "contourcarpet"
           }
          ],
          "heatmap": [
           {
            "colorbar": {
             "outlinewidth": 0,
             "ticks": ""
            },
            "colorscale": [
             [
              0,
              "#0d0887"
             ],
             [
              0.1111111111111111,
              "#46039f"
             ],
             [
              0.2222222222222222,
              "#7201a8"
             ],
             [
              0.3333333333333333,
              "#9c179e"
             ],
             [
              0.4444444444444444,
              "#bd3786"
             ],
             [
              0.5555555555555556,
              "#d8576b"
             ],
             [
              0.6666666666666666,
              "#ed7953"
             ],
             [
              0.7777777777777778,
              "#fb9f3a"
             ],
             [
              0.8888888888888888,
              "#fdca26"
             ],
             [
              1,
              "#f0f921"
             ]
            ],
            "type": "heatmap"
           }
          ],
          "heatmapgl": [
           {
            "colorbar": {
             "outlinewidth": 0,
             "ticks": ""
            },
            "colorscale": [
             [
              0,
              "#0d0887"
             ],
             [
              0.1111111111111111,
              "#46039f"
             ],
             [
              0.2222222222222222,
              "#7201a8"
             ],
             [
              0.3333333333333333,
              "#9c179e"
             ],
             [
              0.4444444444444444,
              "#bd3786"
             ],
             [
              0.5555555555555556,
              "#d8576b"
             ],
             [
              0.6666666666666666,
              "#ed7953"
             ],
             [
              0.7777777777777778,
              "#fb9f3a"
             ],
             [
              0.8888888888888888,
              "#fdca26"
             ],
             [
              1,
              "#f0f921"
             ]
            ],
            "type": "heatmapgl"
           }
          ],
          "histogram": [
           {
            "marker": {
             "pattern": {
              "fillmode": "overlay",
              "size": 10,
              "solidity": 0.2
             }
            },
            "type": "histogram"
           }
          ],
          "histogram2d": [
           {
            "colorbar": {
             "outlinewidth": 0,
             "ticks": ""
            },
            "colorscale": [
             [
              0,
              "#0d0887"
             ],
             [
              0.1111111111111111,
              "#46039f"
             ],
             [
              0.2222222222222222,
              "#7201a8"
             ],
             [
              0.3333333333333333,
              "#9c179e"
             ],
             [
              0.4444444444444444,
              "#bd3786"
             ],
             [
              0.5555555555555556,
              "#d8576b"
             ],
             [
              0.6666666666666666,
              "#ed7953"
             ],
             [
              0.7777777777777778,
              "#fb9f3a"
             ],
             [
              0.8888888888888888,
              "#fdca26"
             ],
             [
              1,
              "#f0f921"
             ]
            ],
            "type": "histogram2d"
           }
          ],
          "histogram2dcontour": [
           {
            "colorbar": {
             "outlinewidth": 0,
             "ticks": ""
            },
            "colorscale": [
             [
              0,
              "#0d0887"
             ],
             [
              0.1111111111111111,
              "#46039f"
             ],
             [
              0.2222222222222222,
              "#7201a8"
             ],
             [
              0.3333333333333333,
              "#9c179e"
             ],
             [
              0.4444444444444444,
              "#bd3786"
             ],
             [
              0.5555555555555556,
              "#d8576b"
             ],
             [
              0.6666666666666666,
              "#ed7953"
             ],
             [
              0.7777777777777778,
              "#fb9f3a"
             ],
             [
              0.8888888888888888,
              "#fdca26"
             ],
             [
              1,
              "#f0f921"
             ]
            ],
            "type": "histogram2dcontour"
           }
          ],
          "mesh3d": [
           {
            "colorbar": {
             "outlinewidth": 0,
             "ticks": ""
            },
            "type": "mesh3d"
           }
          ],
          "parcoords": [
           {
            "line": {
             "colorbar": {
              "outlinewidth": 0,
              "ticks": ""
             }
            },
            "type": "parcoords"
           }
          ],
          "pie": [
           {
            "automargin": true,
            "type": "pie"
           }
          ],
          "scatter": [
           {
            "fillpattern": {
             "fillmode": "overlay",
             "size": 10,
             "solidity": 0.2
            },
            "type": "scatter"
           }
          ],
          "scatter3d": [
           {
            "line": {
             "colorbar": {
              "outlinewidth": 0,
              "ticks": ""
             }
            },
            "marker": {
             "colorbar": {
              "outlinewidth": 0,
              "ticks": ""
             }
            },
            "type": "scatter3d"
           }
          ],
          "scattercarpet": [
           {
            "marker": {
             "colorbar": {
              "outlinewidth": 0,
              "ticks": ""
             }
            },
            "type": "scattercarpet"
           }
          ],
          "scattergeo": [
           {
            "marker": {
             "colorbar": {
              "outlinewidth": 0,
              "ticks": ""
             }
            },
            "type": "scattergeo"
           }
          ],
          "scattergl": [
           {
            "marker": {
             "colorbar": {
              "outlinewidth": 0,
              "ticks": ""
             }
            },
            "type": "scattergl"
           }
          ],
          "scattermapbox": [
           {
            "marker": {
             "colorbar": {
              "outlinewidth": 0,
              "ticks": ""
             }
            },
            "type": "scattermapbox"
           }
          ],
          "scatterpolar": [
           {
            "marker": {
             "colorbar": {
              "outlinewidth": 0,
              "ticks": ""
             }
            },
            "type": "scatterpolar"
           }
          ],
          "scatterpolargl": [
           {
            "marker": {
             "colorbar": {
              "outlinewidth": 0,
              "ticks": ""
             }
            },
            "type": "scatterpolargl"
           }
          ],
          "scatterternary": [
           {
            "marker": {
             "colorbar": {
              "outlinewidth": 0,
              "ticks": ""
             }
            },
            "type": "scatterternary"
           }
          ],
          "surface": [
           {
            "colorbar": {
             "outlinewidth": 0,
             "ticks": ""
            },
            "colorscale": [
             [
              0,
              "#0d0887"
             ],
             [
              0.1111111111111111,
              "#46039f"
             ],
             [
              0.2222222222222222,
              "#7201a8"
             ],
             [
              0.3333333333333333,
              "#9c179e"
             ],
             [
              0.4444444444444444,
              "#bd3786"
             ],
             [
              0.5555555555555556,
              "#d8576b"
             ],
             [
              0.6666666666666666,
              "#ed7953"
             ],
             [
              0.7777777777777778,
              "#fb9f3a"
             ],
             [
              0.8888888888888888,
              "#fdca26"
             ],
             [
              1,
              "#f0f921"
             ]
            ],
            "type": "surface"
           }
          ],
          "table": [
           {
            "cells": {
             "fill": {
              "color": "#EBF0F8"
             },
             "line": {
              "color": "white"
             }
            },
            "header": {
             "fill": {
              "color": "#C8D4E3"
             },
             "line": {
              "color": "white"
             }
            },
            "type": "table"
           }
          ]
         },
         "layout": {
          "annotationdefaults": {
           "arrowcolor": "#2a3f5f",
           "arrowhead": 0,
           "arrowwidth": 1
          },
          "autotypenumbers": "strict",
          "coloraxis": {
           "colorbar": {
            "outlinewidth": 0,
            "ticks": ""
           }
          },
          "colorscale": {
           "diverging": [
            [
             0,
             "#8e0152"
            ],
            [
             0.1,
             "#c51b7d"
            ],
            [
             0.2,
             "#de77ae"
            ],
            [
             0.3,
             "#f1b6da"
            ],
            [
             0.4,
             "#fde0ef"
            ],
            [
             0.5,
             "#f7f7f7"
            ],
            [
             0.6,
             "#e6f5d0"
            ],
            [
             0.7,
             "#b8e186"
            ],
            [
             0.8,
             "#7fbc41"
            ],
            [
             0.9,
             "#4d9221"
            ],
            [
             1,
             "#276419"
            ]
           ],
           "sequential": [
            [
             0,
             "#0d0887"
            ],
            [
             0.1111111111111111,
             "#46039f"
            ],
            [
             0.2222222222222222,
             "#7201a8"
            ],
            [
             0.3333333333333333,
             "#9c179e"
            ],
            [
             0.4444444444444444,
             "#bd3786"
            ],
            [
             0.5555555555555556,
             "#d8576b"
            ],
            [
             0.6666666666666666,
             "#ed7953"
            ],
            [
             0.7777777777777778,
             "#fb9f3a"
            ],
            [
             0.8888888888888888,
             "#fdca26"
            ],
            [
             1,
             "#f0f921"
            ]
           ],
           "sequentialminus": [
            [
             0,
             "#0d0887"
            ],
            [
             0.1111111111111111,
             "#46039f"
            ],
            [
             0.2222222222222222,
             "#7201a8"
            ],
            [
             0.3333333333333333,
             "#9c179e"
            ],
            [
             0.4444444444444444,
             "#bd3786"
            ],
            [
             0.5555555555555556,
             "#d8576b"
            ],
            [
             0.6666666666666666,
             "#ed7953"
            ],
            [
             0.7777777777777778,
             "#fb9f3a"
            ],
            [
             0.8888888888888888,
             "#fdca26"
            ],
            [
             1,
             "#f0f921"
            ]
           ]
          },
          "colorway": [
           "#636efa",
           "#EF553B",
           "#00cc96",
           "#ab63fa",
           "#FFA15A",
           "#19d3f3",
           "#FF6692",
           "#B6E880",
           "#FF97FF",
           "#FECB52"
          ],
          "font": {
           "color": "#2a3f5f"
          },
          "geo": {
           "bgcolor": "white",
           "lakecolor": "white",
           "landcolor": "#E5ECF6",
           "showlakes": true,
           "showland": true,
           "subunitcolor": "white"
          },
          "hoverlabel": {
           "align": "left"
          },
          "hovermode": "closest",
          "mapbox": {
           "style": "light"
          },
          "paper_bgcolor": "white",
          "plot_bgcolor": "#E5ECF6",
          "polar": {
           "angularaxis": {
            "gridcolor": "white",
            "linecolor": "white",
            "ticks": ""
           },
           "bgcolor": "#E5ECF6",
           "radialaxis": {
            "gridcolor": "white",
            "linecolor": "white",
            "ticks": ""
           }
          },
          "scene": {
           "xaxis": {
            "backgroundcolor": "#E5ECF6",
            "gridcolor": "white",
            "gridwidth": 2,
            "linecolor": "white",
            "showbackground": true,
            "ticks": "",
            "zerolinecolor": "white"
           },
           "yaxis": {
            "backgroundcolor": "#E5ECF6",
            "gridcolor": "white",
            "gridwidth": 2,
            "linecolor": "white",
            "showbackground": true,
            "ticks": "",
            "zerolinecolor": "white"
           },
           "zaxis": {
            "backgroundcolor": "#E5ECF6",
            "gridcolor": "white",
            "gridwidth": 2,
            "linecolor": "white",
            "showbackground": true,
            "ticks": "",
            "zerolinecolor": "white"
           }
          },
          "shapedefaults": {
           "line": {
            "color": "#2a3f5f"
           }
          },
          "ternary": {
           "aaxis": {
            "gridcolor": "white",
            "linecolor": "white",
            "ticks": ""
           },
           "baxis": {
            "gridcolor": "white",
            "linecolor": "white",
            "ticks": ""
           },
           "bgcolor": "#E5ECF6",
           "caxis": {
            "gridcolor": "white",
            "linecolor": "white",
            "ticks": ""
           }
          },
          "title": {
           "x": 0.05
          },
          "xaxis": {
           "automargin": true,
           "gridcolor": "white",
           "linecolor": "white",
           "ticks": "",
           "title": {
            "standoff": 15
           },
           "zerolinecolor": "white",
           "zerolinewidth": 2
          },
          "yaxis": {
           "automargin": true,
           "gridcolor": "white",
           "linecolor": "white",
           "ticks": "",
           "title": {
            "standoff": 15
           },
           "zerolinecolor": "white",
           "zerolinewidth": 2
          }
         }
        },
        "title": {
         "text": "Hyperparameter Importances"
        },
        "xaxis": {
         "title": {
          "text": "Importance for Objective Value"
         }
        },
        "yaxis": {
         "title": {
          "text": "Hyperparameter"
         }
        }
       }
      },
      "text/html": [
       "<div>                            <div id=\"27793087-5443-4dd2-8ca1-2853938a38d8\" class=\"plotly-graph-div\" style=\"height:525px; width:100%;\"></div>            <script type=\"text/javascript\">                require([\"plotly\"], function(Plotly) {                    window.PLOTLYENV=window.PLOTLYENV || {};                                    if (document.getElementById(\"27793087-5443-4dd2-8ca1-2853938a38d8\")) {                    Plotly.newPlot(                        \"27793087-5443-4dd2-8ca1-2853938a38d8\",                        [{\"cliponaxis\":false,\"hovertemplate\":[\"criterion (CategoricalDistribution): 0.025135882198793525<extra></extra>\",\"max_features (CategoricalDistribution): 0.05340536597567811<extra></extra>\",\"max_depth (IntDistribution): 0.2052773748994947<extra></extra>\",\"min_samples_leaf (IntDistribution): 0.2069810568214652<extra></extra>\",\"n_estimators (IntDistribution): 0.5092003201045685<extra></extra>\"],\"marker\":{\"color\":\"rgb(66,146,198)\"},\"orientation\":\"h\",\"text\":[\"0.03\",\"0.05\",\"0.21\",\"0.21\",\"0.51\"],\"textposition\":\"outside\",\"x\":[0.025135882198793525,0.05340536597567811,0.2052773748994947,0.2069810568214652,0.5092003201045685],\"y\":[\"criterion\",\"max_features\",\"max_depth\",\"min_samples_leaf\",\"n_estimators\"],\"type\":\"bar\"}],                        {\"showlegend\":false,\"title\":{\"text\":\"Hyperparameter Importances\"},\"xaxis\":{\"title\":{\"text\":\"Importance for Objective Value\"}},\"yaxis\":{\"title\":{\"text\":\"Hyperparameter\"}},\"template\":{\"data\":{\"histogram2dcontour\":[{\"type\":\"histogram2dcontour\",\"colorbar\":{\"outlinewidth\":0,\"ticks\":\"\"},\"colorscale\":[[0.0,\"#0d0887\"],[0.1111111111111111,\"#46039f\"],[0.2222222222222222,\"#7201a8\"],[0.3333333333333333,\"#9c179e\"],[0.4444444444444444,\"#bd3786\"],[0.5555555555555556,\"#d8576b\"],[0.6666666666666666,\"#ed7953\"],[0.7777777777777778,\"#fb9f3a\"],[0.8888888888888888,\"#fdca26\"],[1.0,\"#f0f921\"]]}],\"choropleth\":[{\"type\":\"choropleth\",\"colorbar\":{\"outlinewidth\":0,\"ticks\":\"\"}}],\"histogram2d\":[{\"type\":\"histogram2d\",\"colorbar\":{\"outlinewidth\":0,\"ticks\":\"\"},\"colorscale\":[[0.0,\"#0d0887\"],[0.1111111111111111,\"#46039f\"],[0.2222222222222222,\"#7201a8\"],[0.3333333333333333,\"#9c179e\"],[0.4444444444444444,\"#bd3786\"],[0.5555555555555556,\"#d8576b\"],[0.6666666666666666,\"#ed7953\"],[0.7777777777777778,\"#fb9f3a\"],[0.8888888888888888,\"#fdca26\"],[1.0,\"#f0f921\"]]}],\"heatmap\":[{\"type\":\"heatmap\",\"colorbar\":{\"outlinewidth\":0,\"ticks\":\"\"},\"colorscale\":[[0.0,\"#0d0887\"],[0.1111111111111111,\"#46039f\"],[0.2222222222222222,\"#7201a8\"],[0.3333333333333333,\"#9c179e\"],[0.4444444444444444,\"#bd3786\"],[0.5555555555555556,\"#d8576b\"],[0.6666666666666666,\"#ed7953\"],[0.7777777777777778,\"#fb9f3a\"],[0.8888888888888888,\"#fdca26\"],[1.0,\"#f0f921\"]]}],\"heatmapgl\":[{\"type\":\"heatmapgl\",\"colorbar\":{\"outlinewidth\":0,\"ticks\":\"\"},\"colorscale\":[[0.0,\"#0d0887\"],[0.1111111111111111,\"#46039f\"],[0.2222222222222222,\"#7201a8\"],[0.3333333333333333,\"#9c179e\"],[0.4444444444444444,\"#bd3786\"],[0.5555555555555556,\"#d8576b\"],[0.6666666666666666,\"#ed7953\"],[0.7777777777777778,\"#fb9f3a\"],[0.8888888888888888,\"#fdca26\"],[1.0,\"#f0f921\"]]}],\"contourcarpet\":[{\"type\":\"contourcarpet\",\"colorbar\":{\"outlinewidth\":0,\"ticks\":\"\"}}],\"contour\":[{\"type\":\"contour\",\"colorbar\":{\"outlinewidth\":0,\"ticks\":\"\"},\"colorscale\":[[0.0,\"#0d0887\"],[0.1111111111111111,\"#46039f\"],[0.2222222222222222,\"#7201a8\"],[0.3333333333333333,\"#9c179e\"],[0.4444444444444444,\"#bd3786\"],[0.5555555555555556,\"#d8576b\"],[0.6666666666666666,\"#ed7953\"],[0.7777777777777778,\"#fb9f3a\"],[0.8888888888888888,\"#fdca26\"],[1.0,\"#f0f921\"]]}],\"surface\":[{\"type\":\"surface\",\"colorbar\":{\"outlinewidth\":0,\"ticks\":\"\"},\"colorscale\":[[0.0,\"#0d0887\"],[0.1111111111111111,\"#46039f\"],[0.2222222222222222,\"#7201a8\"],[0.3333333333333333,\"#9c179e\"],[0.4444444444444444,\"#bd3786\"],[0.5555555555555556,\"#d8576b\"],[0.6666666666666666,\"#ed7953\"],[0.7777777777777778,\"#fb9f3a\"],[0.8888888888888888,\"#fdca26\"],[1.0,\"#f0f921\"]]}],\"mesh3d\":[{\"type\":\"mesh3d\",\"colorbar\":{\"outlinewidth\":0,\"ticks\":\"\"}}],\"scatter\":[{\"fillpattern\":{\"fillmode\":\"overlay\",\"size\":10,\"solidity\":0.2},\"type\":\"scatter\"}],\"parcoords\":[{\"type\":\"parcoords\",\"line\":{\"colorbar\":{\"outlinewidth\":0,\"ticks\":\"\"}}}],\"scatterpolargl\":[{\"type\":\"scatterpolargl\",\"marker\":{\"colorbar\":{\"outlinewidth\":0,\"ticks\":\"\"}}}],\"bar\":[{\"error_x\":{\"color\":\"#2a3f5f\"},\"error_y\":{\"color\":\"#2a3f5f\"},\"marker\":{\"line\":{\"color\":\"#E5ECF6\",\"width\":0.5},\"pattern\":{\"fillmode\":\"overlay\",\"size\":10,\"solidity\":0.2}},\"type\":\"bar\"}],\"scattergeo\":[{\"type\":\"scattergeo\",\"marker\":{\"colorbar\":{\"outlinewidth\":0,\"ticks\":\"\"}}}],\"scatterpolar\":[{\"type\":\"scatterpolar\",\"marker\":{\"colorbar\":{\"outlinewidth\":0,\"ticks\":\"\"}}}],\"histogram\":[{\"marker\":{\"pattern\":{\"fillmode\":\"overlay\",\"size\":10,\"solidity\":0.2}},\"type\":\"histogram\"}],\"scattergl\":[{\"type\":\"scattergl\",\"marker\":{\"colorbar\":{\"outlinewidth\":0,\"ticks\":\"\"}}}],\"scatter3d\":[{\"type\":\"scatter3d\",\"line\":{\"colorbar\":{\"outlinewidth\":0,\"ticks\":\"\"}},\"marker\":{\"colorbar\":{\"outlinewidth\":0,\"ticks\":\"\"}}}],\"scattermapbox\":[{\"type\":\"scattermapbox\",\"marker\":{\"colorbar\":{\"outlinewidth\":0,\"ticks\":\"\"}}}],\"scatterternary\":[{\"type\":\"scatterternary\",\"marker\":{\"colorbar\":{\"outlinewidth\":0,\"ticks\":\"\"}}}],\"scattercarpet\":[{\"type\":\"scattercarpet\",\"marker\":{\"colorbar\":{\"outlinewidth\":0,\"ticks\":\"\"}}}],\"carpet\":[{\"aaxis\":{\"endlinecolor\":\"#2a3f5f\",\"gridcolor\":\"white\",\"linecolor\":\"white\",\"minorgridcolor\":\"white\",\"startlinecolor\":\"#2a3f5f\"},\"baxis\":{\"endlinecolor\":\"#2a3f5f\",\"gridcolor\":\"white\",\"linecolor\":\"white\",\"minorgridcolor\":\"white\",\"startlinecolor\":\"#2a3f5f\"},\"type\":\"carpet\"}],\"table\":[{\"cells\":{\"fill\":{\"color\":\"#EBF0F8\"},\"line\":{\"color\":\"white\"}},\"header\":{\"fill\":{\"color\":\"#C8D4E3\"},\"line\":{\"color\":\"white\"}},\"type\":\"table\"}],\"barpolar\":[{\"marker\":{\"line\":{\"color\":\"#E5ECF6\",\"width\":0.5},\"pattern\":{\"fillmode\":\"overlay\",\"size\":10,\"solidity\":0.2}},\"type\":\"barpolar\"}],\"pie\":[{\"automargin\":true,\"type\":\"pie\"}]},\"layout\":{\"autotypenumbers\":\"strict\",\"colorway\":[\"#636efa\",\"#EF553B\",\"#00cc96\",\"#ab63fa\",\"#FFA15A\",\"#19d3f3\",\"#FF6692\",\"#B6E880\",\"#FF97FF\",\"#FECB52\"],\"font\":{\"color\":\"#2a3f5f\"},\"hovermode\":\"closest\",\"hoverlabel\":{\"align\":\"left\"},\"paper_bgcolor\":\"white\",\"plot_bgcolor\":\"#E5ECF6\",\"polar\":{\"bgcolor\":\"#E5ECF6\",\"angularaxis\":{\"gridcolor\":\"white\",\"linecolor\":\"white\",\"ticks\":\"\"},\"radialaxis\":{\"gridcolor\":\"white\",\"linecolor\":\"white\",\"ticks\":\"\"}},\"ternary\":{\"bgcolor\":\"#E5ECF6\",\"aaxis\":{\"gridcolor\":\"white\",\"linecolor\":\"white\",\"ticks\":\"\"},\"baxis\":{\"gridcolor\":\"white\",\"linecolor\":\"white\",\"ticks\":\"\"},\"caxis\":{\"gridcolor\":\"white\",\"linecolor\":\"white\",\"ticks\":\"\"}},\"coloraxis\":{\"colorbar\":{\"outlinewidth\":0,\"ticks\":\"\"}},\"colorscale\":{\"sequential\":[[0.0,\"#0d0887\"],[0.1111111111111111,\"#46039f\"],[0.2222222222222222,\"#7201a8\"],[0.3333333333333333,\"#9c179e\"],[0.4444444444444444,\"#bd3786\"],[0.5555555555555556,\"#d8576b\"],[0.6666666666666666,\"#ed7953\"],[0.7777777777777778,\"#fb9f3a\"],[0.8888888888888888,\"#fdca26\"],[1.0,\"#f0f921\"]],\"sequentialminus\":[[0.0,\"#0d0887\"],[0.1111111111111111,\"#46039f\"],[0.2222222222222222,\"#7201a8\"],[0.3333333333333333,\"#9c179e\"],[0.4444444444444444,\"#bd3786\"],[0.5555555555555556,\"#d8576b\"],[0.6666666666666666,\"#ed7953\"],[0.7777777777777778,\"#fb9f3a\"],[0.8888888888888888,\"#fdca26\"],[1.0,\"#f0f921\"]],\"diverging\":[[0,\"#8e0152\"],[0.1,\"#c51b7d\"],[0.2,\"#de77ae\"],[0.3,\"#f1b6da\"],[0.4,\"#fde0ef\"],[0.5,\"#f7f7f7\"],[0.6,\"#e6f5d0\"],[0.7,\"#b8e186\"],[0.8,\"#7fbc41\"],[0.9,\"#4d9221\"],[1,\"#276419\"]]},\"xaxis\":{\"gridcolor\":\"white\",\"linecolor\":\"white\",\"ticks\":\"\",\"title\":{\"standoff\":15},\"zerolinecolor\":\"white\",\"automargin\":true,\"zerolinewidth\":2},\"yaxis\":{\"gridcolor\":\"white\",\"linecolor\":\"white\",\"ticks\":\"\",\"title\":{\"standoff\":15},\"zerolinecolor\":\"white\",\"automargin\":true,\"zerolinewidth\":2},\"scene\":{\"xaxis\":{\"backgroundcolor\":\"#E5ECF6\",\"gridcolor\":\"white\",\"linecolor\":\"white\",\"showbackground\":true,\"ticks\":\"\",\"zerolinecolor\":\"white\",\"gridwidth\":2},\"yaxis\":{\"backgroundcolor\":\"#E5ECF6\",\"gridcolor\":\"white\",\"linecolor\":\"white\",\"showbackground\":true,\"ticks\":\"\",\"zerolinecolor\":\"white\",\"gridwidth\":2},\"zaxis\":{\"backgroundcolor\":\"#E5ECF6\",\"gridcolor\":\"white\",\"linecolor\":\"white\",\"showbackground\":true,\"ticks\":\"\",\"zerolinecolor\":\"white\",\"gridwidth\":2}},\"shapedefaults\":{\"line\":{\"color\":\"#2a3f5f\"}},\"annotationdefaults\":{\"arrowcolor\":\"#2a3f5f\",\"arrowhead\":0,\"arrowwidth\":1},\"geo\":{\"bgcolor\":\"white\",\"landcolor\":\"#E5ECF6\",\"subunitcolor\":\"white\",\"showland\":true,\"showlakes\":true,\"lakecolor\":\"white\"},\"title\":{\"x\":0.05},\"mapbox\":{\"style\":\"light\"}}}},                        {\"responsive\": true}                    ).then(function(){\n",
       "                            \n",
       "var gd = document.getElementById('27793087-5443-4dd2-8ca1-2853938a38d8');\n",
       "var x = new MutationObserver(function (mutations, observer) {{\n",
       "        var display = window.getComputedStyle(gd).display;\n",
       "        if (!display || display === 'none') {{\n",
       "            console.log([gd, 'removed!']);\n",
       "            Plotly.purge(gd);\n",
       "            observer.disconnect();\n",
       "        }}\n",
       "}});\n",
       "\n",
       "// Listen for the removal of the full notebook cells\n",
       "var notebookContainer = gd.closest('#notebook-container');\n",
       "if (notebookContainer) {{\n",
       "    x.observe(notebookContainer, {childList: true});\n",
       "}}\n",
       "\n",
       "// Listen for the clearing of the current output cell\n",
       "var outputEl = gd.closest('.output');\n",
       "if (outputEl) {{\n",
       "    x.observe(outputEl, {childList: true});\n",
       "}}\n",
       "\n",
       "                        })                };                });            </script>        </div>"
      ]
     },
     "metadata": {},
     "output_type": "display_data"
    }
   ],
   "source": [
    "# 하이퍼파라미터별 중요도\n",
    "optuna.visualization.plot_param_importances(study)"
   ]
  },
  {
   "cell_type": "code",
   "execution_count": 150,
   "id": "e2bb5d86",
   "metadata": {
    "scrolled": false
   },
   "outputs": [
    {
     "data": {
      "application/vnd.plotly.v1+json": {
       "config": {
        "plotlyServerURL": "https://plot.ly"
       },
       "data": [
        {
         "mode": "markers",
         "name": "Objective Value",
         "type": "scatter",
         "x": [
          0,
          1,
          2,
          3,
          4,
          5,
          6,
          7,
          8,
          9,
          10,
          11,
          12,
          13,
          14,
          15,
          16,
          17,
          18,
          19,
          20,
          21,
          22,
          23,
          24,
          25,
          26,
          27,
          28,
          29,
          30,
          31,
          32,
          33,
          34,
          35,
          36,
          37,
          38,
          39,
          40,
          41,
          42,
          43,
          44,
          45,
          46,
          47,
          48,
          49,
          50,
          51,
          52,
          53,
          54,
          55,
          56,
          57,
          58,
          59,
          60,
          61,
          62,
          63,
          64,
          65,
          66,
          67,
          68,
          69,
          70,
          71,
          72,
          73,
          74,
          75,
          76,
          77,
          78,
          79,
          80,
          81,
          82,
          83,
          84,
          85,
          86,
          87,
          88,
          89,
          90,
          91,
          92,
          93,
          94,
          95,
          96,
          97,
          98,
          99,
          100,
          101,
          102,
          103,
          104,
          105,
          106,
          107,
          108,
          109,
          110,
          111,
          112,
          113,
          114,
          115,
          116,
          117,
          118,
          119,
          120,
          121,
          122,
          123,
          124,
          125,
          126,
          127,
          128,
          129,
          130,
          131,
          132,
          133,
          134,
          135,
          136,
          137,
          138,
          139,
          140,
          141,
          142,
          143,
          144,
          145,
          146,
          147,
          148,
          149,
          150,
          151,
          152,
          153,
          154,
          155,
          156,
          157,
          158,
          159,
          160,
          161,
          162,
          163,
          164,
          165,
          166,
          167,
          168,
          169,
          170,
          171,
          172,
          173,
          174,
          175,
          176,
          177,
          178,
          179,
          180,
          181,
          182,
          183,
          184,
          185,
          186,
          187,
          188,
          189,
          190,
          191,
          192,
          193,
          194,
          195,
          196,
          197,
          198,
          199
         ],
         "y": [
          0.9466571834992887,
          0.9667496443812233,
          0.9466571834992887,
          0.9532361308677098,
          0.9466571834992887,
          0.9466571834992887,
          0.9466571834992887,
          0.9532361308677098,
          0.9667496443812233,
          0.9466571834992887,
          0.9534139402560455,
          0.9599928876244666,
          0.9532361308677098,
          0.9599928876244666,
          0.9466571834992887,
          0.9532361308677098,
          0.9667496443812233,
          0.9601706970128022,
          0.9532361308677098,
          0.9601706970128022,
          0.9532361308677098,
          0.9667496443812233,
          0.946479374110953,
          0.9532361308677098,
          0.9599928876244666,
          0.9599928876244666,
          0.9601706970128022,
          0.9532361308677098,
          0.9534139402560455,
          0.9534139402560455,
          0.9399004267425319,
          0.9534139402560455,
          0.9601706970128022,
          0.9466571834992887,
          0.9534139402560455,
          0.9667496443812233,
          0.9667496443812233,
          0.9599928876244666,
          0.9532361308677098,
          0.9532361308677098,
          0.9532361308677098,
          0.9532361308677098,
          0.9667496443812233,
          0.9601706970128022,
          0.9667496443812233,
          0.9667496443812233,
          0.9534139402560455,
          0.9601706970128022,
          0.9599928876244666,
          0.9534139402560455,
          0.9466571834992887,
          0.9599928876244666,
          0.9534139402560455,
          0.9466571834992887,
          0.9466571834992887,
          0.9601706970128022,
          0.9532361308677098,
          0.9466571834992887,
          0.9466571834992887,
          0.9599928876244666,
          0.9532361308677098,
          0.9532361308677098,
          0.9601706970128022,
          0.9667496443812233,
          0.9667496443812233,
          0.9599928876244666,
          0.9601706970128022,
          0.9599928876244666,
          0.9534139402560455,
          0.9466571834992887,
          0.9667496443812233,
          0.9534139402560455,
          0.9466571834992887,
          0.9466571834992887,
          0.9466571834992887,
          0.9466571834992887,
          0.9667496443812233,
          0.9534139402560455,
          0.9532361308677098,
          0.9601706970128022,
          0.9599928876244666,
          0.9667496443812233,
          0.9532361308677098,
          0.9534139402560455,
          0.9532361308677098,
          0.9532361308677098,
          0.9466571834992887,
          0.9599928876244666,
          0.9532361308677098,
          0.9532361308677098,
          0.9532361308677098,
          0.9667496443812233,
          0.9532361308677098,
          0.9532361308677098,
          0.9534139402560455,
          0.9599928876244666,
          0.9532361308677098,
          0.9599928876244666,
          0.9599928876244666,
          0.9601706970128022,
          0.9599928876244666,
          0.9534139402560455,
          0.9534139402560455,
          0.9667496443812233,
          0.9667496443812233,
          0.9599928876244666,
          0.9601706970128022,
          0.9532361308677098,
          0.9667496443812233,
          0.9466571834992887,
          0.9599928876244666,
          0.9667496443812233,
          0.9599928876244666,
          0.9599928876244666,
          0.9532361308677098,
          0.9599928876244666,
          0.9667496443812233,
          0.9667496443812233,
          0.9601706970128022,
          0.9464793741109531,
          0.9532361308677098,
          0.9466571834992887,
          0.9601706970128022,
          0.9599928876244666,
          0.9667496443812233,
          0.9667496443812233,
          0.9532361308677098,
          0.9466571834992887,
          0.9599928876244666,
          0.9534139402560455,
          0.9599928876244666,
          0.9534139402560455,
          0.9601706970128022,
          0.9466571834992887,
          0.9466571834992887,
          0.9667496443812233,
          0.9532361308677098,
          0.9532361308677098,
          0.9532361308677098,
          0.9599928876244666,
          0.9532361308677098,
          0.9667496443812233,
          0.9599928876244666,
          0.9599928876244666,
          0.9532361308677098,
          0.9466571834992887,
          0.9534139402560455,
          0.9534139402560455,
          0.9532361308677098,
          0.9599928876244666,
          0.9532361308677098,
          0.9532361308677098,
          0.9599928876244666,
          0.9599928876244666,
          0.9601706970128022,
          0.9532361308677098,
          0.9532361308677098,
          0.9466571834992887,
          0.9534139402560455,
          0.9532361308677098,
          0.9599928876244666,
          0.9667496443812233,
          0.9733285917496444,
          0.9667496443812233,
          0.9532361308677098,
          0.9532361308677098,
          0.9667496443812233,
          0.9534139402560455,
          0.9667496443812233,
          0.9532361308677098,
          0.946479374110953,
          0.9667496443812233,
          0.9667496443812233,
          0.9667496443812233,
          0.9599928876244666,
          0.9532361308677098,
          0.9667496443812233,
          0.9667496443812233,
          0.9532361308677098,
          0.9601706970128022,
          0.9599928876244666,
          0.9601706970128022,
          0.9667496443812233,
          0.9532361308677098,
          0.9599928876244666,
          0.9667496443812233,
          0.9667496443812233,
          0.9599928876244666,
          0.9599928876244666,
          0.9532361308677098,
          0.9399004267425319,
          0.9667496443812233,
          0.9599928876244666,
          0.9534139402560455,
          0.9667496443812233,
          0.9464793741109531,
          0.9466571834992887,
          0.9601706970128022,
          0.9532361308677098,
          0.9532361308677098
         ]
        },
        {
         "name": "Best Value",
         "type": "scatter",
         "x": [
          0,
          1,
          2,
          3,
          4,
          5,
          6,
          7,
          8,
          9,
          10,
          11,
          12,
          13,
          14,
          15,
          16,
          17,
          18,
          19,
          20,
          21,
          22,
          23,
          24,
          25,
          26,
          27,
          28,
          29,
          30,
          31,
          32,
          33,
          34,
          35,
          36,
          37,
          38,
          39,
          40,
          41,
          42,
          43,
          44,
          45,
          46,
          47,
          48,
          49,
          50,
          51,
          52,
          53,
          54,
          55,
          56,
          57,
          58,
          59,
          60,
          61,
          62,
          63,
          64,
          65,
          66,
          67,
          68,
          69,
          70,
          71,
          72,
          73,
          74,
          75,
          76,
          77,
          78,
          79,
          80,
          81,
          82,
          83,
          84,
          85,
          86,
          87,
          88,
          89,
          90,
          91,
          92,
          93,
          94,
          95,
          96,
          97,
          98,
          99,
          100,
          101,
          102,
          103,
          104,
          105,
          106,
          107,
          108,
          109,
          110,
          111,
          112,
          113,
          114,
          115,
          116,
          117,
          118,
          119,
          120,
          121,
          122,
          123,
          124,
          125,
          126,
          127,
          128,
          129,
          130,
          131,
          132,
          133,
          134,
          135,
          136,
          137,
          138,
          139,
          140,
          141,
          142,
          143,
          144,
          145,
          146,
          147,
          148,
          149,
          150,
          151,
          152,
          153,
          154,
          155,
          156,
          157,
          158,
          159,
          160,
          161,
          162,
          163,
          164,
          165,
          166,
          167,
          168,
          169,
          170,
          171,
          172,
          173,
          174,
          175,
          176,
          177,
          178,
          179,
          180,
          181,
          182,
          183,
          184,
          185,
          186,
          187,
          188,
          189,
          190,
          191,
          192,
          193,
          194,
          195,
          196,
          197,
          198,
          199
         ],
         "y": [
          0.9466571834992887,
          0.9667496443812233,
          0.9667496443812233,
          0.9667496443812233,
          0.9667496443812233,
          0.9667496443812233,
          0.9667496443812233,
          0.9667496443812233,
          0.9667496443812233,
          0.9667496443812233,
          0.9667496443812233,
          0.9667496443812233,
          0.9667496443812233,
          0.9667496443812233,
          0.9667496443812233,
          0.9667496443812233,
          0.9667496443812233,
          0.9667496443812233,
          0.9667496443812233,
          0.9667496443812233,
          0.9667496443812233,
          0.9667496443812233,
          0.9667496443812233,
          0.9667496443812233,
          0.9667496443812233,
          0.9667496443812233,
          0.9667496443812233,
          0.9667496443812233,
          0.9667496443812233,
          0.9667496443812233,
          0.9667496443812233,
          0.9667496443812233,
          0.9667496443812233,
          0.9667496443812233,
          0.9667496443812233,
          0.9667496443812233,
          0.9667496443812233,
          0.9667496443812233,
          0.9667496443812233,
          0.9667496443812233,
          0.9667496443812233,
          0.9667496443812233,
          0.9667496443812233,
          0.9667496443812233,
          0.9667496443812233,
          0.9667496443812233,
          0.9667496443812233,
          0.9667496443812233,
          0.9667496443812233,
          0.9667496443812233,
          0.9667496443812233,
          0.9667496443812233,
          0.9667496443812233,
          0.9667496443812233,
          0.9667496443812233,
          0.9667496443812233,
          0.9667496443812233,
          0.9667496443812233,
          0.9667496443812233,
          0.9667496443812233,
          0.9667496443812233,
          0.9667496443812233,
          0.9667496443812233,
          0.9667496443812233,
          0.9667496443812233,
          0.9667496443812233,
          0.9667496443812233,
          0.9667496443812233,
          0.9667496443812233,
          0.9667496443812233,
          0.9667496443812233,
          0.9667496443812233,
          0.9667496443812233,
          0.9667496443812233,
          0.9667496443812233,
          0.9667496443812233,
          0.9667496443812233,
          0.9667496443812233,
          0.9667496443812233,
          0.9667496443812233,
          0.9667496443812233,
          0.9667496443812233,
          0.9667496443812233,
          0.9667496443812233,
          0.9667496443812233,
          0.9667496443812233,
          0.9667496443812233,
          0.9667496443812233,
          0.9667496443812233,
          0.9667496443812233,
          0.9667496443812233,
          0.9667496443812233,
          0.9667496443812233,
          0.9667496443812233,
          0.9667496443812233,
          0.9667496443812233,
          0.9667496443812233,
          0.9667496443812233,
          0.9667496443812233,
          0.9667496443812233,
          0.9667496443812233,
          0.9667496443812233,
          0.9667496443812233,
          0.9667496443812233,
          0.9667496443812233,
          0.9667496443812233,
          0.9667496443812233,
          0.9667496443812233,
          0.9667496443812233,
          0.9667496443812233,
          0.9667496443812233,
          0.9667496443812233,
          0.9667496443812233,
          0.9667496443812233,
          0.9667496443812233,
          0.9667496443812233,
          0.9667496443812233,
          0.9667496443812233,
          0.9667496443812233,
          0.9667496443812233,
          0.9667496443812233,
          0.9667496443812233,
          0.9667496443812233,
          0.9667496443812233,
          0.9667496443812233,
          0.9667496443812233,
          0.9667496443812233,
          0.9667496443812233,
          0.9667496443812233,
          0.9667496443812233,
          0.9667496443812233,
          0.9667496443812233,
          0.9667496443812233,
          0.9667496443812233,
          0.9667496443812233,
          0.9667496443812233,
          0.9667496443812233,
          0.9667496443812233,
          0.9667496443812233,
          0.9667496443812233,
          0.9667496443812233,
          0.9667496443812233,
          0.9667496443812233,
          0.9667496443812233,
          0.9667496443812233,
          0.9667496443812233,
          0.9667496443812233,
          0.9667496443812233,
          0.9667496443812233,
          0.9667496443812233,
          0.9667496443812233,
          0.9667496443812233,
          0.9667496443812233,
          0.9667496443812233,
          0.9667496443812233,
          0.9667496443812233,
          0.9667496443812233,
          0.9667496443812233,
          0.9667496443812233,
          0.9667496443812233,
          0.9667496443812233,
          0.9667496443812233,
          0.9733285917496444,
          0.9733285917496444,
          0.9733285917496444,
          0.9733285917496444,
          0.9733285917496444,
          0.9733285917496444,
          0.9733285917496444,
          0.9733285917496444,
          0.9733285917496444,
          0.9733285917496444,
          0.9733285917496444,
          0.9733285917496444,
          0.9733285917496444,
          0.9733285917496444,
          0.9733285917496444,
          0.9733285917496444,
          0.9733285917496444,
          0.9733285917496444,
          0.9733285917496444,
          0.9733285917496444,
          0.9733285917496444,
          0.9733285917496444,
          0.9733285917496444,
          0.9733285917496444,
          0.9733285917496444,
          0.9733285917496444,
          0.9733285917496444,
          0.9733285917496444,
          0.9733285917496444,
          0.9733285917496444,
          0.9733285917496444,
          0.9733285917496444,
          0.9733285917496444,
          0.9733285917496444,
          0.9733285917496444,
          0.9733285917496444,
          0.9733285917496444,
          0.9733285917496444
         ]
        }
       ],
       "layout": {
        "template": {
         "data": {
          "bar": [
           {
            "error_x": {
             "color": "#2a3f5f"
            },
            "error_y": {
             "color": "#2a3f5f"
            },
            "marker": {
             "line": {
              "color": "#E5ECF6",
              "width": 0.5
             },
             "pattern": {
              "fillmode": "overlay",
              "size": 10,
              "solidity": 0.2
             }
            },
            "type": "bar"
           }
          ],
          "barpolar": [
           {
            "marker": {
             "line": {
              "color": "#E5ECF6",
              "width": 0.5
             },
             "pattern": {
              "fillmode": "overlay",
              "size": 10,
              "solidity": 0.2
             }
            },
            "type": "barpolar"
           }
          ],
          "carpet": [
           {
            "aaxis": {
             "endlinecolor": "#2a3f5f",
             "gridcolor": "white",
             "linecolor": "white",
             "minorgridcolor": "white",
             "startlinecolor": "#2a3f5f"
            },
            "baxis": {
             "endlinecolor": "#2a3f5f",
             "gridcolor": "white",
             "linecolor": "white",
             "minorgridcolor": "white",
             "startlinecolor": "#2a3f5f"
            },
            "type": "carpet"
           }
          ],
          "choropleth": [
           {
            "colorbar": {
             "outlinewidth": 0,
             "ticks": ""
            },
            "type": "choropleth"
           }
          ],
          "contour": [
           {
            "colorbar": {
             "outlinewidth": 0,
             "ticks": ""
            },
            "colorscale": [
             [
              0,
              "#0d0887"
             ],
             [
              0.1111111111111111,
              "#46039f"
             ],
             [
              0.2222222222222222,
              "#7201a8"
             ],
             [
              0.3333333333333333,
              "#9c179e"
             ],
             [
              0.4444444444444444,
              "#bd3786"
             ],
             [
              0.5555555555555556,
              "#d8576b"
             ],
             [
              0.6666666666666666,
              "#ed7953"
             ],
             [
              0.7777777777777778,
              "#fb9f3a"
             ],
             [
              0.8888888888888888,
              "#fdca26"
             ],
             [
              1,
              "#f0f921"
             ]
            ],
            "type": "contour"
           }
          ],
          "contourcarpet": [
           {
            "colorbar": {
             "outlinewidth": 0,
             "ticks": ""
            },
            "type": "contourcarpet"
           }
          ],
          "heatmap": [
           {
            "colorbar": {
             "outlinewidth": 0,
             "ticks": ""
            },
            "colorscale": [
             [
              0,
              "#0d0887"
             ],
             [
              0.1111111111111111,
              "#46039f"
             ],
             [
              0.2222222222222222,
              "#7201a8"
             ],
             [
              0.3333333333333333,
              "#9c179e"
             ],
             [
              0.4444444444444444,
              "#bd3786"
             ],
             [
              0.5555555555555556,
              "#d8576b"
             ],
             [
              0.6666666666666666,
              "#ed7953"
             ],
             [
              0.7777777777777778,
              "#fb9f3a"
             ],
             [
              0.8888888888888888,
              "#fdca26"
             ],
             [
              1,
              "#f0f921"
             ]
            ],
            "type": "heatmap"
           }
          ],
          "heatmapgl": [
           {
            "colorbar": {
             "outlinewidth": 0,
             "ticks": ""
            },
            "colorscale": [
             [
              0,
              "#0d0887"
             ],
             [
              0.1111111111111111,
              "#46039f"
             ],
             [
              0.2222222222222222,
              "#7201a8"
             ],
             [
              0.3333333333333333,
              "#9c179e"
             ],
             [
              0.4444444444444444,
              "#bd3786"
             ],
             [
              0.5555555555555556,
              "#d8576b"
             ],
             [
              0.6666666666666666,
              "#ed7953"
             ],
             [
              0.7777777777777778,
              "#fb9f3a"
             ],
             [
              0.8888888888888888,
              "#fdca26"
             ],
             [
              1,
              "#f0f921"
             ]
            ],
            "type": "heatmapgl"
           }
          ],
          "histogram": [
           {
            "marker": {
             "pattern": {
              "fillmode": "overlay",
              "size": 10,
              "solidity": 0.2
             }
            },
            "type": "histogram"
           }
          ],
          "histogram2d": [
           {
            "colorbar": {
             "outlinewidth": 0,
             "ticks": ""
            },
            "colorscale": [
             [
              0,
              "#0d0887"
             ],
             [
              0.1111111111111111,
              "#46039f"
             ],
             [
              0.2222222222222222,
              "#7201a8"
             ],
             [
              0.3333333333333333,
              "#9c179e"
             ],
             [
              0.4444444444444444,
              "#bd3786"
             ],
             [
              0.5555555555555556,
              "#d8576b"
             ],
             [
              0.6666666666666666,
              "#ed7953"
             ],
             [
              0.7777777777777778,
              "#fb9f3a"
             ],
             [
              0.8888888888888888,
              "#fdca26"
             ],
             [
              1,
              "#f0f921"
             ]
            ],
            "type": "histogram2d"
           }
          ],
          "histogram2dcontour": [
           {
            "colorbar": {
             "outlinewidth": 0,
             "ticks": ""
            },
            "colorscale": [
             [
              0,
              "#0d0887"
             ],
             [
              0.1111111111111111,
              "#46039f"
             ],
             [
              0.2222222222222222,
              "#7201a8"
             ],
             [
              0.3333333333333333,
              "#9c179e"
             ],
             [
              0.4444444444444444,
              "#bd3786"
             ],
             [
              0.5555555555555556,
              "#d8576b"
             ],
             [
              0.6666666666666666,
              "#ed7953"
             ],
             [
              0.7777777777777778,
              "#fb9f3a"
             ],
             [
              0.8888888888888888,
              "#fdca26"
             ],
             [
              1,
              "#f0f921"
             ]
            ],
            "type": "histogram2dcontour"
           }
          ],
          "mesh3d": [
           {
            "colorbar": {
             "outlinewidth": 0,
             "ticks": ""
            },
            "type": "mesh3d"
           }
          ],
          "parcoords": [
           {
            "line": {
             "colorbar": {
              "outlinewidth": 0,
              "ticks": ""
             }
            },
            "type": "parcoords"
           }
          ],
          "pie": [
           {
            "automargin": true,
            "type": "pie"
           }
          ],
          "scatter": [
           {
            "fillpattern": {
             "fillmode": "overlay",
             "size": 10,
             "solidity": 0.2
            },
            "type": "scatter"
           }
          ],
          "scatter3d": [
           {
            "line": {
             "colorbar": {
              "outlinewidth": 0,
              "ticks": ""
             }
            },
            "marker": {
             "colorbar": {
              "outlinewidth": 0,
              "ticks": ""
             }
            },
            "type": "scatter3d"
           }
          ],
          "scattercarpet": [
           {
            "marker": {
             "colorbar": {
              "outlinewidth": 0,
              "ticks": ""
             }
            },
            "type": "scattercarpet"
           }
          ],
          "scattergeo": [
           {
            "marker": {
             "colorbar": {
              "outlinewidth": 0,
              "ticks": ""
             }
            },
            "type": "scattergeo"
           }
          ],
          "scattergl": [
           {
            "marker": {
             "colorbar": {
              "outlinewidth": 0,
              "ticks": ""
             }
            },
            "type": "scattergl"
           }
          ],
          "scattermapbox": [
           {
            "marker": {
             "colorbar": {
              "outlinewidth": 0,
              "ticks": ""
             }
            },
            "type": "scattermapbox"
           }
          ],
          "scatterpolar": [
           {
            "marker": {
             "colorbar": {
              "outlinewidth": 0,
              "ticks": ""
             }
            },
            "type": "scatterpolar"
           }
          ],
          "scatterpolargl": [
           {
            "marker": {
             "colorbar": {
              "outlinewidth": 0,
              "ticks": ""
             }
            },
            "type": "scatterpolargl"
           }
          ],
          "scatterternary": [
           {
            "marker": {
             "colorbar": {
              "outlinewidth": 0,
              "ticks": ""
             }
            },
            "type": "scatterternary"
           }
          ],
          "surface": [
           {
            "colorbar": {
             "outlinewidth": 0,
             "ticks": ""
            },
            "colorscale": [
             [
              0,
              "#0d0887"
             ],
             [
              0.1111111111111111,
              "#46039f"
             ],
             [
              0.2222222222222222,
              "#7201a8"
             ],
             [
              0.3333333333333333,
              "#9c179e"
             ],
             [
              0.4444444444444444,
              "#bd3786"
             ],
             [
              0.5555555555555556,
              "#d8576b"
             ],
             [
              0.6666666666666666,
              "#ed7953"
             ],
             [
              0.7777777777777778,
              "#fb9f3a"
             ],
             [
              0.8888888888888888,
              "#fdca26"
             ],
             [
              1,
              "#f0f921"
             ]
            ],
            "type": "surface"
           }
          ],
          "table": [
           {
            "cells": {
             "fill": {
              "color": "#EBF0F8"
             },
             "line": {
              "color": "white"
             }
            },
            "header": {
             "fill": {
              "color": "#C8D4E3"
             },
             "line": {
              "color": "white"
             }
            },
            "type": "table"
           }
          ]
         },
         "layout": {
          "annotationdefaults": {
           "arrowcolor": "#2a3f5f",
           "arrowhead": 0,
           "arrowwidth": 1
          },
          "autotypenumbers": "strict",
          "coloraxis": {
           "colorbar": {
            "outlinewidth": 0,
            "ticks": ""
           }
          },
          "colorscale": {
           "diverging": [
            [
             0,
             "#8e0152"
            ],
            [
             0.1,
             "#c51b7d"
            ],
            [
             0.2,
             "#de77ae"
            ],
            [
             0.3,
             "#f1b6da"
            ],
            [
             0.4,
             "#fde0ef"
            ],
            [
             0.5,
             "#f7f7f7"
            ],
            [
             0.6,
             "#e6f5d0"
            ],
            [
             0.7,
             "#b8e186"
            ],
            [
             0.8,
             "#7fbc41"
            ],
            [
             0.9,
             "#4d9221"
            ],
            [
             1,
             "#276419"
            ]
           ],
           "sequential": [
            [
             0,
             "#0d0887"
            ],
            [
             0.1111111111111111,
             "#46039f"
            ],
            [
             0.2222222222222222,
             "#7201a8"
            ],
            [
             0.3333333333333333,
             "#9c179e"
            ],
            [
             0.4444444444444444,
             "#bd3786"
            ],
            [
             0.5555555555555556,
             "#d8576b"
            ],
            [
             0.6666666666666666,
             "#ed7953"
            ],
            [
             0.7777777777777778,
             "#fb9f3a"
            ],
            [
             0.8888888888888888,
             "#fdca26"
            ],
            [
             1,
             "#f0f921"
            ]
           ],
           "sequentialminus": [
            [
             0,
             "#0d0887"
            ],
            [
             0.1111111111111111,
             "#46039f"
            ],
            [
             0.2222222222222222,
             "#7201a8"
            ],
            [
             0.3333333333333333,
             "#9c179e"
            ],
            [
             0.4444444444444444,
             "#bd3786"
            ],
            [
             0.5555555555555556,
             "#d8576b"
            ],
            [
             0.6666666666666666,
             "#ed7953"
            ],
            [
             0.7777777777777778,
             "#fb9f3a"
            ],
            [
             0.8888888888888888,
             "#fdca26"
            ],
            [
             1,
             "#f0f921"
            ]
           ]
          },
          "colorway": [
           "#636efa",
           "#EF553B",
           "#00cc96",
           "#ab63fa",
           "#FFA15A",
           "#19d3f3",
           "#FF6692",
           "#B6E880",
           "#FF97FF",
           "#FECB52"
          ],
          "font": {
           "color": "#2a3f5f"
          },
          "geo": {
           "bgcolor": "white",
           "lakecolor": "white",
           "landcolor": "#E5ECF6",
           "showlakes": true,
           "showland": true,
           "subunitcolor": "white"
          },
          "hoverlabel": {
           "align": "left"
          },
          "hovermode": "closest",
          "mapbox": {
           "style": "light"
          },
          "paper_bgcolor": "white",
          "plot_bgcolor": "#E5ECF6",
          "polar": {
           "angularaxis": {
            "gridcolor": "white",
            "linecolor": "white",
            "ticks": ""
           },
           "bgcolor": "#E5ECF6",
           "radialaxis": {
            "gridcolor": "white",
            "linecolor": "white",
            "ticks": ""
           }
          },
          "scene": {
           "xaxis": {
            "backgroundcolor": "#E5ECF6",
            "gridcolor": "white",
            "gridwidth": 2,
            "linecolor": "white",
            "showbackground": true,
            "ticks": "",
            "zerolinecolor": "white"
           },
           "yaxis": {
            "backgroundcolor": "#E5ECF6",
            "gridcolor": "white",
            "gridwidth": 2,
            "linecolor": "white",
            "showbackground": true,
            "ticks": "",
            "zerolinecolor": "white"
           },
           "zaxis": {
            "backgroundcolor": "#E5ECF6",
            "gridcolor": "white",
            "gridwidth": 2,
            "linecolor": "white",
            "showbackground": true,
            "ticks": "",
            "zerolinecolor": "white"
           }
          },
          "shapedefaults": {
           "line": {
            "color": "#2a3f5f"
           }
          },
          "ternary": {
           "aaxis": {
            "gridcolor": "white",
            "linecolor": "white",
            "ticks": ""
           },
           "baxis": {
            "gridcolor": "white",
            "linecolor": "white",
            "ticks": ""
           },
           "bgcolor": "#E5ECF6",
           "caxis": {
            "gridcolor": "white",
            "linecolor": "white",
            "ticks": ""
           }
          },
          "title": {
           "x": 0.05
          },
          "xaxis": {
           "automargin": true,
           "gridcolor": "white",
           "linecolor": "white",
           "ticks": "",
           "title": {
            "standoff": 15
           },
           "zerolinecolor": "white",
           "zerolinewidth": 2
          },
          "yaxis": {
           "automargin": true,
           "gridcolor": "white",
           "linecolor": "white",
           "ticks": "",
           "title": {
            "standoff": 15
           },
           "zerolinecolor": "white",
           "zerolinewidth": 2
          }
         }
        },
        "title": {
         "text": "Optimization History Plot"
        },
        "xaxis": {
         "title": {
          "text": "Trial"
         }
        },
        "yaxis": {
         "title": {
          "text": "Objective Value"
         }
        }
       }
      },
      "text/html": [
       "<div>                            <div id=\"0ef1fb29-dfbb-4816-b453-dad0fdfa62ee\" class=\"plotly-graph-div\" style=\"height:525px; width:100%;\"></div>            <script type=\"text/javascript\">                require([\"plotly\"], function(Plotly) {                    window.PLOTLYENV=window.PLOTLYENV || {};                                    if (document.getElementById(\"0ef1fb29-dfbb-4816-b453-dad0fdfa62ee\")) {                    Plotly.newPlot(                        \"0ef1fb29-dfbb-4816-b453-dad0fdfa62ee\",                        [{\"mode\":\"markers\",\"name\":\"Objective Value\",\"x\":[0,1,2,3,4,5,6,7,8,9,10,11,12,13,14,15,16,17,18,19,20,21,22,23,24,25,26,27,28,29,30,31,32,33,34,35,36,37,38,39,40,41,42,43,44,45,46,47,48,49,50,51,52,53,54,55,56,57,58,59,60,61,62,63,64,65,66,67,68,69,70,71,72,73,74,75,76,77,78,79,80,81,82,83,84,85,86,87,88,89,90,91,92,93,94,95,96,97,98,99,100,101,102,103,104,105,106,107,108,109,110,111,112,113,114,115,116,117,118,119,120,121,122,123,124,125,126,127,128,129,130,131,132,133,134,135,136,137,138,139,140,141,142,143,144,145,146,147,148,149,150,151,152,153,154,155,156,157,158,159,160,161,162,163,164,165,166,167,168,169,170,171,172,173,174,175,176,177,178,179,180,181,182,183,184,185,186,187,188,189,190,191,192,193,194,195,196,197,198,199],\"y\":[0.9466571834992887,0.9667496443812233,0.9466571834992887,0.9532361308677098,0.9466571834992887,0.9466571834992887,0.9466571834992887,0.9532361308677098,0.9667496443812233,0.9466571834992887,0.9534139402560455,0.9599928876244666,0.9532361308677098,0.9599928876244666,0.9466571834992887,0.9532361308677098,0.9667496443812233,0.9601706970128022,0.9532361308677098,0.9601706970128022,0.9532361308677098,0.9667496443812233,0.946479374110953,0.9532361308677098,0.9599928876244666,0.9599928876244666,0.9601706970128022,0.9532361308677098,0.9534139402560455,0.9534139402560455,0.9399004267425319,0.9534139402560455,0.9601706970128022,0.9466571834992887,0.9534139402560455,0.9667496443812233,0.9667496443812233,0.9599928876244666,0.9532361308677098,0.9532361308677098,0.9532361308677098,0.9532361308677098,0.9667496443812233,0.9601706970128022,0.9667496443812233,0.9667496443812233,0.9534139402560455,0.9601706970128022,0.9599928876244666,0.9534139402560455,0.9466571834992887,0.9599928876244666,0.9534139402560455,0.9466571834992887,0.9466571834992887,0.9601706970128022,0.9532361308677098,0.9466571834992887,0.9466571834992887,0.9599928876244666,0.9532361308677098,0.9532361308677098,0.9601706970128022,0.9667496443812233,0.9667496443812233,0.9599928876244666,0.9601706970128022,0.9599928876244666,0.9534139402560455,0.9466571834992887,0.9667496443812233,0.9534139402560455,0.9466571834992887,0.9466571834992887,0.9466571834992887,0.9466571834992887,0.9667496443812233,0.9534139402560455,0.9532361308677098,0.9601706970128022,0.9599928876244666,0.9667496443812233,0.9532361308677098,0.9534139402560455,0.9532361308677098,0.9532361308677098,0.9466571834992887,0.9599928876244666,0.9532361308677098,0.9532361308677098,0.9532361308677098,0.9667496443812233,0.9532361308677098,0.9532361308677098,0.9534139402560455,0.9599928876244666,0.9532361308677098,0.9599928876244666,0.9599928876244666,0.9601706970128022,0.9599928876244666,0.9534139402560455,0.9534139402560455,0.9667496443812233,0.9667496443812233,0.9599928876244666,0.9601706970128022,0.9532361308677098,0.9667496443812233,0.9466571834992887,0.9599928876244666,0.9667496443812233,0.9599928876244666,0.9599928876244666,0.9532361308677098,0.9599928876244666,0.9667496443812233,0.9667496443812233,0.9601706970128022,0.9464793741109531,0.9532361308677098,0.9466571834992887,0.9601706970128022,0.9599928876244666,0.9667496443812233,0.9667496443812233,0.9532361308677098,0.9466571834992887,0.9599928876244666,0.9534139402560455,0.9599928876244666,0.9534139402560455,0.9601706970128022,0.9466571834992887,0.9466571834992887,0.9667496443812233,0.9532361308677098,0.9532361308677098,0.9532361308677098,0.9599928876244666,0.9532361308677098,0.9667496443812233,0.9599928876244666,0.9599928876244666,0.9532361308677098,0.9466571834992887,0.9534139402560455,0.9534139402560455,0.9532361308677098,0.9599928876244666,0.9532361308677098,0.9532361308677098,0.9599928876244666,0.9599928876244666,0.9601706970128022,0.9532361308677098,0.9532361308677098,0.9466571834992887,0.9534139402560455,0.9532361308677098,0.9599928876244666,0.9667496443812233,0.9733285917496444,0.9667496443812233,0.9532361308677098,0.9532361308677098,0.9667496443812233,0.9534139402560455,0.9667496443812233,0.9532361308677098,0.946479374110953,0.9667496443812233,0.9667496443812233,0.9667496443812233,0.9599928876244666,0.9532361308677098,0.9667496443812233,0.9667496443812233,0.9532361308677098,0.9601706970128022,0.9599928876244666,0.9601706970128022,0.9667496443812233,0.9532361308677098,0.9599928876244666,0.9667496443812233,0.9667496443812233,0.9599928876244666,0.9599928876244666,0.9532361308677098,0.9399004267425319,0.9667496443812233,0.9599928876244666,0.9534139402560455,0.9667496443812233,0.9464793741109531,0.9466571834992887,0.9601706970128022,0.9532361308677098,0.9532361308677098],\"type\":\"scatter\"},{\"name\":\"Best Value\",\"x\":[0,1,2,3,4,5,6,7,8,9,10,11,12,13,14,15,16,17,18,19,20,21,22,23,24,25,26,27,28,29,30,31,32,33,34,35,36,37,38,39,40,41,42,43,44,45,46,47,48,49,50,51,52,53,54,55,56,57,58,59,60,61,62,63,64,65,66,67,68,69,70,71,72,73,74,75,76,77,78,79,80,81,82,83,84,85,86,87,88,89,90,91,92,93,94,95,96,97,98,99,100,101,102,103,104,105,106,107,108,109,110,111,112,113,114,115,116,117,118,119,120,121,122,123,124,125,126,127,128,129,130,131,132,133,134,135,136,137,138,139,140,141,142,143,144,145,146,147,148,149,150,151,152,153,154,155,156,157,158,159,160,161,162,163,164,165,166,167,168,169,170,171,172,173,174,175,176,177,178,179,180,181,182,183,184,185,186,187,188,189,190,191,192,193,194,195,196,197,198,199],\"y\":[0.9466571834992887,0.9667496443812233,0.9667496443812233,0.9667496443812233,0.9667496443812233,0.9667496443812233,0.9667496443812233,0.9667496443812233,0.9667496443812233,0.9667496443812233,0.9667496443812233,0.9667496443812233,0.9667496443812233,0.9667496443812233,0.9667496443812233,0.9667496443812233,0.9667496443812233,0.9667496443812233,0.9667496443812233,0.9667496443812233,0.9667496443812233,0.9667496443812233,0.9667496443812233,0.9667496443812233,0.9667496443812233,0.9667496443812233,0.9667496443812233,0.9667496443812233,0.9667496443812233,0.9667496443812233,0.9667496443812233,0.9667496443812233,0.9667496443812233,0.9667496443812233,0.9667496443812233,0.9667496443812233,0.9667496443812233,0.9667496443812233,0.9667496443812233,0.9667496443812233,0.9667496443812233,0.9667496443812233,0.9667496443812233,0.9667496443812233,0.9667496443812233,0.9667496443812233,0.9667496443812233,0.9667496443812233,0.9667496443812233,0.9667496443812233,0.9667496443812233,0.9667496443812233,0.9667496443812233,0.9667496443812233,0.9667496443812233,0.9667496443812233,0.9667496443812233,0.9667496443812233,0.9667496443812233,0.9667496443812233,0.9667496443812233,0.9667496443812233,0.9667496443812233,0.9667496443812233,0.9667496443812233,0.9667496443812233,0.9667496443812233,0.9667496443812233,0.9667496443812233,0.9667496443812233,0.9667496443812233,0.9667496443812233,0.9667496443812233,0.9667496443812233,0.9667496443812233,0.9667496443812233,0.9667496443812233,0.9667496443812233,0.9667496443812233,0.9667496443812233,0.9667496443812233,0.9667496443812233,0.9667496443812233,0.9667496443812233,0.9667496443812233,0.9667496443812233,0.9667496443812233,0.9667496443812233,0.9667496443812233,0.9667496443812233,0.9667496443812233,0.9667496443812233,0.9667496443812233,0.9667496443812233,0.9667496443812233,0.9667496443812233,0.9667496443812233,0.9667496443812233,0.9667496443812233,0.9667496443812233,0.9667496443812233,0.9667496443812233,0.9667496443812233,0.9667496443812233,0.9667496443812233,0.9667496443812233,0.9667496443812233,0.9667496443812233,0.9667496443812233,0.9667496443812233,0.9667496443812233,0.9667496443812233,0.9667496443812233,0.9667496443812233,0.9667496443812233,0.9667496443812233,0.9667496443812233,0.9667496443812233,0.9667496443812233,0.9667496443812233,0.9667496443812233,0.9667496443812233,0.9667496443812233,0.9667496443812233,0.9667496443812233,0.9667496443812233,0.9667496443812233,0.9667496443812233,0.9667496443812233,0.9667496443812233,0.9667496443812233,0.9667496443812233,0.9667496443812233,0.9667496443812233,0.9667496443812233,0.9667496443812233,0.9667496443812233,0.9667496443812233,0.9667496443812233,0.9667496443812233,0.9667496443812233,0.9667496443812233,0.9667496443812233,0.9667496443812233,0.9667496443812233,0.9667496443812233,0.9667496443812233,0.9667496443812233,0.9667496443812233,0.9667496443812233,0.9667496443812233,0.9667496443812233,0.9667496443812233,0.9667496443812233,0.9667496443812233,0.9667496443812233,0.9667496443812233,0.9667496443812233,0.9667496443812233,0.9667496443812233,0.9667496443812233,0.9667496443812233,0.9733285917496444,0.9733285917496444,0.9733285917496444,0.9733285917496444,0.9733285917496444,0.9733285917496444,0.9733285917496444,0.9733285917496444,0.9733285917496444,0.9733285917496444,0.9733285917496444,0.9733285917496444,0.9733285917496444,0.9733285917496444,0.9733285917496444,0.9733285917496444,0.9733285917496444,0.9733285917496444,0.9733285917496444,0.9733285917496444,0.9733285917496444,0.9733285917496444,0.9733285917496444,0.9733285917496444,0.9733285917496444,0.9733285917496444,0.9733285917496444,0.9733285917496444,0.9733285917496444,0.9733285917496444,0.9733285917496444,0.9733285917496444,0.9733285917496444,0.9733285917496444,0.9733285917496444,0.9733285917496444,0.9733285917496444,0.9733285917496444],\"type\":\"scatter\"}],                        {\"title\":{\"text\":\"Optimization History Plot\"},\"xaxis\":{\"title\":{\"text\":\"Trial\"}},\"yaxis\":{\"title\":{\"text\":\"Objective Value\"}},\"template\":{\"data\":{\"histogram2dcontour\":[{\"type\":\"histogram2dcontour\",\"colorbar\":{\"outlinewidth\":0,\"ticks\":\"\"},\"colorscale\":[[0.0,\"#0d0887\"],[0.1111111111111111,\"#46039f\"],[0.2222222222222222,\"#7201a8\"],[0.3333333333333333,\"#9c179e\"],[0.4444444444444444,\"#bd3786\"],[0.5555555555555556,\"#d8576b\"],[0.6666666666666666,\"#ed7953\"],[0.7777777777777778,\"#fb9f3a\"],[0.8888888888888888,\"#fdca26\"],[1.0,\"#f0f921\"]]}],\"choropleth\":[{\"type\":\"choropleth\",\"colorbar\":{\"outlinewidth\":0,\"ticks\":\"\"}}],\"histogram2d\":[{\"type\":\"histogram2d\",\"colorbar\":{\"outlinewidth\":0,\"ticks\":\"\"},\"colorscale\":[[0.0,\"#0d0887\"],[0.1111111111111111,\"#46039f\"],[0.2222222222222222,\"#7201a8\"],[0.3333333333333333,\"#9c179e\"],[0.4444444444444444,\"#bd3786\"],[0.5555555555555556,\"#d8576b\"],[0.6666666666666666,\"#ed7953\"],[0.7777777777777778,\"#fb9f3a\"],[0.8888888888888888,\"#fdca26\"],[1.0,\"#f0f921\"]]}],\"heatmap\":[{\"type\":\"heatmap\",\"colorbar\":{\"outlinewidth\":0,\"ticks\":\"\"},\"colorscale\":[[0.0,\"#0d0887\"],[0.1111111111111111,\"#46039f\"],[0.2222222222222222,\"#7201a8\"],[0.3333333333333333,\"#9c179e\"],[0.4444444444444444,\"#bd3786\"],[0.5555555555555556,\"#d8576b\"],[0.6666666666666666,\"#ed7953\"],[0.7777777777777778,\"#fb9f3a\"],[0.8888888888888888,\"#fdca26\"],[1.0,\"#f0f921\"]]}],\"heatmapgl\":[{\"type\":\"heatmapgl\",\"colorbar\":{\"outlinewidth\":0,\"ticks\":\"\"},\"colorscale\":[[0.0,\"#0d0887\"],[0.1111111111111111,\"#46039f\"],[0.2222222222222222,\"#7201a8\"],[0.3333333333333333,\"#9c179e\"],[0.4444444444444444,\"#bd3786\"],[0.5555555555555556,\"#d8576b\"],[0.6666666666666666,\"#ed7953\"],[0.7777777777777778,\"#fb9f3a\"],[0.8888888888888888,\"#fdca26\"],[1.0,\"#f0f921\"]]}],\"contourcarpet\":[{\"type\":\"contourcarpet\",\"colorbar\":{\"outlinewidth\":0,\"ticks\":\"\"}}],\"contour\":[{\"type\":\"contour\",\"colorbar\":{\"outlinewidth\":0,\"ticks\":\"\"},\"colorscale\":[[0.0,\"#0d0887\"],[0.1111111111111111,\"#46039f\"],[0.2222222222222222,\"#7201a8\"],[0.3333333333333333,\"#9c179e\"],[0.4444444444444444,\"#bd3786\"],[0.5555555555555556,\"#d8576b\"],[0.6666666666666666,\"#ed7953\"],[0.7777777777777778,\"#fb9f3a\"],[0.8888888888888888,\"#fdca26\"],[1.0,\"#f0f921\"]]}],\"surface\":[{\"type\":\"surface\",\"colorbar\":{\"outlinewidth\":0,\"ticks\":\"\"},\"colorscale\":[[0.0,\"#0d0887\"],[0.1111111111111111,\"#46039f\"],[0.2222222222222222,\"#7201a8\"],[0.3333333333333333,\"#9c179e\"],[0.4444444444444444,\"#bd3786\"],[0.5555555555555556,\"#d8576b\"],[0.6666666666666666,\"#ed7953\"],[0.7777777777777778,\"#fb9f3a\"],[0.8888888888888888,\"#fdca26\"],[1.0,\"#f0f921\"]]}],\"mesh3d\":[{\"type\":\"mesh3d\",\"colorbar\":{\"outlinewidth\":0,\"ticks\":\"\"}}],\"scatter\":[{\"fillpattern\":{\"fillmode\":\"overlay\",\"size\":10,\"solidity\":0.2},\"type\":\"scatter\"}],\"parcoords\":[{\"type\":\"parcoords\",\"line\":{\"colorbar\":{\"outlinewidth\":0,\"ticks\":\"\"}}}],\"scatterpolargl\":[{\"type\":\"scatterpolargl\",\"marker\":{\"colorbar\":{\"outlinewidth\":0,\"ticks\":\"\"}}}],\"bar\":[{\"error_x\":{\"color\":\"#2a3f5f\"},\"error_y\":{\"color\":\"#2a3f5f\"},\"marker\":{\"line\":{\"color\":\"#E5ECF6\",\"width\":0.5},\"pattern\":{\"fillmode\":\"overlay\",\"size\":10,\"solidity\":0.2}},\"type\":\"bar\"}],\"scattergeo\":[{\"type\":\"scattergeo\",\"marker\":{\"colorbar\":{\"outlinewidth\":0,\"ticks\":\"\"}}}],\"scatterpolar\":[{\"type\":\"scatterpolar\",\"marker\":{\"colorbar\":{\"outlinewidth\":0,\"ticks\":\"\"}}}],\"histogram\":[{\"marker\":{\"pattern\":{\"fillmode\":\"overlay\",\"size\":10,\"solidity\":0.2}},\"type\":\"histogram\"}],\"scattergl\":[{\"type\":\"scattergl\",\"marker\":{\"colorbar\":{\"outlinewidth\":0,\"ticks\":\"\"}}}],\"scatter3d\":[{\"type\":\"scatter3d\",\"line\":{\"colorbar\":{\"outlinewidth\":0,\"ticks\":\"\"}},\"marker\":{\"colorbar\":{\"outlinewidth\":0,\"ticks\":\"\"}}}],\"scattermapbox\":[{\"type\":\"scattermapbox\",\"marker\":{\"colorbar\":{\"outlinewidth\":0,\"ticks\":\"\"}}}],\"scatterternary\":[{\"type\":\"scatterternary\",\"marker\":{\"colorbar\":{\"outlinewidth\":0,\"ticks\":\"\"}}}],\"scattercarpet\":[{\"type\":\"scattercarpet\",\"marker\":{\"colorbar\":{\"outlinewidth\":0,\"ticks\":\"\"}}}],\"carpet\":[{\"aaxis\":{\"endlinecolor\":\"#2a3f5f\",\"gridcolor\":\"white\",\"linecolor\":\"white\",\"minorgridcolor\":\"white\",\"startlinecolor\":\"#2a3f5f\"},\"baxis\":{\"endlinecolor\":\"#2a3f5f\",\"gridcolor\":\"white\",\"linecolor\":\"white\",\"minorgridcolor\":\"white\",\"startlinecolor\":\"#2a3f5f\"},\"type\":\"carpet\"}],\"table\":[{\"cells\":{\"fill\":{\"color\":\"#EBF0F8\"},\"line\":{\"color\":\"white\"}},\"header\":{\"fill\":{\"color\":\"#C8D4E3\"},\"line\":{\"color\":\"white\"}},\"type\":\"table\"}],\"barpolar\":[{\"marker\":{\"line\":{\"color\":\"#E5ECF6\",\"width\":0.5},\"pattern\":{\"fillmode\":\"overlay\",\"size\":10,\"solidity\":0.2}},\"type\":\"barpolar\"}],\"pie\":[{\"automargin\":true,\"type\":\"pie\"}]},\"layout\":{\"autotypenumbers\":\"strict\",\"colorway\":[\"#636efa\",\"#EF553B\",\"#00cc96\",\"#ab63fa\",\"#FFA15A\",\"#19d3f3\",\"#FF6692\",\"#B6E880\",\"#FF97FF\",\"#FECB52\"],\"font\":{\"color\":\"#2a3f5f\"},\"hovermode\":\"closest\",\"hoverlabel\":{\"align\":\"left\"},\"paper_bgcolor\":\"white\",\"plot_bgcolor\":\"#E5ECF6\",\"polar\":{\"bgcolor\":\"#E5ECF6\",\"angularaxis\":{\"gridcolor\":\"white\",\"linecolor\":\"white\",\"ticks\":\"\"},\"radialaxis\":{\"gridcolor\":\"white\",\"linecolor\":\"white\",\"ticks\":\"\"}},\"ternary\":{\"bgcolor\":\"#E5ECF6\",\"aaxis\":{\"gridcolor\":\"white\",\"linecolor\":\"white\",\"ticks\":\"\"},\"baxis\":{\"gridcolor\":\"white\",\"linecolor\":\"white\",\"ticks\":\"\"},\"caxis\":{\"gridcolor\":\"white\",\"linecolor\":\"white\",\"ticks\":\"\"}},\"coloraxis\":{\"colorbar\":{\"outlinewidth\":0,\"ticks\":\"\"}},\"colorscale\":{\"sequential\":[[0.0,\"#0d0887\"],[0.1111111111111111,\"#46039f\"],[0.2222222222222222,\"#7201a8\"],[0.3333333333333333,\"#9c179e\"],[0.4444444444444444,\"#bd3786\"],[0.5555555555555556,\"#d8576b\"],[0.6666666666666666,\"#ed7953\"],[0.7777777777777778,\"#fb9f3a\"],[0.8888888888888888,\"#fdca26\"],[1.0,\"#f0f921\"]],\"sequentialminus\":[[0.0,\"#0d0887\"],[0.1111111111111111,\"#46039f\"],[0.2222222222222222,\"#7201a8\"],[0.3333333333333333,\"#9c179e\"],[0.4444444444444444,\"#bd3786\"],[0.5555555555555556,\"#d8576b\"],[0.6666666666666666,\"#ed7953\"],[0.7777777777777778,\"#fb9f3a\"],[0.8888888888888888,\"#fdca26\"],[1.0,\"#f0f921\"]],\"diverging\":[[0,\"#8e0152\"],[0.1,\"#c51b7d\"],[0.2,\"#de77ae\"],[0.3,\"#f1b6da\"],[0.4,\"#fde0ef\"],[0.5,\"#f7f7f7\"],[0.6,\"#e6f5d0\"],[0.7,\"#b8e186\"],[0.8,\"#7fbc41\"],[0.9,\"#4d9221\"],[1,\"#276419\"]]},\"xaxis\":{\"gridcolor\":\"white\",\"linecolor\":\"white\",\"ticks\":\"\",\"title\":{\"standoff\":15},\"zerolinecolor\":\"white\",\"automargin\":true,\"zerolinewidth\":2},\"yaxis\":{\"gridcolor\":\"white\",\"linecolor\":\"white\",\"ticks\":\"\",\"title\":{\"standoff\":15},\"zerolinecolor\":\"white\",\"automargin\":true,\"zerolinewidth\":2},\"scene\":{\"xaxis\":{\"backgroundcolor\":\"#E5ECF6\",\"gridcolor\":\"white\",\"linecolor\":\"white\",\"showbackground\":true,\"ticks\":\"\",\"zerolinecolor\":\"white\",\"gridwidth\":2},\"yaxis\":{\"backgroundcolor\":\"#E5ECF6\",\"gridcolor\":\"white\",\"linecolor\":\"white\",\"showbackground\":true,\"ticks\":\"\",\"zerolinecolor\":\"white\",\"gridwidth\":2},\"zaxis\":{\"backgroundcolor\":\"#E5ECF6\",\"gridcolor\":\"white\",\"linecolor\":\"white\",\"showbackground\":true,\"ticks\":\"\",\"zerolinecolor\":\"white\",\"gridwidth\":2}},\"shapedefaults\":{\"line\":{\"color\":\"#2a3f5f\"}},\"annotationdefaults\":{\"arrowcolor\":\"#2a3f5f\",\"arrowhead\":0,\"arrowwidth\":1},\"geo\":{\"bgcolor\":\"white\",\"landcolor\":\"#E5ECF6\",\"subunitcolor\":\"white\",\"showland\":true,\"showlakes\":true,\"lakecolor\":\"white\"},\"title\":{\"x\":0.05},\"mapbox\":{\"style\":\"light\"}}}},                        {\"responsive\": true}                    ).then(function(){\n",
       "                            \n",
       "var gd = document.getElementById('0ef1fb29-dfbb-4816-b453-dad0fdfa62ee');\n",
       "var x = new MutationObserver(function (mutations, observer) {{\n",
       "        var display = window.getComputedStyle(gd).display;\n",
       "        if (!display || display === 'none') {{\n",
       "            console.log([gd, 'removed!']);\n",
       "            Plotly.purge(gd);\n",
       "            observer.disconnect();\n",
       "        }}\n",
       "}});\n",
       "\n",
       "// Listen for the removal of the full notebook cells\n",
       "var notebookContainer = gd.closest('#notebook-container');\n",
       "if (notebookContainer) {{\n",
       "    x.observe(notebookContainer, {childList: true});\n",
       "}}\n",
       "\n",
       "// Listen for the clearing of the current output cell\n",
       "var outputEl = gd.closest('.output');\n",
       "if (outputEl) {{\n",
       "    x.observe(outputEl, {childList: true});\n",
       "}}\n",
       "\n",
       "                        })                };                });            </script>        </div>"
      ]
     },
     "metadata": {},
     "output_type": "display_data"
    }
   ],
   "source": [
    "# 하이퍼파라미터 최적화 과정\n",
    "optuna.visualization.plot_optimization_history(study)"
   ]
  },
  {
   "cell_type": "markdown",
   "id": "055fb89b",
   "metadata": {},
   "source": [
    "## Compare sorts of classifiers"
   ]
  },
  {
   "cell_type": "code",
   "execution_count": 151,
   "id": "1577549c",
   "metadata": {
    "scrolled": true
   },
   "outputs": [
    {
     "name": "stderr",
     "output_type": "stream",
     "text": [
      "\u001b[32m[I 2022-10-21 15:26:42,906]\u001b[0m A new study created in memory with name: no-name-53e5668f-1eef-463c-95ce-98d1fac81613\u001b[0m\n",
      "C:\\Users\\vaiv\\Documents\\Git\\ConvAE_LSTM\\.convAE_lstm\\lib\\site-packages\\sklearn\\ensemble\\_forest.py:427: FutureWarning:\n",
      "\n",
      "`max_features='auto'` has been deprecated in 1.1 and will be removed in 1.3. To keep the past behaviour, explicitly set `max_features='sqrt'` or remove this parameter as it is also the default value for RandomForestClassifiers and ExtraTreesClassifiers.\n",
      "\n",
      "C:\\Users\\vaiv\\Documents\\Git\\ConvAE_LSTM\\.convAE_lstm\\lib\\site-packages\\sklearn\\ensemble\\_forest.py:427: FutureWarning:\n",
      "\n",
      "`max_features='auto'` has been deprecated in 1.1 and will be removed in 1.3. To keep the past behaviour, explicitly set `max_features='sqrt'` or remove this parameter as it is also the default value for RandomForestClassifiers and ExtraTreesClassifiers.\n",
      "\n",
      "C:\\Users\\vaiv\\Documents\\Git\\ConvAE_LSTM\\.convAE_lstm\\lib\\site-packages\\sklearn\\ensemble\\_forest.py:427: FutureWarning:\n",
      "\n",
      "`max_features='auto'` has been deprecated in 1.1 and will be removed in 1.3. To keep the past behaviour, explicitly set `max_features='sqrt'` or remove this parameter as it is also the default value for RandomForestClassifiers and ExtraTreesClassifiers.\n",
      "\n",
      "C:\\Users\\vaiv\\Documents\\Git\\ConvAE_LSTM\\.convAE_lstm\\lib\\site-packages\\sklearn\\ensemble\\_forest.py:427: FutureWarning:\n",
      "\n",
      "`max_features='auto'` has been deprecated in 1.1 and will be removed in 1.3. To keep the past behaviour, explicitly set `max_features='sqrt'` or remove this parameter as it is also the default value for RandomForestClassifiers and ExtraTreesClassifiers.\n",
      "\n",
      "\u001b[32m[I 2022-10-21 15:26:43,965]\u001b[0m Trial 0 finished with value: 0.9466571834992887 and parameters: {'classifier': 'RandomForest', 'n_estimators': 189, 'max_depth': 6, 'criterion': 'gini', 'max_features': 'auto', 'min_samples_leaf': 6}. Best is trial 0 with value: 0.9466571834992887.\u001b[0m\n",
      "C:\\Users\\vaiv\\Documents\\Git\\ConvAE_LSTM\\.convAE_lstm\\lib\\site-packages\\sklearn\\ensemble\\_forest.py:427: FutureWarning:\n",
      "\n",
      "`max_features='auto'` has been deprecated in 1.1 and will be removed in 1.3. To keep the past behaviour, explicitly set `max_features='sqrt'` or remove this parameter as it is also the default value for RandomForestClassifiers and ExtraTreesClassifiers.\n",
      "\n",
      "C:\\Users\\vaiv\\Documents\\Git\\ConvAE_LSTM\\.convAE_lstm\\lib\\site-packages\\sklearn\\ensemble\\_forest.py:427: FutureWarning:\n",
      "\n",
      "`max_features='auto'` has been deprecated in 1.1 and will be removed in 1.3. To keep the past behaviour, explicitly set `max_features='sqrt'` or remove this parameter as it is also the default value for RandomForestClassifiers and ExtraTreesClassifiers.\n",
      "\n",
      "C:\\Users\\vaiv\\Documents\\Git\\ConvAE_LSTM\\.convAE_lstm\\lib\\site-packages\\sklearn\\ensemble\\_forest.py:427: FutureWarning:\n",
      "\n",
      "`max_features='auto'` has been deprecated in 1.1 and will be removed in 1.3. To keep the past behaviour, explicitly set `max_features='sqrt'` or remove this parameter as it is also the default value for RandomForestClassifiers and ExtraTreesClassifiers.\n",
      "\n",
      "C:\\Users\\vaiv\\Documents\\Git\\ConvAE_LSTM\\.convAE_lstm\\lib\\site-packages\\sklearn\\ensemble\\_forest.py:427: FutureWarning:\n",
      "\n",
      "`max_features='auto'` has been deprecated in 1.1 and will be removed in 1.3. To keep the past behaviour, explicitly set `max_features='sqrt'` or remove this parameter as it is also the default value for RandomForestClassifiers and ExtraTreesClassifiers.\n",
      "\n",
      "\u001b[32m[I 2022-10-21 15:26:44,486]\u001b[0m Trial 1 finished with value: 0.9534139402560455 and parameters: {'classifier': 'RandomForest', 'n_estimators': 99, 'max_depth': 3, 'criterion': 'entropy', 'max_features': 'auto', 'min_samples_leaf': 8}. Best is trial 1 with value: 0.9534139402560455.\u001b[0m\n",
      "C:\\Users\\vaiv\\AppData\\Local\\Temp\\ipykernel_78776\\803344188.py:10: FutureWarning:\n",
      "\n",
      "suggest_loguniform has been deprecated in v3.0.0. This feature will be removed in v6.0.0. See https://github.com/optuna/optuna/releases/tag/v3.0.0. Use :func:`~optuna.trial.Trial.suggest_float` instead.\n",
      "\n",
      "\u001b[32m[I 2022-10-21 15:26:44,501]\u001b[0m Trial 2 finished with value: 0.4822190611664296 and parameters: {'classifier': 'SVC', 'C': 1.0662519807824087e-09, 'gamma': 'auto', 'kernel': 'rbf'}. Best is trial 1 with value: 0.9534139402560455.\u001b[0m\n",
      "C:\\Users\\vaiv\\AppData\\Local\\Temp\\ipykernel_78776\\803344188.py:10: FutureWarning:\n",
      "\n",
      "suggest_loguniform has been deprecated in v3.0.0. This feature will be removed in v6.0.0. See https://github.com/optuna/optuna/releases/tag/v3.0.0. Use :func:`~optuna.trial.Trial.suggest_float` instead.\n",
      "\n",
      "\u001b[32m[I 2022-10-21 15:26:44,514]\u001b[0m Trial 3 finished with value: 0.839615931721195 and parameters: {'classifier': 'SVC', 'C': 0.0014680240792573369, 'gamma': 'scale', 'kernel': 'poly'}. Best is trial 1 with value: 0.9534139402560455.\u001b[0m\n",
      "C:\\Users\\vaiv\\Documents\\Git\\ConvAE_LSTM\\.convAE_lstm\\lib\\site-packages\\sklearn\\ensemble\\_forest.py:427: FutureWarning:\n",
      "\n",
      "`max_features='auto'` has been deprecated in 1.1 and will be removed in 1.3. To keep the past behaviour, explicitly set `max_features='sqrt'` or remove this parameter as it is also the default value for RandomForestClassifiers and ExtraTreesClassifiers.\n",
      "\n",
      "C:\\Users\\vaiv\\Documents\\Git\\ConvAE_LSTM\\.convAE_lstm\\lib\\site-packages\\sklearn\\ensemble\\_forest.py:427: FutureWarning:\n",
      "\n",
      "`max_features='auto'` has been deprecated in 1.1 and will be removed in 1.3. To keep the past behaviour, explicitly set `max_features='sqrt'` or remove this parameter as it is also the default value for RandomForestClassifiers and ExtraTreesClassifiers.\n",
      "\n",
      "C:\\Users\\vaiv\\Documents\\Git\\ConvAE_LSTM\\.convAE_lstm\\lib\\site-packages\\sklearn\\ensemble\\_forest.py:427: FutureWarning:\n",
      "\n",
      "`max_features='auto'` has been deprecated in 1.1 and will be removed in 1.3. To keep the past behaviour, explicitly set `max_features='sqrt'` or remove this parameter as it is also the default value for RandomForestClassifiers and ExtraTreesClassifiers.\n",
      "\n",
      "C:\\Users\\vaiv\\Documents\\Git\\ConvAE_LSTM\\.convAE_lstm\\lib\\site-packages\\sklearn\\ensemble\\_forest.py:427: FutureWarning:\n",
      "\n",
      "`max_features='auto'` has been deprecated in 1.1 and will be removed in 1.3. To keep the past behaviour, explicitly set `max_features='sqrt'` or remove this parameter as it is also the default value for RandomForestClassifiers and ExtraTreesClassifiers.\n",
      "\n",
      "\u001b[32m[I 2022-10-21 15:26:45,017]\u001b[0m Trial 4 finished with value: 0.9466571834992887 and parameters: {'classifier': 'RandomForest', 'n_estimators': 91, 'max_depth': 4, 'criterion': 'gini', 'max_features': 'auto', 'min_samples_leaf': 7}. Best is trial 1 with value: 0.9534139402560455.\u001b[0m\n",
      "C:\\Users\\vaiv\\AppData\\Local\\Temp\\ipykernel_78776\\803344188.py:10: FutureWarning:\n",
      "\n",
      "suggest_loguniform has been deprecated in v3.0.0. This feature will be removed in v6.0.0. See https://github.com/optuna/optuna/releases/tag/v3.0.0. Use :func:`~optuna.trial.Trial.suggest_float` instead.\n",
      "\n",
      "\u001b[32m[I 2022-10-21 15:26:45,230]\u001b[0m Trial 5 finished with value: 0.9535917496443812 and parameters: {'classifier': 'SVC', 'C': 25868.533914367174, 'gamma': 'scale', 'kernel': 'poly'}. Best is trial 5 with value: 0.9535917496443812.\u001b[0m\n",
      "C:\\Users\\vaiv\\Documents\\Git\\ConvAE_LSTM\\.convAE_lstm\\lib\\site-packages\\sklearn\\ensemble\\_forest.py:427: FutureWarning:\n",
      "\n",
      "`max_features='auto'` has been deprecated in 1.1 and will be removed in 1.3. To keep the past behaviour, explicitly set `max_features='sqrt'` or remove this parameter as it is also the default value for RandomForestClassifiers and ExtraTreesClassifiers.\n",
      "\n",
      "C:\\Users\\vaiv\\Documents\\Git\\ConvAE_LSTM\\.convAE_lstm\\lib\\site-packages\\sklearn\\ensemble\\_forest.py:427: FutureWarning:\n",
      "\n",
      "`max_features='auto'` has been deprecated in 1.1 and will be removed in 1.3. To keep the past behaviour, explicitly set `max_features='sqrt'` or remove this parameter as it is also the default value for RandomForestClassifiers and ExtraTreesClassifiers.\n",
      "\n",
      "C:\\Users\\vaiv\\Documents\\Git\\ConvAE_LSTM\\.convAE_lstm\\lib\\site-packages\\sklearn\\ensemble\\_forest.py:427: FutureWarning:\n",
      "\n",
      "`max_features='auto'` has been deprecated in 1.1 and will be removed in 1.3. To keep the past behaviour, explicitly set `max_features='sqrt'` or remove this parameter as it is also the default value for RandomForestClassifiers and ExtraTreesClassifiers.\n",
      "\n"
     ]
    },
    {
     "name": "stderr",
     "output_type": "stream",
     "text": [
      "C:\\Users\\vaiv\\Documents\\Git\\ConvAE_LSTM\\.convAE_lstm\\lib\\site-packages\\sklearn\\ensemble\\_forest.py:427: FutureWarning:\n",
      "\n",
      "`max_features='auto'` has been deprecated in 1.1 and will be removed in 1.3. To keep the past behaviour, explicitly set `max_features='sqrt'` or remove this parameter as it is also the default value for RandomForestClassifiers and ExtraTreesClassifiers.\n",
      "\n",
      "\u001b[32m[I 2022-10-21 15:26:46,123]\u001b[0m Trial 6 finished with value: 0.9601706970128022 and parameters: {'classifier': 'RandomForest', 'n_estimators': 160, 'max_depth': 7, 'criterion': 'gini', 'max_features': 'auto', 'min_samples_leaf': 7}. Best is trial 6 with value: 0.9601706970128022.\u001b[0m\n",
      "C:\\Users\\vaiv\\Documents\\Git\\ConvAE_LSTM\\.convAE_lstm\\lib\\site-packages\\sklearn\\ensemble\\_forest.py:427: FutureWarning:\n",
      "\n",
      "`max_features='auto'` has been deprecated in 1.1 and will be removed in 1.3. To keep the past behaviour, explicitly set `max_features='sqrt'` or remove this parameter as it is also the default value for RandomForestClassifiers and ExtraTreesClassifiers.\n",
      "\n",
      "C:\\Users\\vaiv\\Documents\\Git\\ConvAE_LSTM\\.convAE_lstm\\lib\\site-packages\\sklearn\\ensemble\\_forest.py:427: FutureWarning:\n",
      "\n",
      "`max_features='auto'` has been deprecated in 1.1 and will be removed in 1.3. To keep the past behaviour, explicitly set `max_features='sqrt'` or remove this parameter as it is also the default value for RandomForestClassifiers and ExtraTreesClassifiers.\n",
      "\n",
      "C:\\Users\\vaiv\\Documents\\Git\\ConvAE_LSTM\\.convAE_lstm\\lib\\site-packages\\sklearn\\ensemble\\_forest.py:427: FutureWarning:\n",
      "\n",
      "`max_features='auto'` has been deprecated in 1.1 and will be removed in 1.3. To keep the past behaviour, explicitly set `max_features='sqrt'` or remove this parameter as it is also the default value for RandomForestClassifiers and ExtraTreesClassifiers.\n",
      "\n",
      "C:\\Users\\vaiv\\Documents\\Git\\ConvAE_LSTM\\.convAE_lstm\\lib\\site-packages\\sklearn\\ensemble\\_forest.py:427: FutureWarning:\n",
      "\n",
      "`max_features='auto'` has been deprecated in 1.1 and will be removed in 1.3. To keep the past behaviour, explicitly set `max_features='sqrt'` or remove this parameter as it is also the default value for RandomForestClassifiers and ExtraTreesClassifiers.\n",
      "\n",
      "\u001b[32m[I 2022-10-21 15:26:47,211]\u001b[0m Trial 7 finished with value: 0.9599928876244666 and parameters: {'classifier': 'RandomForest', 'n_estimators': 197, 'max_depth': 6, 'criterion': 'gini', 'max_features': 'auto', 'min_samples_leaf': 8}. Best is trial 6 with value: 0.9601706970128022.\u001b[0m\n",
      "\u001b[32m[I 2022-10-21 15:26:47,843]\u001b[0m Trial 8 finished with value: 0.9532361308677098 and parameters: {'classifier': 'RandomForest', 'n_estimators': 120, 'max_depth': 13, 'criterion': 'gini', 'max_features': 'sqrt', 'min_samples_leaf': 8}. Best is trial 6 with value: 0.9601706970128022.\u001b[0m\n",
      "C:\\Users\\vaiv\\Documents\\Git\\ConvAE_LSTM\\.convAE_lstm\\lib\\site-packages\\sklearn\\ensemble\\_forest.py:427: FutureWarning:\n",
      "\n",
      "`max_features='auto'` has been deprecated in 1.1 and will be removed in 1.3. To keep the past behaviour, explicitly set `max_features='sqrt'` or remove this parameter as it is also the default value for RandomForestClassifiers and ExtraTreesClassifiers.\n",
      "\n",
      "C:\\Users\\vaiv\\Documents\\Git\\ConvAE_LSTM\\.convAE_lstm\\lib\\site-packages\\sklearn\\ensemble\\_forest.py:427: FutureWarning:\n",
      "\n",
      "`max_features='auto'` has been deprecated in 1.1 and will be removed in 1.3. To keep the past behaviour, explicitly set `max_features='sqrt'` or remove this parameter as it is also the default value for RandomForestClassifiers and ExtraTreesClassifiers.\n",
      "\n",
      "C:\\Users\\vaiv\\Documents\\Git\\ConvAE_LSTM\\.convAE_lstm\\lib\\site-packages\\sklearn\\ensemble\\_forest.py:427: FutureWarning:\n",
      "\n",
      "`max_features='auto'` has been deprecated in 1.1 and will be removed in 1.3. To keep the past behaviour, explicitly set `max_features='sqrt'` or remove this parameter as it is also the default value for RandomForestClassifiers and ExtraTreesClassifiers.\n",
      "\n",
      "C:\\Users\\vaiv\\Documents\\Git\\ConvAE_LSTM\\.convAE_lstm\\lib\\site-packages\\sklearn\\ensemble\\_forest.py:427: FutureWarning:\n",
      "\n",
      "`max_features='auto'` has been deprecated in 1.1 and will be removed in 1.3. To keep the past behaviour, explicitly set `max_features='sqrt'` or remove this parameter as it is also the default value for RandomForestClassifiers and ExtraTreesClassifiers.\n",
      "\n",
      "\u001b[32m[I 2022-10-21 15:26:48,195]\u001b[0m Trial 9 finished with value: 0.9667496443812233 and parameters: {'classifier': 'RandomForest', 'n_estimators': 69, 'max_depth': 10, 'criterion': 'gini', 'max_features': 'auto', 'min_samples_leaf': 8}. Best is trial 9 with value: 0.9667496443812233.\u001b[0m\n",
      "C:\\Users\\vaiv\\AppData\\Local\\Temp\\ipykernel_78776\\803344188.py:10: FutureWarning:\n",
      "\n",
      "suggest_loguniform has been deprecated in v3.0.0. This feature will be removed in v6.0.0. See https://github.com/optuna/optuna/releases/tag/v3.0.0. Use :func:`~optuna.trial.Trial.suggest_float` instead.\n",
      "\n",
      "\u001b[32m[I 2022-10-21 15:26:48,728]\u001b[0m Trial 10 finished with value: 0.9731507823613087 and parameters: {'classifier': 'SVC', 'C': 7345999557.424511, 'gamma': 'auto', 'kernel': 'linear'}. Best is trial 10 with value: 0.9731507823613087.\u001b[0m\n",
      "C:\\Users\\vaiv\\AppData\\Local\\Temp\\ipykernel_78776\\803344188.py:10: FutureWarning:\n",
      "\n",
      "suggest_loguniform has been deprecated in v3.0.0. This feature will be removed in v6.0.0. See https://github.com/optuna/optuna/releases/tag/v3.0.0. Use :func:`~optuna.trial.Trial.suggest_float` instead.\n",
      "\n",
      "\u001b[32m[I 2022-10-21 15:26:49,259]\u001b[0m Trial 11 finished with value: 0.9731507823613087 and parameters: {'classifier': 'SVC', 'C': 3796337496.494793, 'gamma': 'auto', 'kernel': 'linear'}. Best is trial 10 with value: 0.9731507823613087.\u001b[0m\n",
      "C:\\Users\\vaiv\\AppData\\Local\\Temp\\ipykernel_78776\\803344188.py:10: FutureWarning:\n",
      "\n",
      "suggest_loguniform has been deprecated in v3.0.0. This feature will be removed in v6.0.0. See https://github.com/optuna/optuna/releases/tag/v3.0.0. Use :func:`~optuna.trial.Trial.suggest_float` instead.\n",
      "\n",
      "\u001b[32m[I 2022-10-21 15:26:49,723]\u001b[0m Trial 12 finished with value: 0.9731507823613087 and parameters: {'classifier': 'SVC', 'C': 461790713.8447702, 'gamma': 'auto', 'kernel': 'linear'}. Best is trial 10 with value: 0.9731507823613087.\u001b[0m\n",
      "C:\\Users\\vaiv\\AppData\\Local\\Temp\\ipykernel_78776\\803344188.py:10: FutureWarning:\n",
      "\n",
      "suggest_loguniform has been deprecated in v3.0.0. This feature will be removed in v6.0.0. See https://github.com/optuna/optuna/releases/tag/v3.0.0. Use :func:`~optuna.trial.Trial.suggest_float` instead.\n",
      "\n",
      "\u001b[32m[I 2022-10-21 15:26:50,314]\u001b[0m Trial 13 finished with value: 0.9731507823613087 and parameters: {'classifier': 'SVC', 'C': 9078158686.889553, 'gamma': 'auto', 'kernel': 'linear'}. Best is trial 10 with value: 0.9731507823613087.\u001b[0m\n",
      "C:\\Users\\vaiv\\AppData\\Local\\Temp\\ipykernel_78776\\803344188.py:10: FutureWarning:\n",
      "\n",
      "suggest_loguniform has been deprecated in v3.0.0. This feature will be removed in v6.0.0. See https://github.com/optuna/optuna/releases/tag/v3.0.0. Use :func:`~optuna.trial.Trial.suggest_float` instead.\n",
      "\n",
      "\u001b[32m[I 2022-10-21 15:26:50,338]\u001b[0m Trial 14 finished with value: 0.9731507823613087 and parameters: {'classifier': 'SVC', 'C': 11683.80560862525, 'gamma': 'auto', 'kernel': 'linear'}. Best is trial 10 with value: 0.9731507823613087.\u001b[0m\n",
      "C:\\Users\\vaiv\\AppData\\Local\\Temp\\ipykernel_78776\\803344188.py:10: FutureWarning:\n",
      "\n",
      "suggest_loguniform has been deprecated in v3.0.0. This feature will be removed in v6.0.0. See https://github.com/optuna/optuna/releases/tag/v3.0.0. Use :func:`~optuna.trial.Trial.suggest_float` instead.\n",
      "\n",
      "\u001b[32m[I 2022-10-21 15:26:50,772]\u001b[0m Trial 15 finished with value: 0.9731507823613087 and parameters: {'classifier': 'SVC', 'C': 4674517.965503305, 'gamma': 'auto', 'kernel': 'linear'}. Best is trial 10 with value: 0.9731507823613087.\u001b[0m\n",
      "C:\\Users\\vaiv\\AppData\\Local\\Temp\\ipykernel_78776\\803344188.py:10: FutureWarning:\n",
      "\n",
      "suggest_loguniform has been deprecated in v3.0.0. This feature will be removed in v6.0.0. See https://github.com/optuna/optuna/releases/tag/v3.0.0. Use :func:`~optuna.trial.Trial.suggest_float` instead.\n",
      "\n",
      "\u001b[32m[I 2022-10-21 15:26:50,785]\u001b[0m Trial 16 finished with value: 0.9733285917496444 and parameters: {'classifier': 'SVC', 'C': 1.4024112961488624, 'gamma': 'auto', 'kernel': 'linear'}. Best is trial 16 with value: 0.9733285917496444.\u001b[0m\n"
     ]
    },
    {
     "name": "stderr",
     "output_type": "stream",
     "text": [
      "C:\\Users\\vaiv\\AppData\\Local\\Temp\\ipykernel_78776\\803344188.py:10: FutureWarning:\n",
      "\n",
      "suggest_loguniform has been deprecated in v3.0.0. This feature will be removed in v6.0.0. See https://github.com/optuna/optuna/releases/tag/v3.0.0. Use :func:`~optuna.trial.Trial.suggest_float` instead.\n",
      "\n",
      "\u001b[32m[I 2022-10-21 15:26:50,802]\u001b[0m Trial 17 finished with value: 0.9665718349928876 and parameters: {'classifier': 'SVC', 'C': 0.9143910082970645, 'gamma': 'auto', 'kernel': 'rbf'}. Best is trial 16 with value: 0.9733285917496444.\u001b[0m\n",
      "C:\\Users\\vaiv\\AppData\\Local\\Temp\\ipykernel_78776\\803344188.py:10: FutureWarning:\n",
      "\n",
      "suggest_loguniform has been deprecated in v3.0.0. This feature will be removed in v6.0.0. See https://github.com/optuna/optuna/releases/tag/v3.0.0. Use :func:`~optuna.trial.Trial.suggest_float` instead.\n",
      "\n",
      "\u001b[32m[I 2022-10-21 15:26:50,819]\u001b[0m Trial 18 finished with value: 0.4822190611664296 and parameters: {'classifier': 'SVC', 'C': 3.946406831039078e-05, 'gamma': 'scale', 'kernel': 'linear'}. Best is trial 16 with value: 0.9733285917496444.\u001b[0m\n",
      "C:\\Users\\vaiv\\AppData\\Local\\Temp\\ipykernel_78776\\803344188.py:10: FutureWarning:\n",
      "\n",
      "suggest_loguniform has been deprecated in v3.0.0. This feature will be removed in v6.0.0. See https://github.com/optuna/optuna/releases/tag/v3.0.0. Use :func:`~optuna.trial.Trial.suggest_float` instead.\n",
      "\n",
      "\u001b[32m[I 2022-10-21 15:26:50,849]\u001b[0m Trial 19 finished with value: 0.9731507823613087 and parameters: {'classifier': 'SVC', 'C': 26821.468203424272, 'gamma': 'auto', 'kernel': 'linear'}. Best is trial 16 with value: 0.9733285917496444.\u001b[0m\n",
      "C:\\Users\\vaiv\\AppData\\Local\\Temp\\ipykernel_78776\\803344188.py:10: FutureWarning:\n",
      "\n",
      "suggest_loguniform has been deprecated in v3.0.0. This feature will be removed in v6.0.0. See https://github.com/optuna/optuna/releases/tag/v3.0.0. Use :func:`~optuna.trial.Trial.suggest_float` instead.\n",
      "\n",
      "\u001b[32m[I 2022-10-21 15:26:50,865]\u001b[0m Trial 20 finished with value: 0.9733285917496444 and parameters: {'classifier': 'SVC', 'C': 28.932176282074117, 'gamma': 'auto', 'kernel': 'linear'}. Best is trial 16 with value: 0.9733285917496444.\u001b[0m\n",
      "C:\\Users\\vaiv\\AppData\\Local\\Temp\\ipykernel_78776\\803344188.py:10: FutureWarning:\n",
      "\n",
      "suggest_loguniform has been deprecated in v3.0.0. This feature will be removed in v6.0.0. See https://github.com/optuna/optuna/releases/tag/v3.0.0. Use :func:`~optuna.trial.Trial.suggest_float` instead.\n",
      "\n",
      "\u001b[32m[I 2022-10-21 15:26:50,881]\u001b[0m Trial 21 finished with value: 0.9733285917496444 and parameters: {'classifier': 'SVC', 'C': 14.578724884550407, 'gamma': 'auto', 'kernel': 'linear'}. Best is trial 16 with value: 0.9733285917496444.\u001b[0m\n",
      "C:\\Users\\vaiv\\AppData\\Local\\Temp\\ipykernel_78776\\803344188.py:10: FutureWarning:\n",
      "\n",
      "suggest_loguniform has been deprecated in v3.0.0. This feature will be removed in v6.0.0. See https://github.com/optuna/optuna/releases/tag/v3.0.0. Use :func:`~optuna.trial.Trial.suggest_float` instead.\n",
      "\n",
      "\u001b[32m[I 2022-10-21 15:26:50,897]\u001b[0m Trial 22 finished with value: 0.9800853485064012 and parameters: {'classifier': 'SVC', 'C': 6.90215330917403, 'gamma': 'auto', 'kernel': 'linear'}. Best is trial 22 with value: 0.9800853485064012.\u001b[0m\n",
      "C:\\Users\\vaiv\\AppData\\Local\\Temp\\ipykernel_78776\\803344188.py:10: FutureWarning:\n",
      "\n",
      "suggest_loguniform has been deprecated in v3.0.0. This feature will be removed in v6.0.0. See https://github.com/optuna/optuna/releases/tag/v3.0.0. Use :func:`~optuna.trial.Trial.suggest_float` instead.\n",
      "\n",
      "\u001b[32m[I 2022-10-21 15:26:50,913]\u001b[0m Trial 23 finished with value: 0.9735064011379801 and parameters: {'classifier': 'SVC', 'C': 2.004262849171852, 'gamma': 'auto', 'kernel': 'linear'}. Best is trial 22 with value: 0.9800853485064012.\u001b[0m\n",
      "C:\\Users\\vaiv\\AppData\\Local\\Temp\\ipykernel_78776\\803344188.py:10: FutureWarning:\n",
      "\n",
      "suggest_loguniform has been deprecated in v3.0.0. This feature will be removed in v6.0.0. See https://github.com/optuna/optuna/releases/tag/v3.0.0. Use :func:`~optuna.trial.Trial.suggest_float` instead.\n",
      "\n",
      "\u001b[32m[I 2022-10-21 15:26:50,934]\u001b[0m Trial 24 finished with value: 0.4822190611664296 and parameters: {'classifier': 'SVC', 'C': 0.004548206726434655, 'gamma': 'auto', 'kernel': 'rbf'}. Best is trial 22 with value: 0.9800853485064012.\u001b[0m\n",
      "C:\\Users\\vaiv\\AppData\\Local\\Temp\\ipykernel_78776\\803344188.py:10: FutureWarning:\n",
      "\n",
      "suggest_loguniform has been deprecated in v3.0.0. This feature will be removed in v6.0.0. See https://github.com/optuna/optuna/releases/tag/v3.0.0. Use :func:`~optuna.trial.Trial.suggest_float` instead.\n",
      "\n",
      "\u001b[32m[I 2022-10-21 15:26:50,949]\u001b[0m Trial 25 finished with value: 0.9731507823613087 and parameters: {'classifier': 'SVC', 'C': 0.2787676382682115, 'gamma': 'auto', 'kernel': 'poly'}. Best is trial 22 with value: 0.9800853485064012.\u001b[0m\n",
      "C:\\Users\\vaiv\\AppData\\Local\\Temp\\ipykernel_78776\\803344188.py:10: FutureWarning:\n",
      "\n",
      "suggest_loguniform has been deprecated in v3.0.0. This feature will be removed in v6.0.0. See https://github.com/optuna/optuna/releases/tag/v3.0.0. Use :func:`~optuna.trial.Trial.suggest_float` instead.\n",
      "\n",
      "\u001b[32m[I 2022-10-21 15:26:50,965]\u001b[0m Trial 26 finished with value: 0.9799075391180655 and parameters: {'classifier': 'SVC', 'C': 389.3993163944699, 'gamma': 'scale', 'kernel': 'linear'}. Best is trial 22 with value: 0.9800853485064012.\u001b[0m\n",
      "C:\\Users\\vaiv\\AppData\\Local\\Temp\\ipykernel_78776\\803344188.py:10: FutureWarning:\n",
      "\n",
      "suggest_loguniform has been deprecated in v3.0.0. This feature will be removed in v6.0.0. See https://github.com/optuna/optuna/releases/tag/v3.0.0. Use :func:`~optuna.trial.Trial.suggest_float` instead.\n",
      "\n",
      "\u001b[32m[I 2022-10-21 15:26:50,986]\u001b[0m Trial 27 finished with value: 0.9731507823613087 and parameters: {'classifier': 'SVC', 'C': 1482.0835876469746, 'gamma': 'scale', 'kernel': 'linear'}. Best is trial 22 with value: 0.9800853485064012.\u001b[0m\n",
      "C:\\Users\\vaiv\\AppData\\Local\\Temp\\ipykernel_78776\\803344188.py:10: FutureWarning:\n",
      "\n",
      "suggest_loguniform has been deprecated in v3.0.0. This feature will be removed in v6.0.0. See https://github.com/optuna/optuna/releases/tag/v3.0.0. Use :func:`~optuna.trial.Trial.suggest_float` instead.\n",
      "\n",
      "\u001b[32m[I 2022-10-21 15:26:51,005]\u001b[0m Trial 28 finished with value: 0.4822190611664296 and parameters: {'classifier': 'SVC', 'C': 8.32417543124945e-06, 'gamma': 'scale', 'kernel': 'linear'}. Best is trial 22 with value: 0.9800853485064012.\u001b[0m\n",
      "C:\\Users\\vaiv\\AppData\\Local\\Temp\\ipykernel_78776\\803344188.py:10: FutureWarning:\n",
      "\n",
      "suggest_loguniform has been deprecated in v3.0.0. This feature will be removed in v6.0.0. See https://github.com/optuna/optuna/releases/tag/v3.0.0. Use :func:`~optuna.trial.Trial.suggest_float` instead.\n",
      "\n",
      "\u001b[32m[I 2022-10-21 15:26:51,025]\u001b[0m Trial 29 finished with value: 0.9799075391180655 and parameters: {'classifier': 'SVC', 'C': 216.6662190450784, 'gamma': 'scale', 'kernel': 'poly'}. Best is trial 22 with value: 0.9800853485064012.\u001b[0m\n",
      "C:\\Users\\vaiv\\AppData\\Local\\Temp\\ipykernel_78776\\803344188.py:10: FutureWarning:\n",
      "\n",
      "suggest_loguniform has been deprecated in v3.0.0. This feature will be removed in v6.0.0. See https://github.com/optuna/optuna/releases/tag/v3.0.0. Use :func:`~optuna.trial.Trial.suggest_float` instead.\n",
      "\n",
      "\u001b[32m[I 2022-10-21 15:26:51,047]\u001b[0m Trial 30 finished with value: 0.9799075391180655 and parameters: {'classifier': 'SVC', 'C': 193.47281539233833, 'gamma': 'scale', 'kernel': 'poly'}. Best is trial 22 with value: 0.9800853485064012.\u001b[0m\n",
      "C:\\Users\\vaiv\\AppData\\Local\\Temp\\ipykernel_78776\\803344188.py:10: FutureWarning:\n",
      "\n",
      "suggest_loguniform has been deprecated in v3.0.0. This feature will be removed in v6.0.0. See https://github.com/optuna/optuna/releases/tag/v3.0.0. Use :func:`~optuna.trial.Trial.suggest_float` instead.\n",
      "\n",
      "\u001b[32m[I 2022-10-21 15:26:51,067]\u001b[0m Trial 31 finished with value: 0.9799075391180655 and parameters: {'classifier': 'SVC', 'C': 332.6178408270899, 'gamma': 'scale', 'kernel': 'poly'}. Best is trial 22 with value: 0.9800853485064012.\u001b[0m\n",
      "C:\\Users\\vaiv\\AppData\\Local\\Temp\\ipykernel_78776\\803344188.py:10: FutureWarning:\n",
      "\n",
      "suggest_loguniform has been deprecated in v3.0.0. This feature will be removed in v6.0.0. See https://github.com/optuna/optuna/releases/tag/v3.0.0. Use :func:`~optuna.trial.Trial.suggest_float` instead.\n",
      "\n",
      "\u001b[32m[I 2022-10-21 15:26:51,473]\u001b[0m Trial 32 finished with value: 0.9535917496443812 and parameters: {'classifier': 'SVC', 'C': 3368741.8643077197, 'gamma': 'scale', 'kernel': 'poly'}. Best is trial 22 with value: 0.9800853485064012.\u001b[0m\n"
     ]
    },
    {
     "name": "stderr",
     "output_type": "stream",
     "text": [
      "C:\\Users\\vaiv\\AppData\\Local\\Temp\\ipykernel_78776\\803344188.py:10: FutureWarning:\n",
      "\n",
      "suggest_loguniform has been deprecated in v3.0.0. This feature will be removed in v6.0.0. See https://github.com/optuna/optuna/releases/tag/v3.0.0. Use :func:`~optuna.trial.Trial.suggest_float` instead.\n",
      "\n",
      "\u001b[32m[I 2022-10-21 15:26:51,880]\u001b[0m Trial 33 finished with value: 0.9535917496443812 and parameters: {'classifier': 'SVC', 'C': 1018540.4038686302, 'gamma': 'scale', 'kernel': 'poly'}. Best is trial 22 with value: 0.9800853485064012.\u001b[0m\n",
      "C:\\Users\\vaiv\\AppData\\Local\\Temp\\ipykernel_78776\\803344188.py:10: FutureWarning:\n",
      "\n",
      "suggest_loguniform has been deprecated in v3.0.0. This feature will be removed in v6.0.0. See https://github.com/optuna/optuna/releases/tag/v3.0.0. Use :func:`~optuna.trial.Trial.suggest_float` instead.\n",
      "\n",
      "\u001b[32m[I 2022-10-21 15:26:51,899]\u001b[0m Trial 34 finished with value: 0.9799075391180655 and parameters: {'classifier': 'SVC', 'C': 162.2580276364283, 'gamma': 'scale', 'kernel': 'poly'}. Best is trial 22 with value: 0.9800853485064012.\u001b[0m\n",
      "\u001b[32m[I 2022-10-21 15:26:51,983]\u001b[0m Trial 35 finished with value: 0.9532361308677098 and parameters: {'classifier': 'RandomForest', 'n_estimators': 11, 'max_depth': 15, 'criterion': 'entropy', 'max_features': 'sqrt', 'min_samples_leaf': 4}. Best is trial 22 with value: 0.9800853485064012.\u001b[0m\n",
      "C:\\Users\\vaiv\\AppData\\Local\\Temp\\ipykernel_78776\\803344188.py:10: FutureWarning:\n",
      "\n",
      "suggest_loguniform has been deprecated in v3.0.0. This feature will be removed in v6.0.0. See https://github.com/optuna/optuna/releases/tag/v3.0.0. Use :func:`~optuna.trial.Trial.suggest_float` instead.\n",
      "\n",
      "\u001b[32m[I 2022-10-21 15:26:52,017]\u001b[0m Trial 36 finished with value: 0.9667496443812233 and parameters: {'classifier': 'SVC', 'C': 1429.1209979906646, 'gamma': 'scale', 'kernel': 'poly'}. Best is trial 22 with value: 0.9800853485064012.\u001b[0m\n",
      "C:\\Users\\vaiv\\AppData\\Local\\Temp\\ipykernel_78776\\803344188.py:10: FutureWarning:\n",
      "\n",
      "suggest_loguniform has been deprecated in v3.0.0. This feature will be removed in v6.0.0. See https://github.com/optuna/optuna/releases/tag/v3.0.0. Use :func:`~optuna.trial.Trial.suggest_float` instead.\n",
      "\n",
      "\u001b[32m[I 2022-10-21 15:26:52,035]\u001b[0m Trial 37 finished with value: 0.8998933143669986 and parameters: {'classifier': 'SVC', 'C': 0.013003749172947804, 'gamma': 'scale', 'kernel': 'poly'}. Best is trial 22 with value: 0.9800853485064012.\u001b[0m\n",
      "\u001b[32m[I 2022-10-21 15:26:52,229]\u001b[0m Trial 38 finished with value: 0.9667496443812233 and parameters: {'classifier': 'RandomForest', 'n_estimators': 30, 'max_depth': 11, 'criterion': 'entropy', 'max_features': 'sqrt', 'min_samples_leaf': 4}. Best is trial 22 with value: 0.9800853485064012.\u001b[0m\n",
      "C:\\Users\\vaiv\\AppData\\Local\\Temp\\ipykernel_78776\\803344188.py:10: FutureWarning:\n",
      "\n",
      "suggest_loguniform has been deprecated in v3.0.0. This feature will be removed in v6.0.0. See https://github.com/optuna/optuna/releases/tag/v3.0.0. Use :func:`~optuna.trial.Trial.suggest_float` instead.\n",
      "\n",
      "\u001b[32m[I 2022-10-21 15:26:52,247]\u001b[0m Trial 39 finished with value: 0.9799075391180654 and parameters: {'classifier': 'SVC', 'C': 0.08757319516401244, 'gamma': 'scale', 'kernel': 'poly'}. Best is trial 22 with value: 0.9800853485064012.\u001b[0m\n",
      "\u001b[32m[I 2022-10-21 15:26:52,557]\u001b[0m Trial 40 finished with value: 0.9466571834992887 and parameters: {'classifier': 'RandomForest', 'n_estimators': 53, 'max_depth': 15, 'criterion': 'entropy', 'max_features': 'sqrt', 'min_samples_leaf': 5}. Best is trial 22 with value: 0.9800853485064012.\u001b[0m\n",
      "C:\\Users\\vaiv\\AppData\\Local\\Temp\\ipykernel_78776\\803344188.py:10: FutureWarning:\n",
      "\n",
      "suggest_loguniform has been deprecated in v3.0.0. This feature will be removed in v6.0.0. See https://github.com/optuna/optuna/releases/tag/v3.0.0. Use :func:`~optuna.trial.Trial.suggest_float` instead.\n",
      "\n",
      "\u001b[32m[I 2022-10-21 15:26:52,578]\u001b[0m Trial 41 finished with value: 0.42816500711237554 and parameters: {'classifier': 'SVC', 'C': 2.0112371598631355e-10, 'gamma': 'scale', 'kernel': 'poly'}. Best is trial 22 with value: 0.9800853485064012.\u001b[0m\n",
      "C:\\Users\\vaiv\\AppData\\Local\\Temp\\ipykernel_78776\\803344188.py:10: FutureWarning:\n",
      "\n",
      "suggest_loguniform has been deprecated in v3.0.0. This feature will be removed in v6.0.0. See https://github.com/optuna/optuna/releases/tag/v3.0.0. Use :func:`~optuna.trial.Trial.suggest_float` instead.\n",
      "\n",
      "\u001b[32m[I 2022-10-21 15:26:52,597]\u001b[0m Trial 42 finished with value: 0.966394025604552 and parameters: {'classifier': 'SVC', 'C': 340.4258944203381, 'gamma': 'scale', 'kernel': 'rbf'}. Best is trial 22 with value: 0.9800853485064012.\u001b[0m\n",
      "C:\\Users\\vaiv\\AppData\\Local\\Temp\\ipykernel_78776\\803344188.py:10: FutureWarning:\n",
      "\n",
      "suggest_loguniform has been deprecated in v3.0.0. This feature will be removed in v6.0.0. See https://github.com/optuna/optuna/releases/tag/v3.0.0. Use :func:`~optuna.trial.Trial.suggest_float` instead.\n",
      "\n",
      "\u001b[32m[I 2022-10-21 15:26:52,615]\u001b[0m Trial 43 finished with value: 0.966394025604552 and parameters: {'classifier': 'SVC', 'C': 26.990761393576285, 'gamma': 'scale', 'kernel': 'poly'}. Best is trial 22 with value: 0.9800853485064012.\u001b[0m\n",
      "C:\\Users\\vaiv\\AppData\\Local\\Temp\\ipykernel_78776\\803344188.py:10: FutureWarning:\n",
      "\n",
      "suggest_loguniform has been deprecated in v3.0.0. This feature will be removed in v6.0.0. See https://github.com/optuna/optuna/releases/tag/v3.0.0. Use :func:`~optuna.trial.Trial.suggest_float` instead.\n",
      "\n",
      "\u001b[32m[I 2022-10-21 15:26:53,039]\u001b[0m Trial 44 finished with value: 0.9535917496443812 and parameters: {'classifier': 'SVC', 'C': 242429.12573035265, 'gamma': 'scale', 'kernel': 'poly'}. Best is trial 22 with value: 0.9800853485064012.\u001b[0m\n",
      "C:\\Users\\vaiv\\AppData\\Local\\Temp\\ipykernel_78776\\803344188.py:10: FutureWarning:\n",
      "\n",
      "suggest_loguniform has been deprecated in v3.0.0. This feature will be removed in v6.0.0. See https://github.com/optuna/optuna/releases/tag/v3.0.0. Use :func:`~optuna.trial.Trial.suggest_float` instead.\n",
      "\n",
      "\u001b[32m[I 2022-10-21 15:26:53,058]\u001b[0m Trial 45 finished with value: 0.9731507823613087 and parameters: {'classifier': 'SVC', 'C': 51.37118729124969, 'gamma': 'scale', 'kernel': 'poly'}. Best is trial 22 with value: 0.9800853485064012.\u001b[0m\n",
      "C:\\Users\\vaiv\\AppData\\Local\\Temp\\ipykernel_78776\\803344188.py:10: FutureWarning:\n",
      "\n",
      "suggest_loguniform has been deprecated in v3.0.0. This feature will be removed in v6.0.0. See https://github.com/optuna/optuna/releases/tag/v3.0.0. Use :func:`~optuna.trial.Trial.suggest_float` instead.\n",
      "\n",
      "\u001b[32m[I 2022-10-21 15:26:53,172]\u001b[0m Trial 46 finished with value: 0.9470128022759602 and parameters: {'classifier': 'SVC', 'C': 15652.82798203192, 'gamma': 'scale', 'kernel': 'poly'}. Best is trial 22 with value: 0.9800853485064012.\u001b[0m\n",
      "\u001b[32m[I 2022-10-21 15:26:54,006]\u001b[0m Trial 47 finished with value: 0.9466571834992887 and parameters: {'classifier': 'RandomForest', 'n_estimators': 140, 'max_depth': 8, 'criterion': 'entropy', 'max_features': 'sqrt', 'min_samples_leaf': 5}. Best is trial 22 with value: 0.9800853485064012.\u001b[0m\n",
      "C:\\Users\\vaiv\\AppData\\Local\\Temp\\ipykernel_78776\\803344188.py:10: FutureWarning:\n",
      "\n",
      "suggest_loguniform has been deprecated in v3.0.0. This feature will be removed in v6.0.0. See https://github.com/optuna/optuna/releases/tag/v3.0.0. Use :func:`~optuna.trial.Trial.suggest_float` instead.\n",
      "\n",
      "\u001b[32m[I 2022-10-21 15:26:54,023]\u001b[0m Trial 48 finished with value: 0.9799075391180655 and parameters: {'classifier': 'SVC', 'C': 118.14714300865634, 'gamma': 'scale', 'kernel': 'poly'}. Best is trial 22 with value: 0.9800853485064012.\u001b[0m\n",
      "C:\\Users\\vaiv\\AppData\\Local\\Temp\\ipykernel_78776\\803344188.py:10: FutureWarning:\n",
      "\n",
      "suggest_loguniform has been deprecated in v3.0.0. This feature will be removed in v6.0.0. See https://github.com/optuna/optuna/releases/tag/v3.0.0. Use :func:`~optuna.trial.Trial.suggest_float` instead.\n",
      "\n",
      "\u001b[32m[I 2022-10-21 15:26:54,041]\u001b[0m Trial 49 finished with value: 0.560099573257468 and parameters: {'classifier': 'SVC', 'C': 0.0005075861622319404, 'gamma': 'scale', 'kernel': 'poly'}. Best is trial 22 with value: 0.9800853485064012.\u001b[0m\n",
      "C:\\Users\\vaiv\\AppData\\Local\\Temp\\ipykernel_78776\\803344188.py:10: FutureWarning:\n",
      "\n",
      "suggest_loguniform has been deprecated in v3.0.0. This feature will be removed in v6.0.0. See https://github.com/optuna/optuna/releases/tag/v3.0.0. Use :func:`~optuna.trial.Trial.suggest_float` instead.\n",
      "\n",
      "\u001b[32m[I 2022-10-21 15:26:54,084]\u001b[0m Trial 50 finished with value: 0.9667496443812233 and parameters: {'classifier': 'SVC', 'C': 4202.520810796518, 'gamma': 'scale', 'kernel': 'poly'}. Best is trial 22 with value: 0.9800853485064012.\u001b[0m\n"
     ]
    },
    {
     "name": "stderr",
     "output_type": "stream",
     "text": [
      "C:\\Users\\vaiv\\AppData\\Local\\Temp\\ipykernel_78776\\803344188.py:10: FutureWarning:\n",
      "\n",
      "suggest_loguniform has been deprecated in v3.0.0. This feature will be removed in v6.0.0. See https://github.com/optuna/optuna/releases/tag/v3.0.0. Use :func:`~optuna.trial.Trial.suggest_float` instead.\n",
      "\n",
      "\u001b[32m[I 2022-10-21 15:26:54,105]\u001b[0m Trial 51 finished with value: 0.9799075391180655 and parameters: {'classifier': 'SVC', 'C': 143.75089150159286, 'gamma': 'scale', 'kernel': 'poly'}. Best is trial 22 with value: 0.9800853485064012.\u001b[0m\n",
      "C:\\Users\\vaiv\\AppData\\Local\\Temp\\ipykernel_78776\\803344188.py:10: FutureWarning:\n",
      "\n",
      "suggest_loguniform has been deprecated in v3.0.0. This feature will be removed in v6.0.0. See https://github.com/optuna/optuna/releases/tag/v3.0.0. Use :func:`~optuna.trial.Trial.suggest_float` instead.\n",
      "\n",
      "\u001b[32m[I 2022-10-21 15:26:54,122]\u001b[0m Trial 52 finished with value: 0.9733285917496444 and parameters: {'classifier': 'SVC', 'C': 5.272278433657963, 'gamma': 'scale', 'kernel': 'poly'}. Best is trial 22 with value: 0.9800853485064012.\u001b[0m\n",
      "C:\\Users\\vaiv\\AppData\\Local\\Temp\\ipykernel_78776\\803344188.py:10: FutureWarning:\n",
      "\n",
      "suggest_loguniform has been deprecated in v3.0.0. This feature will be removed in v6.0.0. See https://github.com/optuna/optuna/releases/tag/v3.0.0. Use :func:`~optuna.trial.Trial.suggest_float` instead.\n",
      "\n",
      "\u001b[32m[I 2022-10-21 15:26:54,357]\u001b[0m Trial 53 finished with value: 0.9535917496443812 and parameters: {'classifier': 'SVC', 'C': 76167.29893055031, 'gamma': 'scale', 'kernel': 'poly'}. Best is trial 22 with value: 0.9800853485064012.\u001b[0m\n",
      "C:\\Users\\vaiv\\AppData\\Local\\Temp\\ipykernel_78776\\803344188.py:10: FutureWarning:\n",
      "\n",
      "suggest_loguniform has been deprecated in v3.0.0. This feature will be removed in v6.0.0. See https://github.com/optuna/optuna/releases/tag/v3.0.0. Use :func:`~optuna.trial.Trial.suggest_float` instead.\n",
      "\n",
      "\u001b[32m[I 2022-10-21 15:26:54,376]\u001b[0m Trial 54 finished with value: 0.966394025604552 and parameters: {'classifier': 'SVC', 'C': 1225.7144357299187, 'gamma': 'scale', 'kernel': 'rbf'}. Best is trial 22 with value: 0.9800853485064012.\u001b[0m\n",
      "C:\\Users\\vaiv\\AppData\\Local\\Temp\\ipykernel_78776\\803344188.py:10: FutureWarning:\n",
      "\n",
      "suggest_loguniform has been deprecated in v3.0.0. This feature will be removed in v6.0.0. See https://github.com/optuna/optuna/releases/tag/v3.0.0. Use :func:`~optuna.trial.Trial.suggest_float` instead.\n",
      "\n",
      "\u001b[32m[I 2022-10-21 15:26:54,755]\u001b[0m Trial 55 finished with value: 0.9535917496443812 and parameters: {'classifier': 'SVC', 'C': 31486904.528819393, 'gamma': 'scale', 'kernel': 'poly'}. Best is trial 22 with value: 0.9800853485064012.\u001b[0m\n",
      "C:\\Users\\vaiv\\AppData\\Local\\Temp\\ipykernel_78776\\803344188.py:10: FutureWarning:\n",
      "\n",
      "suggest_loguniform has been deprecated in v3.0.0. This feature will be removed in v6.0.0. See https://github.com/optuna/optuna/releases/tag/v3.0.0. Use :func:`~optuna.trial.Trial.suggest_float` instead.\n",
      "\n",
      "\u001b[32m[I 2022-10-21 15:26:54,772]\u001b[0m Trial 56 finished with value: 0.9731507823613088 and parameters: {'classifier': 'SVC', 'C': 0.075543692918717, 'gamma': 'scale', 'kernel': 'poly'}. Best is trial 22 with value: 0.9800853485064012.\u001b[0m\n",
      "\u001b[32m[I 2022-10-21 15:26:55,540]\u001b[0m Trial 57 finished with value: 0.9534139402560455 and parameters: {'classifier': 'RandomForest', 'n_estimators': 159, 'max_depth': 12, 'criterion': 'entropy', 'max_features': 'sqrt', 'min_samples_leaf': 6}. Best is trial 22 with value: 0.9800853485064012.\u001b[0m\n",
      "C:\\Users\\vaiv\\AppData\\Local\\Temp\\ipykernel_78776\\803344188.py:10: FutureWarning:\n",
      "\n",
      "suggest_loguniform has been deprecated in v3.0.0. This feature will be removed in v6.0.0. See https://github.com/optuna/optuna/releases/tag/v3.0.0. Use :func:`~optuna.trial.Trial.suggest_float` instead.\n",
      "\n",
      "\u001b[32m[I 2022-10-21 15:26:55,560]\u001b[0m Trial 58 finished with value: 0.9799075391180655 and parameters: {'classifier': 'SVC', 'C': 168.6381725044513, 'gamma': 'scale', 'kernel': 'poly'}. Best is trial 22 with value: 0.9800853485064012.\u001b[0m\n",
      "C:\\Users\\vaiv\\AppData\\Local\\Temp\\ipykernel_78776\\803344188.py:10: FutureWarning:\n",
      "\n",
      "suggest_loguniform has been deprecated in v3.0.0. This feature will be removed in v6.0.0. See https://github.com/optuna/optuna/releases/tag/v3.0.0. Use :func:`~optuna.trial.Trial.suggest_float` instead.\n",
      "\n",
      "\u001b[32m[I 2022-10-21 15:26:55,583]\u001b[0m Trial 59 finished with value: 0.42816500711237554 and parameters: {'classifier': 'SVC', 'C': 6.28127659567755e-08, 'gamma': 'scale', 'kernel': 'poly'}. Best is trial 22 with value: 0.9800853485064012.\u001b[0m\n",
      "C:\\Users\\vaiv\\AppData\\Local\\Temp\\ipykernel_78776\\803344188.py:10: FutureWarning:\n",
      "\n",
      "suggest_loguniform has been deprecated in v3.0.0. This feature will be removed in v6.0.0. See https://github.com/optuna/optuna/releases/tag/v3.0.0. Use :func:`~optuna.trial.Trial.suggest_float` instead.\n",
      "\n",
      "\u001b[32m[I 2022-10-21 15:26:55,604]\u001b[0m Trial 60 finished with value: 0.9799075391180655 and parameters: {'classifier': 'SVC', 'C': 4.389904730398374, 'gamma': 'auto', 'kernel': 'poly'}. Best is trial 22 with value: 0.9800853485064012.\u001b[0m\n",
      "C:\\Users\\vaiv\\AppData\\Local\\Temp\\ipykernel_78776\\803344188.py:10: FutureWarning:\n",
      "\n",
      "suggest_loguniform has been deprecated in v3.0.0. This feature will be removed in v6.0.0. See https://github.com/optuna/optuna/releases/tag/v3.0.0. Use :func:`~optuna.trial.Trial.suggest_float` instead.\n",
      "\n",
      "\u001b[32m[I 2022-10-21 15:26:55,627]\u001b[0m Trial 61 finished with value: 0.9799075391180655 and parameters: {'classifier': 'SVC', 'C': 116.17932754674209, 'gamma': 'scale', 'kernel': 'poly'}. Best is trial 22 with value: 0.9800853485064012.\u001b[0m\n",
      "C:\\Users\\vaiv\\AppData\\Local\\Temp\\ipykernel_78776\\803344188.py:10: FutureWarning:\n",
      "\n",
      "suggest_loguniform has been deprecated in v3.0.0. This feature will be removed in v6.0.0. See https://github.com/optuna/optuna/releases/tag/v3.0.0. Use :func:`~optuna.trial.Trial.suggest_float` instead.\n",
      "\n",
      "\u001b[32m[I 2022-10-21 15:26:55,646]\u001b[0m Trial 62 finished with value: 0.9731507823613087 and parameters: {'classifier': 'SVC', 'C': 44.0183361781605, 'gamma': 'scale', 'kernel': 'poly'}. Best is trial 22 with value: 0.9800853485064012.\u001b[0m\n",
      "C:\\Users\\vaiv\\AppData\\Local\\Temp\\ipykernel_78776\\803344188.py:10: FutureWarning:\n",
      "\n",
      "suggest_loguniform has been deprecated in v3.0.0. This feature will be removed in v6.0.0. See https://github.com/optuna/optuna/releases/tag/v3.0.0. Use :func:`~optuna.trial.Trial.suggest_float` instead.\n",
      "\n",
      "\u001b[32m[I 2022-10-21 15:26:55,667]\u001b[0m Trial 63 finished with value: 0.9731507823613087 and parameters: {'classifier': 'SVC', 'C': 648.0141276451881, 'gamma': 'scale', 'kernel': 'linear'}. Best is trial 22 with value: 0.9800853485064012.\u001b[0m\n",
      "C:\\Users\\vaiv\\AppData\\Local\\Temp\\ipykernel_78776\\803344188.py:10: FutureWarning:\n",
      "\n",
      "suggest_loguniform has been deprecated in v3.0.0. This feature will be removed in v6.0.0. See https://github.com/optuna/optuna/releases/tag/v3.0.0. Use :func:`~optuna.trial.Trial.suggest_float` instead.\n",
      "\n",
      "\u001b[32m[I 2022-10-21 15:26:55,686]\u001b[0m Trial 64 finished with value: 0.9731507823613087 and parameters: {'classifier': 'SVC', 'C': 3384.2070980669537, 'gamma': 'scale', 'kernel': 'linear'}. Best is trial 22 with value: 0.9800853485064012.\u001b[0m\n",
      "C:\\Users\\vaiv\\AppData\\Local\\Temp\\ipykernel_78776\\803344188.py:10: FutureWarning:\n",
      "\n",
      "suggest_loguniform has been deprecated in v3.0.0. This feature will be removed in v6.0.0. See https://github.com/optuna/optuna/releases/tag/v3.0.0. Use :func:`~optuna.trial.Trial.suggest_float` instead.\n",
      "\n",
      "\u001b[32m[I 2022-10-21 15:26:55,704]\u001b[0m Trial 65 finished with value: 0.9733285917496444 and parameters: {'classifier': 'SVC', 'C': 1.3970316494286006, 'gamma': 'auto', 'kernel': 'linear'}. Best is trial 22 with value: 0.9800853485064012.\u001b[0m\n",
      "C:\\Users\\vaiv\\AppData\\Local\\Temp\\ipykernel_78776\\803344188.py:10: FutureWarning:\n",
      "\n",
      "suggest_loguniform has been deprecated in v3.0.0. This feature will be removed in v6.0.0. See https://github.com/optuna/optuna/releases/tag/v3.0.0. Use :func:`~optuna.trial.Trial.suggest_float` instead.\n",
      "\n",
      "\u001b[32m[I 2022-10-21 15:26:55,725]\u001b[0m Trial 66 finished with value: 0.9799075391180655 and parameters: {'classifier': 'SVC', 'C': 4.383273963530694, 'gamma': 'auto', 'kernel': 'poly'}. Best is trial 22 with value: 0.9800853485064012.\u001b[0m\n",
      "C:\\Users\\vaiv\\AppData\\Local\\Temp\\ipykernel_78776\\803344188.py:10: FutureWarning:\n",
      "\n",
      "suggest_loguniform has been deprecated in v3.0.0. This feature will be removed in v6.0.0. See https://github.com/optuna/optuna/releases/tag/v3.0.0. Use :func:`~optuna.trial.Trial.suggest_float` instead.\n",
      "\n",
      "\u001b[32m[I 2022-10-21 15:26:55,746]\u001b[0m Trial 67 finished with value: 0.9263869132290186 and parameters: {'classifier': 'SVC', 'C': 67569.29183236566, 'gamma': 'scale', 'kernel': 'rbf'}. Best is trial 22 with value: 0.9800853485064012.\u001b[0m\n"
     ]
    },
    {
     "name": "stderr",
     "output_type": "stream",
     "text": [
      "C:\\Users\\vaiv\\AppData\\Local\\Temp\\ipykernel_78776\\803344188.py:10: FutureWarning:\n",
      "\n",
      "suggest_loguniform has been deprecated in v3.0.0. This feature will be removed in v6.0.0. See https://github.com/optuna/optuna/releases/tag/v3.0.0. Use :func:`~optuna.trial.Trial.suggest_float` instead.\n",
      "\n",
      "\u001b[32m[I 2022-10-21 15:26:55,765]\u001b[0m Trial 68 finished with value: 0.9665718349928876 and parameters: {'classifier': 'SVC', 'C': 0.3202562859457811, 'gamma': 'auto', 'kernel': 'linear'}. Best is trial 22 with value: 0.9800853485064012.\u001b[0m\n",
      "C:\\Users\\vaiv\\AppData\\Local\\Temp\\ipykernel_78776\\803344188.py:10: FutureWarning:\n",
      "\n",
      "suggest_loguniform has been deprecated in v3.0.0. This feature will be removed in v6.0.0. See https://github.com/optuna/optuna/releases/tag/v3.0.0. Use :func:`~optuna.trial.Trial.suggest_float` instead.\n",
      "\n",
      "\u001b[32m[I 2022-10-21 15:26:55,790]\u001b[0m Trial 69 finished with value: 0.9733285917496444 and parameters: {'classifier': 'SVC', 'C': 12.883984956925183, 'gamma': 'auto', 'kernel': 'poly'}. Best is trial 22 with value: 0.9800853485064012.\u001b[0m\n",
      "\u001b[32m[I 2022-10-21 15:26:56,092]\u001b[0m Trial 70 finished with value: 0.9599928876244666 and parameters: {'classifier': 'RandomForest', 'n_estimators': 61, 'max_depth': 9, 'criterion': 'entropy', 'max_features': 'sqrt', 'min_samples_leaf': 5}. Best is trial 22 with value: 0.9800853485064012.\u001b[0m\n",
      "C:\\Users\\vaiv\\AppData\\Local\\Temp\\ipykernel_78776\\803344188.py:10: FutureWarning:\n",
      "\n",
      "suggest_loguniform has been deprecated in v3.0.0. This feature will be removed in v6.0.0. See https://github.com/optuna/optuna/releases/tag/v3.0.0. Use :func:`~optuna.trial.Trial.suggest_float` instead.\n",
      "\n",
      "\u001b[32m[I 2022-10-21 15:26:56,111]\u001b[0m Trial 71 finished with value: 0.9799075391180655 and parameters: {'classifier': 'SVC', 'C': 171.30161925361506, 'gamma': 'scale', 'kernel': 'poly'}. Best is trial 22 with value: 0.9800853485064012.\u001b[0m\n",
      "C:\\Users\\vaiv\\AppData\\Local\\Temp\\ipykernel_78776\\803344188.py:10: FutureWarning:\n",
      "\n",
      "suggest_loguniform has been deprecated in v3.0.0. This feature will be removed in v6.0.0. See https://github.com/optuna/optuna/releases/tag/v3.0.0. Use :func:`~optuna.trial.Trial.suggest_float` instead.\n",
      "\n",
      "\u001b[32m[I 2022-10-21 15:26:56,129]\u001b[0m Trial 72 finished with value: 0.9800853485064012 and parameters: {'classifier': 'SVC', 'C': 5.280317680574019, 'gamma': 'auto', 'kernel': 'linear'}. Best is trial 22 with value: 0.9800853485064012.\u001b[0m\n",
      "C:\\Users\\vaiv\\AppData\\Local\\Temp\\ipykernel_78776\\803344188.py:10: FutureWarning:\n",
      "\n",
      "suggest_loguniform has been deprecated in v3.0.0. This feature will be removed in v6.0.0. See https://github.com/optuna/optuna/releases/tag/v3.0.0. Use :func:`~optuna.trial.Trial.suggest_float` instead.\n",
      "\n",
      "\u001b[32m[I 2022-10-21 15:26:56,147]\u001b[0m Trial 73 finished with value: 0.9800853485064012 and parameters: {'classifier': 'SVC', 'C': 7.547189760771063, 'gamma': 'auto', 'kernel': 'linear'}. Best is trial 22 with value: 0.9800853485064012.\u001b[0m\n",
      "C:\\Users\\vaiv\\AppData\\Local\\Temp\\ipykernel_78776\\803344188.py:10: FutureWarning:\n",
      "\n",
      "suggest_loguniform has been deprecated in v3.0.0. This feature will be removed in v6.0.0. See https://github.com/optuna/optuna/releases/tag/v3.0.0. Use :func:`~optuna.trial.Trial.suggest_float` instead.\n",
      "\n",
      "\u001b[32m[I 2022-10-21 15:26:56,166]\u001b[0m Trial 74 finished with value: 0.9665718349928876 and parameters: {'classifier': 'SVC', 'C': 0.3470450181341024, 'gamma': 'auto', 'kernel': 'linear'}. Best is trial 22 with value: 0.9800853485064012.\u001b[0m\n",
      "C:\\Users\\vaiv\\AppData\\Local\\Temp\\ipykernel_78776\\803344188.py:10: FutureWarning:\n",
      "\n",
      "suggest_loguniform has been deprecated in v3.0.0. This feature will be removed in v6.0.0. See https://github.com/optuna/optuna/releases/tag/v3.0.0. Use :func:`~optuna.trial.Trial.suggest_float` instead.\n",
      "\n",
      "\u001b[32m[I 2022-10-21 15:26:56,199]\u001b[0m Trial 75 finished with value: 0.9731507823613087 and parameters: {'classifier': 'SVC', 'C': 5884.5917085574265, 'gamma': 'auto', 'kernel': 'linear'}. Best is trial 22 with value: 0.9800853485064012.\u001b[0m\n",
      "C:\\Users\\vaiv\\AppData\\Local\\Temp\\ipykernel_78776\\803344188.py:10: FutureWarning:\n",
      "\n",
      "suggest_loguniform has been deprecated in v3.0.0. This feature will be removed in v6.0.0. See https://github.com/optuna/optuna/releases/tag/v3.0.0. Use :func:`~optuna.trial.Trial.suggest_float` instead.\n",
      "\n",
      "\u001b[32m[I 2022-10-21 15:26:56,218]\u001b[0m Trial 76 finished with value: 0.9800853485064012 and parameters: {'classifier': 'SVC', 'C': 9.431157124258883, 'gamma': 'auto', 'kernel': 'linear'}. Best is trial 22 with value: 0.9800853485064012.\u001b[0m\n",
      "C:\\Users\\vaiv\\AppData\\Local\\Temp\\ipykernel_78776\\803344188.py:10: FutureWarning:\n",
      "\n",
      "suggest_loguniform has been deprecated in v3.0.0. This feature will be removed in v6.0.0. See https://github.com/optuna/optuna/releases/tag/v3.0.0. Use :func:`~optuna.trial.Trial.suggest_float` instead.\n",
      "\n",
      "\u001b[32m[I 2022-10-21 15:26:56,238]\u001b[0m Trial 77 finished with value: 0.9735064011379801 and parameters: {'classifier': 'SVC', 'C': 3.580955739486082, 'gamma': 'auto', 'kernel': 'linear'}. Best is trial 22 with value: 0.9800853485064012.\u001b[0m\n",
      "C:\\Users\\vaiv\\AppData\\Local\\Temp\\ipykernel_78776\\803344188.py:10: FutureWarning:\n",
      "\n",
      "suggest_loguniform has been deprecated in v3.0.0. This feature will be removed in v6.0.0. See https://github.com/optuna/optuna/releases/tag/v3.0.0. Use :func:`~optuna.trial.Trial.suggest_float` instead.\n",
      "\n",
      "\u001b[32m[I 2022-10-21 15:26:56,255]\u001b[0m Trial 78 finished with value: 0.9599928876244666 and parameters: {'classifier': 'SVC', 'C': 0.05090594989023189, 'gamma': 'auto', 'kernel': 'linear'}. Best is trial 22 with value: 0.9800853485064012.\u001b[0m\n",
      "C:\\Users\\vaiv\\AppData\\Local\\Temp\\ipykernel_78776\\803344188.py:10: FutureWarning:\n",
      "\n",
      "suggest_loguniform has been deprecated in v3.0.0. This feature will be removed in v6.0.0. See https://github.com/optuna/optuna/releases/tag/v3.0.0. Use :func:`~optuna.trial.Trial.suggest_float` instead.\n",
      "\n",
      "\u001b[32m[I 2022-10-21 15:26:56,273]\u001b[0m Trial 79 finished with value: 0.9733285917496444 and parameters: {'classifier': 'SVC', 'C': 10.790036154659427, 'gamma': 'auto', 'kernel': 'linear'}. Best is trial 22 with value: 0.9800853485064012.\u001b[0m\n",
      "C:\\Users\\vaiv\\AppData\\Local\\Temp\\ipykernel_78776\\803344188.py:10: FutureWarning:\n",
      "\n",
      "suggest_loguniform has been deprecated in v3.0.0. This feature will be removed in v6.0.0. See https://github.com/optuna/optuna/releases/tag/v3.0.0. Use :func:`~optuna.trial.Trial.suggest_float` instead.\n",
      "\n",
      "\u001b[32m[I 2022-10-21 15:26:56,292]\u001b[0m Trial 80 finished with value: 0.9799075391180654 and parameters: {'classifier': 'SVC', 'C': 0.786522435488495, 'gamma': 'auto', 'kernel': 'linear'}. Best is trial 22 with value: 0.9800853485064012.\u001b[0m\n",
      "C:\\Users\\vaiv\\AppData\\Local\\Temp\\ipykernel_78776\\803344188.py:10: FutureWarning:\n",
      "\n",
      "suggest_loguniform has been deprecated in v3.0.0. This feature will be removed in v6.0.0. See https://github.com/optuna/optuna/releases/tag/v3.0.0. Use :func:`~optuna.trial.Trial.suggest_float` instead.\n",
      "\n",
      "\u001b[32m[I 2022-10-21 15:26:56,308]\u001b[0m Trial 81 finished with value: 0.9733285917496444 and parameters: {'classifier': 'SVC', 'C': 21.438564111646475, 'gamma': 'auto', 'kernel': 'linear'}. Best is trial 22 with value: 0.9800853485064012.\u001b[0m\n",
      "C:\\Users\\vaiv\\AppData\\Local\\Temp\\ipykernel_78776\\803344188.py:10: FutureWarning:\n",
      "\n",
      "suggest_loguniform has been deprecated in v3.0.0. This feature will be removed in v6.0.0. See https://github.com/optuna/optuna/releases/tag/v3.0.0. Use :func:`~optuna.trial.Trial.suggest_float` instead.\n",
      "\n",
      "\u001b[32m[I 2022-10-21 15:26:56,325]\u001b[0m Trial 82 finished with value: 0.9731507823613087 and parameters: {'classifier': 'SVC', 'C': 710.4875733684386, 'gamma': 'auto', 'kernel': 'linear'}. Best is trial 22 with value: 0.9800853485064012.\u001b[0m\n",
      "C:\\Users\\vaiv\\AppData\\Local\\Temp\\ipykernel_78776\\803344188.py:10: FutureWarning:\n",
      "\n",
      "suggest_loguniform has been deprecated in v3.0.0. This feature will be removed in v6.0.0. See https://github.com/optuna/optuna/releases/tag/v3.0.0. Use :func:`~optuna.trial.Trial.suggest_float` instead.\n",
      "\n",
      "\u001b[32m[I 2022-10-21 15:26:56,342]\u001b[0m Trial 83 finished with value: 0.966394025604552 and parameters: {'classifier': 'SVC', 'C': 75.66042744225852, 'gamma': 'auto', 'kernel': 'linear'}. Best is trial 22 with value: 0.9800853485064012.\u001b[0m\n",
      "C:\\Users\\vaiv\\AppData\\Local\\Temp\\ipykernel_78776\\803344188.py:10: FutureWarning:\n",
      "\n",
      "suggest_loguniform has been deprecated in v3.0.0. This feature will be removed in v6.0.0. See https://github.com/optuna/optuna/releases/tag/v3.0.0. Use :func:`~optuna.trial.Trial.suggest_float` instead.\n",
      "\n"
     ]
    },
    {
     "name": "stderr",
     "output_type": "stream",
     "text": [
      "\u001b[32m[I 2022-10-21 15:26:56,363]\u001b[0m Trial 84 finished with value: 0.9667496443812233 and parameters: {'classifier': 'SVC', 'C': 2.305047911138677, 'gamma': 'auto', 'kernel': 'linear'}. Best is trial 22 with value: 0.9800853485064012.\u001b[0m\n",
      "C:\\Users\\vaiv\\AppData\\Local\\Temp\\ipykernel_78776\\803344188.py:10: FutureWarning:\n",
      "\n",
      "suggest_loguniform has been deprecated in v3.0.0. This feature will be removed in v6.0.0. See https://github.com/optuna/optuna/releases/tag/v3.0.0. Use :func:`~optuna.trial.Trial.suggest_float` instead.\n",
      "\n",
      "\u001b[32m[I 2022-10-21 15:26:56,385]\u001b[0m Trial 85 finished with value: 0.9665718349928876 and parameters: {'classifier': 'SVC', 'C': 221.5649511025477, 'gamma': 'auto', 'kernel': 'rbf'}. Best is trial 22 with value: 0.9800853485064012.\u001b[0m\n",
      "C:\\Users\\vaiv\\Documents\\Git\\ConvAE_LSTM\\.convAE_lstm\\lib\\site-packages\\sklearn\\ensemble\\_forest.py:427: FutureWarning:\n",
      "\n",
      "`max_features='auto'` has been deprecated in 1.1 and will be removed in 1.3. To keep the past behaviour, explicitly set `max_features='sqrt'` or remove this parameter as it is also the default value for RandomForestClassifiers and ExtraTreesClassifiers.\n",
      "\n",
      "C:\\Users\\vaiv\\Documents\\Git\\ConvAE_LSTM\\.convAE_lstm\\lib\\site-packages\\sklearn\\ensemble\\_forest.py:427: FutureWarning:\n",
      "\n",
      "`max_features='auto'` has been deprecated in 1.1 and will be removed in 1.3. To keep the past behaviour, explicitly set `max_features='sqrt'` or remove this parameter as it is also the default value for RandomForestClassifiers and ExtraTreesClassifiers.\n",
      "\n",
      "C:\\Users\\vaiv\\Documents\\Git\\ConvAE_LSTM\\.convAE_lstm\\lib\\site-packages\\sklearn\\ensemble\\_forest.py:427: FutureWarning:\n",
      "\n",
      "`max_features='auto'` has been deprecated in 1.1 and will be removed in 1.3. To keep the past behaviour, explicitly set `max_features='sqrt'` or remove this parameter as it is also the default value for RandomForestClassifiers and ExtraTreesClassifiers.\n",
      "\n",
      "C:\\Users\\vaiv\\Documents\\Git\\ConvAE_LSTM\\.convAE_lstm\\lib\\site-packages\\sklearn\\ensemble\\_forest.py:427: FutureWarning:\n",
      "\n",
      "`max_features='auto'` has been deprecated in 1.1 and will be removed in 1.3. To keep the past behaviour, explicitly set `max_features='sqrt'` or remove this parameter as it is also the default value for RandomForestClassifiers and ExtraTreesClassifiers.\n",
      "\n",
      "\u001b[32m[I 2022-10-21 15:26:57,156]\u001b[0m Trial 86 finished with value: 0.9601706970128022 and parameters: {'classifier': 'RandomForest', 'n_estimators': 128, 'max_depth': 13, 'criterion': 'gini', 'max_features': 'auto', 'min_samples_leaf': 7}. Best is trial 22 with value: 0.9800853485064012.\u001b[0m\n",
      "C:\\Users\\vaiv\\AppData\\Local\\Temp\\ipykernel_78776\\803344188.py:10: FutureWarning:\n",
      "\n",
      "suggest_loguniform has been deprecated in v3.0.0. This feature will be removed in v6.0.0. See https://github.com/optuna/optuna/releases/tag/v3.0.0. Use :func:`~optuna.trial.Trial.suggest_float` instead.\n",
      "\n",
      "\u001b[32m[I 2022-10-21 15:26:57,174]\u001b[0m Trial 87 finished with value: 0.9735064011379801 and parameters: {'classifier': 'SVC', 'C': 0.011635226511895478, 'gamma': 'auto', 'kernel': 'poly'}. Best is trial 22 with value: 0.9800853485064012.\u001b[0m\n",
      "C:\\Users\\vaiv\\AppData\\Local\\Temp\\ipykernel_78776\\803344188.py:10: FutureWarning:\n",
      "\n",
      "suggest_loguniform has been deprecated in v3.0.0. This feature will be removed in v6.0.0. See https://github.com/optuna/optuna/releases/tag/v3.0.0. Use :func:`~optuna.trial.Trial.suggest_float` instead.\n",
      "\n",
      "\u001b[32m[I 2022-10-21 15:26:57,195]\u001b[0m Trial 88 finished with value: 0.9731507823613087 and parameters: {'classifier': 'SVC', 'C': 2296.630180796547, 'gamma': 'scale', 'kernel': 'linear'}. Best is trial 22 with value: 0.9800853485064012.\u001b[0m\n",
      "C:\\Users\\vaiv\\AppData\\Local\\Temp\\ipykernel_78776\\803344188.py:10: FutureWarning:\n",
      "\n",
      "suggest_loguniform has been deprecated in v3.0.0. This feature will be removed in v6.0.0. See https://github.com/optuna/optuna/releases/tag/v3.0.0. Use :func:`~optuna.trial.Trial.suggest_float` instead.\n",
      "\n",
      "\u001b[32m[I 2022-10-21 15:26:57,221]\u001b[0m Trial 89 finished with value: 0.9799075391180655 and parameters: {'classifier': 'SVC', 'C': 9.991648821307347, 'gamma': 'auto', 'kernel': 'poly'}. Best is trial 22 with value: 0.9800853485064012.\u001b[0m\n",
      "C:\\Users\\vaiv\\AppData\\Local\\Temp\\ipykernel_78776\\803344188.py:10: FutureWarning:\n",
      "\n",
      "suggest_loguniform has been deprecated in v3.0.0. This feature will be removed in v6.0.0. See https://github.com/optuna/optuna/releases/tag/v3.0.0. Use :func:`~optuna.trial.Trial.suggest_float` instead.\n",
      "\n",
      "\u001b[32m[I 2022-10-21 15:26:57,238]\u001b[0m Trial 90 finished with value: 0.9731507823613088 and parameters: {'classifier': 'SVC', 'C': 0.21955671033289306, 'gamma': 'auto', 'kernel': 'linear'}. Best is trial 22 with value: 0.9800853485064012.\u001b[0m\n",
      "C:\\Users\\vaiv\\AppData\\Local\\Temp\\ipykernel_78776\\803344188.py:10: FutureWarning:\n",
      "\n",
      "suggest_loguniform has been deprecated in v3.0.0. This feature will be removed in v6.0.0. See https://github.com/optuna/optuna/releases/tag/v3.0.0. Use :func:`~optuna.trial.Trial.suggest_float` instead.\n",
      "\n",
      "\u001b[32m[I 2022-10-21 15:26:57,256]\u001b[0m Trial 91 finished with value: 0.9800853485064012 and parameters: {'classifier': 'SVC', 'C': 5.430493295634283, 'gamma': 'auto', 'kernel': 'linear'}. Best is trial 22 with value: 0.9800853485064012.\u001b[0m\n",
      "C:\\Users\\vaiv\\AppData\\Local\\Temp\\ipykernel_78776\\803344188.py:10: FutureWarning:\n",
      "\n",
      "suggest_loguniform has been deprecated in v3.0.0. This feature will be removed in v6.0.0. See https://github.com/optuna/optuna/releases/tag/v3.0.0. Use :func:`~optuna.trial.Trial.suggest_float` instead.\n",
      "\n",
      "\u001b[32m[I 2022-10-21 15:26:57,274]\u001b[0m Trial 92 finished with value: 0.966394025604552 and parameters: {'classifier': 'SVC', 'C': 76.94331262358094, 'gamma': 'auto', 'kernel': 'linear'}. Best is trial 22 with value: 0.9800853485064012.\u001b[0m\n",
      "C:\\Users\\vaiv\\AppData\\Local\\Temp\\ipykernel_78776\\803344188.py:10: FutureWarning:\n",
      "\n",
      "suggest_loguniform has been deprecated in v3.0.0. This feature will be removed in v6.0.0. See https://github.com/optuna/optuna/releases/tag/v3.0.0. Use :func:`~optuna.trial.Trial.suggest_float` instead.\n",
      "\n",
      "\u001b[32m[I 2022-10-21 15:26:57,300]\u001b[0m Trial 93 finished with value: 0.9731507823613087 and parameters: {'classifier': 'SVC', 'C': 11715.446160681733, 'gamma': 'auto', 'kernel': 'linear'}. Best is trial 22 with value: 0.9800853485064012.\u001b[0m\n",
      "C:\\Users\\vaiv\\AppData\\Local\\Temp\\ipykernel_78776\\803344188.py:10: FutureWarning:\n",
      "\n",
      "suggest_loguniform has been deprecated in v3.0.0. This feature will be removed in v6.0.0. See https://github.com/optuna/optuna/releases/tag/v3.0.0. Use :func:`~optuna.trial.Trial.suggest_float` instead.\n",
      "\n",
      "\u001b[32m[I 2022-10-21 15:26:57,319]\u001b[0m Trial 94 finished with value: 0.9731507823613087 and parameters: {'classifier': 'SVC', 'C': 409.111692122819, 'gamma': 'scale', 'kernel': 'linear'}. Best is trial 22 with value: 0.9800853485064012.\u001b[0m\n",
      "C:\\Users\\vaiv\\AppData\\Local\\Temp\\ipykernel_78776\\803344188.py:10: FutureWarning:\n",
      "\n",
      "suggest_loguniform has been deprecated in v3.0.0. This feature will be removed in v6.0.0. See https://github.com/optuna/optuna/releases/tag/v3.0.0. Use :func:`~optuna.trial.Trial.suggest_float` instead.\n",
      "\n",
      "\u001b[32m[I 2022-10-21 15:26:57,337]\u001b[0m Trial 95 finished with value: 0.9735064011379801 and parameters: {'classifier': 'SVC', 'C': 3.1336180492304857, 'gamma': 'auto', 'kernel': 'linear'}. Best is trial 22 with value: 0.9800853485064012.\u001b[0m\n",
      "C:\\Users\\vaiv\\AppData\\Local\\Temp\\ipykernel_78776\\803344188.py:10: FutureWarning:\n",
      "\n",
      "suggest_loguniform has been deprecated in v3.0.0. This feature will be removed in v6.0.0. See https://github.com/optuna/optuna/releases/tag/v3.0.0. Use :func:`~optuna.trial.Trial.suggest_float` instead.\n",
      "\n",
      "\u001b[32m[I 2022-10-21 15:26:57,368]\u001b[0m Trial 96 finished with value: 0.9733285917496444 and parameters: {'classifier': 'SVC', 'C': 15.612195123531393, 'gamma': 'auto', 'kernel': 'poly'}. Best is trial 22 with value: 0.9800853485064012.\u001b[0m\n",
      "C:\\Users\\vaiv\\AppData\\Local\\Temp\\ipykernel_78776\\803344188.py:10: FutureWarning:\n",
      "\n",
      "suggest_loguniform has been deprecated in v3.0.0. This feature will be removed in v6.0.0. See https://github.com/optuna/optuna/releases/tag/v3.0.0. Use :func:`~optuna.trial.Trial.suggest_float` instead.\n",
      "\n",
      "\u001b[32m[I 2022-10-21 15:26:57,388]\u001b[0m Trial 97 finished with value: 0.9799075391180654 and parameters: {'classifier': 'SVC', 'C': 0.8508813821947877, 'gamma': 'scale', 'kernel': 'linear'}. Best is trial 22 with value: 0.9800853485064012.\u001b[0m\n"
     ]
    },
    {
     "name": "stderr",
     "output_type": "stream",
     "text": [
      "C:\\Users\\vaiv\\AppData\\Local\\Temp\\ipykernel_78776\\803344188.py:10: FutureWarning:\n",
      "\n",
      "suggest_loguniform has been deprecated in v3.0.0. This feature will be removed in v6.0.0. See https://github.com/optuna/optuna/releases/tag/v3.0.0. Use :func:`~optuna.trial.Trial.suggest_float` instead.\n",
      "\n",
      "\u001b[32m[I 2022-10-21 15:26:57,409]\u001b[0m Trial 98 finished with value: 0.966394025604552 and parameters: {'classifier': 'SVC', 'C': 30.46539909788963, 'gamma': 'scale', 'kernel': 'poly'}. Best is trial 22 with value: 0.9800853485064012.\u001b[0m\n",
      "C:\\Users\\vaiv\\AppData\\Local\\Temp\\ipykernel_78776\\803344188.py:10: FutureWarning:\n",
      "\n",
      "suggest_loguniform has been deprecated in v3.0.0. This feature will be removed in v6.0.0. See https://github.com/optuna/optuna/releases/tag/v3.0.0. Use :func:`~optuna.trial.Trial.suggest_float` instead.\n",
      "\n",
      "\u001b[32m[I 2022-10-21 15:26:57,430]\u001b[0m Trial 99 finished with value: 0.9532361308677098 and parameters: {'classifier': 'SVC', 'C': 0.03953522084716564, 'gamma': 'auto', 'kernel': 'linear'}. Best is trial 22 with value: 0.9800853485064012.\u001b[0m\n",
      "C:\\Users\\vaiv\\Documents\\Git\\ConvAE_LSTM\\.convAE_lstm\\lib\\site-packages\\sklearn\\ensemble\\_forest.py:427: FutureWarning:\n",
      "\n",
      "`max_features='auto'` has been deprecated in 1.1 and will be removed in 1.3. To keep the past behaviour, explicitly set `max_features='sqrt'` or remove this parameter as it is also the default value for RandomForestClassifiers and ExtraTreesClassifiers.\n",
      "\n",
      "C:\\Users\\vaiv\\Documents\\Git\\ConvAE_LSTM\\.convAE_lstm\\lib\\site-packages\\sklearn\\ensemble\\_forest.py:427: FutureWarning:\n",
      "\n",
      "`max_features='auto'` has been deprecated in 1.1 and will be removed in 1.3. To keep the past behaviour, explicitly set `max_features='sqrt'` or remove this parameter as it is also the default value for RandomForestClassifiers and ExtraTreesClassifiers.\n",
      "\n",
      "C:\\Users\\vaiv\\Documents\\Git\\ConvAE_LSTM\\.convAE_lstm\\lib\\site-packages\\sklearn\\ensemble\\_forest.py:427: FutureWarning:\n",
      "\n",
      "`max_features='auto'` has been deprecated in 1.1 and will be removed in 1.3. To keep the past behaviour, explicitly set `max_features='sqrt'` or remove this parameter as it is also the default value for RandomForestClassifiers and ExtraTreesClassifiers.\n",
      "\n",
      "C:\\Users\\vaiv\\Documents\\Git\\ConvAE_LSTM\\.convAE_lstm\\lib\\site-packages\\sklearn\\ensemble\\_forest.py:427: FutureWarning:\n",
      "\n",
      "`max_features='auto'` has been deprecated in 1.1 and will be removed in 1.3. To keep the past behaviour, explicitly set `max_features='sqrt'` or remove this parameter as it is also the default value for RandomForestClassifiers and ExtraTreesClassifiers.\n",
      "\n",
      "\u001b[32m[I 2022-10-21 15:26:58,585]\u001b[0m Trial 100 finished with value: 0.9532361308677098 and parameters: {'classifier': 'RandomForest', 'n_estimators': 170, 'max_depth': 5, 'criterion': 'gini', 'max_features': 'auto', 'min_samples_leaf': 4}. Best is trial 22 with value: 0.9800853485064012.\u001b[0m\n",
      "C:\\Users\\vaiv\\AppData\\Local\\Temp\\ipykernel_78776\\803344188.py:10: FutureWarning:\n",
      "\n",
      "suggest_loguniform has been deprecated in v3.0.0. This feature will be removed in v6.0.0. See https://github.com/optuna/optuna/releases/tag/v3.0.0. Use :func:`~optuna.trial.Trial.suggest_float` instead.\n",
      "\n",
      "\u001b[32m[I 2022-10-21 15:26:58,617]\u001b[0m Trial 101 finished with value: 0.9733285917496444 and parameters: {'classifier': 'SVC', 'C': 9.998797860763988, 'gamma': 'auto', 'kernel': 'linear'}. Best is trial 22 with value: 0.9800853485064012.\u001b[0m\n",
      "C:\\Users\\vaiv\\AppData\\Local\\Temp\\ipykernel_78776\\803344188.py:10: FutureWarning:\n",
      "\n",
      "suggest_loguniform has been deprecated in v3.0.0. This feature will be removed in v6.0.0. See https://github.com/optuna/optuna/releases/tag/v3.0.0. Use :func:`~optuna.trial.Trial.suggest_float` instead.\n",
      "\n",
      "\u001b[32m[I 2022-10-21 15:26:58,768]\u001b[0m Trial 102 finished with value: 0.9601706970128023 and parameters: {'classifier': 'SVC', 'C': 53.23868975684033, 'gamma': 'auto', 'kernel': 'poly'}. Best is trial 22 with value: 0.9800853485064012.\u001b[0m\n",
      "C:\\Users\\vaiv\\AppData\\Local\\Temp\\ipykernel_78776\\803344188.py:10: FutureWarning:\n",
      "\n",
      "suggest_loguniform has been deprecated in v3.0.0. This feature will be removed in v6.0.0. See https://github.com/optuna/optuna/releases/tag/v3.0.0. Use :func:`~optuna.trial.Trial.suggest_float` instead.\n",
      "\n",
      "\u001b[32m[I 2022-10-21 15:26:58,799]\u001b[0m Trial 103 finished with value: 0.9799075391180655 and parameters: {'classifier': 'SVC', 'C': 6.687819684341882, 'gamma': 'auto', 'kernel': 'poly'}. Best is trial 22 with value: 0.9800853485064012.\u001b[0m\n",
      "C:\\Users\\vaiv\\AppData\\Local\\Temp\\ipykernel_78776\\803344188.py:10: FutureWarning:\n",
      "\n",
      "suggest_loguniform has been deprecated in v3.0.0. This feature will be removed in v6.0.0. See https://github.com/optuna/optuna/releases/tag/v3.0.0. Use :func:`~optuna.trial.Trial.suggest_float` instead.\n",
      "\n",
      "\u001b[32m[I 2022-10-21 15:26:58,836]\u001b[0m Trial 104 finished with value: 0.9799075391180655 and parameters: {'classifier': 'SVC', 'C': 546.9913433332582, 'gamma': 'scale', 'kernel': 'poly'}. Best is trial 22 with value: 0.9800853485064012.\u001b[0m\n",
      "C:\\Users\\vaiv\\AppData\\Local\\Temp\\ipykernel_78776\\803344188.py:10: FutureWarning:\n",
      "\n",
      "suggest_loguniform has been deprecated in v3.0.0. This feature will be removed in v6.0.0. See https://github.com/optuna/optuna/releases/tag/v3.0.0. Use :func:`~optuna.trial.Trial.suggest_float` instead.\n",
      "\n",
      "\u001b[32m[I 2022-10-21 15:26:58,860]\u001b[0m Trial 105 finished with value: 0.966394025604552 and parameters: {'classifier': 'SVC', 'C': 369.18897052979776, 'gamma': 'scale', 'kernel': 'rbf'}. Best is trial 22 with value: 0.9800853485064012.\u001b[0m\n",
      "C:\\Users\\vaiv\\AppData\\Local\\Temp\\ipykernel_78776\\803344188.py:10: FutureWarning:\n",
      "\n",
      "suggest_loguniform has been deprecated in v3.0.0. This feature will be removed in v6.0.0. See https://github.com/optuna/optuna/releases/tag/v3.0.0. Use :func:`~optuna.trial.Trial.suggest_float` instead.\n",
      "\n",
      "\u001b[32m[I 2022-10-21 15:26:58,888]\u001b[0m Trial 106 finished with value: 0.9799075391180654 and parameters: {'classifier': 'SVC', 'C': 0.5931899825256882, 'gamma': 'auto', 'kernel': 'linear'}. Best is trial 22 with value: 0.9800853485064012.\u001b[0m\n",
      "C:\\Users\\vaiv\\AppData\\Local\\Temp\\ipykernel_78776\\803344188.py:10: FutureWarning:\n",
      "\n",
      "suggest_loguniform has been deprecated in v3.0.0. This feature will be removed in v6.0.0. See https://github.com/optuna/optuna/releases/tag/v3.0.0. Use :func:`~optuna.trial.Trial.suggest_float` instead.\n",
      "\n",
      "\u001b[32m[I 2022-10-21 15:26:58,929]\u001b[0m Trial 107 finished with value: 0.9667496443812233 and parameters: {'classifier': 'SVC', 'C': 1456.704377077077, 'gamma': 'scale', 'kernel': 'poly'}. Best is trial 22 with value: 0.9800853485064012.\u001b[0m\n",
      "C:\\Users\\vaiv\\AppData\\Local\\Temp\\ipykernel_78776\\803344188.py:10: FutureWarning:\n",
      "\n",
      "suggest_loguniform has been deprecated in v3.0.0. This feature will be removed in v6.0.0. See https://github.com/optuna/optuna/releases/tag/v3.0.0. Use :func:`~optuna.trial.Trial.suggest_float` instead.\n",
      "\n",
      "\u001b[32m[I 2022-10-21 15:26:58,949]\u001b[0m Trial 108 finished with value: 0.9596372688477952 and parameters: {'classifier': 'SVC', 'C': 110.34853411185777, 'gamma': 'auto', 'kernel': 'linear'}. Best is trial 22 with value: 0.9800853485064012.\u001b[0m\n",
      "C:\\Users\\vaiv\\AppData\\Local\\Temp\\ipykernel_78776\\803344188.py:10: FutureWarning:\n",
      "\n",
      "suggest_loguniform has been deprecated in v3.0.0. This feature will be removed in v6.0.0. See https://github.com/optuna/optuna/releases/tag/v3.0.0. Use :func:`~optuna.trial.Trial.suggest_float` instead.\n",
      "\n",
      "\u001b[32m[I 2022-10-21 15:26:58,996]\u001b[0m Trial 109 finished with value: 0.9731507823613087 and parameters: {'classifier': 'SVC', 'C': 38924.29561067562, 'gamma': 'scale', 'kernel': 'linear'}. Best is trial 22 with value: 0.9800853485064012.\u001b[0m\n",
      "C:\\Users\\vaiv\\AppData\\Local\\Temp\\ipykernel_78776\\803344188.py:10: FutureWarning:\n",
      "\n",
      "suggest_loguniform has been deprecated in v3.0.0. This feature will be removed in v6.0.0. See https://github.com/optuna/optuna/releases/tag/v3.0.0. Use :func:`~optuna.trial.Trial.suggest_float` instead.\n",
      "\n",
      "\u001b[32m[I 2022-10-21 15:26:59,025]\u001b[0m Trial 110 finished with value: 0.9799075391180655 and parameters: {'classifier': 'SVC', 'C': 589.6662240653699, 'gamma': 'scale', 'kernel': 'poly'}. Best is trial 22 with value: 0.9800853485064012.\u001b[0m\n",
      "C:\\Users\\vaiv\\AppData\\Local\\Temp\\ipykernel_78776\\803344188.py:10: FutureWarning:\n",
      "\n",
      "suggest_loguniform has been deprecated in v3.0.0. This feature will be removed in v6.0.0. See https://github.com/optuna/optuna/releases/tag/v3.0.0. Use :func:`~optuna.trial.Trial.suggest_float` instead.\n",
      "\n",
      "\u001b[32m[I 2022-10-21 15:26:59,050]\u001b[0m Trial 111 finished with value: 0.9799075391180655 and parameters: {'classifier': 'SVC', 'C': 249.98357383632657, 'gamma': 'scale', 'kernel': 'poly'}. Best is trial 22 with value: 0.9800853485064012.\u001b[0m\n"
     ]
    },
    {
     "name": "stderr",
     "output_type": "stream",
     "text": [
      "C:\\Users\\vaiv\\AppData\\Local\\Temp\\ipykernel_78776\\803344188.py:10: FutureWarning:\n",
      "\n",
      "suggest_loguniform has been deprecated in v3.0.0. This feature will be removed in v6.0.0. See https://github.com/optuna/optuna/releases/tag/v3.0.0. Use :func:`~optuna.trial.Trial.suggest_float` instead.\n",
      "\n",
      "\u001b[32m[I 2022-10-21 15:26:59,110]\u001b[0m Trial 112 finished with value: 0.9601706970128023 and parameters: {'classifier': 'SVC', 'C': 5727.776305769322, 'gamma': 'scale', 'kernel': 'poly'}. Best is trial 22 with value: 0.9800853485064012.\u001b[0m\n",
      "C:\\Users\\vaiv\\AppData\\Local\\Temp\\ipykernel_78776\\803344188.py:10: FutureWarning:\n",
      "\n",
      "suggest_loguniform has been deprecated in v3.0.0. This feature will be removed in v6.0.0. See https://github.com/optuna/optuna/releases/tag/v3.0.0. Use :func:`~optuna.trial.Trial.suggest_float` instead.\n",
      "\n",
      "\u001b[32m[I 2022-10-21 15:26:59,133]\u001b[0m Trial 113 finished with value: 0.9799075391180655 and parameters: {'classifier': 'SVC', 'C': 1.8135672440225596, 'gamma': 'auto', 'kernel': 'poly'}. Best is trial 22 with value: 0.9800853485064012.\u001b[0m\n",
      "C:\\Users\\vaiv\\AppData\\Local\\Temp\\ipykernel_78776\\803344188.py:10: FutureWarning:\n",
      "\n",
      "suggest_loguniform has been deprecated in v3.0.0. This feature will be removed in v6.0.0. See https://github.com/optuna/optuna/releases/tag/v3.0.0. Use :func:`~optuna.trial.Trial.suggest_float` instead.\n",
      "\n",
      "\u001b[32m[I 2022-10-21 15:26:59,160]\u001b[0m Trial 114 finished with value: 0.9799075391180655 and parameters: {'classifier': 'SVC', 'C': 3.027777003276846, 'gamma': 'auto', 'kernel': 'poly'}. Best is trial 22 with value: 0.9800853485064012.\u001b[0m\n",
      "C:\\Users\\vaiv\\AppData\\Local\\Temp\\ipykernel_78776\\803344188.py:10: FutureWarning:\n",
      "\n",
      "suggest_loguniform has been deprecated in v3.0.0. This feature will be removed in v6.0.0. See https://github.com/optuna/optuna/releases/tag/v3.0.0. Use :func:`~optuna.trial.Trial.suggest_float` instead.\n",
      "\n",
      "\u001b[32m[I 2022-10-21 15:26:59,187]\u001b[0m Trial 115 finished with value: 0.9799075391180655 and parameters: {'classifier': 'SVC', 'C': 4.5789096127512705, 'gamma': 'auto', 'kernel': 'poly'}. Best is trial 22 with value: 0.9800853485064012.\u001b[0m\n",
      "C:\\Users\\vaiv\\AppData\\Local\\Temp\\ipykernel_78776\\803344188.py:10: FutureWarning:\n",
      "\n",
      "suggest_loguniform has been deprecated in v3.0.0. This feature will be removed in v6.0.0. See https://github.com/optuna/optuna/releases/tag/v3.0.0. Use :func:`~optuna.trial.Trial.suggest_float` instead.\n",
      "\n",
      "\u001b[32m[I 2022-10-21 15:26:59,207]\u001b[0m Trial 116 finished with value: 0.9733285917496444 and parameters: {'classifier': 'SVC', 'C': 28.835387155307316, 'gamma': 'auto', 'kernel': 'linear'}. Best is trial 22 with value: 0.9800853485064012.\u001b[0m\n",
      "C:\\Users\\vaiv\\AppData\\Local\\Temp\\ipykernel_78776\\803344188.py:10: FutureWarning:\n",
      "\n",
      "suggest_loguniform has been deprecated in v3.0.0. This feature will be removed in v6.0.0. See https://github.com/optuna/optuna/releases/tag/v3.0.0. Use :func:`~optuna.trial.Trial.suggest_float` instead.\n",
      "\n",
      "\u001b[32m[I 2022-10-21 15:26:59,226]\u001b[0m Trial 117 finished with value: 0.9731507823613087 and parameters: {'classifier': 'SVC', 'C': 0.1799493704194576, 'gamma': 'auto', 'kernel': 'poly'}. Best is trial 22 with value: 0.9800853485064012.\u001b[0m\n",
      "\u001b[32m[I 2022-10-21 15:26:59,386]\u001b[0m Trial 118 finished with value: 0.9667496443812233 and parameters: {'classifier': 'RandomForest', 'n_estimators': 29, 'max_depth': 3, 'criterion': 'entropy', 'max_features': 'sqrt', 'min_samples_leaf': 6}. Best is trial 22 with value: 0.9800853485064012.\u001b[0m\n",
      "C:\\Users\\vaiv\\AppData\\Local\\Temp\\ipykernel_78776\\803344188.py:10: FutureWarning:\n",
      "\n",
      "suggest_loguniform has been deprecated in v3.0.0. This feature will be removed in v6.0.0. See https://github.com/optuna/optuna/releases/tag/v3.0.0. Use :func:`~optuna.trial.Trial.suggest_float` instead.\n",
      "\n",
      "\u001b[32m[I 2022-10-21 15:26:59,406]\u001b[0m Trial 119 finished with value: 0.9799075391180655 and parameters: {'classifier': 'SVC', 'C': 1.4442742592635247, 'gamma': 'auto', 'kernel': 'poly'}. Best is trial 22 with value: 0.9800853485064012.\u001b[0m\n",
      "C:\\Users\\vaiv\\AppData\\Local\\Temp\\ipykernel_78776\\803344188.py:10: FutureWarning:\n",
      "\n",
      "suggest_loguniform has been deprecated in v3.0.0. This feature will be removed in v6.0.0. See https://github.com/optuna/optuna/releases/tag/v3.0.0. Use :func:`~optuna.trial.Trial.suggest_float` instead.\n",
      "\n",
      "\u001b[32m[I 2022-10-21 15:26:59,427]\u001b[0m Trial 120 finished with value: 0.9799075391180655 and parameters: {'classifier': 'SVC', 'C': 1.427188720394659, 'gamma': 'auto', 'kernel': 'poly'}. Best is trial 22 with value: 0.9800853485064012.\u001b[0m\n",
      "C:\\Users\\vaiv\\AppData\\Local\\Temp\\ipykernel_78776\\803344188.py:10: FutureWarning:\n",
      "\n",
      "suggest_loguniform has been deprecated in v3.0.0. This feature will be removed in v6.0.0. See https://github.com/optuna/optuna/releases/tag/v3.0.0. Use :func:`~optuna.trial.Trial.suggest_float` instead.\n",
      "\n",
      "\u001b[32m[I 2022-10-21 15:26:59,449]\u001b[0m Trial 121 finished with value: 0.9799075391180655 and parameters: {'classifier': 'SVC', 'C': 72.0232634348763, 'gamma': 'scale', 'kernel': 'poly'}. Best is trial 22 with value: 0.9800853485064012.\u001b[0m\n",
      "C:\\Users\\vaiv\\AppData\\Local\\Temp\\ipykernel_78776\\803344188.py:10: FutureWarning:\n",
      "\n",
      "suggest_loguniform has been deprecated in v3.0.0. This feature will be removed in v6.0.0. See https://github.com/optuna/optuna/releases/tag/v3.0.0. Use :func:`~optuna.trial.Trial.suggest_float` instead.\n",
      "\n",
      "\u001b[32m[I 2022-10-21 15:26:59,470]\u001b[0m Trial 122 finished with value: 0.9799075391180655 and parameters: {'classifier': 'SVC', 'C': 90.36065155814187, 'gamma': 'scale', 'kernel': 'poly'}. Best is trial 22 with value: 0.9800853485064012.\u001b[0m\n",
      "C:\\Users\\vaiv\\AppData\\Local\\Temp\\ipykernel_78776\\803344188.py:10: FutureWarning:\n",
      "\n",
      "suggest_loguniform has been deprecated in v3.0.0. This feature will be removed in v6.0.0. See https://github.com/optuna/optuna/releases/tag/v3.0.0. Use :func:`~optuna.trial.Trial.suggest_float` instead.\n",
      "\n",
      "\u001b[32m[I 2022-10-21 15:26:59,492]\u001b[0m Trial 123 finished with value: 0.966394025604552 and parameters: {'classifier': 'SVC', 'C': 23.636768707848415, 'gamma': 'scale', 'kernel': 'poly'}. Best is trial 22 with value: 0.9800853485064012.\u001b[0m\n",
      "C:\\Users\\vaiv\\AppData\\Local\\Temp\\ipykernel_78776\\803344188.py:10: FutureWarning:\n",
      "\n",
      "suggest_loguniform has been deprecated in v3.0.0. This feature will be removed in v6.0.0. See https://github.com/optuna/optuna/releases/tag/v3.0.0. Use :func:`~optuna.trial.Trial.suggest_float` instead.\n",
      "\n",
      "\u001b[32m[I 2022-10-21 15:26:59,512]\u001b[0m Trial 124 finished with value: 0.9665718349928876 and parameters: {'classifier': 'SVC', 'C': 855.9584056462095, 'gamma': 'scale', 'kernel': 'rbf'}. Best is trial 22 with value: 0.9800853485064012.\u001b[0m\n",
      "C:\\Users\\vaiv\\AppData\\Local\\Temp\\ipykernel_78776\\803344188.py:10: FutureWarning:\n",
      "\n",
      "suggest_loguniform has been deprecated in v3.0.0. This feature will be removed in v6.0.0. See https://github.com/optuna/optuna/releases/tag/v3.0.0. Use :func:`~optuna.trial.Trial.suggest_float` instead.\n",
      "\n",
      "\u001b[32m[I 2022-10-21 15:26:59,537]\u001b[0m Trial 125 finished with value: 0.9799075391180655 and parameters: {'classifier': 'SVC', 'C': 7.490184528906489, 'gamma': 'auto', 'kernel': 'poly'}. Best is trial 22 with value: 0.9800853485064012.\u001b[0m\n",
      "C:\\Users\\vaiv\\AppData\\Local\\Temp\\ipykernel_78776\\803344188.py:10: FutureWarning:\n",
      "\n",
      "suggest_loguniform has been deprecated in v3.0.0. This feature will be removed in v6.0.0. See https://github.com/optuna/optuna/releases/tag/v3.0.0. Use :func:`~optuna.trial.Trial.suggest_float` instead.\n",
      "\n",
      "\u001b[32m[I 2022-10-21 15:26:59,558]\u001b[0m Trial 126 finished with value: 0.9731507823613088 and parameters: {'classifier': 'SVC', 'C': 152.01317712154423, 'gamma': 'scale', 'kernel': 'linear'}. Best is trial 22 with value: 0.9800853485064012.\u001b[0m\n",
      "C:\\Users\\vaiv\\AppData\\Local\\Temp\\ipykernel_78776\\803344188.py:10: FutureWarning:\n",
      "\n",
      "suggest_loguniform has been deprecated in v3.0.0. This feature will be removed in v6.0.0. See https://github.com/optuna/optuna/releases/tag/v3.0.0. Use :func:`~optuna.trial.Trial.suggest_float` instead.\n",
      "\n",
      "\u001b[32m[I 2022-10-21 15:26:59,580]\u001b[0m Trial 127 finished with value: 0.9733285917496444 and parameters: {'classifier': 'SVC', 'C': 11.326819636744887, 'gamma': 'auto', 'kernel': 'linear'}. Best is trial 22 with value: 0.9800853485064012.\u001b[0m\n",
      "C:\\Users\\vaiv\\AppData\\Local\\Temp\\ipykernel_78776\\803344188.py:10: FutureWarning:\n",
      "\n",
      "suggest_loguniform has been deprecated in v3.0.0. This feature will be removed in v6.0.0. See https://github.com/optuna/optuna/releases/tag/v3.0.0. Use :func:`~optuna.trial.Trial.suggest_float` instead.\n",
      "\n",
      "\u001b[32m[I 2022-10-21 15:26:59,606]\u001b[0m Trial 128 finished with value: 0.9733285917496444 and parameters: {'classifier': 'SVC', 'C': 36.48954673619477, 'gamma': 'scale', 'kernel': 'linear'}. Best is trial 22 with value: 0.9800853485064012.\u001b[0m\n"
     ]
    },
    {
     "name": "stderr",
     "output_type": "stream",
     "text": [
      "C:\\Users\\vaiv\\AppData\\Local\\Temp\\ipykernel_78776\\803344188.py:10: FutureWarning:\n",
      "\n",
      "suggest_loguniform has been deprecated in v3.0.0. This feature will be removed in v6.0.0. See https://github.com/optuna/optuna/releases/tag/v3.0.0. Use :func:`~optuna.trial.Trial.suggest_float` instead.\n",
      "\n",
      "\u001b[32m[I 2022-10-21 15:26:59,632]\u001b[0m Trial 129 finished with value: 0.9731507823613087 and parameters: {'classifier': 'SVC', 'C': 3999.9376507009865, 'gamma': 'scale', 'kernel': 'linear'}. Best is trial 22 with value: 0.9800853485064012.\u001b[0m\n",
      "C:\\Users\\vaiv\\AppData\\Local\\Temp\\ipykernel_78776\\803344188.py:10: FutureWarning:\n",
      "\n",
      "suggest_loguniform has been deprecated in v3.0.0. This feature will be removed in v6.0.0. See https://github.com/optuna/optuna/releases/tag/v3.0.0. Use :func:`~optuna.trial.Trial.suggest_float` instead.\n",
      "\n",
      "\u001b[32m[I 2022-10-21 15:26:59,670]\u001b[0m Trial 130 finished with value: 0.9799075391180655 and parameters: {'classifier': 'SVC', 'C': 6.79711879977658, 'gamma': 'auto', 'kernel': 'poly'}. Best is trial 22 with value: 0.9800853485064012.\u001b[0m\n",
      "C:\\Users\\vaiv\\AppData\\Local\\Temp\\ipykernel_78776\\803344188.py:10: FutureWarning:\n",
      "\n",
      "suggest_loguniform has been deprecated in v3.0.0. This feature will be removed in v6.0.0. See https://github.com/optuna/optuna/releases/tag/v3.0.0. Use :func:`~optuna.trial.Trial.suggest_float` instead.\n",
      "\n",
      "\u001b[32m[I 2022-10-21 15:26:59,702]\u001b[0m Trial 131 finished with value: 0.9799075391180655 and parameters: {'classifier': 'SVC', 'C': 201.36803644322922, 'gamma': 'scale', 'kernel': 'poly'}. Best is trial 22 with value: 0.9800853485064012.\u001b[0m\n",
      "C:\\Users\\vaiv\\AppData\\Local\\Temp\\ipykernel_78776\\803344188.py:10: FutureWarning:\n",
      "\n",
      "suggest_loguniform has been deprecated in v3.0.0. This feature will be removed in v6.0.0. See https://github.com/optuna/optuna/releases/tag/v3.0.0. Use :func:`~optuna.trial.Trial.suggest_float` instead.\n",
      "\n",
      "\u001b[32m[I 2022-10-21 15:26:59,726]\u001b[0m Trial 132 finished with value: 0.9735064011379801 and parameters: {'classifier': 'SVC', 'C': 0.5597243848406566, 'gamma': 'scale', 'kernel': 'poly'}. Best is trial 22 with value: 0.9800853485064012.\u001b[0m\n",
      "C:\\Users\\vaiv\\AppData\\Local\\Temp\\ipykernel_78776\\803344188.py:10: FutureWarning:\n",
      "\n",
      "suggest_loguniform has been deprecated in v3.0.0. This feature will be removed in v6.0.0. See https://github.com/optuna/optuna/releases/tag/v3.0.0. Use :func:`~optuna.trial.Trial.suggest_float` instead.\n",
      "\n",
      "\u001b[32m[I 2022-10-21 15:26:59,777]\u001b[0m Trial 133 finished with value: 0.9667496443812233 and parameters: {'classifier': 'SVC', 'C': 25.940075510771347, 'gamma': 'auto', 'kernel': 'poly'}. Best is trial 22 with value: 0.9800853485064012.\u001b[0m\n",
      "C:\\Users\\vaiv\\AppData\\Local\\Temp\\ipykernel_78776\\803344188.py:10: FutureWarning:\n",
      "\n",
      "suggest_loguniform has been deprecated in v3.0.0. This feature will be removed in v6.0.0. See https://github.com/optuna/optuna/releases/tag/v3.0.0. Use :func:`~optuna.trial.Trial.suggest_float` instead.\n",
      "\n",
      "\u001b[32m[I 2022-10-21 15:27:00,040]\u001b[0m Trial 134 finished with value: 0.9535917496443812 and parameters: {'classifier': 'SVC', 'C': 704.7931046575011, 'gamma': 'auto', 'kernel': 'poly'}. Best is trial 22 with value: 0.9800853485064012.\u001b[0m\n",
      "C:\\Users\\vaiv\\AppData\\Local\\Temp\\ipykernel_78776\\803344188.py:10: FutureWarning:\n",
      "\n",
      "suggest_loguniform has been deprecated in v3.0.0. This feature will be removed in v6.0.0. See https://github.com/optuna/optuna/releases/tag/v3.0.0. Use :func:`~optuna.trial.Trial.suggest_float` instead.\n",
      "\n",
      "\u001b[32m[I 2022-10-21 15:27:00,069]\u001b[0m Trial 135 finished with value: 0.9731507823613087 and parameters: {'classifier': 'SVC', 'C': 37.03711076471609, 'gamma': 'scale', 'kernel': 'poly'}. Best is trial 22 with value: 0.9800853485064012.\u001b[0m\n",
      "C:\\Users\\vaiv\\AppData\\Local\\Temp\\ipykernel_78776\\803344188.py:10: FutureWarning:\n",
      "\n",
      "suggest_loguniform has been deprecated in v3.0.0. This feature will be removed in v6.0.0. See https://github.com/optuna/optuna/releases/tag/v3.0.0. Use :func:`~optuna.trial.Trial.suggest_float` instead.\n",
      "\n",
      "\u001b[32m[I 2022-10-21 15:27:00,093]\u001b[0m Trial 136 finished with value: 0.9799075391180655 and parameters: {'classifier': 'SVC', 'C': 92.08943347614121, 'gamma': 'scale', 'kernel': 'poly'}. Best is trial 22 with value: 0.9800853485064012.\u001b[0m\n",
      "C:\\Users\\vaiv\\AppData\\Local\\Temp\\ipykernel_78776\\803344188.py:10: FutureWarning:\n",
      "\n",
      "suggest_loguniform has been deprecated in v3.0.0. This feature will be removed in v6.0.0. See https://github.com/optuna/optuna/releases/tag/v3.0.0. Use :func:`~optuna.trial.Trial.suggest_float` instead.\n",
      "\n",
      "\u001b[32m[I 2022-10-21 15:27:00,120]\u001b[0m Trial 137 finished with value: 0.9799075391180655 and parameters: {'classifier': 'SVC', 'C': 1.3889014015228862, 'gamma': 'auto', 'kernel': 'poly'}. Best is trial 22 with value: 0.9800853485064012.\u001b[0m\n",
      "C:\\Users\\vaiv\\AppData\\Local\\Temp\\ipykernel_78776\\803344188.py:10: FutureWarning:\n",
      "\n",
      "suggest_loguniform has been deprecated in v3.0.0. This feature will be removed in v6.0.0. See https://github.com/optuna/optuna/releases/tag/v3.0.0. Use :func:`~optuna.trial.Trial.suggest_float` instead.\n",
      "\n",
      "\u001b[32m[I 2022-10-21 15:27:00,143]\u001b[0m Trial 138 finished with value: 0.9799075391180655 and parameters: {'classifier': 'SVC', 'C': 1.655405932172607, 'gamma': 'auto', 'kernel': 'poly'}. Best is trial 22 with value: 0.9800853485064012.\u001b[0m\n",
      "\u001b[32m[I 2022-10-21 15:27:00,641]\u001b[0m Trial 139 finished with value: 0.9601706970128022 and parameters: {'classifier': 'RandomForest', 'n_estimators': 81, 'max_depth': 9, 'criterion': 'entropy', 'max_features': 'sqrt', 'min_samples_leaf': 5}. Best is trial 22 with value: 0.9800853485064012.\u001b[0m\n",
      "C:\\Users\\vaiv\\AppData\\Local\\Temp\\ipykernel_78776\\803344188.py:10: FutureWarning:\n",
      "\n",
      "suggest_loguniform has been deprecated in v3.0.0. This feature will be removed in v6.0.0. See https://github.com/optuna/optuna/releases/tag/v3.0.0. Use :func:`~optuna.trial.Trial.suggest_float` instead.\n",
      "\n",
      "\u001b[32m[I 2022-10-21 15:27:00,667]\u001b[0m Trial 140 finished with value: 0.9799075391180655 and parameters: {'classifier': 'SVC', 'C': 5.724528915613521, 'gamma': 'auto', 'kernel': 'poly'}. Best is trial 22 with value: 0.9800853485064012.\u001b[0m\n",
      "C:\\Users\\vaiv\\AppData\\Local\\Temp\\ipykernel_78776\\803344188.py:10: FutureWarning:\n",
      "\n",
      "suggest_loguniform has been deprecated in v3.0.0. This feature will be removed in v6.0.0. See https://github.com/optuna/optuna/releases/tag/v3.0.0. Use :func:`~optuna.trial.Trial.suggest_float` instead.\n",
      "\n",
      "\u001b[32m[I 2022-10-21 15:27:00,690]\u001b[0m Trial 141 finished with value: 0.9799075391180655 and parameters: {'classifier': 'SVC', 'C': 7.532127267241889, 'gamma': 'auto', 'kernel': 'poly'}. Best is trial 22 with value: 0.9800853485064012.\u001b[0m\n",
      "C:\\Users\\vaiv\\AppData\\Local\\Temp\\ipykernel_78776\\803344188.py:10: FutureWarning:\n",
      "\n",
      "suggest_loguniform has been deprecated in v3.0.0. This feature will be removed in v6.0.0. See https://github.com/optuna/optuna/releases/tag/v3.0.0. Use :func:`~optuna.trial.Trial.suggest_float` instead.\n",
      "\n",
      "\u001b[32m[I 2022-10-21 15:27:00,712]\u001b[0m Trial 142 finished with value: 0.9733285917496444 and parameters: {'classifier': 'SVC', 'C': 0.09390673527030005, 'gamma': 'auto', 'kernel': 'poly'}. Best is trial 22 with value: 0.9800853485064012.\u001b[0m\n",
      "C:\\Users\\vaiv\\AppData\\Local\\Temp\\ipykernel_78776\\803344188.py:10: FutureWarning:\n",
      "\n",
      "suggest_loguniform has been deprecated in v3.0.0. This feature will be removed in v6.0.0. See https://github.com/optuna/optuna/releases/tag/v3.0.0. Use :func:`~optuna.trial.Trial.suggest_float` instead.\n",
      "\n",
      "\u001b[32m[I 2022-10-21 15:27:00,736]\u001b[0m Trial 143 finished with value: 0.9731507823613087 and parameters: {'classifier': 'SVC', 'C': 2086.9795771244376, 'gamma': 'scale', 'kernel': 'linear'}. Best is trial 22 with value: 0.9800853485064012.\u001b[0m\n",
      "C:\\Users\\vaiv\\AppData\\Local\\Temp\\ipykernel_78776\\803344188.py:10: FutureWarning:\n",
      "\n",
      "suggest_loguniform has been deprecated in v3.0.0. This feature will be removed in v6.0.0. See https://github.com/optuna/optuna/releases/tag/v3.0.0. Use :func:`~optuna.trial.Trial.suggest_float` instead.\n",
      "\n",
      "\u001b[32m[I 2022-10-21 15:27:00,865]\u001b[0m Trial 144 finished with value: 0.9470128022759602 and parameters: {'classifier': 'SVC', 'C': 274.67337079897936, 'gamma': 'auto', 'kernel': 'poly'}. Best is trial 22 with value: 0.9800853485064012.\u001b[0m\n",
      "C:\\Users\\vaiv\\AppData\\Local\\Temp\\ipykernel_78776\\803344188.py:10: FutureWarning:\n",
      "\n",
      "suggest_loguniform has been deprecated in v3.0.0. This feature will be removed in v6.0.0. See https://github.com/optuna/optuna/releases/tag/v3.0.0. Use :func:`~optuna.trial.Trial.suggest_float` instead.\n",
      "\n",
      "\u001b[32m[I 2022-10-21 15:27:00,897]\u001b[0m Trial 145 finished with value: 0.9799075391180655 and parameters: {'classifier': 'SVC', 'C': 169.3202612102663, 'gamma': 'scale', 'kernel': 'poly'}. Best is trial 22 with value: 0.9800853485064012.\u001b[0m\n"
     ]
    },
    {
     "name": "stderr",
     "output_type": "stream",
     "text": [
      "C:\\Users\\vaiv\\AppData\\Local\\Temp\\ipykernel_78776\\803344188.py:10: FutureWarning:\n",
      "\n",
      "suggest_loguniform has been deprecated in v3.0.0. This feature will be removed in v6.0.0. See https://github.com/optuna/optuna/releases/tag/v3.0.0. Use :func:`~optuna.trial.Trial.suggest_float` instead.\n",
      "\n",
      "\u001b[32m[I 2022-10-21 15:27:00,932]\u001b[0m Trial 146 finished with value: 0.9733285917496444 and parameters: {'classifier': 'SVC', 'C': 12.509644676421324, 'gamma': 'auto', 'kernel': 'poly'}. Best is trial 22 with value: 0.9800853485064012.\u001b[0m\n",
      "C:\\Users\\vaiv\\AppData\\Local\\Temp\\ipykernel_78776\\803344188.py:10: FutureWarning:\n",
      "\n",
      "suggest_loguniform has been deprecated in v3.0.0. This feature will be removed in v6.0.0. See https://github.com/optuna/optuna/releases/tag/v3.0.0. Use :func:`~optuna.trial.Trial.suggest_float` instead.\n",
      "\n",
      "\u001b[32m[I 2022-10-21 15:27:00,954]\u001b[0m Trial 147 finished with value: 0.9799075391180655 and parameters: {'classifier': 'SVC', 'C': 104.6801174821736, 'gamma': 'scale', 'kernel': 'poly'}. Best is trial 22 with value: 0.9800853485064012.\u001b[0m\n",
      "C:\\Users\\vaiv\\AppData\\Local\\Temp\\ipykernel_78776\\803344188.py:10: FutureWarning:\n",
      "\n",
      "suggest_loguniform has been deprecated in v3.0.0. This feature will be removed in v6.0.0. See https://github.com/optuna/optuna/releases/tag/v3.0.0. Use :func:`~optuna.trial.Trial.suggest_float` instead.\n",
      "\n",
      "\u001b[32m[I 2022-10-21 15:27:00,974]\u001b[0m Trial 148 finished with value: 0.966394025604552 and parameters: {'classifier': 'SVC', 'C': 0.4443158819463881, 'gamma': 'auto', 'kernel': 'poly'}. Best is trial 22 with value: 0.9800853485064012.\u001b[0m\n",
      "C:\\Users\\vaiv\\AppData\\Local\\Temp\\ipykernel_78776\\803344188.py:10: FutureWarning:\n",
      "\n",
      "suggest_loguniform has been deprecated in v3.0.0. This feature will be removed in v6.0.0. See https://github.com/optuna/optuna/releases/tag/v3.0.0. Use :func:`~optuna.trial.Trial.suggest_float` instead.\n",
      "\n",
      "\u001b[32m[I 2022-10-21 15:27:00,995]\u001b[0m Trial 149 finished with value: 0.966394025604552 and parameters: {'classifier': 'SVC', 'C': 34.88372342010392, 'gamma': 'scale', 'kernel': 'poly'}. Best is trial 22 with value: 0.9800853485064012.\u001b[0m\n",
      "C:\\Users\\vaiv\\AppData\\Local\\Temp\\ipykernel_78776\\803344188.py:10: FutureWarning:\n",
      "\n",
      "suggest_loguniform has been deprecated in v3.0.0. This feature will be removed in v6.0.0. See https://github.com/optuna/optuna/releases/tag/v3.0.0. Use :func:`~optuna.trial.Trial.suggest_float` instead.\n",
      "\n",
      "\u001b[32m[I 2022-10-21 15:27:01,015]\u001b[0m Trial 150 finished with value: 0.9799075391180655 and parameters: {'classifier': 'SVC', 'C': 74.66083957511076, 'gamma': 'scale', 'kernel': 'poly'}. Best is trial 22 with value: 0.9800853485064012.\u001b[0m\n",
      "C:\\Users\\vaiv\\AppData\\Local\\Temp\\ipykernel_78776\\803344188.py:10: FutureWarning:\n",
      "\n",
      "suggest_loguniform has been deprecated in v3.0.0. This feature will be removed in v6.0.0. See https://github.com/optuna/optuna/releases/tag/v3.0.0. Use :func:`~optuna.trial.Trial.suggest_float` instead.\n",
      "\n",
      "\u001b[32m[I 2022-10-21 15:27:01,039]\u001b[0m Trial 151 finished with value: 0.9799075391180655 and parameters: {'classifier': 'SVC', 'C': 1.9706415871647924, 'gamma': 'auto', 'kernel': 'poly'}. Best is trial 22 with value: 0.9800853485064012.\u001b[0m\n",
      "C:\\Users\\vaiv\\AppData\\Local\\Temp\\ipykernel_78776\\803344188.py:10: FutureWarning:\n",
      "\n",
      "suggest_loguniform has been deprecated in v3.0.0. This feature will be removed in v6.0.0. See https://github.com/optuna/optuna/releases/tag/v3.0.0. Use :func:`~optuna.trial.Trial.suggest_float` instead.\n",
      "\n",
      "\u001b[32m[I 2022-10-21 15:27:01,061]\u001b[0m Trial 152 finished with value: 0.9799075391180655 and parameters: {'classifier': 'SVC', 'C': 2.37593607990322, 'gamma': 'auto', 'kernel': 'poly'}. Best is trial 22 with value: 0.9800853485064012.\u001b[0m\n",
      "C:\\Users\\vaiv\\AppData\\Local\\Temp\\ipykernel_78776\\803344188.py:10: FutureWarning:\n",
      "\n",
      "suggest_loguniform has been deprecated in v3.0.0. This feature will be removed in v6.0.0. See https://github.com/optuna/optuna/releases/tag/v3.0.0. Use :func:`~optuna.trial.Trial.suggest_float` instead.\n",
      "\n",
      "\u001b[32m[I 2022-10-21 15:27:01,085]\u001b[0m Trial 153 finished with value: 0.9799075391180655 and parameters: {'classifier': 'SVC', 'C': 3.527727318820421, 'gamma': 'auto', 'kernel': 'poly'}. Best is trial 22 with value: 0.9800853485064012.\u001b[0m\n",
      "C:\\Users\\vaiv\\AppData\\Local\\Temp\\ipykernel_78776\\803344188.py:10: FutureWarning:\n",
      "\n",
      "suggest_loguniform has been deprecated in v3.0.0. This feature will be removed in v6.0.0. See https://github.com/optuna/optuna/releases/tag/v3.0.0. Use :func:`~optuna.trial.Trial.suggest_float` instead.\n",
      "\n",
      "\u001b[32m[I 2022-10-21 15:27:01,107]\u001b[0m Trial 154 finished with value: 0.9731507823613087 and parameters: {'classifier': 'SVC', 'C': 0.24394540255417044, 'gamma': 'auto', 'kernel': 'poly'}. Best is trial 22 with value: 0.9800853485064012.\u001b[0m\n",
      "C:\\Users\\vaiv\\AppData\\Local\\Temp\\ipykernel_78776\\803344188.py:10: FutureWarning:\n",
      "\n",
      "suggest_loguniform has been deprecated in v3.0.0. This feature will be removed in v6.0.0. See https://github.com/optuna/optuna/releases/tag/v3.0.0. Use :func:`~optuna.trial.Trial.suggest_float` instead.\n",
      "\n",
      "\u001b[32m[I 2022-10-21 15:27:01,128]\u001b[0m Trial 155 finished with value: 0.9665718349928876 and parameters: {'classifier': 'SVC', 'C': 0.8158528433299588, 'gamma': 'auto', 'kernel': 'rbf'}. Best is trial 22 with value: 0.9800853485064012.\u001b[0m\n",
      "C:\\Users\\vaiv\\AppData\\Local\\Temp\\ipykernel_78776\\803344188.py:10: FutureWarning:\n",
      "\n",
      "suggest_loguniform has been deprecated in v3.0.0. This feature will be removed in v6.0.0. See https://github.com/optuna/optuna/releases/tag/v3.0.0. Use :func:`~optuna.trial.Trial.suggest_float` instead.\n",
      "\n",
      "\u001b[32m[I 2022-10-21 15:27:01,149]\u001b[0m Trial 156 finished with value: 0.9799075391180655 and parameters: {'classifier': 'SVC', 'C': 57.94747860509096, 'gamma': 'scale', 'kernel': 'poly'}. Best is trial 22 with value: 0.9800853485064012.\u001b[0m\n",
      "C:\\Users\\vaiv\\AppData\\Local\\Temp\\ipykernel_78776\\803344188.py:10: FutureWarning:\n",
      "\n",
      "suggest_loguniform has been deprecated in v3.0.0. This feature will be removed in v6.0.0. See https://github.com/optuna/optuna/releases/tag/v3.0.0. Use :func:`~optuna.trial.Trial.suggest_float` instead.\n",
      "\n",
      "\u001b[32m[I 2022-10-21 15:27:01,173]\u001b[0m Trial 157 finished with value: 0.9799075391180655 and parameters: {'classifier': 'SVC', 'C': 5.210458151488244, 'gamma': 'auto', 'kernel': 'poly'}. Best is trial 22 with value: 0.9800853485064012.\u001b[0m\n",
      "C:\\Users\\vaiv\\AppData\\Local\\Temp\\ipykernel_78776\\803344188.py:10: FutureWarning:\n",
      "\n",
      "suggest_loguniform has been deprecated in v3.0.0. This feature will be removed in v6.0.0. See https://github.com/optuna/optuna/releases/tag/v3.0.0. Use :func:`~optuna.trial.Trial.suggest_float` instead.\n",
      "\n",
      "\u001b[32m[I 2022-10-21 15:27:01,200]\u001b[0m Trial 158 finished with value: 0.9733285917496444 and parameters: {'classifier': 'SVC', 'C': 11.83763854091456, 'gamma': 'auto', 'kernel': 'poly'}. Best is trial 22 with value: 0.9800853485064012.\u001b[0m\n",
      "C:\\Users\\vaiv\\AppData\\Local\\Temp\\ipykernel_78776\\803344188.py:10: FutureWarning:\n",
      "\n",
      "suggest_loguniform has been deprecated in v3.0.0. This feature will be removed in v6.0.0. See https://github.com/optuna/optuna/releases/tag/v3.0.0. Use :func:`~optuna.trial.Trial.suggest_float` instead.\n",
      "\n",
      "\u001b[32m[I 2022-10-21 15:27:01,218]\u001b[0m Trial 159 finished with value: 0.9735064011379801 and parameters: {'classifier': 'SVC', 'C': 3.593731486952885, 'gamma': 'auto', 'kernel': 'linear'}. Best is trial 22 with value: 0.9800853485064012.\u001b[0m\n",
      "C:\\Users\\vaiv\\AppData\\Local\\Temp\\ipykernel_78776\\803344188.py:10: FutureWarning:\n",
      "\n",
      "suggest_loguniform has been deprecated in v3.0.0. This feature will be removed in v6.0.0. See https://github.com/optuna/optuna/releases/tag/v3.0.0. Use :func:`~optuna.trial.Trial.suggest_float` instead.\n",
      "\n",
      "\u001b[32m[I 2022-10-21 15:27:01,244]\u001b[0m Trial 160 finished with value: 0.4822190611664296 and parameters: {'classifier': 'SVC', 'C': 4.90755069965529e-09, 'gamma': 'scale', 'kernel': 'linear'}. Best is trial 22 with value: 0.9800853485064012.\u001b[0m\n",
      "C:\\Users\\vaiv\\AppData\\Local\\Temp\\ipykernel_78776\\803344188.py:10: FutureWarning:\n",
      "\n",
      "suggest_loguniform has been deprecated in v3.0.0. This feature will be removed in v6.0.0. See https://github.com/optuna/optuna/releases/tag/v3.0.0. Use :func:`~optuna.trial.Trial.suggest_float` instead.\n",
      "\n",
      "\u001b[32m[I 2022-10-21 15:27:01,264]\u001b[0m Trial 161 finished with value: 0.9799075391180655 and parameters: {'classifier': 'SVC', 'C': 114.63800459953741, 'gamma': 'scale', 'kernel': 'poly'}. Best is trial 22 with value: 0.9800853485064012.\u001b[0m\n"
     ]
    },
    {
     "name": "stderr",
     "output_type": "stream",
     "text": [
      "C:\\Users\\vaiv\\AppData\\Local\\Temp\\ipykernel_78776\\803344188.py:10: FutureWarning:\n",
      "\n",
      "suggest_loguniform has been deprecated in v3.0.0. This feature will be removed in v6.0.0. See https://github.com/optuna/optuna/releases/tag/v3.0.0. Use :func:`~optuna.trial.Trial.suggest_float` instead.\n",
      "\n",
      "\u001b[32m[I 2022-10-21 15:27:01,285]\u001b[0m Trial 162 finished with value: 0.9731507823613087 and parameters: {'classifier': 'SVC', 'C': 532.011704431613, 'gamma': 'scale', 'kernel': 'linear'}. Best is trial 22 with value: 0.9800853485064012.\u001b[0m\n",
      "C:\\Users\\vaiv\\AppData\\Local\\Temp\\ipykernel_78776\\803344188.py:10: FutureWarning:\n",
      "\n",
      "suggest_loguniform has been deprecated in v3.0.0. This feature will be removed in v6.0.0. See https://github.com/optuna/optuna/releases/tag/v3.0.0. Use :func:`~optuna.trial.Trial.suggest_float` instead.\n",
      "\n",
      "\u001b[32m[I 2022-10-21 15:27:01,309]\u001b[0m Trial 163 finished with value: 0.9731507823613087 and parameters: {'classifier': 'SVC', 'C': 12.881279074671438, 'gamma': 'scale', 'kernel': 'poly'}. Best is trial 22 with value: 0.9800853485064012.\u001b[0m\n",
      "C:\\Users\\vaiv\\AppData\\Local\\Temp\\ipykernel_78776\\803344188.py:10: FutureWarning:\n",
      "\n",
      "suggest_loguniform has been deprecated in v3.0.0. This feature will be removed in v6.0.0. See https://github.com/optuna/optuna/releases/tag/v3.0.0. Use :func:`~optuna.trial.Trial.suggest_float` instead.\n",
      "\n",
      "\u001b[32m[I 2022-10-21 15:27:01,331]\u001b[0m Trial 164 finished with value: 0.9799075391180655 and parameters: {'classifier': 'SVC', 'C': 252.20491301181045, 'gamma': 'scale', 'kernel': 'poly'}. Best is trial 22 with value: 0.9800853485064012.\u001b[0m\n",
      "C:\\Users\\vaiv\\AppData\\Local\\Temp\\ipykernel_78776\\803344188.py:10: FutureWarning:\n",
      "\n",
      "suggest_loguniform has been deprecated in v3.0.0. This feature will be removed in v6.0.0. See https://github.com/optuna/optuna/releases/tag/v3.0.0. Use :func:`~optuna.trial.Trial.suggest_float` instead.\n",
      "\n",
      "\u001b[32m[I 2022-10-21 15:27:01,359]\u001b[0m Trial 165 finished with value: 0.9799075391180655 and parameters: {'classifier': 'SVC', 'C': 1.1611984829392468, 'gamma': 'auto', 'kernel': 'poly'}. Best is trial 22 with value: 0.9800853485064012.\u001b[0m\n",
      "C:\\Users\\vaiv\\AppData\\Local\\Temp\\ipykernel_78776\\803344188.py:10: FutureWarning:\n",
      "\n",
      "suggest_loguniform has been deprecated in v3.0.0. This feature will be removed in v6.0.0. See https://github.com/optuna/optuna/releases/tag/v3.0.0. Use :func:`~optuna.trial.Trial.suggest_float` instead.\n",
      "\n",
      "\u001b[32m[I 2022-10-21 15:27:01,381]\u001b[0m Trial 166 finished with value: 0.9799075391180655 and parameters: {'classifier': 'SVC', 'C': 0.9793331624401539, 'gamma': 'auto', 'kernel': 'poly'}. Best is trial 22 with value: 0.9800853485064012.\u001b[0m\n",
      "C:\\Users\\vaiv\\AppData\\Local\\Temp\\ipykernel_78776\\803344188.py:10: FutureWarning:\n",
      "\n",
      "suggest_loguniform has been deprecated in v3.0.0. This feature will be removed in v6.0.0. See https://github.com/optuna/optuna/releases/tag/v3.0.0. Use :func:`~optuna.trial.Trial.suggest_float` instead.\n",
      "\n",
      "\u001b[32m[I 2022-10-21 15:27:01,420]\u001b[0m Trial 167 finished with value: 0.9799075391180655 and parameters: {'classifier': 'SVC', 'C': 6.012227312211139, 'gamma': 'auto', 'kernel': 'poly'}. Best is trial 22 with value: 0.9800853485064012.\u001b[0m\n",
      "C:\\Users\\vaiv\\AppData\\Local\\Temp\\ipykernel_78776\\803344188.py:10: FutureWarning:\n",
      "\n",
      "suggest_loguniform has been deprecated in v3.0.0. This feature will be removed in v6.0.0. See https://github.com/optuna/optuna/releases/tag/v3.0.0. Use :func:`~optuna.trial.Trial.suggest_float` instead.\n",
      "\n",
      "\u001b[32m[I 2022-10-21 15:27:01,443]\u001b[0m Trial 168 finished with value: 0.9731507823613087 and parameters: {'classifier': 'SVC', 'C': 0.15351162172581753, 'gamma': 'auto', 'kernel': 'poly'}. Best is trial 22 with value: 0.9800853485064012.\u001b[0m\n",
      "C:\\Users\\vaiv\\Documents\\Git\\ConvAE_LSTM\\.convAE_lstm\\lib\\site-packages\\sklearn\\ensemble\\_forest.py:427: FutureWarning:\n",
      "\n",
      "`max_features='auto'` has been deprecated in 1.1 and will be removed in 1.3. To keep the past behaviour, explicitly set `max_features='sqrt'` or remove this parameter as it is also the default value for RandomForestClassifiers and ExtraTreesClassifiers.\n",
      "\n",
      "C:\\Users\\vaiv\\Documents\\Git\\ConvAE_LSTM\\.convAE_lstm\\lib\\site-packages\\sklearn\\ensemble\\_forest.py:427: FutureWarning:\n",
      "\n",
      "`max_features='auto'` has been deprecated in 1.1 and will be removed in 1.3. To keep the past behaviour, explicitly set `max_features='sqrt'` or remove this parameter as it is also the default value for RandomForestClassifiers and ExtraTreesClassifiers.\n",
      "\n",
      "C:\\Users\\vaiv\\Documents\\Git\\ConvAE_LSTM\\.convAE_lstm\\lib\\site-packages\\sklearn\\ensemble\\_forest.py:427: FutureWarning:\n",
      "\n",
      "`max_features='auto'` has been deprecated in 1.1 and will be removed in 1.3. To keep the past behaviour, explicitly set `max_features='sqrt'` or remove this parameter as it is also the default value for RandomForestClassifiers and ExtraTreesClassifiers.\n",
      "\n",
      "C:\\Users\\vaiv\\Documents\\Git\\ConvAE_LSTM\\.convAE_lstm\\lib\\site-packages\\sklearn\\ensemble\\_forest.py:427: FutureWarning:\n",
      "\n",
      "`max_features='auto'` has been deprecated in 1.1 and will be removed in 1.3. To keep the past behaviour, explicitly set `max_features='sqrt'` or remove this parameter as it is also the default value for RandomForestClassifiers and ExtraTreesClassifiers.\n",
      "\n",
      "\u001b[32m[I 2022-10-21 15:27:02,254]\u001b[0m Trial 169 finished with value: 0.9534139402560455 and parameters: {'classifier': 'RandomForest', 'n_estimators': 110, 'max_depth': 14, 'criterion': 'gini', 'max_features': 'auto', 'min_samples_leaf': 7}. Best is trial 22 with value: 0.9800853485064012.\u001b[0m\n",
      "C:\\Users\\vaiv\\AppData\\Local\\Temp\\ipykernel_78776\\803344188.py:10: FutureWarning:\n",
      "\n",
      "suggest_loguniform has been deprecated in v3.0.0. This feature will be removed in v6.0.0. See https://github.com/optuna/optuna/releases/tag/v3.0.0. Use :func:`~optuna.trial.Trial.suggest_float` instead.\n",
      "\n",
      "\u001b[32m[I 2022-10-21 15:27:02,292]\u001b[0m Trial 170 finished with value: 0.9667496443812233 and parameters: {'classifier': 'SVC', 'C': 21.343558483371375, 'gamma': 'auto', 'kernel': 'poly'}. Best is trial 22 with value: 0.9800853485064012.\u001b[0m\n",
      "C:\\Users\\vaiv\\AppData\\Local\\Temp\\ipykernel_78776\\803344188.py:10: FutureWarning:\n",
      "\n",
      "suggest_loguniform has been deprecated in v3.0.0. This feature will be removed in v6.0.0. See https://github.com/optuna/optuna/releases/tag/v3.0.0. Use :func:`~optuna.trial.Trial.suggest_float` instead.\n",
      "\n",
      "\u001b[32m[I 2022-10-21 15:27:02,313]\u001b[0m Trial 171 finished with value: 0.9799075391180655 and parameters: {'classifier': 'SVC', 'C': 98.54694504678824, 'gamma': 'scale', 'kernel': 'poly'}. Best is trial 22 with value: 0.9800853485064012.\u001b[0m\n",
      "C:\\Users\\vaiv\\AppData\\Local\\Temp\\ipykernel_78776\\803344188.py:10: FutureWarning:\n",
      "\n",
      "suggest_loguniform has been deprecated in v3.0.0. This feature will be removed in v6.0.0. See https://github.com/optuna/optuna/releases/tag/v3.0.0. Use :func:`~optuna.trial.Trial.suggest_float` instead.\n",
      "\n",
      "\u001b[32m[I 2022-10-21 15:27:02,358]\u001b[0m Trial 172 finished with value: 0.9601706970128023 and parameters: {'classifier': 'SVC', 'C': 55.037427298258386, 'gamma': 'auto', 'kernel': 'poly'}. Best is trial 22 with value: 0.9800853485064012.\u001b[0m\n",
      "C:\\Users\\vaiv\\AppData\\Local\\Temp\\ipykernel_78776\\803344188.py:10: FutureWarning:\n",
      "\n",
      "suggest_loguniform has been deprecated in v3.0.0. This feature will be removed in v6.0.0. See https://github.com/optuna/optuna/releases/tag/v3.0.0. Use :func:`~optuna.trial.Trial.suggest_float` instead.\n",
      "\n",
      "\u001b[32m[I 2022-10-21 15:27:02,379]\u001b[0m Trial 173 finished with value: 0.9799075391180655 and parameters: {'classifier': 'SVC', 'C': 2.2327210457691904, 'gamma': 'auto', 'kernel': 'poly'}. Best is trial 22 with value: 0.9800853485064012.\u001b[0m\n",
      "C:\\Users\\vaiv\\AppData\\Local\\Temp\\ipykernel_78776\\803344188.py:10: FutureWarning:\n",
      "\n",
      "suggest_loguniform has been deprecated in v3.0.0. This feature will be removed in v6.0.0. See https://github.com/optuna/optuna/releases/tag/v3.0.0. Use :func:`~optuna.trial.Trial.suggest_float` instead.\n",
      "\n",
      "\u001b[32m[I 2022-10-21 15:27:02,401]\u001b[0m Trial 174 finished with value: 0.9731507823613087 and parameters: {'classifier': 'SVC', 'C': 15.275555178089238, 'gamma': 'scale', 'kernel': 'poly'}. Best is trial 22 with value: 0.9800853485064012.\u001b[0m\n",
      "C:\\Users\\vaiv\\AppData\\Local\\Temp\\ipykernel_78776\\803344188.py:10: FutureWarning:\n",
      "\n",
      "suggest_loguniform has been deprecated in v3.0.0. This feature will be removed in v6.0.0. See https://github.com/optuna/optuna/releases/tag/v3.0.0. Use :func:`~optuna.trial.Trial.suggest_float` instead.\n",
      "\n",
      "\u001b[32m[I 2022-10-21 15:27:02,422]\u001b[0m Trial 175 finished with value: 0.9731507823613087 and parameters: {'classifier': 'SVC', 'C': 0.7139778541418461, 'gamma': 'auto', 'kernel': 'poly'}. Best is trial 22 with value: 0.9800853485064012.\u001b[0m\n"
     ]
    },
    {
     "name": "stderr",
     "output_type": "stream",
     "text": [
      "C:\\Users\\vaiv\\AppData\\Local\\Temp\\ipykernel_78776\\803344188.py:10: FutureWarning:\n",
      "\n",
      "suggest_loguniform has been deprecated in v3.0.0. This feature will be removed in v6.0.0. See https://github.com/optuna/optuna/releases/tag/v3.0.0. Use :func:`~optuna.trial.Trial.suggest_float` instead.\n",
      "\n",
      "\u001b[32m[I 2022-10-21 15:27:02,441]\u001b[0m Trial 176 finished with value: 0.9735064011379801 and parameters: {'classifier': 'SVC', 'C': 0.02140635280401711, 'gamma': 'auto', 'kernel': 'poly'}. Best is trial 22 with value: 0.9800853485064012.\u001b[0m\n",
      "C:\\Users\\vaiv\\AppData\\Local\\Temp\\ipykernel_78776\\803344188.py:10: FutureWarning:\n",
      "\n",
      "suggest_loguniform has been deprecated in v3.0.0. This feature will be removed in v6.0.0. See https://github.com/optuna/optuna/releases/tag/v3.0.0. Use :func:`~optuna.trial.Trial.suggest_float` instead.\n",
      "\n",
      "\u001b[32m[I 2022-10-21 15:27:02,466]\u001b[0m Trial 177 finished with value: 0.9799075391180655 and parameters: {'classifier': 'SVC', 'C': 5.643309346298721, 'gamma': 'auto', 'kernel': 'poly'}. Best is trial 22 with value: 0.9800853485064012.\u001b[0m\n",
      "C:\\Users\\vaiv\\AppData\\Local\\Temp\\ipykernel_78776\\803344188.py:10: FutureWarning:\n",
      "\n",
      "suggest_loguniform has been deprecated in v3.0.0. This feature will be removed in v6.0.0. See https://github.com/optuna/optuna/releases/tag/v3.0.0. Use :func:`~optuna.trial.Trial.suggest_float` instead.\n",
      "\n",
      "\u001b[32m[I 2022-10-21 15:27:02,505]\u001b[0m Trial 178 finished with value: 0.9667496443812233 and parameters: {'classifier': 'SVC', 'C': 28.092528004085505, 'gamma': 'auto', 'kernel': 'poly'}. Best is trial 22 with value: 0.9800853485064012.\u001b[0m\n",
      "C:\\Users\\vaiv\\AppData\\Local\\Temp\\ipykernel_78776\\803344188.py:10: FutureWarning:\n",
      "\n",
      "suggest_loguniform has been deprecated in v3.0.0. This feature will be removed in v6.0.0. See https://github.com/optuna/optuna/releases/tag/v3.0.0. Use :func:`~optuna.trial.Trial.suggest_float` instead.\n",
      "\n",
      "\u001b[32m[I 2022-10-21 15:27:02,778]\u001b[0m Trial 179 finished with value: 0.9535917496443812 and parameters: {'classifier': 'SVC', 'C': 1544562645.1197598, 'gamma': 'auto', 'kernel': 'poly'}. Best is trial 22 with value: 0.9800853485064012.\u001b[0m\n",
      "C:\\Users\\vaiv\\AppData\\Local\\Temp\\ipykernel_78776\\803344188.py:10: FutureWarning:\n",
      "\n",
      "suggest_loguniform has been deprecated in v3.0.0. This feature will be removed in v6.0.0. See https://github.com/optuna/optuna/releases/tag/v3.0.0. Use :func:`~optuna.trial.Trial.suggest_float` instead.\n",
      "\n",
      "\u001b[32m[I 2022-10-21 15:27:02,798]\u001b[0m Trial 180 finished with value: 0.9735064011379801 and parameters: {'classifier': 'SVC', 'C': 3.1010358981871, 'gamma': 'auto', 'kernel': 'linear'}. Best is trial 22 with value: 0.9800853485064012.\u001b[0m\n",
      "C:\\Users\\vaiv\\AppData\\Local\\Temp\\ipykernel_78776\\803344188.py:10: FutureWarning:\n",
      "\n",
      "suggest_loguniform has been deprecated in v3.0.0. This feature will be removed in v6.0.0. See https://github.com/optuna/optuna/releases/tag/v3.0.0. Use :func:`~optuna.trial.Trial.suggest_float` instead.\n",
      "\n",
      "\u001b[32m[I 2022-10-21 15:27:02,820]\u001b[0m Trial 181 finished with value: 0.9799075391180655 and parameters: {'classifier': 'SVC', 'C': 7.347063668212234, 'gamma': 'auto', 'kernel': 'poly'}. Best is trial 22 with value: 0.9800853485064012.\u001b[0m\n",
      "C:\\Users\\vaiv\\AppData\\Local\\Temp\\ipykernel_78776\\803344188.py:10: FutureWarning:\n",
      "\n",
      "suggest_loguniform has been deprecated in v3.0.0. This feature will be removed in v6.0.0. See https://github.com/optuna/optuna/releases/tag/v3.0.0. Use :func:`~optuna.trial.Trial.suggest_float` instead.\n",
      "\n",
      "\u001b[32m[I 2022-10-21 15:27:02,844]\u001b[0m Trial 182 finished with value: 0.9799075391180655 and parameters: {'classifier': 'SVC', 'C': 7.439469586530771, 'gamma': 'auto', 'kernel': 'poly'}. Best is trial 22 with value: 0.9800853485064012.\u001b[0m\n",
      "C:\\Users\\vaiv\\AppData\\Local\\Temp\\ipykernel_78776\\803344188.py:10: FutureWarning:\n",
      "\n",
      "suggest_loguniform has been deprecated in v3.0.0. This feature will be removed in v6.0.0. See https://github.com/optuna/optuna/releases/tag/v3.0.0. Use :func:`~optuna.trial.Trial.suggest_float` instead.\n",
      "\n",
      "\u001b[32m[I 2022-10-21 15:27:02,864]\u001b[0m Trial 183 finished with value: 0.9799075391180655 and parameters: {'classifier': 'SVC', 'C': 1.776757716444091, 'gamma': 'auto', 'kernel': 'poly'}. Best is trial 22 with value: 0.9800853485064012.\u001b[0m\n",
      "C:\\Users\\vaiv\\AppData\\Local\\Temp\\ipykernel_78776\\803344188.py:10: FutureWarning:\n",
      "\n",
      "suggest_loguniform has been deprecated in v3.0.0. This feature will be removed in v6.0.0. See https://github.com/optuna/optuna/releases/tag/v3.0.0. Use :func:`~optuna.trial.Trial.suggest_float` instead.\n",
      "\n",
      "\u001b[32m[I 2022-10-21 15:27:02,883]\u001b[0m Trial 184 finished with value: 0.966394025604552 and parameters: {'classifier': 'SVC', 'C': 0.5507088344091281, 'gamma': 'auto', 'kernel': 'poly'}. Best is trial 22 with value: 0.9800853485064012.\u001b[0m\n",
      "C:\\Users\\vaiv\\AppData\\Local\\Temp\\ipykernel_78776\\803344188.py:10: FutureWarning:\n",
      "\n",
      "suggest_loguniform has been deprecated in v3.0.0. This feature will be removed in v6.0.0. See https://github.com/optuna/optuna/releases/tag/v3.0.0. Use :func:`~optuna.trial.Trial.suggest_float` instead.\n",
      "\n",
      "\u001b[32m[I 2022-10-21 15:27:02,919]\u001b[0m Trial 185 finished with value: 0.9667496443812233 and parameters: {'classifier': 'SVC', 'C': 1238.9606395346543, 'gamma': 'scale', 'kernel': 'poly'}. Best is trial 22 with value: 0.9800853485064012.\u001b[0m\n",
      "C:\\Users\\vaiv\\AppData\\Local\\Temp\\ipykernel_78776\\803344188.py:10: FutureWarning:\n",
      "\n",
      "suggest_loguniform has been deprecated in v3.0.0. This feature will be removed in v6.0.0. See https://github.com/optuna/optuna/releases/tag/v3.0.0. Use :func:`~optuna.trial.Trial.suggest_float` instead.\n",
      "\n",
      "\u001b[32m[I 2022-10-21 15:27:02,937]\u001b[0m Trial 186 finished with value: 0.9665718349928876 and parameters: {'classifier': 'SVC', 'C': 1.079120432064023, 'gamma': 'auto', 'kernel': 'rbf'}. Best is trial 22 with value: 0.9800853485064012.\u001b[0m\n",
      "C:\\Users\\vaiv\\AppData\\Local\\Temp\\ipykernel_78776\\803344188.py:10: FutureWarning:\n",
      "\n",
      "suggest_loguniform has been deprecated in v3.0.0. This feature will be removed in v6.0.0. See https://github.com/optuna/optuna/releases/tag/v3.0.0. Use :func:`~optuna.trial.Trial.suggest_float` instead.\n",
      "\n",
      "\u001b[32m[I 2022-10-21 15:27:03,058]\u001b[0m Trial 187 finished with value: 0.9404338549075392 and parameters: {'classifier': 'SVC', 'C': 224.46642011018298, 'gamma': 'auto', 'kernel': 'poly'}. Best is trial 22 with value: 0.9800853485064012.\u001b[0m\n",
      "C:\\Users\\vaiv\\AppData\\Local\\Temp\\ipykernel_78776\\803344188.py:10: FutureWarning:\n",
      "\n",
      "suggest_loguniform has been deprecated in v3.0.0. This feature will be removed in v6.0.0. See https://github.com/optuna/optuna/releases/tag/v3.0.0. Use :func:`~optuna.trial.Trial.suggest_float` instead.\n",
      "\n",
      "\u001b[32m[I 2022-10-21 15:27:03,077]\u001b[0m Trial 188 finished with value: 0.9800853485064012 and parameters: {'classifier': 'SVC', 'C': 6.045492119466991, 'gamma': 'auto', 'kernel': 'linear'}. Best is trial 22 with value: 0.9800853485064012.\u001b[0m\n",
      "C:\\Users\\vaiv\\AppData\\Local\\Temp\\ipykernel_78776\\803344188.py:10: FutureWarning:\n",
      "\n",
      "suggest_loguniform has been deprecated in v3.0.0. This feature will be removed in v6.0.0. See https://github.com/optuna/optuna/releases/tag/v3.0.0. Use :func:`~optuna.trial.Trial.suggest_float` instead.\n",
      "\n",
      "\u001b[32m[I 2022-10-21 15:27:03,096]\u001b[0m Trial 189 finished with value: 0.4822190611664296 and parameters: {'classifier': 'SVC', 'C': 2.8406440391044363e-06, 'gamma': 'auto', 'kernel': 'linear'}. Best is trial 22 with value: 0.9800853485064012.\u001b[0m\n",
      "C:\\Users\\vaiv\\AppData\\Local\\Temp\\ipykernel_78776\\803344188.py:10: FutureWarning:\n",
      "\n",
      "suggest_loguniform has been deprecated in v3.0.0. This feature will be removed in v6.0.0. See https://github.com/optuna/optuna/releases/tag/v3.0.0. Use :func:`~optuna.trial.Trial.suggest_float` instead.\n",
      "\n",
      "\u001b[32m[I 2022-10-21 15:27:03,115]\u001b[0m Trial 190 finished with value: 0.9733285917496444 and parameters: {'classifier': 'SVC', 'C': 40.65200861992486, 'gamma': 'auto', 'kernel': 'linear'}. Best is trial 22 with value: 0.9800853485064012.\u001b[0m\n",
      "C:\\Users\\vaiv\\AppData\\Local\\Temp\\ipykernel_78776\\803344188.py:10: FutureWarning:\n",
      "\n",
      "suggest_loguniform has been deprecated in v3.0.0. This feature will be removed in v6.0.0. See https://github.com/optuna/optuna/releases/tag/v3.0.0. Use :func:`~optuna.trial.Trial.suggest_float` instead.\n",
      "\n",
      "\u001b[32m[I 2022-10-21 15:27:03,136]\u001b[0m Trial 191 finished with value: 0.9733285917496444 and parameters: {'classifier': 'SVC', 'C': 16.970181680927002, 'gamma': 'auto', 'kernel': 'linear'}. Best is trial 22 with value: 0.9800853485064012.\u001b[0m\n"
     ]
    },
    {
     "name": "stderr",
     "output_type": "stream",
     "text": [
      "C:\\Users\\vaiv\\AppData\\Local\\Temp\\ipykernel_78776\\803344188.py:10: FutureWarning:\n",
      "\n",
      "suggest_loguniform has been deprecated in v3.0.0. This feature will be removed in v6.0.0. See https://github.com/optuna/optuna/releases/tag/v3.0.0. Use :func:`~optuna.trial.Trial.suggest_float` instead.\n",
      "\n",
      "\u001b[32m[I 2022-10-21 15:27:03,156]\u001b[0m Trial 192 finished with value: 0.966394025604552 and parameters: {'classifier': 'SVC', 'C': 104.44457641320949, 'gamma': 'scale', 'kernel': 'linear'}. Best is trial 22 with value: 0.9800853485064012.\u001b[0m\n",
      "C:\\Users\\vaiv\\AppData\\Local\\Temp\\ipykernel_78776\\803344188.py:10: FutureWarning:\n",
      "\n",
      "suggest_loguniform has been deprecated in v3.0.0. This feature will be removed in v6.0.0. See https://github.com/optuna/optuna/releases/tag/v3.0.0. Use :func:`~optuna.trial.Trial.suggest_float` instead.\n",
      "\n",
      "\u001b[32m[I 2022-10-21 15:27:03,177]\u001b[0m Trial 193 finished with value: 0.9731507823613087 and parameters: {'classifier': 'SVC', 'C': 823.3485905859053, 'gamma': 'auto', 'kernel': 'linear'}. Best is trial 22 with value: 0.9800853485064012.\u001b[0m\n",
      "C:\\Users\\vaiv\\AppData\\Local\\Temp\\ipykernel_78776\\803344188.py:10: FutureWarning:\n",
      "\n",
      "suggest_loguniform has been deprecated in v3.0.0. This feature will be removed in v6.0.0. See https://github.com/optuna/optuna/releases/tag/v3.0.0. Use :func:`~optuna.trial.Trial.suggest_float` instead.\n",
      "\n",
      "\u001b[32m[I 2022-10-21 15:27:03,200]\u001b[0m Trial 194 finished with value: 0.9799075391180655 and parameters: {'classifier': 'SVC', 'C': 3.32792745279665, 'gamma': 'auto', 'kernel': 'poly'}. Best is trial 22 with value: 0.9800853485064012.\u001b[0m\n",
      "C:\\Users\\vaiv\\AppData\\Local\\Temp\\ipykernel_78776\\803344188.py:10: FutureWarning:\n",
      "\n",
      "suggest_loguniform has been deprecated in v3.0.0. This feature will be removed in v6.0.0. See https://github.com/optuna/optuna/releases/tag/v3.0.0. Use :func:`~optuna.trial.Trial.suggest_float` instead.\n",
      "\n",
      "\u001b[32m[I 2022-10-21 15:27:03,407]\u001b[0m Trial 195 finished with value: 0.9535917496443812 and parameters: {'classifier': 'SVC', 'C': 505.6579914783834, 'gamma': 'auto', 'kernel': 'poly'}. Best is trial 22 with value: 0.9800853485064012.\u001b[0m\n",
      "C:\\Users\\vaiv\\AppData\\Local\\Temp\\ipykernel_78776\\803344188.py:10: FutureWarning:\n",
      "\n",
      "suggest_loguniform has been deprecated in v3.0.0. This feature will be removed in v6.0.0. See https://github.com/optuna/optuna/releases/tag/v3.0.0. Use :func:`~optuna.trial.Trial.suggest_float` instead.\n",
      "\n",
      "\u001b[32m[I 2022-10-21 15:27:03,425]\u001b[0m Trial 196 finished with value: 0.9733285917496444 and parameters: {'classifier': 'SVC', 'C': 11.13739949000316, 'gamma': 'auto', 'kernel': 'linear'}. Best is trial 22 with value: 0.9800853485064012.\u001b[0m\n",
      "C:\\Users\\vaiv\\AppData\\Local\\Temp\\ipykernel_78776\\803344188.py:10: FutureWarning:\n",
      "\n",
      "suggest_loguniform has been deprecated in v3.0.0. This feature will be removed in v6.0.0. See https://github.com/optuna/optuna/releases/tag/v3.0.0. Use :func:`~optuna.trial.Trial.suggest_float` instead.\n",
      "\n",
      "\u001b[32m[I 2022-10-21 15:27:03,446]\u001b[0m Trial 197 finished with value: 0.9799075391180655 and parameters: {'classifier': 'SVC', 'C': 2.137127465653091, 'gamma': 'auto', 'kernel': 'poly'}. Best is trial 22 with value: 0.9800853485064012.\u001b[0m\n",
      "C:\\Users\\vaiv\\AppData\\Local\\Temp\\ipykernel_78776\\803344188.py:10: FutureWarning:\n",
      "\n",
      "suggest_loguniform has been deprecated in v3.0.0. This feature will be removed in v6.0.0. See https://github.com/optuna/optuna/releases/tag/v3.0.0. Use :func:`~optuna.trial.Trial.suggest_float` instead.\n",
      "\n",
      "\u001b[32m[I 2022-10-21 15:27:03,471]\u001b[0m Trial 198 finished with value: 0.9799075391180655 and parameters: {'classifier': 'SVC', 'C': 4.878177440613078, 'gamma': 'auto', 'kernel': 'poly'}. Best is trial 22 with value: 0.9800853485064012.\u001b[0m\n",
      "C:\\Users\\vaiv\\AppData\\Local\\Temp\\ipykernel_78776\\803344188.py:10: FutureWarning:\n",
      "\n",
      "suggest_loguniform has been deprecated in v3.0.0. This feature will be removed in v6.0.0. See https://github.com/optuna/optuna/releases/tag/v3.0.0. Use :func:`~optuna.trial.Trial.suggest_float` instead.\n",
      "\n",
      "\u001b[32m[I 2022-10-21 15:27:03,494]\u001b[0m Trial 199 finished with value: 0.9799075391180655 and parameters: {'classifier': 'SVC', 'C': 4.954699012337342, 'gamma': 'auto', 'kernel': 'poly'}. Best is trial 22 with value: 0.9800853485064012.\u001b[0m\n"
     ]
    },
    {
     "name": "stdout",
     "output_type": "stream",
     "text": [
      "Best trial : score 0.9800853485064012, \n",
      "params {'classifier': 'SVC', 'C': 6.90215330917403, 'gamma': 'auto', 'kernel': 'linear'}\n"
     ]
    }
   ],
   "source": [
    "# 1. 최소화/최대화할 목적함수 정의\n",
    "def objective(trial: Trial, data, label):\n",
    "\n",
    "    # 2. trial object로 하이퍼파라미터 값 추천\n",
    "    \n",
    "    classifier_name= trial.suggest_categorical('classifier', ['SVC', 'RandomForest'])\n",
    "    #분류 모델이 SVC일 때\n",
    "    if classifier_name == 'SVC':\n",
    "        svc_param= {\n",
    "                    'C': trial.suggest_loguniform('C', 1e-10, 1e10),\n",
    "                    'gamma': trial.suggest_categorical('gamma', ['auto', 'scale']),\n",
    "                    'kernel': trial.suggest_categorical('kernel', ['linear', 'poly', 'rbf'])\n",
    "                    }\n",
    "        \n",
    "        classifier_obj = sklearn.svm.SVC(**svc_param)\n",
    "    \n",
    "    #분류모델이 랜덤포레스트일 때\n",
    "    else:\n",
    "        rf_param= {\n",
    "                    'n_estimators': trial.suggest_int('n_estimators', 10, 200), \n",
    "                    'max_depth':trial.suggest_int('max_depth', 3, 15),\n",
    "                    'criterion': trial.suggest_categorical('criterion', ['entropy', 'gini']),\n",
    "                    'max_features': trial.suggest_categorical('max_features', ['auto', 'sqrt']),\n",
    "                    'min_samples_leaf': trial.suggest_int('min_samples_leaf', 4, 8)\n",
    "                    }\n",
    "        classifier_obj = sklearn.ensemble.RandomForestClassifier(**rf_param)\n",
    "    \n",
    "    accuracy = cross_val_score(classifier_obj, data, label, cv = 4).mean()\n",
    "    return accuracy\n",
    "\n",
    "# 3. study 오브젝트 생성하고 목적함수 최적화하는 단계\n",
    "# 여기서는 목적함수를 정확도로 설정했기 때문에 최대화를 목표로 하고 있지만, 손실함수의 경우 direction='minimize'로 설정\n",
    "study = optuna.create_study(direction='maximize', sampler=TPESampler())\n",
    "# 반복 시행 횟수(trial)는 200번으로\n",
    "study.optimize(lambda trial: objective(trial, data, label), n_trials=200)\n",
    "print('Best trial : score {}, \\nparams {}'.format(study.best_trial.value, study.best_trial.params))"
   ]
  },
  {
   "cell_type": "code",
   "execution_count": 155,
   "id": "c0de953f",
   "metadata": {},
   "outputs": [
    {
     "name": "stdout",
     "output_type": "stream",
     "text": [
      "{'classifier': 'SVC', 'C': 6.90215330917403, 'gamma': 'auto', 'kernel': 'linear'}\n",
      "0.9800853485064012\n"
     ]
    }
   ],
   "source": [
    "# 시행된 trial 중 최적의 하이퍼파라미터 반환하는 메소드\n",
    "print(study.best_trial.params)\n",
    "\n",
    "# 시행된 trial 중 가장 높은 값 반환하는 메소드\n",
    "optuna_acc = study.best_trial.value\n",
    "print(optuna_acc)"
   ]
  },
  {
   "cell_type": "code",
   "execution_count": 156,
   "id": "93c35adf",
   "metadata": {},
   "outputs": [
    {
     "data": {
      "application/vnd.plotly.v1+json": {
       "config": {
        "plotlyServerURL": "https://plot.ly"
       },
       "data": [
        {
         "cliponaxis": false,
         "hovertemplate": [
          "classifier (CategoricalDistribution): 1.0<extra></extra>"
         ],
         "marker": {
          "color": "rgb(66,146,198)"
         },
         "orientation": "h",
         "text": [
          "1.00"
         ],
         "textposition": "outside",
         "type": "bar",
         "x": [
          1
         ],
         "y": [
          "classifier"
         ]
        }
       ],
       "layout": {
        "showlegend": false,
        "template": {
         "data": {
          "bar": [
           {
            "error_x": {
             "color": "#2a3f5f"
            },
            "error_y": {
             "color": "#2a3f5f"
            },
            "marker": {
             "line": {
              "color": "#E5ECF6",
              "width": 0.5
             },
             "pattern": {
              "fillmode": "overlay",
              "size": 10,
              "solidity": 0.2
             }
            },
            "type": "bar"
           }
          ],
          "barpolar": [
           {
            "marker": {
             "line": {
              "color": "#E5ECF6",
              "width": 0.5
             },
             "pattern": {
              "fillmode": "overlay",
              "size": 10,
              "solidity": 0.2
             }
            },
            "type": "barpolar"
           }
          ],
          "carpet": [
           {
            "aaxis": {
             "endlinecolor": "#2a3f5f",
             "gridcolor": "white",
             "linecolor": "white",
             "minorgridcolor": "white",
             "startlinecolor": "#2a3f5f"
            },
            "baxis": {
             "endlinecolor": "#2a3f5f",
             "gridcolor": "white",
             "linecolor": "white",
             "minorgridcolor": "white",
             "startlinecolor": "#2a3f5f"
            },
            "type": "carpet"
           }
          ],
          "choropleth": [
           {
            "colorbar": {
             "outlinewidth": 0,
             "ticks": ""
            },
            "type": "choropleth"
           }
          ],
          "contour": [
           {
            "colorbar": {
             "outlinewidth": 0,
             "ticks": ""
            },
            "colorscale": [
             [
              0,
              "#0d0887"
             ],
             [
              0.1111111111111111,
              "#46039f"
             ],
             [
              0.2222222222222222,
              "#7201a8"
             ],
             [
              0.3333333333333333,
              "#9c179e"
             ],
             [
              0.4444444444444444,
              "#bd3786"
             ],
             [
              0.5555555555555556,
              "#d8576b"
             ],
             [
              0.6666666666666666,
              "#ed7953"
             ],
             [
              0.7777777777777778,
              "#fb9f3a"
             ],
             [
              0.8888888888888888,
              "#fdca26"
             ],
             [
              1,
              "#f0f921"
             ]
            ],
            "type": "contour"
           }
          ],
          "contourcarpet": [
           {
            "colorbar": {
             "outlinewidth": 0,
             "ticks": ""
            },
            "type": "contourcarpet"
           }
          ],
          "heatmap": [
           {
            "colorbar": {
             "outlinewidth": 0,
             "ticks": ""
            },
            "colorscale": [
             [
              0,
              "#0d0887"
             ],
             [
              0.1111111111111111,
              "#46039f"
             ],
             [
              0.2222222222222222,
              "#7201a8"
             ],
             [
              0.3333333333333333,
              "#9c179e"
             ],
             [
              0.4444444444444444,
              "#bd3786"
             ],
             [
              0.5555555555555556,
              "#d8576b"
             ],
             [
              0.6666666666666666,
              "#ed7953"
             ],
             [
              0.7777777777777778,
              "#fb9f3a"
             ],
             [
              0.8888888888888888,
              "#fdca26"
             ],
             [
              1,
              "#f0f921"
             ]
            ],
            "type": "heatmap"
           }
          ],
          "heatmapgl": [
           {
            "colorbar": {
             "outlinewidth": 0,
             "ticks": ""
            },
            "colorscale": [
             [
              0,
              "#0d0887"
             ],
             [
              0.1111111111111111,
              "#46039f"
             ],
             [
              0.2222222222222222,
              "#7201a8"
             ],
             [
              0.3333333333333333,
              "#9c179e"
             ],
             [
              0.4444444444444444,
              "#bd3786"
             ],
             [
              0.5555555555555556,
              "#d8576b"
             ],
             [
              0.6666666666666666,
              "#ed7953"
             ],
             [
              0.7777777777777778,
              "#fb9f3a"
             ],
             [
              0.8888888888888888,
              "#fdca26"
             ],
             [
              1,
              "#f0f921"
             ]
            ],
            "type": "heatmapgl"
           }
          ],
          "histogram": [
           {
            "marker": {
             "pattern": {
              "fillmode": "overlay",
              "size": 10,
              "solidity": 0.2
             }
            },
            "type": "histogram"
           }
          ],
          "histogram2d": [
           {
            "colorbar": {
             "outlinewidth": 0,
             "ticks": ""
            },
            "colorscale": [
             [
              0,
              "#0d0887"
             ],
             [
              0.1111111111111111,
              "#46039f"
             ],
             [
              0.2222222222222222,
              "#7201a8"
             ],
             [
              0.3333333333333333,
              "#9c179e"
             ],
             [
              0.4444444444444444,
              "#bd3786"
             ],
             [
              0.5555555555555556,
              "#d8576b"
             ],
             [
              0.6666666666666666,
              "#ed7953"
             ],
             [
              0.7777777777777778,
              "#fb9f3a"
             ],
             [
              0.8888888888888888,
              "#fdca26"
             ],
             [
              1,
              "#f0f921"
             ]
            ],
            "type": "histogram2d"
           }
          ],
          "histogram2dcontour": [
           {
            "colorbar": {
             "outlinewidth": 0,
             "ticks": ""
            },
            "colorscale": [
             [
              0,
              "#0d0887"
             ],
             [
              0.1111111111111111,
              "#46039f"
             ],
             [
              0.2222222222222222,
              "#7201a8"
             ],
             [
              0.3333333333333333,
              "#9c179e"
             ],
             [
              0.4444444444444444,
              "#bd3786"
             ],
             [
              0.5555555555555556,
              "#d8576b"
             ],
             [
              0.6666666666666666,
              "#ed7953"
             ],
             [
              0.7777777777777778,
              "#fb9f3a"
             ],
             [
              0.8888888888888888,
              "#fdca26"
             ],
             [
              1,
              "#f0f921"
             ]
            ],
            "type": "histogram2dcontour"
           }
          ],
          "mesh3d": [
           {
            "colorbar": {
             "outlinewidth": 0,
             "ticks": ""
            },
            "type": "mesh3d"
           }
          ],
          "parcoords": [
           {
            "line": {
             "colorbar": {
              "outlinewidth": 0,
              "ticks": ""
             }
            },
            "type": "parcoords"
           }
          ],
          "pie": [
           {
            "automargin": true,
            "type": "pie"
           }
          ],
          "scatter": [
           {
            "fillpattern": {
             "fillmode": "overlay",
             "size": 10,
             "solidity": 0.2
            },
            "type": "scatter"
           }
          ],
          "scatter3d": [
           {
            "line": {
             "colorbar": {
              "outlinewidth": 0,
              "ticks": ""
             }
            },
            "marker": {
             "colorbar": {
              "outlinewidth": 0,
              "ticks": ""
             }
            },
            "type": "scatter3d"
           }
          ],
          "scattercarpet": [
           {
            "marker": {
             "colorbar": {
              "outlinewidth": 0,
              "ticks": ""
             }
            },
            "type": "scattercarpet"
           }
          ],
          "scattergeo": [
           {
            "marker": {
             "colorbar": {
              "outlinewidth": 0,
              "ticks": ""
             }
            },
            "type": "scattergeo"
           }
          ],
          "scattergl": [
           {
            "marker": {
             "colorbar": {
              "outlinewidth": 0,
              "ticks": ""
             }
            },
            "type": "scattergl"
           }
          ],
          "scattermapbox": [
           {
            "marker": {
             "colorbar": {
              "outlinewidth": 0,
              "ticks": ""
             }
            },
            "type": "scattermapbox"
           }
          ],
          "scatterpolar": [
           {
            "marker": {
             "colorbar": {
              "outlinewidth": 0,
              "ticks": ""
             }
            },
            "type": "scatterpolar"
           }
          ],
          "scatterpolargl": [
           {
            "marker": {
             "colorbar": {
              "outlinewidth": 0,
              "ticks": ""
             }
            },
            "type": "scatterpolargl"
           }
          ],
          "scatterternary": [
           {
            "marker": {
             "colorbar": {
              "outlinewidth": 0,
              "ticks": ""
             }
            },
            "type": "scatterternary"
           }
          ],
          "surface": [
           {
            "colorbar": {
             "outlinewidth": 0,
             "ticks": ""
            },
            "colorscale": [
             [
              0,
              "#0d0887"
             ],
             [
              0.1111111111111111,
              "#46039f"
             ],
             [
              0.2222222222222222,
              "#7201a8"
             ],
             [
              0.3333333333333333,
              "#9c179e"
             ],
             [
              0.4444444444444444,
              "#bd3786"
             ],
             [
              0.5555555555555556,
              "#d8576b"
             ],
             [
              0.6666666666666666,
              "#ed7953"
             ],
             [
              0.7777777777777778,
              "#fb9f3a"
             ],
             [
              0.8888888888888888,
              "#fdca26"
             ],
             [
              1,
              "#f0f921"
             ]
            ],
            "type": "surface"
           }
          ],
          "table": [
           {
            "cells": {
             "fill": {
              "color": "#EBF0F8"
             },
             "line": {
              "color": "white"
             }
            },
            "header": {
             "fill": {
              "color": "#C8D4E3"
             },
             "line": {
              "color": "white"
             }
            },
            "type": "table"
           }
          ]
         },
         "layout": {
          "annotationdefaults": {
           "arrowcolor": "#2a3f5f",
           "arrowhead": 0,
           "arrowwidth": 1
          },
          "autotypenumbers": "strict",
          "coloraxis": {
           "colorbar": {
            "outlinewidth": 0,
            "ticks": ""
           }
          },
          "colorscale": {
           "diverging": [
            [
             0,
             "#8e0152"
            ],
            [
             0.1,
             "#c51b7d"
            ],
            [
             0.2,
             "#de77ae"
            ],
            [
             0.3,
             "#f1b6da"
            ],
            [
             0.4,
             "#fde0ef"
            ],
            [
             0.5,
             "#f7f7f7"
            ],
            [
             0.6,
             "#e6f5d0"
            ],
            [
             0.7,
             "#b8e186"
            ],
            [
             0.8,
             "#7fbc41"
            ],
            [
             0.9,
             "#4d9221"
            ],
            [
             1,
             "#276419"
            ]
           ],
           "sequential": [
            [
             0,
             "#0d0887"
            ],
            [
             0.1111111111111111,
             "#46039f"
            ],
            [
             0.2222222222222222,
             "#7201a8"
            ],
            [
             0.3333333333333333,
             "#9c179e"
            ],
            [
             0.4444444444444444,
             "#bd3786"
            ],
            [
             0.5555555555555556,
             "#d8576b"
            ],
            [
             0.6666666666666666,
             "#ed7953"
            ],
            [
             0.7777777777777778,
             "#fb9f3a"
            ],
            [
             0.8888888888888888,
             "#fdca26"
            ],
            [
             1,
             "#f0f921"
            ]
           ],
           "sequentialminus": [
            [
             0,
             "#0d0887"
            ],
            [
             0.1111111111111111,
             "#46039f"
            ],
            [
             0.2222222222222222,
             "#7201a8"
            ],
            [
             0.3333333333333333,
             "#9c179e"
            ],
            [
             0.4444444444444444,
             "#bd3786"
            ],
            [
             0.5555555555555556,
             "#d8576b"
            ],
            [
             0.6666666666666666,
             "#ed7953"
            ],
            [
             0.7777777777777778,
             "#fb9f3a"
            ],
            [
             0.8888888888888888,
             "#fdca26"
            ],
            [
             1,
             "#f0f921"
            ]
           ]
          },
          "colorway": [
           "#636efa",
           "#EF553B",
           "#00cc96",
           "#ab63fa",
           "#FFA15A",
           "#19d3f3",
           "#FF6692",
           "#B6E880",
           "#FF97FF",
           "#FECB52"
          ],
          "font": {
           "color": "#2a3f5f"
          },
          "geo": {
           "bgcolor": "white",
           "lakecolor": "white",
           "landcolor": "#E5ECF6",
           "showlakes": true,
           "showland": true,
           "subunitcolor": "white"
          },
          "hoverlabel": {
           "align": "left"
          },
          "hovermode": "closest",
          "mapbox": {
           "style": "light"
          },
          "paper_bgcolor": "white",
          "plot_bgcolor": "#E5ECF6",
          "polar": {
           "angularaxis": {
            "gridcolor": "white",
            "linecolor": "white",
            "ticks": ""
           },
           "bgcolor": "#E5ECF6",
           "radialaxis": {
            "gridcolor": "white",
            "linecolor": "white",
            "ticks": ""
           }
          },
          "scene": {
           "xaxis": {
            "backgroundcolor": "#E5ECF6",
            "gridcolor": "white",
            "gridwidth": 2,
            "linecolor": "white",
            "showbackground": true,
            "ticks": "",
            "zerolinecolor": "white"
           },
           "yaxis": {
            "backgroundcolor": "#E5ECF6",
            "gridcolor": "white",
            "gridwidth": 2,
            "linecolor": "white",
            "showbackground": true,
            "ticks": "",
            "zerolinecolor": "white"
           },
           "zaxis": {
            "backgroundcolor": "#E5ECF6",
            "gridcolor": "white",
            "gridwidth": 2,
            "linecolor": "white",
            "showbackground": true,
            "ticks": "",
            "zerolinecolor": "white"
           }
          },
          "shapedefaults": {
           "line": {
            "color": "#2a3f5f"
           }
          },
          "ternary": {
           "aaxis": {
            "gridcolor": "white",
            "linecolor": "white",
            "ticks": ""
           },
           "baxis": {
            "gridcolor": "white",
            "linecolor": "white",
            "ticks": ""
           },
           "bgcolor": "#E5ECF6",
           "caxis": {
            "gridcolor": "white",
            "linecolor": "white",
            "ticks": ""
           }
          },
          "title": {
           "x": 0.05
          },
          "xaxis": {
           "automargin": true,
           "gridcolor": "white",
           "linecolor": "white",
           "ticks": "",
           "title": {
            "standoff": 15
           },
           "zerolinecolor": "white",
           "zerolinewidth": 2
          },
          "yaxis": {
           "automargin": true,
           "gridcolor": "white",
           "linecolor": "white",
           "ticks": "",
           "title": {
            "standoff": 15
           },
           "zerolinecolor": "white",
           "zerolinewidth": 2
          }
         }
        },
        "title": {
         "text": "Hyperparameter Importances"
        },
        "xaxis": {
         "title": {
          "text": "Importance for Objective Value"
         }
        },
        "yaxis": {
         "title": {
          "text": "Hyperparameter"
         }
        }
       }
      },
      "text/html": [
       "<div>                            <div id=\"8603d797-4429-4146-98a6-ed2303d6a9ae\" class=\"plotly-graph-div\" style=\"height:525px; width:100%;\"></div>            <script type=\"text/javascript\">                require([\"plotly\"], function(Plotly) {                    window.PLOTLYENV=window.PLOTLYENV || {};                                    if (document.getElementById(\"8603d797-4429-4146-98a6-ed2303d6a9ae\")) {                    Plotly.newPlot(                        \"8603d797-4429-4146-98a6-ed2303d6a9ae\",                        [{\"cliponaxis\":false,\"hovertemplate\":[\"classifier (CategoricalDistribution): 1.0<extra></extra>\"],\"marker\":{\"color\":\"rgb(66,146,198)\"},\"orientation\":\"h\",\"text\":[\"1.00\"],\"textposition\":\"outside\",\"x\":[1.0],\"y\":[\"classifier\"],\"type\":\"bar\"}],                        {\"showlegend\":false,\"title\":{\"text\":\"Hyperparameter Importances\"},\"xaxis\":{\"title\":{\"text\":\"Importance for Objective Value\"}},\"yaxis\":{\"title\":{\"text\":\"Hyperparameter\"}},\"template\":{\"data\":{\"histogram2dcontour\":[{\"type\":\"histogram2dcontour\",\"colorbar\":{\"outlinewidth\":0,\"ticks\":\"\"},\"colorscale\":[[0.0,\"#0d0887\"],[0.1111111111111111,\"#46039f\"],[0.2222222222222222,\"#7201a8\"],[0.3333333333333333,\"#9c179e\"],[0.4444444444444444,\"#bd3786\"],[0.5555555555555556,\"#d8576b\"],[0.6666666666666666,\"#ed7953\"],[0.7777777777777778,\"#fb9f3a\"],[0.8888888888888888,\"#fdca26\"],[1.0,\"#f0f921\"]]}],\"choropleth\":[{\"type\":\"choropleth\",\"colorbar\":{\"outlinewidth\":0,\"ticks\":\"\"}}],\"histogram2d\":[{\"type\":\"histogram2d\",\"colorbar\":{\"outlinewidth\":0,\"ticks\":\"\"},\"colorscale\":[[0.0,\"#0d0887\"],[0.1111111111111111,\"#46039f\"],[0.2222222222222222,\"#7201a8\"],[0.3333333333333333,\"#9c179e\"],[0.4444444444444444,\"#bd3786\"],[0.5555555555555556,\"#d8576b\"],[0.6666666666666666,\"#ed7953\"],[0.7777777777777778,\"#fb9f3a\"],[0.8888888888888888,\"#fdca26\"],[1.0,\"#f0f921\"]]}],\"heatmap\":[{\"type\":\"heatmap\",\"colorbar\":{\"outlinewidth\":0,\"ticks\":\"\"},\"colorscale\":[[0.0,\"#0d0887\"],[0.1111111111111111,\"#46039f\"],[0.2222222222222222,\"#7201a8\"],[0.3333333333333333,\"#9c179e\"],[0.4444444444444444,\"#bd3786\"],[0.5555555555555556,\"#d8576b\"],[0.6666666666666666,\"#ed7953\"],[0.7777777777777778,\"#fb9f3a\"],[0.8888888888888888,\"#fdca26\"],[1.0,\"#f0f921\"]]}],\"heatmapgl\":[{\"type\":\"heatmapgl\",\"colorbar\":{\"outlinewidth\":0,\"ticks\":\"\"},\"colorscale\":[[0.0,\"#0d0887\"],[0.1111111111111111,\"#46039f\"],[0.2222222222222222,\"#7201a8\"],[0.3333333333333333,\"#9c179e\"],[0.4444444444444444,\"#bd3786\"],[0.5555555555555556,\"#d8576b\"],[0.6666666666666666,\"#ed7953\"],[0.7777777777777778,\"#fb9f3a\"],[0.8888888888888888,\"#fdca26\"],[1.0,\"#f0f921\"]]}],\"contourcarpet\":[{\"type\":\"contourcarpet\",\"colorbar\":{\"outlinewidth\":0,\"ticks\":\"\"}}],\"contour\":[{\"type\":\"contour\",\"colorbar\":{\"outlinewidth\":0,\"ticks\":\"\"},\"colorscale\":[[0.0,\"#0d0887\"],[0.1111111111111111,\"#46039f\"],[0.2222222222222222,\"#7201a8\"],[0.3333333333333333,\"#9c179e\"],[0.4444444444444444,\"#bd3786\"],[0.5555555555555556,\"#d8576b\"],[0.6666666666666666,\"#ed7953\"],[0.7777777777777778,\"#fb9f3a\"],[0.8888888888888888,\"#fdca26\"],[1.0,\"#f0f921\"]]}],\"surface\":[{\"type\":\"surface\",\"colorbar\":{\"outlinewidth\":0,\"ticks\":\"\"},\"colorscale\":[[0.0,\"#0d0887\"],[0.1111111111111111,\"#46039f\"],[0.2222222222222222,\"#7201a8\"],[0.3333333333333333,\"#9c179e\"],[0.4444444444444444,\"#bd3786\"],[0.5555555555555556,\"#d8576b\"],[0.6666666666666666,\"#ed7953\"],[0.7777777777777778,\"#fb9f3a\"],[0.8888888888888888,\"#fdca26\"],[1.0,\"#f0f921\"]]}],\"mesh3d\":[{\"type\":\"mesh3d\",\"colorbar\":{\"outlinewidth\":0,\"ticks\":\"\"}}],\"scatter\":[{\"fillpattern\":{\"fillmode\":\"overlay\",\"size\":10,\"solidity\":0.2},\"type\":\"scatter\"}],\"parcoords\":[{\"type\":\"parcoords\",\"line\":{\"colorbar\":{\"outlinewidth\":0,\"ticks\":\"\"}}}],\"scatterpolargl\":[{\"type\":\"scatterpolargl\",\"marker\":{\"colorbar\":{\"outlinewidth\":0,\"ticks\":\"\"}}}],\"bar\":[{\"error_x\":{\"color\":\"#2a3f5f\"},\"error_y\":{\"color\":\"#2a3f5f\"},\"marker\":{\"line\":{\"color\":\"#E5ECF6\",\"width\":0.5},\"pattern\":{\"fillmode\":\"overlay\",\"size\":10,\"solidity\":0.2}},\"type\":\"bar\"}],\"scattergeo\":[{\"type\":\"scattergeo\",\"marker\":{\"colorbar\":{\"outlinewidth\":0,\"ticks\":\"\"}}}],\"scatterpolar\":[{\"type\":\"scatterpolar\",\"marker\":{\"colorbar\":{\"outlinewidth\":0,\"ticks\":\"\"}}}],\"histogram\":[{\"marker\":{\"pattern\":{\"fillmode\":\"overlay\",\"size\":10,\"solidity\":0.2}},\"type\":\"histogram\"}],\"scattergl\":[{\"type\":\"scattergl\",\"marker\":{\"colorbar\":{\"outlinewidth\":0,\"ticks\":\"\"}}}],\"scatter3d\":[{\"type\":\"scatter3d\",\"line\":{\"colorbar\":{\"outlinewidth\":0,\"ticks\":\"\"}},\"marker\":{\"colorbar\":{\"outlinewidth\":0,\"ticks\":\"\"}}}],\"scattermapbox\":[{\"type\":\"scattermapbox\",\"marker\":{\"colorbar\":{\"outlinewidth\":0,\"ticks\":\"\"}}}],\"scatterternary\":[{\"type\":\"scatterternary\",\"marker\":{\"colorbar\":{\"outlinewidth\":0,\"ticks\":\"\"}}}],\"scattercarpet\":[{\"type\":\"scattercarpet\",\"marker\":{\"colorbar\":{\"outlinewidth\":0,\"ticks\":\"\"}}}],\"carpet\":[{\"aaxis\":{\"endlinecolor\":\"#2a3f5f\",\"gridcolor\":\"white\",\"linecolor\":\"white\",\"minorgridcolor\":\"white\",\"startlinecolor\":\"#2a3f5f\"},\"baxis\":{\"endlinecolor\":\"#2a3f5f\",\"gridcolor\":\"white\",\"linecolor\":\"white\",\"minorgridcolor\":\"white\",\"startlinecolor\":\"#2a3f5f\"},\"type\":\"carpet\"}],\"table\":[{\"cells\":{\"fill\":{\"color\":\"#EBF0F8\"},\"line\":{\"color\":\"white\"}},\"header\":{\"fill\":{\"color\":\"#C8D4E3\"},\"line\":{\"color\":\"white\"}},\"type\":\"table\"}],\"barpolar\":[{\"marker\":{\"line\":{\"color\":\"#E5ECF6\",\"width\":0.5},\"pattern\":{\"fillmode\":\"overlay\",\"size\":10,\"solidity\":0.2}},\"type\":\"barpolar\"}],\"pie\":[{\"automargin\":true,\"type\":\"pie\"}]},\"layout\":{\"autotypenumbers\":\"strict\",\"colorway\":[\"#636efa\",\"#EF553B\",\"#00cc96\",\"#ab63fa\",\"#FFA15A\",\"#19d3f3\",\"#FF6692\",\"#B6E880\",\"#FF97FF\",\"#FECB52\"],\"font\":{\"color\":\"#2a3f5f\"},\"hovermode\":\"closest\",\"hoverlabel\":{\"align\":\"left\"},\"paper_bgcolor\":\"white\",\"plot_bgcolor\":\"#E5ECF6\",\"polar\":{\"bgcolor\":\"#E5ECF6\",\"angularaxis\":{\"gridcolor\":\"white\",\"linecolor\":\"white\",\"ticks\":\"\"},\"radialaxis\":{\"gridcolor\":\"white\",\"linecolor\":\"white\",\"ticks\":\"\"}},\"ternary\":{\"bgcolor\":\"#E5ECF6\",\"aaxis\":{\"gridcolor\":\"white\",\"linecolor\":\"white\",\"ticks\":\"\"},\"baxis\":{\"gridcolor\":\"white\",\"linecolor\":\"white\",\"ticks\":\"\"},\"caxis\":{\"gridcolor\":\"white\",\"linecolor\":\"white\",\"ticks\":\"\"}},\"coloraxis\":{\"colorbar\":{\"outlinewidth\":0,\"ticks\":\"\"}},\"colorscale\":{\"sequential\":[[0.0,\"#0d0887\"],[0.1111111111111111,\"#46039f\"],[0.2222222222222222,\"#7201a8\"],[0.3333333333333333,\"#9c179e\"],[0.4444444444444444,\"#bd3786\"],[0.5555555555555556,\"#d8576b\"],[0.6666666666666666,\"#ed7953\"],[0.7777777777777778,\"#fb9f3a\"],[0.8888888888888888,\"#fdca26\"],[1.0,\"#f0f921\"]],\"sequentialminus\":[[0.0,\"#0d0887\"],[0.1111111111111111,\"#46039f\"],[0.2222222222222222,\"#7201a8\"],[0.3333333333333333,\"#9c179e\"],[0.4444444444444444,\"#bd3786\"],[0.5555555555555556,\"#d8576b\"],[0.6666666666666666,\"#ed7953\"],[0.7777777777777778,\"#fb9f3a\"],[0.8888888888888888,\"#fdca26\"],[1.0,\"#f0f921\"]],\"diverging\":[[0,\"#8e0152\"],[0.1,\"#c51b7d\"],[0.2,\"#de77ae\"],[0.3,\"#f1b6da\"],[0.4,\"#fde0ef\"],[0.5,\"#f7f7f7\"],[0.6,\"#e6f5d0\"],[0.7,\"#b8e186\"],[0.8,\"#7fbc41\"],[0.9,\"#4d9221\"],[1,\"#276419\"]]},\"xaxis\":{\"gridcolor\":\"white\",\"linecolor\":\"white\",\"ticks\":\"\",\"title\":{\"standoff\":15},\"zerolinecolor\":\"white\",\"automargin\":true,\"zerolinewidth\":2},\"yaxis\":{\"gridcolor\":\"white\",\"linecolor\":\"white\",\"ticks\":\"\",\"title\":{\"standoff\":15},\"zerolinecolor\":\"white\",\"automargin\":true,\"zerolinewidth\":2},\"scene\":{\"xaxis\":{\"backgroundcolor\":\"#E5ECF6\",\"gridcolor\":\"white\",\"linecolor\":\"white\",\"showbackground\":true,\"ticks\":\"\",\"zerolinecolor\":\"white\",\"gridwidth\":2},\"yaxis\":{\"backgroundcolor\":\"#E5ECF6\",\"gridcolor\":\"white\",\"linecolor\":\"white\",\"showbackground\":true,\"ticks\":\"\",\"zerolinecolor\":\"white\",\"gridwidth\":2},\"zaxis\":{\"backgroundcolor\":\"#E5ECF6\",\"gridcolor\":\"white\",\"linecolor\":\"white\",\"showbackground\":true,\"ticks\":\"\",\"zerolinecolor\":\"white\",\"gridwidth\":2}},\"shapedefaults\":{\"line\":{\"color\":\"#2a3f5f\"}},\"annotationdefaults\":{\"arrowcolor\":\"#2a3f5f\",\"arrowhead\":0,\"arrowwidth\":1},\"geo\":{\"bgcolor\":\"white\",\"landcolor\":\"#E5ECF6\",\"subunitcolor\":\"white\",\"showland\":true,\"showlakes\":true,\"lakecolor\":\"white\"},\"title\":{\"x\":0.05},\"mapbox\":{\"style\":\"light\"}}}},                        {\"responsive\": true}                    ).then(function(){\n",
       "                            \n",
       "var gd = document.getElementById('8603d797-4429-4146-98a6-ed2303d6a9ae');\n",
       "var x = new MutationObserver(function (mutations, observer) {{\n",
       "        var display = window.getComputedStyle(gd).display;\n",
       "        if (!display || display === 'none') {{\n",
       "            console.log([gd, 'removed!']);\n",
       "            Plotly.purge(gd);\n",
       "            observer.disconnect();\n",
       "        }}\n",
       "}});\n",
       "\n",
       "// Listen for the removal of the full notebook cells\n",
       "var notebookContainer = gd.closest('#notebook-container');\n",
       "if (notebookContainer) {{\n",
       "    x.observe(notebookContainer, {childList: true});\n",
       "}}\n",
       "\n",
       "// Listen for the clearing of the current output cell\n",
       "var outputEl = gd.closest('.output');\n",
       "if (outputEl) {{\n",
       "    x.observe(outputEl, {childList: true});\n",
       "}}\n",
       "\n",
       "                        })                };                });            </script>        </div>"
      ]
     },
     "metadata": {},
     "output_type": "display_data"
    }
   ],
   "source": [
    "# 하이퍼파라미터별 중요도\n",
    "optuna.visualization.plot_param_importances(study)"
   ]
  },
  {
   "cell_type": "code",
   "execution_count": 157,
   "id": "2c68d122",
   "metadata": {},
   "outputs": [
    {
     "data": {
      "application/vnd.plotly.v1+json": {
       "config": {
        "plotlyServerURL": "https://plot.ly"
       },
       "data": [
        {
         "mode": "markers",
         "name": "Objective Value",
         "type": "scatter",
         "x": [
          0,
          1,
          2,
          3,
          4,
          5,
          6,
          7,
          8,
          9,
          10,
          11,
          12,
          13,
          14,
          15,
          16,
          17,
          18,
          19,
          20,
          21,
          22,
          23,
          24,
          25,
          26,
          27,
          28,
          29,
          30,
          31,
          32,
          33,
          34,
          35,
          36,
          37,
          38,
          39,
          40,
          41,
          42,
          43,
          44,
          45,
          46,
          47,
          48,
          49,
          50,
          51,
          52,
          53,
          54,
          55,
          56,
          57,
          58,
          59,
          60,
          61,
          62,
          63,
          64,
          65,
          66,
          67,
          68,
          69,
          70,
          71,
          72,
          73,
          74,
          75,
          76,
          77,
          78,
          79,
          80,
          81,
          82,
          83,
          84,
          85,
          86,
          87,
          88,
          89,
          90,
          91,
          92,
          93,
          94,
          95,
          96,
          97,
          98,
          99,
          100,
          101,
          102,
          103,
          104,
          105,
          106,
          107,
          108,
          109,
          110,
          111,
          112,
          113,
          114,
          115,
          116,
          117,
          118,
          119,
          120,
          121,
          122,
          123,
          124,
          125,
          126,
          127,
          128,
          129,
          130,
          131,
          132,
          133,
          134,
          135,
          136,
          137,
          138,
          139,
          140,
          141,
          142,
          143,
          144,
          145,
          146,
          147,
          148,
          149,
          150,
          151,
          152,
          153,
          154,
          155,
          156,
          157,
          158,
          159,
          160,
          161,
          162,
          163,
          164,
          165,
          166,
          167,
          168,
          169,
          170,
          171,
          172,
          173,
          174,
          175,
          176,
          177,
          178,
          179,
          180,
          181,
          182,
          183,
          184,
          185,
          186,
          187,
          188,
          189,
          190,
          191,
          192,
          193,
          194,
          195,
          196,
          197,
          198,
          199
         ],
         "y": [
          0.9466571834992887,
          0.9534139402560455,
          0.4822190611664296,
          0.839615931721195,
          0.9466571834992887,
          0.9535917496443812,
          0.9601706970128022,
          0.9599928876244666,
          0.9532361308677098,
          0.9667496443812233,
          0.9731507823613087,
          0.9731507823613087,
          0.9731507823613087,
          0.9731507823613087,
          0.9731507823613087,
          0.9731507823613087,
          0.9733285917496444,
          0.9665718349928876,
          0.4822190611664296,
          0.9731507823613087,
          0.9733285917496444,
          0.9733285917496444,
          0.9800853485064012,
          0.9735064011379801,
          0.4822190611664296,
          0.9731507823613087,
          0.9799075391180655,
          0.9731507823613087,
          0.4822190611664296,
          0.9799075391180655,
          0.9799075391180655,
          0.9799075391180655,
          0.9535917496443812,
          0.9535917496443812,
          0.9799075391180655,
          0.9532361308677098,
          0.9667496443812233,
          0.8998933143669986,
          0.9667496443812233,
          0.9799075391180654,
          0.9466571834992887,
          0.42816500711237554,
          0.966394025604552,
          0.966394025604552,
          0.9535917496443812,
          0.9731507823613087,
          0.9470128022759602,
          0.9466571834992887,
          0.9799075391180655,
          0.560099573257468,
          0.9667496443812233,
          0.9799075391180655,
          0.9733285917496444,
          0.9535917496443812,
          0.966394025604552,
          0.9535917496443812,
          0.9731507823613088,
          0.9534139402560455,
          0.9799075391180655,
          0.42816500711237554,
          0.9799075391180655,
          0.9799075391180655,
          0.9731507823613087,
          0.9731507823613087,
          0.9731507823613087,
          0.9733285917496444,
          0.9799075391180655,
          0.9263869132290186,
          0.9665718349928876,
          0.9733285917496444,
          0.9599928876244666,
          0.9799075391180655,
          0.9800853485064012,
          0.9800853485064012,
          0.9665718349928876,
          0.9731507823613087,
          0.9800853485064012,
          0.9735064011379801,
          0.9599928876244666,
          0.9733285917496444,
          0.9799075391180654,
          0.9733285917496444,
          0.9731507823613087,
          0.966394025604552,
          0.9667496443812233,
          0.9665718349928876,
          0.9601706970128022,
          0.9735064011379801,
          0.9731507823613087,
          0.9799075391180655,
          0.9731507823613088,
          0.9800853485064012,
          0.966394025604552,
          0.9731507823613087,
          0.9731507823613087,
          0.9735064011379801,
          0.9733285917496444,
          0.9799075391180654,
          0.966394025604552,
          0.9532361308677098,
          0.9532361308677098,
          0.9733285917496444,
          0.9601706970128023,
          0.9799075391180655,
          0.9799075391180655,
          0.966394025604552,
          0.9799075391180654,
          0.9667496443812233,
          0.9596372688477952,
          0.9731507823613087,
          0.9799075391180655,
          0.9799075391180655,
          0.9601706970128023,
          0.9799075391180655,
          0.9799075391180655,
          0.9799075391180655,
          0.9733285917496444,
          0.9731507823613087,
          0.9667496443812233,
          0.9799075391180655,
          0.9799075391180655,
          0.9799075391180655,
          0.9799075391180655,
          0.966394025604552,
          0.9665718349928876,
          0.9799075391180655,
          0.9731507823613088,
          0.9733285917496444,
          0.9733285917496444,
          0.9731507823613087,
          0.9799075391180655,
          0.9799075391180655,
          0.9735064011379801,
          0.9667496443812233,
          0.9535917496443812,
          0.9731507823613087,
          0.9799075391180655,
          0.9799075391180655,
          0.9799075391180655,
          0.9601706970128022,
          0.9799075391180655,
          0.9799075391180655,
          0.9733285917496444,
          0.9731507823613087,
          0.9470128022759602,
          0.9799075391180655,
          0.9733285917496444,
          0.9799075391180655,
          0.966394025604552,
          0.966394025604552,
          0.9799075391180655,
          0.9799075391180655,
          0.9799075391180655,
          0.9799075391180655,
          0.9731507823613087,
          0.9665718349928876,
          0.9799075391180655,
          0.9799075391180655,
          0.9733285917496444,
          0.9735064011379801,
          0.4822190611664296,
          0.9799075391180655,
          0.9731507823613087,
          0.9731507823613087,
          0.9799075391180655,
          0.9799075391180655,
          0.9799075391180655,
          0.9799075391180655,
          0.9731507823613087,
          0.9534139402560455,
          0.9667496443812233,
          0.9799075391180655,
          0.9601706970128023,
          0.9799075391180655,
          0.9731507823613087,
          0.9731507823613087,
          0.9735064011379801,
          0.9799075391180655,
          0.9667496443812233,
          0.9535917496443812,
          0.9735064011379801,
          0.9799075391180655,
          0.9799075391180655,
          0.9799075391180655,
          0.966394025604552,
          0.9667496443812233,
          0.9665718349928876,
          0.9404338549075392,
          0.9800853485064012,
          0.4822190611664296,
          0.9733285917496444,
          0.9733285917496444,
          0.966394025604552,
          0.9731507823613087,
          0.9799075391180655,
          0.9535917496443812,
          0.9733285917496444,
          0.9799075391180655,
          0.9799075391180655,
          0.9799075391180655
         ]
        },
        {
         "name": "Best Value",
         "type": "scatter",
         "x": [
          0,
          1,
          2,
          3,
          4,
          5,
          6,
          7,
          8,
          9,
          10,
          11,
          12,
          13,
          14,
          15,
          16,
          17,
          18,
          19,
          20,
          21,
          22,
          23,
          24,
          25,
          26,
          27,
          28,
          29,
          30,
          31,
          32,
          33,
          34,
          35,
          36,
          37,
          38,
          39,
          40,
          41,
          42,
          43,
          44,
          45,
          46,
          47,
          48,
          49,
          50,
          51,
          52,
          53,
          54,
          55,
          56,
          57,
          58,
          59,
          60,
          61,
          62,
          63,
          64,
          65,
          66,
          67,
          68,
          69,
          70,
          71,
          72,
          73,
          74,
          75,
          76,
          77,
          78,
          79,
          80,
          81,
          82,
          83,
          84,
          85,
          86,
          87,
          88,
          89,
          90,
          91,
          92,
          93,
          94,
          95,
          96,
          97,
          98,
          99,
          100,
          101,
          102,
          103,
          104,
          105,
          106,
          107,
          108,
          109,
          110,
          111,
          112,
          113,
          114,
          115,
          116,
          117,
          118,
          119,
          120,
          121,
          122,
          123,
          124,
          125,
          126,
          127,
          128,
          129,
          130,
          131,
          132,
          133,
          134,
          135,
          136,
          137,
          138,
          139,
          140,
          141,
          142,
          143,
          144,
          145,
          146,
          147,
          148,
          149,
          150,
          151,
          152,
          153,
          154,
          155,
          156,
          157,
          158,
          159,
          160,
          161,
          162,
          163,
          164,
          165,
          166,
          167,
          168,
          169,
          170,
          171,
          172,
          173,
          174,
          175,
          176,
          177,
          178,
          179,
          180,
          181,
          182,
          183,
          184,
          185,
          186,
          187,
          188,
          189,
          190,
          191,
          192,
          193,
          194,
          195,
          196,
          197,
          198,
          199
         ],
         "y": [
          0.9466571834992887,
          0.9534139402560455,
          0.9534139402560455,
          0.9534139402560455,
          0.9534139402560455,
          0.9535917496443812,
          0.9601706970128022,
          0.9601706970128022,
          0.9601706970128022,
          0.9667496443812233,
          0.9731507823613087,
          0.9731507823613087,
          0.9731507823613087,
          0.9731507823613087,
          0.9731507823613087,
          0.9731507823613087,
          0.9733285917496444,
          0.9733285917496444,
          0.9733285917496444,
          0.9733285917496444,
          0.9733285917496444,
          0.9733285917496444,
          0.9800853485064012,
          0.9800853485064012,
          0.9800853485064012,
          0.9800853485064012,
          0.9800853485064012,
          0.9800853485064012,
          0.9800853485064012,
          0.9800853485064012,
          0.9800853485064012,
          0.9800853485064012,
          0.9800853485064012,
          0.9800853485064012,
          0.9800853485064012,
          0.9800853485064012,
          0.9800853485064012,
          0.9800853485064012,
          0.9800853485064012,
          0.9800853485064012,
          0.9800853485064012,
          0.9800853485064012,
          0.9800853485064012,
          0.9800853485064012,
          0.9800853485064012,
          0.9800853485064012,
          0.9800853485064012,
          0.9800853485064012,
          0.9800853485064012,
          0.9800853485064012,
          0.9800853485064012,
          0.9800853485064012,
          0.9800853485064012,
          0.9800853485064012,
          0.9800853485064012,
          0.9800853485064012,
          0.9800853485064012,
          0.9800853485064012,
          0.9800853485064012,
          0.9800853485064012,
          0.9800853485064012,
          0.9800853485064012,
          0.9800853485064012,
          0.9800853485064012,
          0.9800853485064012,
          0.9800853485064012,
          0.9800853485064012,
          0.9800853485064012,
          0.9800853485064012,
          0.9800853485064012,
          0.9800853485064012,
          0.9800853485064012,
          0.9800853485064012,
          0.9800853485064012,
          0.9800853485064012,
          0.9800853485064012,
          0.9800853485064012,
          0.9800853485064012,
          0.9800853485064012,
          0.9800853485064012,
          0.9800853485064012,
          0.9800853485064012,
          0.9800853485064012,
          0.9800853485064012,
          0.9800853485064012,
          0.9800853485064012,
          0.9800853485064012,
          0.9800853485064012,
          0.9800853485064012,
          0.9800853485064012,
          0.9800853485064012,
          0.9800853485064012,
          0.9800853485064012,
          0.9800853485064012,
          0.9800853485064012,
          0.9800853485064012,
          0.9800853485064012,
          0.9800853485064012,
          0.9800853485064012,
          0.9800853485064012,
          0.9800853485064012,
          0.9800853485064012,
          0.9800853485064012,
          0.9800853485064012,
          0.9800853485064012,
          0.9800853485064012,
          0.9800853485064012,
          0.9800853485064012,
          0.9800853485064012,
          0.9800853485064012,
          0.9800853485064012,
          0.9800853485064012,
          0.9800853485064012,
          0.9800853485064012,
          0.9800853485064012,
          0.9800853485064012,
          0.9800853485064012,
          0.9800853485064012,
          0.9800853485064012,
          0.9800853485064012,
          0.9800853485064012,
          0.9800853485064012,
          0.9800853485064012,
          0.9800853485064012,
          0.9800853485064012,
          0.9800853485064012,
          0.9800853485064012,
          0.9800853485064012,
          0.9800853485064012,
          0.9800853485064012,
          0.9800853485064012,
          0.9800853485064012,
          0.9800853485064012,
          0.9800853485064012,
          0.9800853485064012,
          0.9800853485064012,
          0.9800853485064012,
          0.9800853485064012,
          0.9800853485064012,
          0.9800853485064012,
          0.9800853485064012,
          0.9800853485064012,
          0.9800853485064012,
          0.9800853485064012,
          0.9800853485064012,
          0.9800853485064012,
          0.9800853485064012,
          0.9800853485064012,
          0.9800853485064012,
          0.9800853485064012,
          0.9800853485064012,
          0.9800853485064012,
          0.9800853485064012,
          0.9800853485064012,
          0.9800853485064012,
          0.9800853485064012,
          0.9800853485064012,
          0.9800853485064012,
          0.9800853485064012,
          0.9800853485064012,
          0.9800853485064012,
          0.9800853485064012,
          0.9800853485064012,
          0.9800853485064012,
          0.9800853485064012,
          0.9800853485064012,
          0.9800853485064012,
          0.9800853485064012,
          0.9800853485064012,
          0.9800853485064012,
          0.9800853485064012,
          0.9800853485064012,
          0.9800853485064012,
          0.9800853485064012,
          0.9800853485064012,
          0.9800853485064012,
          0.9800853485064012,
          0.9800853485064012,
          0.9800853485064012,
          0.9800853485064012,
          0.9800853485064012,
          0.9800853485064012,
          0.9800853485064012,
          0.9800853485064012,
          0.9800853485064012,
          0.9800853485064012,
          0.9800853485064012,
          0.9800853485064012,
          0.9800853485064012,
          0.9800853485064012,
          0.9800853485064012,
          0.9800853485064012,
          0.9800853485064012,
          0.9800853485064012,
          0.9800853485064012,
          0.9800853485064012,
          0.9800853485064012,
          0.9800853485064012,
          0.9800853485064012,
          0.9800853485064012
         ]
        }
       ],
       "layout": {
        "template": {
         "data": {
          "bar": [
           {
            "error_x": {
             "color": "#2a3f5f"
            },
            "error_y": {
             "color": "#2a3f5f"
            },
            "marker": {
             "line": {
              "color": "#E5ECF6",
              "width": 0.5
             },
             "pattern": {
              "fillmode": "overlay",
              "size": 10,
              "solidity": 0.2
             }
            },
            "type": "bar"
           }
          ],
          "barpolar": [
           {
            "marker": {
             "line": {
              "color": "#E5ECF6",
              "width": 0.5
             },
             "pattern": {
              "fillmode": "overlay",
              "size": 10,
              "solidity": 0.2
             }
            },
            "type": "barpolar"
           }
          ],
          "carpet": [
           {
            "aaxis": {
             "endlinecolor": "#2a3f5f",
             "gridcolor": "white",
             "linecolor": "white",
             "minorgridcolor": "white",
             "startlinecolor": "#2a3f5f"
            },
            "baxis": {
             "endlinecolor": "#2a3f5f",
             "gridcolor": "white",
             "linecolor": "white",
             "minorgridcolor": "white",
             "startlinecolor": "#2a3f5f"
            },
            "type": "carpet"
           }
          ],
          "choropleth": [
           {
            "colorbar": {
             "outlinewidth": 0,
             "ticks": ""
            },
            "type": "choropleth"
           }
          ],
          "contour": [
           {
            "colorbar": {
             "outlinewidth": 0,
             "ticks": ""
            },
            "colorscale": [
             [
              0,
              "#0d0887"
             ],
             [
              0.1111111111111111,
              "#46039f"
             ],
             [
              0.2222222222222222,
              "#7201a8"
             ],
             [
              0.3333333333333333,
              "#9c179e"
             ],
             [
              0.4444444444444444,
              "#bd3786"
             ],
             [
              0.5555555555555556,
              "#d8576b"
             ],
             [
              0.6666666666666666,
              "#ed7953"
             ],
             [
              0.7777777777777778,
              "#fb9f3a"
             ],
             [
              0.8888888888888888,
              "#fdca26"
             ],
             [
              1,
              "#f0f921"
             ]
            ],
            "type": "contour"
           }
          ],
          "contourcarpet": [
           {
            "colorbar": {
             "outlinewidth": 0,
             "ticks": ""
            },
            "type": "contourcarpet"
           }
          ],
          "heatmap": [
           {
            "colorbar": {
             "outlinewidth": 0,
             "ticks": ""
            },
            "colorscale": [
             [
              0,
              "#0d0887"
             ],
             [
              0.1111111111111111,
              "#46039f"
             ],
             [
              0.2222222222222222,
              "#7201a8"
             ],
             [
              0.3333333333333333,
              "#9c179e"
             ],
             [
              0.4444444444444444,
              "#bd3786"
             ],
             [
              0.5555555555555556,
              "#d8576b"
             ],
             [
              0.6666666666666666,
              "#ed7953"
             ],
             [
              0.7777777777777778,
              "#fb9f3a"
             ],
             [
              0.8888888888888888,
              "#fdca26"
             ],
             [
              1,
              "#f0f921"
             ]
            ],
            "type": "heatmap"
           }
          ],
          "heatmapgl": [
           {
            "colorbar": {
             "outlinewidth": 0,
             "ticks": ""
            },
            "colorscale": [
             [
              0,
              "#0d0887"
             ],
             [
              0.1111111111111111,
              "#46039f"
             ],
             [
              0.2222222222222222,
              "#7201a8"
             ],
             [
              0.3333333333333333,
              "#9c179e"
             ],
             [
              0.4444444444444444,
              "#bd3786"
             ],
             [
              0.5555555555555556,
              "#d8576b"
             ],
             [
              0.6666666666666666,
              "#ed7953"
             ],
             [
              0.7777777777777778,
              "#fb9f3a"
             ],
             [
              0.8888888888888888,
              "#fdca26"
             ],
             [
              1,
              "#f0f921"
             ]
            ],
            "type": "heatmapgl"
           }
          ],
          "histogram": [
           {
            "marker": {
             "pattern": {
              "fillmode": "overlay",
              "size": 10,
              "solidity": 0.2
             }
            },
            "type": "histogram"
           }
          ],
          "histogram2d": [
           {
            "colorbar": {
             "outlinewidth": 0,
             "ticks": ""
            },
            "colorscale": [
             [
              0,
              "#0d0887"
             ],
             [
              0.1111111111111111,
              "#46039f"
             ],
             [
              0.2222222222222222,
              "#7201a8"
             ],
             [
              0.3333333333333333,
              "#9c179e"
             ],
             [
              0.4444444444444444,
              "#bd3786"
             ],
             [
              0.5555555555555556,
              "#d8576b"
             ],
             [
              0.6666666666666666,
              "#ed7953"
             ],
             [
              0.7777777777777778,
              "#fb9f3a"
             ],
             [
              0.8888888888888888,
              "#fdca26"
             ],
             [
              1,
              "#f0f921"
             ]
            ],
            "type": "histogram2d"
           }
          ],
          "histogram2dcontour": [
           {
            "colorbar": {
             "outlinewidth": 0,
             "ticks": ""
            },
            "colorscale": [
             [
              0,
              "#0d0887"
             ],
             [
              0.1111111111111111,
              "#46039f"
             ],
             [
              0.2222222222222222,
              "#7201a8"
             ],
             [
              0.3333333333333333,
              "#9c179e"
             ],
             [
              0.4444444444444444,
              "#bd3786"
             ],
             [
              0.5555555555555556,
              "#d8576b"
             ],
             [
              0.6666666666666666,
              "#ed7953"
             ],
             [
              0.7777777777777778,
              "#fb9f3a"
             ],
             [
              0.8888888888888888,
              "#fdca26"
             ],
             [
              1,
              "#f0f921"
             ]
            ],
            "type": "histogram2dcontour"
           }
          ],
          "mesh3d": [
           {
            "colorbar": {
             "outlinewidth": 0,
             "ticks": ""
            },
            "type": "mesh3d"
           }
          ],
          "parcoords": [
           {
            "line": {
             "colorbar": {
              "outlinewidth": 0,
              "ticks": ""
             }
            },
            "type": "parcoords"
           }
          ],
          "pie": [
           {
            "automargin": true,
            "type": "pie"
           }
          ],
          "scatter": [
           {
            "fillpattern": {
             "fillmode": "overlay",
             "size": 10,
             "solidity": 0.2
            },
            "type": "scatter"
           }
          ],
          "scatter3d": [
           {
            "line": {
             "colorbar": {
              "outlinewidth": 0,
              "ticks": ""
             }
            },
            "marker": {
             "colorbar": {
              "outlinewidth": 0,
              "ticks": ""
             }
            },
            "type": "scatter3d"
           }
          ],
          "scattercarpet": [
           {
            "marker": {
             "colorbar": {
              "outlinewidth": 0,
              "ticks": ""
             }
            },
            "type": "scattercarpet"
           }
          ],
          "scattergeo": [
           {
            "marker": {
             "colorbar": {
              "outlinewidth": 0,
              "ticks": ""
             }
            },
            "type": "scattergeo"
           }
          ],
          "scattergl": [
           {
            "marker": {
             "colorbar": {
              "outlinewidth": 0,
              "ticks": ""
             }
            },
            "type": "scattergl"
           }
          ],
          "scattermapbox": [
           {
            "marker": {
             "colorbar": {
              "outlinewidth": 0,
              "ticks": ""
             }
            },
            "type": "scattermapbox"
           }
          ],
          "scatterpolar": [
           {
            "marker": {
             "colorbar": {
              "outlinewidth": 0,
              "ticks": ""
             }
            },
            "type": "scatterpolar"
           }
          ],
          "scatterpolargl": [
           {
            "marker": {
             "colorbar": {
              "outlinewidth": 0,
              "ticks": ""
             }
            },
            "type": "scatterpolargl"
           }
          ],
          "scatterternary": [
           {
            "marker": {
             "colorbar": {
              "outlinewidth": 0,
              "ticks": ""
             }
            },
            "type": "scatterternary"
           }
          ],
          "surface": [
           {
            "colorbar": {
             "outlinewidth": 0,
             "ticks": ""
            },
            "colorscale": [
             [
              0,
              "#0d0887"
             ],
             [
              0.1111111111111111,
              "#46039f"
             ],
             [
              0.2222222222222222,
              "#7201a8"
             ],
             [
              0.3333333333333333,
              "#9c179e"
             ],
             [
              0.4444444444444444,
              "#bd3786"
             ],
             [
              0.5555555555555556,
              "#d8576b"
             ],
             [
              0.6666666666666666,
              "#ed7953"
             ],
             [
              0.7777777777777778,
              "#fb9f3a"
             ],
             [
              0.8888888888888888,
              "#fdca26"
             ],
             [
              1,
              "#f0f921"
             ]
            ],
            "type": "surface"
           }
          ],
          "table": [
           {
            "cells": {
             "fill": {
              "color": "#EBF0F8"
             },
             "line": {
              "color": "white"
             }
            },
            "header": {
             "fill": {
              "color": "#C8D4E3"
             },
             "line": {
              "color": "white"
             }
            },
            "type": "table"
           }
          ]
         },
         "layout": {
          "annotationdefaults": {
           "arrowcolor": "#2a3f5f",
           "arrowhead": 0,
           "arrowwidth": 1
          },
          "autotypenumbers": "strict",
          "coloraxis": {
           "colorbar": {
            "outlinewidth": 0,
            "ticks": ""
           }
          },
          "colorscale": {
           "diverging": [
            [
             0,
             "#8e0152"
            ],
            [
             0.1,
             "#c51b7d"
            ],
            [
             0.2,
             "#de77ae"
            ],
            [
             0.3,
             "#f1b6da"
            ],
            [
             0.4,
             "#fde0ef"
            ],
            [
             0.5,
             "#f7f7f7"
            ],
            [
             0.6,
             "#e6f5d0"
            ],
            [
             0.7,
             "#b8e186"
            ],
            [
             0.8,
             "#7fbc41"
            ],
            [
             0.9,
             "#4d9221"
            ],
            [
             1,
             "#276419"
            ]
           ],
           "sequential": [
            [
             0,
             "#0d0887"
            ],
            [
             0.1111111111111111,
             "#46039f"
            ],
            [
             0.2222222222222222,
             "#7201a8"
            ],
            [
             0.3333333333333333,
             "#9c179e"
            ],
            [
             0.4444444444444444,
             "#bd3786"
            ],
            [
             0.5555555555555556,
             "#d8576b"
            ],
            [
             0.6666666666666666,
             "#ed7953"
            ],
            [
             0.7777777777777778,
             "#fb9f3a"
            ],
            [
             0.8888888888888888,
             "#fdca26"
            ],
            [
             1,
             "#f0f921"
            ]
           ],
           "sequentialminus": [
            [
             0,
             "#0d0887"
            ],
            [
             0.1111111111111111,
             "#46039f"
            ],
            [
             0.2222222222222222,
             "#7201a8"
            ],
            [
             0.3333333333333333,
             "#9c179e"
            ],
            [
             0.4444444444444444,
             "#bd3786"
            ],
            [
             0.5555555555555556,
             "#d8576b"
            ],
            [
             0.6666666666666666,
             "#ed7953"
            ],
            [
             0.7777777777777778,
             "#fb9f3a"
            ],
            [
             0.8888888888888888,
             "#fdca26"
            ],
            [
             1,
             "#f0f921"
            ]
           ]
          },
          "colorway": [
           "#636efa",
           "#EF553B",
           "#00cc96",
           "#ab63fa",
           "#FFA15A",
           "#19d3f3",
           "#FF6692",
           "#B6E880",
           "#FF97FF",
           "#FECB52"
          ],
          "font": {
           "color": "#2a3f5f"
          },
          "geo": {
           "bgcolor": "white",
           "lakecolor": "white",
           "landcolor": "#E5ECF6",
           "showlakes": true,
           "showland": true,
           "subunitcolor": "white"
          },
          "hoverlabel": {
           "align": "left"
          },
          "hovermode": "closest",
          "mapbox": {
           "style": "light"
          },
          "paper_bgcolor": "white",
          "plot_bgcolor": "#E5ECF6",
          "polar": {
           "angularaxis": {
            "gridcolor": "white",
            "linecolor": "white",
            "ticks": ""
           },
           "bgcolor": "#E5ECF6",
           "radialaxis": {
            "gridcolor": "white",
            "linecolor": "white",
            "ticks": ""
           }
          },
          "scene": {
           "xaxis": {
            "backgroundcolor": "#E5ECF6",
            "gridcolor": "white",
            "gridwidth": 2,
            "linecolor": "white",
            "showbackground": true,
            "ticks": "",
            "zerolinecolor": "white"
           },
           "yaxis": {
            "backgroundcolor": "#E5ECF6",
            "gridcolor": "white",
            "gridwidth": 2,
            "linecolor": "white",
            "showbackground": true,
            "ticks": "",
            "zerolinecolor": "white"
           },
           "zaxis": {
            "backgroundcolor": "#E5ECF6",
            "gridcolor": "white",
            "gridwidth": 2,
            "linecolor": "white",
            "showbackground": true,
            "ticks": "",
            "zerolinecolor": "white"
           }
          },
          "shapedefaults": {
           "line": {
            "color": "#2a3f5f"
           }
          },
          "ternary": {
           "aaxis": {
            "gridcolor": "white",
            "linecolor": "white",
            "ticks": ""
           },
           "baxis": {
            "gridcolor": "white",
            "linecolor": "white",
            "ticks": ""
           },
           "bgcolor": "#E5ECF6",
           "caxis": {
            "gridcolor": "white",
            "linecolor": "white",
            "ticks": ""
           }
          },
          "title": {
           "x": 0.05
          },
          "xaxis": {
           "automargin": true,
           "gridcolor": "white",
           "linecolor": "white",
           "ticks": "",
           "title": {
            "standoff": 15
           },
           "zerolinecolor": "white",
           "zerolinewidth": 2
          },
          "yaxis": {
           "automargin": true,
           "gridcolor": "white",
           "linecolor": "white",
           "ticks": "",
           "title": {
            "standoff": 15
           },
           "zerolinecolor": "white",
           "zerolinewidth": 2
          }
         }
        },
        "title": {
         "text": "Optimization History Plot"
        },
        "xaxis": {
         "title": {
          "text": "Trial"
         }
        },
        "yaxis": {
         "title": {
          "text": "Objective Value"
         }
        }
       }
      },
      "text/html": [
       "<div>                            <div id=\"8d928c3c-6855-4a9b-9c60-8bd14d565286\" class=\"plotly-graph-div\" style=\"height:525px; width:100%;\"></div>            <script type=\"text/javascript\">                require([\"plotly\"], function(Plotly) {                    window.PLOTLYENV=window.PLOTLYENV || {};                                    if (document.getElementById(\"8d928c3c-6855-4a9b-9c60-8bd14d565286\")) {                    Plotly.newPlot(                        \"8d928c3c-6855-4a9b-9c60-8bd14d565286\",                        [{\"mode\":\"markers\",\"name\":\"Objective Value\",\"x\":[0,1,2,3,4,5,6,7,8,9,10,11,12,13,14,15,16,17,18,19,20,21,22,23,24,25,26,27,28,29,30,31,32,33,34,35,36,37,38,39,40,41,42,43,44,45,46,47,48,49,50,51,52,53,54,55,56,57,58,59,60,61,62,63,64,65,66,67,68,69,70,71,72,73,74,75,76,77,78,79,80,81,82,83,84,85,86,87,88,89,90,91,92,93,94,95,96,97,98,99,100,101,102,103,104,105,106,107,108,109,110,111,112,113,114,115,116,117,118,119,120,121,122,123,124,125,126,127,128,129,130,131,132,133,134,135,136,137,138,139,140,141,142,143,144,145,146,147,148,149,150,151,152,153,154,155,156,157,158,159,160,161,162,163,164,165,166,167,168,169,170,171,172,173,174,175,176,177,178,179,180,181,182,183,184,185,186,187,188,189,190,191,192,193,194,195,196,197,198,199],\"y\":[0.9466571834992887,0.9534139402560455,0.4822190611664296,0.839615931721195,0.9466571834992887,0.9535917496443812,0.9601706970128022,0.9599928876244666,0.9532361308677098,0.9667496443812233,0.9731507823613087,0.9731507823613087,0.9731507823613087,0.9731507823613087,0.9731507823613087,0.9731507823613087,0.9733285917496444,0.9665718349928876,0.4822190611664296,0.9731507823613087,0.9733285917496444,0.9733285917496444,0.9800853485064012,0.9735064011379801,0.4822190611664296,0.9731507823613087,0.9799075391180655,0.9731507823613087,0.4822190611664296,0.9799075391180655,0.9799075391180655,0.9799075391180655,0.9535917496443812,0.9535917496443812,0.9799075391180655,0.9532361308677098,0.9667496443812233,0.8998933143669986,0.9667496443812233,0.9799075391180654,0.9466571834992887,0.42816500711237554,0.966394025604552,0.966394025604552,0.9535917496443812,0.9731507823613087,0.9470128022759602,0.9466571834992887,0.9799075391180655,0.560099573257468,0.9667496443812233,0.9799075391180655,0.9733285917496444,0.9535917496443812,0.966394025604552,0.9535917496443812,0.9731507823613088,0.9534139402560455,0.9799075391180655,0.42816500711237554,0.9799075391180655,0.9799075391180655,0.9731507823613087,0.9731507823613087,0.9731507823613087,0.9733285917496444,0.9799075391180655,0.9263869132290186,0.9665718349928876,0.9733285917496444,0.9599928876244666,0.9799075391180655,0.9800853485064012,0.9800853485064012,0.9665718349928876,0.9731507823613087,0.9800853485064012,0.9735064011379801,0.9599928876244666,0.9733285917496444,0.9799075391180654,0.9733285917496444,0.9731507823613087,0.966394025604552,0.9667496443812233,0.9665718349928876,0.9601706970128022,0.9735064011379801,0.9731507823613087,0.9799075391180655,0.9731507823613088,0.9800853485064012,0.966394025604552,0.9731507823613087,0.9731507823613087,0.9735064011379801,0.9733285917496444,0.9799075391180654,0.966394025604552,0.9532361308677098,0.9532361308677098,0.9733285917496444,0.9601706970128023,0.9799075391180655,0.9799075391180655,0.966394025604552,0.9799075391180654,0.9667496443812233,0.9596372688477952,0.9731507823613087,0.9799075391180655,0.9799075391180655,0.9601706970128023,0.9799075391180655,0.9799075391180655,0.9799075391180655,0.9733285917496444,0.9731507823613087,0.9667496443812233,0.9799075391180655,0.9799075391180655,0.9799075391180655,0.9799075391180655,0.966394025604552,0.9665718349928876,0.9799075391180655,0.9731507823613088,0.9733285917496444,0.9733285917496444,0.9731507823613087,0.9799075391180655,0.9799075391180655,0.9735064011379801,0.9667496443812233,0.9535917496443812,0.9731507823613087,0.9799075391180655,0.9799075391180655,0.9799075391180655,0.9601706970128022,0.9799075391180655,0.9799075391180655,0.9733285917496444,0.9731507823613087,0.9470128022759602,0.9799075391180655,0.9733285917496444,0.9799075391180655,0.966394025604552,0.966394025604552,0.9799075391180655,0.9799075391180655,0.9799075391180655,0.9799075391180655,0.9731507823613087,0.9665718349928876,0.9799075391180655,0.9799075391180655,0.9733285917496444,0.9735064011379801,0.4822190611664296,0.9799075391180655,0.9731507823613087,0.9731507823613087,0.9799075391180655,0.9799075391180655,0.9799075391180655,0.9799075391180655,0.9731507823613087,0.9534139402560455,0.9667496443812233,0.9799075391180655,0.9601706970128023,0.9799075391180655,0.9731507823613087,0.9731507823613087,0.9735064011379801,0.9799075391180655,0.9667496443812233,0.9535917496443812,0.9735064011379801,0.9799075391180655,0.9799075391180655,0.9799075391180655,0.966394025604552,0.9667496443812233,0.9665718349928876,0.9404338549075392,0.9800853485064012,0.4822190611664296,0.9733285917496444,0.9733285917496444,0.966394025604552,0.9731507823613087,0.9799075391180655,0.9535917496443812,0.9733285917496444,0.9799075391180655,0.9799075391180655,0.9799075391180655],\"type\":\"scatter\"},{\"name\":\"Best Value\",\"x\":[0,1,2,3,4,5,6,7,8,9,10,11,12,13,14,15,16,17,18,19,20,21,22,23,24,25,26,27,28,29,30,31,32,33,34,35,36,37,38,39,40,41,42,43,44,45,46,47,48,49,50,51,52,53,54,55,56,57,58,59,60,61,62,63,64,65,66,67,68,69,70,71,72,73,74,75,76,77,78,79,80,81,82,83,84,85,86,87,88,89,90,91,92,93,94,95,96,97,98,99,100,101,102,103,104,105,106,107,108,109,110,111,112,113,114,115,116,117,118,119,120,121,122,123,124,125,126,127,128,129,130,131,132,133,134,135,136,137,138,139,140,141,142,143,144,145,146,147,148,149,150,151,152,153,154,155,156,157,158,159,160,161,162,163,164,165,166,167,168,169,170,171,172,173,174,175,176,177,178,179,180,181,182,183,184,185,186,187,188,189,190,191,192,193,194,195,196,197,198,199],\"y\":[0.9466571834992887,0.9534139402560455,0.9534139402560455,0.9534139402560455,0.9534139402560455,0.9535917496443812,0.9601706970128022,0.9601706970128022,0.9601706970128022,0.9667496443812233,0.9731507823613087,0.9731507823613087,0.9731507823613087,0.9731507823613087,0.9731507823613087,0.9731507823613087,0.9733285917496444,0.9733285917496444,0.9733285917496444,0.9733285917496444,0.9733285917496444,0.9733285917496444,0.9800853485064012,0.9800853485064012,0.9800853485064012,0.9800853485064012,0.9800853485064012,0.9800853485064012,0.9800853485064012,0.9800853485064012,0.9800853485064012,0.9800853485064012,0.9800853485064012,0.9800853485064012,0.9800853485064012,0.9800853485064012,0.9800853485064012,0.9800853485064012,0.9800853485064012,0.9800853485064012,0.9800853485064012,0.9800853485064012,0.9800853485064012,0.9800853485064012,0.9800853485064012,0.9800853485064012,0.9800853485064012,0.9800853485064012,0.9800853485064012,0.9800853485064012,0.9800853485064012,0.9800853485064012,0.9800853485064012,0.9800853485064012,0.9800853485064012,0.9800853485064012,0.9800853485064012,0.9800853485064012,0.9800853485064012,0.9800853485064012,0.9800853485064012,0.9800853485064012,0.9800853485064012,0.9800853485064012,0.9800853485064012,0.9800853485064012,0.9800853485064012,0.9800853485064012,0.9800853485064012,0.9800853485064012,0.9800853485064012,0.9800853485064012,0.9800853485064012,0.9800853485064012,0.9800853485064012,0.9800853485064012,0.9800853485064012,0.9800853485064012,0.9800853485064012,0.9800853485064012,0.9800853485064012,0.9800853485064012,0.9800853485064012,0.9800853485064012,0.9800853485064012,0.9800853485064012,0.9800853485064012,0.9800853485064012,0.9800853485064012,0.9800853485064012,0.9800853485064012,0.9800853485064012,0.9800853485064012,0.9800853485064012,0.9800853485064012,0.9800853485064012,0.9800853485064012,0.9800853485064012,0.9800853485064012,0.9800853485064012,0.9800853485064012,0.9800853485064012,0.9800853485064012,0.9800853485064012,0.9800853485064012,0.9800853485064012,0.9800853485064012,0.9800853485064012,0.9800853485064012,0.9800853485064012,0.9800853485064012,0.9800853485064012,0.9800853485064012,0.9800853485064012,0.9800853485064012,0.9800853485064012,0.9800853485064012,0.9800853485064012,0.9800853485064012,0.9800853485064012,0.9800853485064012,0.9800853485064012,0.9800853485064012,0.9800853485064012,0.9800853485064012,0.9800853485064012,0.9800853485064012,0.9800853485064012,0.9800853485064012,0.9800853485064012,0.9800853485064012,0.9800853485064012,0.9800853485064012,0.9800853485064012,0.9800853485064012,0.9800853485064012,0.9800853485064012,0.9800853485064012,0.9800853485064012,0.9800853485064012,0.9800853485064012,0.9800853485064012,0.9800853485064012,0.9800853485064012,0.9800853485064012,0.9800853485064012,0.9800853485064012,0.9800853485064012,0.9800853485064012,0.9800853485064012,0.9800853485064012,0.9800853485064012,0.9800853485064012,0.9800853485064012,0.9800853485064012,0.9800853485064012,0.9800853485064012,0.9800853485064012,0.9800853485064012,0.9800853485064012,0.9800853485064012,0.9800853485064012,0.9800853485064012,0.9800853485064012,0.9800853485064012,0.9800853485064012,0.9800853485064012,0.9800853485064012,0.9800853485064012,0.9800853485064012,0.9800853485064012,0.9800853485064012,0.9800853485064012,0.9800853485064012,0.9800853485064012,0.9800853485064012,0.9800853485064012,0.9800853485064012,0.9800853485064012,0.9800853485064012,0.9800853485064012,0.9800853485064012,0.9800853485064012,0.9800853485064012,0.9800853485064012,0.9800853485064012,0.9800853485064012,0.9800853485064012,0.9800853485064012,0.9800853485064012,0.9800853485064012,0.9800853485064012,0.9800853485064012,0.9800853485064012,0.9800853485064012,0.9800853485064012,0.9800853485064012,0.9800853485064012,0.9800853485064012,0.9800853485064012],\"type\":\"scatter\"}],                        {\"title\":{\"text\":\"Optimization History Plot\"},\"xaxis\":{\"title\":{\"text\":\"Trial\"}},\"yaxis\":{\"title\":{\"text\":\"Objective Value\"}},\"template\":{\"data\":{\"histogram2dcontour\":[{\"type\":\"histogram2dcontour\",\"colorbar\":{\"outlinewidth\":0,\"ticks\":\"\"},\"colorscale\":[[0.0,\"#0d0887\"],[0.1111111111111111,\"#46039f\"],[0.2222222222222222,\"#7201a8\"],[0.3333333333333333,\"#9c179e\"],[0.4444444444444444,\"#bd3786\"],[0.5555555555555556,\"#d8576b\"],[0.6666666666666666,\"#ed7953\"],[0.7777777777777778,\"#fb9f3a\"],[0.8888888888888888,\"#fdca26\"],[1.0,\"#f0f921\"]]}],\"choropleth\":[{\"type\":\"choropleth\",\"colorbar\":{\"outlinewidth\":0,\"ticks\":\"\"}}],\"histogram2d\":[{\"type\":\"histogram2d\",\"colorbar\":{\"outlinewidth\":0,\"ticks\":\"\"},\"colorscale\":[[0.0,\"#0d0887\"],[0.1111111111111111,\"#46039f\"],[0.2222222222222222,\"#7201a8\"],[0.3333333333333333,\"#9c179e\"],[0.4444444444444444,\"#bd3786\"],[0.5555555555555556,\"#d8576b\"],[0.6666666666666666,\"#ed7953\"],[0.7777777777777778,\"#fb9f3a\"],[0.8888888888888888,\"#fdca26\"],[1.0,\"#f0f921\"]]}],\"heatmap\":[{\"type\":\"heatmap\",\"colorbar\":{\"outlinewidth\":0,\"ticks\":\"\"},\"colorscale\":[[0.0,\"#0d0887\"],[0.1111111111111111,\"#46039f\"],[0.2222222222222222,\"#7201a8\"],[0.3333333333333333,\"#9c179e\"],[0.4444444444444444,\"#bd3786\"],[0.5555555555555556,\"#d8576b\"],[0.6666666666666666,\"#ed7953\"],[0.7777777777777778,\"#fb9f3a\"],[0.8888888888888888,\"#fdca26\"],[1.0,\"#f0f921\"]]}],\"heatmapgl\":[{\"type\":\"heatmapgl\",\"colorbar\":{\"outlinewidth\":0,\"ticks\":\"\"},\"colorscale\":[[0.0,\"#0d0887\"],[0.1111111111111111,\"#46039f\"],[0.2222222222222222,\"#7201a8\"],[0.3333333333333333,\"#9c179e\"],[0.4444444444444444,\"#bd3786\"],[0.5555555555555556,\"#d8576b\"],[0.6666666666666666,\"#ed7953\"],[0.7777777777777778,\"#fb9f3a\"],[0.8888888888888888,\"#fdca26\"],[1.0,\"#f0f921\"]]}],\"contourcarpet\":[{\"type\":\"contourcarpet\",\"colorbar\":{\"outlinewidth\":0,\"ticks\":\"\"}}],\"contour\":[{\"type\":\"contour\",\"colorbar\":{\"outlinewidth\":0,\"ticks\":\"\"},\"colorscale\":[[0.0,\"#0d0887\"],[0.1111111111111111,\"#46039f\"],[0.2222222222222222,\"#7201a8\"],[0.3333333333333333,\"#9c179e\"],[0.4444444444444444,\"#bd3786\"],[0.5555555555555556,\"#d8576b\"],[0.6666666666666666,\"#ed7953\"],[0.7777777777777778,\"#fb9f3a\"],[0.8888888888888888,\"#fdca26\"],[1.0,\"#f0f921\"]]}],\"surface\":[{\"type\":\"surface\",\"colorbar\":{\"outlinewidth\":0,\"ticks\":\"\"},\"colorscale\":[[0.0,\"#0d0887\"],[0.1111111111111111,\"#46039f\"],[0.2222222222222222,\"#7201a8\"],[0.3333333333333333,\"#9c179e\"],[0.4444444444444444,\"#bd3786\"],[0.5555555555555556,\"#d8576b\"],[0.6666666666666666,\"#ed7953\"],[0.7777777777777778,\"#fb9f3a\"],[0.8888888888888888,\"#fdca26\"],[1.0,\"#f0f921\"]]}],\"mesh3d\":[{\"type\":\"mesh3d\",\"colorbar\":{\"outlinewidth\":0,\"ticks\":\"\"}}],\"scatter\":[{\"fillpattern\":{\"fillmode\":\"overlay\",\"size\":10,\"solidity\":0.2},\"type\":\"scatter\"}],\"parcoords\":[{\"type\":\"parcoords\",\"line\":{\"colorbar\":{\"outlinewidth\":0,\"ticks\":\"\"}}}],\"scatterpolargl\":[{\"type\":\"scatterpolargl\",\"marker\":{\"colorbar\":{\"outlinewidth\":0,\"ticks\":\"\"}}}],\"bar\":[{\"error_x\":{\"color\":\"#2a3f5f\"},\"error_y\":{\"color\":\"#2a3f5f\"},\"marker\":{\"line\":{\"color\":\"#E5ECF6\",\"width\":0.5},\"pattern\":{\"fillmode\":\"overlay\",\"size\":10,\"solidity\":0.2}},\"type\":\"bar\"}],\"scattergeo\":[{\"type\":\"scattergeo\",\"marker\":{\"colorbar\":{\"outlinewidth\":0,\"ticks\":\"\"}}}],\"scatterpolar\":[{\"type\":\"scatterpolar\",\"marker\":{\"colorbar\":{\"outlinewidth\":0,\"ticks\":\"\"}}}],\"histogram\":[{\"marker\":{\"pattern\":{\"fillmode\":\"overlay\",\"size\":10,\"solidity\":0.2}},\"type\":\"histogram\"}],\"scattergl\":[{\"type\":\"scattergl\",\"marker\":{\"colorbar\":{\"outlinewidth\":0,\"ticks\":\"\"}}}],\"scatter3d\":[{\"type\":\"scatter3d\",\"line\":{\"colorbar\":{\"outlinewidth\":0,\"ticks\":\"\"}},\"marker\":{\"colorbar\":{\"outlinewidth\":0,\"ticks\":\"\"}}}],\"scattermapbox\":[{\"type\":\"scattermapbox\",\"marker\":{\"colorbar\":{\"outlinewidth\":0,\"ticks\":\"\"}}}],\"scatterternary\":[{\"type\":\"scatterternary\",\"marker\":{\"colorbar\":{\"outlinewidth\":0,\"ticks\":\"\"}}}],\"scattercarpet\":[{\"type\":\"scattercarpet\",\"marker\":{\"colorbar\":{\"outlinewidth\":0,\"ticks\":\"\"}}}],\"carpet\":[{\"aaxis\":{\"endlinecolor\":\"#2a3f5f\",\"gridcolor\":\"white\",\"linecolor\":\"white\",\"minorgridcolor\":\"white\",\"startlinecolor\":\"#2a3f5f\"},\"baxis\":{\"endlinecolor\":\"#2a3f5f\",\"gridcolor\":\"white\",\"linecolor\":\"white\",\"minorgridcolor\":\"white\",\"startlinecolor\":\"#2a3f5f\"},\"type\":\"carpet\"}],\"table\":[{\"cells\":{\"fill\":{\"color\":\"#EBF0F8\"},\"line\":{\"color\":\"white\"}},\"header\":{\"fill\":{\"color\":\"#C8D4E3\"},\"line\":{\"color\":\"white\"}},\"type\":\"table\"}],\"barpolar\":[{\"marker\":{\"line\":{\"color\":\"#E5ECF6\",\"width\":0.5},\"pattern\":{\"fillmode\":\"overlay\",\"size\":10,\"solidity\":0.2}},\"type\":\"barpolar\"}],\"pie\":[{\"automargin\":true,\"type\":\"pie\"}]},\"layout\":{\"autotypenumbers\":\"strict\",\"colorway\":[\"#636efa\",\"#EF553B\",\"#00cc96\",\"#ab63fa\",\"#FFA15A\",\"#19d3f3\",\"#FF6692\",\"#B6E880\",\"#FF97FF\",\"#FECB52\"],\"font\":{\"color\":\"#2a3f5f\"},\"hovermode\":\"closest\",\"hoverlabel\":{\"align\":\"left\"},\"paper_bgcolor\":\"white\",\"plot_bgcolor\":\"#E5ECF6\",\"polar\":{\"bgcolor\":\"#E5ECF6\",\"angularaxis\":{\"gridcolor\":\"white\",\"linecolor\":\"white\",\"ticks\":\"\"},\"radialaxis\":{\"gridcolor\":\"white\",\"linecolor\":\"white\",\"ticks\":\"\"}},\"ternary\":{\"bgcolor\":\"#E5ECF6\",\"aaxis\":{\"gridcolor\":\"white\",\"linecolor\":\"white\",\"ticks\":\"\"},\"baxis\":{\"gridcolor\":\"white\",\"linecolor\":\"white\",\"ticks\":\"\"},\"caxis\":{\"gridcolor\":\"white\",\"linecolor\":\"white\",\"ticks\":\"\"}},\"coloraxis\":{\"colorbar\":{\"outlinewidth\":0,\"ticks\":\"\"}},\"colorscale\":{\"sequential\":[[0.0,\"#0d0887\"],[0.1111111111111111,\"#46039f\"],[0.2222222222222222,\"#7201a8\"],[0.3333333333333333,\"#9c179e\"],[0.4444444444444444,\"#bd3786\"],[0.5555555555555556,\"#d8576b\"],[0.6666666666666666,\"#ed7953\"],[0.7777777777777778,\"#fb9f3a\"],[0.8888888888888888,\"#fdca26\"],[1.0,\"#f0f921\"]],\"sequentialminus\":[[0.0,\"#0d0887\"],[0.1111111111111111,\"#46039f\"],[0.2222222222222222,\"#7201a8\"],[0.3333333333333333,\"#9c179e\"],[0.4444444444444444,\"#bd3786\"],[0.5555555555555556,\"#d8576b\"],[0.6666666666666666,\"#ed7953\"],[0.7777777777777778,\"#fb9f3a\"],[0.8888888888888888,\"#fdca26\"],[1.0,\"#f0f921\"]],\"diverging\":[[0,\"#8e0152\"],[0.1,\"#c51b7d\"],[0.2,\"#de77ae\"],[0.3,\"#f1b6da\"],[0.4,\"#fde0ef\"],[0.5,\"#f7f7f7\"],[0.6,\"#e6f5d0\"],[0.7,\"#b8e186\"],[0.8,\"#7fbc41\"],[0.9,\"#4d9221\"],[1,\"#276419\"]]},\"xaxis\":{\"gridcolor\":\"white\",\"linecolor\":\"white\",\"ticks\":\"\",\"title\":{\"standoff\":15},\"zerolinecolor\":\"white\",\"automargin\":true,\"zerolinewidth\":2},\"yaxis\":{\"gridcolor\":\"white\",\"linecolor\":\"white\",\"ticks\":\"\",\"title\":{\"standoff\":15},\"zerolinecolor\":\"white\",\"automargin\":true,\"zerolinewidth\":2},\"scene\":{\"xaxis\":{\"backgroundcolor\":\"#E5ECF6\",\"gridcolor\":\"white\",\"linecolor\":\"white\",\"showbackground\":true,\"ticks\":\"\",\"zerolinecolor\":\"white\",\"gridwidth\":2},\"yaxis\":{\"backgroundcolor\":\"#E5ECF6\",\"gridcolor\":\"white\",\"linecolor\":\"white\",\"showbackground\":true,\"ticks\":\"\",\"zerolinecolor\":\"white\",\"gridwidth\":2},\"zaxis\":{\"backgroundcolor\":\"#E5ECF6\",\"gridcolor\":\"white\",\"linecolor\":\"white\",\"showbackground\":true,\"ticks\":\"\",\"zerolinecolor\":\"white\",\"gridwidth\":2}},\"shapedefaults\":{\"line\":{\"color\":\"#2a3f5f\"}},\"annotationdefaults\":{\"arrowcolor\":\"#2a3f5f\",\"arrowhead\":0,\"arrowwidth\":1},\"geo\":{\"bgcolor\":\"white\",\"landcolor\":\"#E5ECF6\",\"subunitcolor\":\"white\",\"showland\":true,\"showlakes\":true,\"lakecolor\":\"white\"},\"title\":{\"x\":0.05},\"mapbox\":{\"style\":\"light\"}}}},                        {\"responsive\": true}                    ).then(function(){\n",
       "                            \n",
       "var gd = document.getElementById('8d928c3c-6855-4a9b-9c60-8bd14d565286');\n",
       "var x = new MutationObserver(function (mutations, observer) {{\n",
       "        var display = window.getComputedStyle(gd).display;\n",
       "        if (!display || display === 'none') {{\n",
       "            console.log([gd, 'removed!']);\n",
       "            Plotly.purge(gd);\n",
       "            observer.disconnect();\n",
       "        }}\n",
       "}});\n",
       "\n",
       "// Listen for the removal of the full notebook cells\n",
       "var notebookContainer = gd.closest('#notebook-container');\n",
       "if (notebookContainer) {{\n",
       "    x.observe(notebookContainer, {childList: true});\n",
       "}}\n",
       "\n",
       "// Listen for the clearing of the current output cell\n",
       "var outputEl = gd.closest('.output');\n",
       "if (outputEl) {{\n",
       "    x.observe(outputEl, {childList: true});\n",
       "}}\n",
       "\n",
       "                        })                };                });            </script>        </div>"
      ]
     },
     "metadata": {},
     "output_type": "display_data"
    }
   ],
   "source": [
    "# 하이퍼파라미터 최적화 과정\n",
    "optuna.visualization.plot_optimization_history(study)"
   ]
  },
  {
   "cell_type": "code",
   "execution_count": null,
   "id": "aadfb476",
   "metadata": {},
   "outputs": [],
   "source": []
  }
 ],
 "metadata": {
  "kernelspec": {
   "display_name": ".convAE_lstm",
   "language": "python",
   "name": ".convae_lstm"
  },
  "language_info": {
   "codemirror_mode": {
    "name": "ipython",
    "version": 3
   },
   "file_extension": ".py",
   "mimetype": "text/x-python",
   "name": "python",
   "nbconvert_exporter": "python",
   "pygments_lexer": "ipython3",
   "version": "3.9.12"
  }
 },
 "nbformat": 4,
 "nbformat_minor": 5
}
